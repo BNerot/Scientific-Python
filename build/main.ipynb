{
 "cells": [
  {
   "cell_type": "code",
   "execution_count": 1,
   "id": "00462aca",
   "metadata": {
    "scrolled": true
   },
   "outputs": [
    {
     "name": "stdout",
     "output_type": "stream",
     "text": [
      "\\import{_src_EN/A__General_programming_knowledge/2__Development_basics}{A2_content.tex}\n",
      "\\import{_src_EN/A__General_programming_knowledge/3__Development_steps}{A3_content.tex}\n",
      "\\import{_src_EN/A__General_programming_knowledge/1__Computer_basics}{A1_content.tex}\n"
     ]
    },
    {
     "name": "stderr",
     "output_type": "stream",
     "text": [
      "[NbConvertApp] Converting notebook _src_EN/B__Best_of_Python/3__Handling_exceptions/B3-EX.ipynb to latex\n",
      "[NbConvertApp] Writing 22163 bytes to _src_EN/B__Best_of_Python/3__Handling_exceptions/B3-EX.tex\n"
     ]
    },
    {
     "name": "stdout",
     "output_type": "stream",
     "text": [
      "\\import{_src_EN/B__Best_of_Python/3__Handling_exceptions}{B3-EX_content.tex}\n"
     ]
    },
    {
     "name": "stderr",
     "output_type": "stream",
     "text": [
      "[NbConvertApp] Converting notebook _src_EN/B__Best_of_Python/3__Handling_exceptions/B3-EX-COR.ipynb to latex\n",
      "[NbConvertApp] Writing 25772 bytes to _src_EN/B__Best_of_Python/3__Handling_exceptions/B3-EX-COR.tex\n"
     ]
    },
    {
     "name": "stdout",
     "output_type": "stream",
     "text": [
      "\\import{_src_EN/B__Best_of_Python/3__Handling_exceptions}{B3-EX-COR_content.tex}\n"
     ]
    },
    {
     "name": "stderr",
     "output_type": "stream",
     "text": [
      "[NbConvertApp] Converting notebook _src_EN/B__Best_of_Python/3__Handling_exceptions/B31_exceptions.ipynb to latex\n",
      "[NbConvertApp] Writing 37699 bytes to _src_EN/B__Best_of_Python/3__Handling_exceptions/B31_exceptions.tex\n"
     ]
    },
    {
     "name": "stdout",
     "output_type": "stream",
     "text": [
      "\\import{_src_EN/B__Best_of_Python/3__Handling_exceptions}{B31_exceptions_content.tex}\n"
     ]
    },
    {
     "name": "stderr",
     "output_type": "stream",
     "text": [
      "[NbConvertApp] Converting notebook _src_EN/B__Best_of_Python/3__Handling_exceptions/B33_logging.ipynb to latex\n",
      "[NbConvertApp] Writing 31687 bytes to _src_EN/B__Best_of_Python/3__Handling_exceptions/B33_logging.tex\n"
     ]
    },
    {
     "name": "stdout",
     "output_type": "stream",
     "text": [
      "\\import{_src_EN/B__Best_of_Python/3__Handling_exceptions}{B33_logging_content.tex}\n"
     ]
    },
    {
     "name": "stderr",
     "output_type": "stream",
     "text": [
      "[NbConvertApp] Converting notebook _src_EN/B__Best_of_Python/3__Handling_exceptions/B32_debugger/B32_debugger.ipynb to latex\n",
      "[NbConvertApp] Writing 24421 bytes to _src_EN/B__Best_of_Python/3__Handling_exceptions/B32_debugger/B32_debugger.tex\n"
     ]
    },
    {
     "name": "stdout",
     "output_type": "stream",
     "text": [
      "\\import{_src_EN/B__Best_of_Python/3__Handling_exceptions/B32_debugger}{B32_debugger_content.tex}\n"
     ]
    },
    {
     "name": "stderr",
     "output_type": "stream",
     "text": [
      "[NbConvertApp] Converting notebook _src_EN/B__Best_of_Python/1__Notebooks/B12_jupyter_markdown.ipynb to latex\n",
      "[NbConvertApp] Writing 27629 bytes to _src_EN/B__Best_of_Python/1__Notebooks/B12_jupyter_markdown.tex\n"
     ]
    },
    {
     "name": "stdout",
     "output_type": "stream",
     "text": [
      "\\import{_src_EN/B__Best_of_Python/1__Notebooks}{B12_jupyter_markdown_content.tex}\n"
     ]
    },
    {
     "name": "stderr",
     "output_type": "stream",
     "text": [
      "[NbConvertApp] Converting notebook _src_EN/B__Best_of_Python/1__Notebooks/B11_jupyter_code.ipynb to latex\n",
      "[NbConvertApp] Writing 25799 bytes to _src_EN/B__Best_of_Python/1__Notebooks/B11_jupyter_code.tex\n"
     ]
    },
    {
     "name": "stdout",
     "output_type": "stream",
     "text": [
      "\\import{_src_EN/B__Best_of_Python/1__Notebooks}{B11_jupyter_code_content.tex}\n"
     ]
    },
    {
     "name": "stderr",
     "output_type": "stream",
     "text": [
      "[NbConvertApp] Converting notebook _src_EN/B__Best_of_Python/2__Python_basics/B24_list_comprehensions-EX-COR.ipynb to latex\n",
      "[NbConvertApp] Writing 20039 bytes to _src_EN/B__Best_of_Python/2__Python_basics/B24_list_comprehensions-EX-COR.tex\n"
     ]
    },
    {
     "name": "stdout",
     "output_type": "stream",
     "text": [
      "\\import{_src_EN/B__Best_of_Python/2__Python_basics}{B24_list_comprehensions-EX-COR_content.tex}\n"
     ]
    },
    {
     "name": "stderr",
     "output_type": "stream",
     "text": [
      "[NbConvertApp] Converting notebook _src_EN/B__Best_of_Python/2__Python_basics/B26_OS_interactions-EX-COR.ipynb to latex\n",
      "[NbConvertApp] Writing 20293 bytes to _src_EN/B__Best_of_Python/2__Python_basics/B26_OS_interactions-EX-COR.tex\n"
     ]
    },
    {
     "name": "stdout",
     "output_type": "stream",
     "text": [
      "\\import{_src_EN/B__Best_of_Python/2__Python_basics}{B26_OS_interactions-EX-COR_content.tex}\n"
     ]
    },
    {
     "name": "stderr",
     "output_type": "stream",
     "text": [
      "[NbConvertApp] Converting notebook _src_EN/B__Best_of_Python/2__Python_basics/B28_date_time.ipynb to latex\n",
      "[NbConvertApp] Writing 39183 bytes to _src_EN/B__Best_of_Python/2__Python_basics/B28_date_time.tex\n"
     ]
    },
    {
     "name": "stdout",
     "output_type": "stream",
     "text": [
      "\\import{_src_EN/B__Best_of_Python/2__Python_basics}{B28_date_time_content.tex}\n"
     ]
    },
    {
     "name": "stderr",
     "output_type": "stream",
     "text": [
      "[NbConvertApp] Converting notebook _src_EN/B__Best_of_Python/2__Python_basics/B21_control_flow-EX.ipynb to latex\n",
      "[NbConvertApp] Writing 19996 bytes to _src_EN/B__Best_of_Python/2__Python_basics/B21_control_flow-EX.tex\n"
     ]
    },
    {
     "name": "stdout",
     "output_type": "stream",
     "text": [
      "\\import{_src_EN/B__Best_of_Python/2__Python_basics}{B21_control_flow-EX_content.tex}\n"
     ]
    },
    {
     "name": "stderr",
     "output_type": "stream",
     "text": [
      "[NbConvertApp] Converting notebook _src_EN/B__Best_of_Python/2__Python_basics/B25_function_signature-EX-COR.ipynb to latex\n",
      "[NbConvertApp] Writing 20549 bytes to _src_EN/B__Best_of_Python/2__Python_basics/B25_function_signature-EX-COR.tex\n"
     ]
    },
    {
     "name": "stdout",
     "output_type": "stream",
     "text": [
      "\\import{_src_EN/B__Best_of_Python/2__Python_basics}{B25_function_signature-EX-COR_content.tex}\n"
     ]
    },
    {
     "name": "stderr",
     "output_type": "stream",
     "text": [
      "[NbConvertApp] Converting notebook _src_EN/B__Best_of_Python/2__Python_basics/B28_date_time-EX.ipynb to latex\n",
      "[NbConvertApp] Writing 20566 bytes to _src_EN/B__Best_of_Python/2__Python_basics/B28_date_time-EX.tex\n"
     ]
    },
    {
     "name": "stdout",
     "output_type": "stream",
     "text": [
      "\\import{_src_EN/B__Best_of_Python/2__Python_basics}{B28_date_time-EX_content.tex}\n"
     ]
    },
    {
     "name": "stderr",
     "output_type": "stream",
     "text": [
      "[NbConvertApp] Converting notebook _src_EN/B__Best_of_Python/2__Python_basics/B21_control_flow-EX-COR.ipynb to latex\n",
      "[NbConvertApp] Writing 21334 bytes to _src_EN/B__Best_of_Python/2__Python_basics/B21_control_flow-EX-COR.tex\n"
     ]
    },
    {
     "name": "stdout",
     "output_type": "stream",
     "text": [
      "\\import{_src_EN/B__Best_of_Python/2__Python_basics}{B21_control_flow-EX-COR_content.tex}\n"
     ]
    },
    {
     "name": "stderr",
     "output_type": "stream",
     "text": [
      "[NbConvertApp] Converting notebook _src_EN/B__Best_of_Python/2__Python_basics/B21_control_flow.ipynb to latex\n",
      "[NbConvertApp] Writing 34655 bytes to _src_EN/B__Best_of_Python/2__Python_basics/B21_control_flow.tex\n"
     ]
    },
    {
     "name": "stdout",
     "output_type": "stream",
     "text": [
      "\\import{_src_EN/B__Best_of_Python/2__Python_basics}{B21_control_flow_content.tex}\n"
     ]
    },
    {
     "name": "stderr",
     "output_type": "stream",
     "text": [
      "[NbConvertApp] Converting notebook _src_EN/B__Best_of_Python/2__Python_basics/B26_OS_interactions-EX.ipynb to latex\n",
      "[NbConvertApp] Writing 19754 bytes to _src_EN/B__Best_of_Python/2__Python_basics/B26_OS_interactions-EX.tex\n"
     ]
    },
    {
     "name": "stdout",
     "output_type": "stream",
     "text": [
      "\\import{_src_EN/B__Best_of_Python/2__Python_basics}{B26_OS_interactions-EX_content.tex}\n"
     ]
    },
    {
     "name": "stderr",
     "output_type": "stream",
     "text": [
      "[NbConvertApp] Converting notebook _src_EN/B__Best_of_Python/2__Python_basics/B25_function_signature-EX.ipynb to latex\n",
      "[NbConvertApp] Writing 19991 bytes to _src_EN/B__Best_of_Python/2__Python_basics/B25_function_signature-EX.tex\n"
     ]
    },
    {
     "name": "stdout",
     "output_type": "stream",
     "text": [
      "\\import{_src_EN/B__Best_of_Python/2__Python_basics}{B25_function_signature-EX_content.tex}\n"
     ]
    },
    {
     "name": "stderr",
     "output_type": "stream",
     "text": [
      "[NbConvertApp] Converting notebook _src_EN/B__Best_of_Python/2__Python_basics/B22_print_formatting-EX-COR.ipynb to latex\n",
      "[NbConvertApp] Writing 20767 bytes to _src_EN/B__Best_of_Python/2__Python_basics/B22_print_formatting-EX-COR.tex\n"
     ]
    },
    {
     "name": "stdout",
     "output_type": "stream",
     "text": [
      "\\import{_src_EN/B__Best_of_Python/2__Python_basics}{B22_print_formatting-EX-COR_content.tex}\n"
     ]
    },
    {
     "name": "stderr",
     "output_type": "stream",
     "text": [
      "[NbConvertApp] Converting notebook _src_EN/B__Best_of_Python/2__Python_basics/B24_list_comprehensions-EX.ipynb to latex\n",
      "[NbConvertApp] Writing 19554 bytes to _src_EN/B__Best_of_Python/2__Python_basics/B24_list_comprehensions-EX.tex\n"
     ]
    },
    {
     "name": "stdout",
     "output_type": "stream",
     "text": [
      "\\import{_src_EN/B__Best_of_Python/2__Python_basics}{B24_list_comprehensions-EX_content.tex}\n"
     ]
    },
    {
     "name": "stderr",
     "output_type": "stream",
     "text": [
      "[NbConvertApp] Converting notebook _src_EN/B__Best_of_Python/2__Python_basics/B25_function_signature.ipynb to latex\n",
      "[NbConvertApp] Writing 45649 bytes to _src_EN/B__Best_of_Python/2__Python_basics/B25_function_signature.tex\n"
     ]
    },
    {
     "name": "stdout",
     "output_type": "stream",
     "text": [
      "\\import{_src_EN/B__Best_of_Python/2__Python_basics}{B25_function_signature_content.tex}\n"
     ]
    },
    {
     "name": "stderr",
     "output_type": "stream",
     "text": [
      "[NbConvertApp] Converting notebook _src_EN/B__Best_of_Python/2__Python_basics/B24_list_comprehensions.ipynb to latex\n",
      "[NbConvertApp] Writing 27736 bytes to _src_EN/B__Best_of_Python/2__Python_basics/B24_list_comprehensions.tex\n"
     ]
    },
    {
     "name": "stdout",
     "output_type": "stream",
     "text": [
      "\\import{_src_EN/B__Best_of_Python/2__Python_basics}{B24_list_comprehensions_content.tex}\n"
     ]
    },
    {
     "name": "stderr",
     "output_type": "stream",
     "text": [
      "[NbConvertApp] Converting notebook _src_EN/B__Best_of_Python/2__Python_basics/B22_print_formatting.ipynb to latex\n",
      "[NbConvertApp] Writing 30559 bytes to _src_EN/B__Best_of_Python/2__Python_basics/B22_print_formatting.tex\n"
     ]
    },
    {
     "name": "stdout",
     "output_type": "stream",
     "text": [
      "\\import{_src_EN/B__Best_of_Python/2__Python_basics}{B22_print_formatting_content.tex}\n"
     ]
    },
    {
     "name": "stderr",
     "output_type": "stream",
     "text": [
      "[NbConvertApp] Converting notebook _src_EN/B__Best_of_Python/2__Python_basics/B22_print_formatting-EX.ipynb to latex\n",
      "[NbConvertApp] Writing 19829 bytes to _src_EN/B__Best_of_Python/2__Python_basics/B22_print_formatting-EX.tex\n"
     ]
    },
    {
     "name": "stdout",
     "output_type": "stream",
     "text": [
      "\\import{_src_EN/B__Best_of_Python/2__Python_basics}{B22_print_formatting-EX_content.tex}\n"
     ]
    },
    {
     "name": "stderr",
     "output_type": "stream",
     "text": [
      "[NbConvertApp] Converting notebook _src_EN/B__Best_of_Python/2__Python_basics/B27_decorators-EX-COR.ipynb to latex\n",
      "[NbConvertApp] Writing 20909 bytes to _src_EN/B__Best_of_Python/2__Python_basics/B27_decorators-EX-COR.tex\n"
     ]
    },
    {
     "name": "stdout",
     "output_type": "stream",
     "text": [
      "\\import{_src_EN/B__Best_of_Python/2__Python_basics}{B27_decorators-EX-COR_content.tex}\n"
     ]
    },
    {
     "name": "stderr",
     "output_type": "stream",
     "text": [
      "[NbConvertApp] Converting notebook _src_EN/B__Best_of_Python/2__Python_basics/B23_use_all_types-EX.ipynb to latex\n",
      "[NbConvertApp] Writing 20772 bytes to _src_EN/B__Best_of_Python/2__Python_basics/B23_use_all_types-EX.tex\n"
     ]
    },
    {
     "name": "stdout",
     "output_type": "stream",
     "text": [
      "\\import{_src_EN/B__Best_of_Python/2__Python_basics}{B23_use_all_types-EX_content.tex}\n"
     ]
    },
    {
     "name": "stderr",
     "output_type": "stream",
     "text": [
      "[NbConvertApp] Converting notebook _src_EN/B__Best_of_Python/2__Python_basics/B27_decorators-EX.ipynb to latex\n",
      "[NbConvertApp] Writing 19640 bytes to _src_EN/B__Best_of_Python/2__Python_basics/B27_decorators-EX.tex\n"
     ]
    },
    {
     "name": "stdout",
     "output_type": "stream",
     "text": [
      "\\import{_src_EN/B__Best_of_Python/2__Python_basics}{B27_decorators-EX_content.tex}\n"
     ]
    },
    {
     "name": "stderr",
     "output_type": "stream",
     "text": [
      "[NbConvertApp] Converting notebook _src_EN/B__Best_of_Python/2__Python_basics/B26_OS_interactions.ipynb to latex\n",
      "[NbConvertApp] Writing 46948 bytes to _src_EN/B__Best_of_Python/2__Python_basics/B26_OS_interactions.tex\n"
     ]
    },
    {
     "name": "stdout",
     "output_type": "stream",
     "text": [
      "\\import{_src_EN/B__Best_of_Python/2__Python_basics}{B26_OS_interactions_content.tex}\n"
     ]
    },
    {
     "name": "stderr",
     "output_type": "stream",
     "text": [
      "[NbConvertApp] Converting notebook _src_EN/B__Best_of_Python/2__Python_basics/B28_date_time-EX-COR.ipynb to latex\n",
      "[NbConvertApp] Writing 20413 bytes to _src_EN/B__Best_of_Python/2__Python_basics/B28_date_time-EX-COR.tex\n"
     ]
    },
    {
     "name": "stdout",
     "output_type": "stream",
     "text": [
      "\\import{_src_EN/B__Best_of_Python/2__Python_basics}{B28_date_time-EX-COR_content.tex}\n"
     ]
    },
    {
     "name": "stderr",
     "output_type": "stream",
     "text": [
      "[NbConvertApp] Converting notebook _src_EN/B__Best_of_Python/2__Python_basics/B27_decorators.ipynb to latex\n",
      "[NbConvertApp] Writing 32559 bytes to _src_EN/B__Best_of_Python/2__Python_basics/B27_decorators.tex\n"
     ]
    },
    {
     "name": "stdout",
     "output_type": "stream",
     "text": [
      "\\import{_src_EN/B__Best_of_Python/2__Python_basics}{B27_decorators_content.tex}\n"
     ]
    },
    {
     "name": "stderr",
     "output_type": "stream",
     "text": [
      "[NbConvertApp] Converting notebook _src_EN/B__Best_of_Python/2__Python_basics/B23_use_all_types.ipynb to latex\n",
      "[NbConvertApp] Writing 56273 bytes to _src_EN/B__Best_of_Python/2__Python_basics/B23_use_all_types.tex\n"
     ]
    },
    {
     "name": "stdout",
     "output_type": "stream",
     "text": [
      "\\import{_src_EN/B__Best_of_Python/2__Python_basics}{B23_use_all_types_content.tex}\n"
     ]
    },
    {
     "name": "stderr",
     "output_type": "stream",
     "text": [
      "[NbConvertApp] Converting notebook _src_EN/B__Best_of_Python/2__Python_basics/B23_use_all_types-EX-COR.ipynb to latex\n",
      "[NbConvertApp] Writing 23186 bytes to _src_EN/B__Best_of_Python/2__Python_basics/B23_use_all_types-EX-COR.tex\n"
     ]
    },
    {
     "name": "stdout",
     "output_type": "stream",
     "text": [
      "\\import{_src_EN/B__Best_of_Python/2__Python_basics}{B23_use_all_types-EX-COR_content.tex}\n"
     ]
    },
    {
     "name": "stderr",
     "output_type": "stream",
     "text": [
      "[NbConvertApp] Converting notebook _src_EN/C__Share_ones_code/C1__Environments.ipynb to latex\n",
      "[NbConvertApp] Writing 25888 bytes to _src_EN/C__Share_ones_code/C1__Environments.tex\n"
     ]
    },
    {
     "name": "stdout",
     "output_type": "stream",
     "text": [
      "\\import{_src_EN/C__Share_ones_code}{C1__Environments_content.tex}\n"
     ]
    },
    {
     "name": "stderr",
     "output_type": "stream",
     "text": [
      "[NbConvertApp] Converting notebook _src_EN/C__Share_ones_code/2__Structuration/C21_Imports.ipynb to latex\n",
      "[NbConvertApp] Writing 26128 bytes to _src_EN/C__Share_ones_code/2__Structuration/C21_Imports.tex\n"
     ]
    },
    {
     "name": "stdout",
     "output_type": "stream",
     "text": [
      "\\import{_src_EN/C__Share_ones_code/2__Structuration}{C21_Imports_content.tex}\n"
     ]
    },
    {
     "name": "stderr",
     "output_type": "stream",
     "text": [
      "[NbConvertApp] Converting notebook _src_EN/C__Share_ones_code/2__Structuration/C22__Package_structuration/C22_Package_structuration.ipynb to latex\n",
      "[NbConvertApp] Writing 34549 bytes to _src_EN/C__Share_ones_code/2__Structuration/C22__Package_structuration/C22_Package_structuration.tex\n"
     ]
    },
    {
     "name": "stdout",
     "output_type": "stream",
     "text": [
      "\\import{_src_EN/C__Share_ones_code/2__Structuration/C22__Package_structuration}{C22_Package_structuration_content.tex}\n"
     ]
    },
    {
     "name": "stderr",
     "output_type": "stream",
     "text": [
      "[NbConvertApp] Converting notebook _src_EN/C__Share_ones_code/3__Documentation/C32_Documentation_generation.ipynb to latex\n",
      "[NbConvertApp] Writing 25924 bytes to _src_EN/C__Share_ones_code/3__Documentation/C32_Documentation_generation.tex\n"
     ]
    },
    {
     "name": "stdout",
     "output_type": "stream",
     "text": [
      "\\import{_src_EN/C__Share_ones_code/3__Documentation}{C32_Documentation_generation_content.tex}\n"
     ]
    },
    {
     "name": "stderr",
     "output_type": "stream",
     "text": [
      "[NbConvertApp] Converting notebook _src_EN/C__Share_ones_code/3__Documentation/C31_Documentation_writing.ipynb to latex\n"
     ]
    },
    {
     "name": "stdout",
     "output_type": "stream",
     "text": [
      "\\import{_src_EN/C__Share_ones_code/3__Documentation}{C31_Documentation_writing_content.tex}\n"
     ]
    },
    {
     "name": "stderr",
     "output_type": "stream",
     "text": [
      "[NbConvertApp] Writing 23922 bytes to _src_EN/C__Share_ones_code/3__Documentation/C31_Documentation_writing.tex\n"
     ]
    }
   ],
   "source": [
    "\n",
    "from shutil import copytree, rmtree\n",
    "from pathlib import Path\n",
    "from os import walk\n",
    "from os.path import splitext\n",
    "from subprocess import run\n",
    "import re\n",
    "\n",
    "processed = []\n",
    "\n",
    "def content_extractor(input_tex_content, current_dir, name, ext):    \n",
    "    content_output = f'{current_dir}/{name}_content.tex'\n",
    "    preamble_output = f'{current_dir}/{name}_preamble.tex'\n",
    "    processed.extend([content_output, preamble_output])\n",
    "\n",
    "\n",
    "    input_tex_content = ''.join(input_tex_content)\n",
    "    preamble, content = input_tex_content.split(r'\\begin{document}')\n",
    "    content, _ = content.split(r'\\end{document}')\n",
    "    \n",
    "    # remove '\\maketitle'\n",
    "    content = content.replace('\\maketitle', '\\n')\n",
    "    \n",
    "    # add line before picture insertion\n",
    "    content = content.replace('\\includegraphics', '\\n\\n\\includegraphics')\n",
    "    \n",
    "    content = '\\n' + content + '\\n'\n",
    "    print('\\import{', current_dir, '}{', name, '_content.tex', '}', sep='')\n",
    "\n",
    "    with open(content_output, 'w') as f:\n",
    "        f.write(content)\n",
    "\n",
    "    with open(preamble_output, 'w') as f:\n",
    "        f.write(preamble)\n",
    "\n",
    "\n",
    "source = Path('../src_EN')\n",
    "destination = Path('_src_EN')\n",
    "\n",
    "if destination.exists():\n",
    "    rmtree(destination)\n",
    "\n",
    "copytree(source, destination)\n",
    "\n",
    "to_exclude = ['my_package.tex']\n",
    "pattern = '.*(A__|B__|C__).*'\n",
    "\n",
    "from subprocess import run\n",
    "for current_dir, subdirs, files in walk(destination):\n",
    "    if re.match(pattern, current_dir):\n",
    "        for file_name in files:\n",
    "            if (file_name not in to_exclude) \\\n",
    "            and (~file_name.endswith('EX-COR.ipynb')) \\\n",
    "            and (~file_name.endswith('EX.ipynb')) \\\n",
    "            and ('.ipynb_checkpoints' not in current_dir):\n",
    "                do = False\n",
    "                name, ext = splitext(file_name)\n",
    "                if (ext=='.ipynb') and ('.ipynb_checkpoints' not in current_dir):\n",
    "                    run(f\"jupyter nbconvert --to latex \\\"{current_dir}/{file_name}\\\"\", shell=True)\n",
    "                    do = True\n",
    "                if (ext=='.tex') and (file_name not in processed):\n",
    "                    do = True\n",
    "                if do: \n",
    "                    with open(f'{current_dir}/{name}.tex', 'r') as f:\n",
    "                        body = f.readlines()\n",
    "                        body = ''.join(body)               \n",
    "                    content_extractor(body, current_dir, name, ext)\n"
   ]
  },
  {
   "cell_type": "code",
   "execution_count": null,
   "id": "4ff57945",
   "metadata": {},
   "outputs": [],
   "source": []
  }
 ],
 "metadata": {
  "kernelspec": {
   "display_name": "Python 3 (ipykernel)",
   "language": "python",
   "name": "python3"
  },
  "language_info": {
   "codemirror_mode": {
    "name": "ipython",
    "version": 3
   },
   "file_extension": ".py",
   "mimetype": "text/x-python",
   "name": "python",
   "nbconvert_exporter": "python",
   "pygments_lexer": "ipython3",
   "version": "3.10.12"
  }
 },
 "nbformat": 4,
 "nbformat_minor": 5
}
