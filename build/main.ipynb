{
 "cells": [
  {
   "cell_type": "code",
   "execution_count": 1,
   "id": "00462aca",
   "metadata": {
    "scrolled": true
   },
   "outputs": [
    {
     "name": "stdout",
     "output_type": "stream",
     "text": [
      "\\import{_src_EN/A__General_programming_knowledge/2__Development_basics}{A2_content.tex}\n",
      "\\import{_src_EN/A__General_programming_knowledge/3__Development_steps}{A3_content.tex}\n",
      "\\import{_src_EN/A__General_programming_knowledge/1__Computer_basics}{A1_content.tex}\n"
     ]
    },
    {
     "name": "stderr",
     "output_type": "stream",
     "text": [
      "[NbConvertApp] Converting notebook _src_EN/B__Best_of_Python/3__Handling_exceptions/B3-EX.ipynb to latex\n",
      "[NbConvertApp] Writing 22163 bytes to _src_EN/B__Best_of_Python/3__Handling_exceptions/B3-EX.tex\n"
     ]
    },
    {
     "name": "stdout",
     "output_type": "stream",
     "text": [
      "\\import{_src_EN/B__Best_of_Python/3__Handling_exceptions}{B3-EX_content.tex}\n"
     ]
    },
    {
     "name": "stderr",
     "output_type": "stream",
     "text": [
      "[NbConvertApp] Converting notebook _src_EN/B__Best_of_Python/3__Handling_exceptions/B3-EX-COR.ipynb to latex\n",
      "[NbConvertApp] Writing 25772 bytes to _src_EN/B__Best_of_Python/3__Handling_exceptions/B3-EX-COR.tex\n"
     ]
    },
    {
     "name": "stdout",
     "output_type": "stream",
     "text": [
      "\\import{_src_EN/B__Best_of_Python/3__Handling_exceptions}{B3-EX-COR_content.tex}\n"
     ]
    },
    {
     "name": "stderr",
     "output_type": "stream",
     "text": [
      "[NbConvertApp] Converting notebook _src_EN/B__Best_of_Python/3__Handling_exceptions/B31_exceptions.ipynb to latex\n",
      "[NbConvertApp] Writing 37699 bytes to _src_EN/B__Best_of_Python/3__Handling_exceptions/B31_exceptions.tex\n"
     ]
    },
    {
     "name": "stdout",
     "output_type": "stream",
     "text": [
      "\\import{_src_EN/B__Best_of_Python/3__Handling_exceptions}{B31_exceptions_content.tex}\n"
     ]
    },
    {
     "name": "stderr",
     "output_type": "stream",
     "text": [
      "[NbConvertApp] Converting notebook _src_EN/B__Best_of_Python/3__Handling_exceptions/B33_logging.ipynb to latex\n",
      "[NbConvertApp] Writing 31687 bytes to _src_EN/B__Best_of_Python/3__Handling_exceptions/B33_logging.tex\n"
     ]
    },
    {
     "name": "stdout",
     "output_type": "stream",
     "text": [
      "\\import{_src_EN/B__Best_of_Python/3__Handling_exceptions}{B33_logging_content.tex}\n"
     ]
    },
    {
     "name": "stderr",
     "output_type": "stream",
     "text": [
      "[NbConvertApp] Converting notebook _src_EN/B__Best_of_Python/3__Handling_exceptions/B32_debugger/B32_debugger.ipynb to latex\n",
      "[NbConvertApp] Writing 24421 bytes to _src_EN/B__Best_of_Python/3__Handling_exceptions/B32_debugger/B32_debugger.tex\n"
     ]
    },
    {
     "name": "stdout",
     "output_type": "stream",
     "text": [
      "\\import{_src_EN/B__Best_of_Python/3__Handling_exceptions/B32_debugger}{B32_debugger_content.tex}\n"
     ]
    },
    {
     "name": "stderr",
     "output_type": "stream",
     "text": [
      "[NbConvertApp] Converting notebook _src_EN/B__Best_of_Python/1__Notebooks/B12_jupyter_markdown.ipynb to latex\n",
      "[NbConvertApp] Writing 27631 bytes to _src_EN/B__Best_of_Python/1__Notebooks/B12_jupyter_markdown.tex\n"
     ]
    },
    {
     "name": "stdout",
     "output_type": "stream",
     "text": [
      "\\import{_src_EN/B__Best_of_Python/1__Notebooks}{B12_jupyter_markdown_content.tex}\n"
     ]
    },
    {
     "name": "stderr",
     "output_type": "stream",
     "text": [
      "[NbConvertApp] Converting notebook _src_EN/B__Best_of_Python/1__Notebooks/B11_jupyter_code.ipynb to latex\n",
      "[NbConvertApp] Writing 25731 bytes to _src_EN/B__Best_of_Python/1__Notebooks/B11_jupyter_code.tex\n"
     ]
    },
    {
     "name": "stdout",
     "output_type": "stream",
     "text": [
      "\\import{_src_EN/B__Best_of_Python/1__Notebooks}{B11_jupyter_code_content.tex}\n"
     ]
    },
    {
     "name": "stderr",
     "output_type": "stream",
     "text": [
      "[NbConvertApp] Converting notebook _src_EN/B__Best_of_Python/2__Python_basics/B24_list_comprehensions-EX-COR.ipynb to latex\n",
      "[NbConvertApp] Writing 20039 bytes to _src_EN/B__Best_of_Python/2__Python_basics/B24_list_comprehensions-EX-COR.tex\n"
     ]
    },
    {
     "name": "stdout",
     "output_type": "stream",
     "text": [
      "\\import{_src_EN/B__Best_of_Python/2__Python_basics}{B24_list_comprehensions-EX-COR_content.tex}\n"
     ]
    },
    {
     "name": "stderr",
     "output_type": "stream",
     "text": [
      "[NbConvertApp] Converting notebook _src_EN/B__Best_of_Python/2__Python_basics/B26_OS_interactions-EX-COR.ipynb to latex\n",
      "[NbConvertApp] Writing 20293 bytes to _src_EN/B__Best_of_Python/2__Python_basics/B26_OS_interactions-EX-COR.tex\n"
     ]
    },
    {
     "name": "stdout",
     "output_type": "stream",
     "text": [
      "\\import{_src_EN/B__Best_of_Python/2__Python_basics}{B26_OS_interactions-EX-COR_content.tex}\n"
     ]
    },
    {
     "name": "stderr",
     "output_type": "stream",
     "text": [
      "[NbConvertApp] Converting notebook _src_EN/B__Best_of_Python/2__Python_basics/B28_date_time.ipynb to latex\n",
      "[NbConvertApp] Writing 39182 bytes to _src_EN/B__Best_of_Python/2__Python_basics/B28_date_time.tex\n"
     ]
    },
    {
     "name": "stdout",
     "output_type": "stream",
     "text": [
      "\\import{_src_EN/B__Best_of_Python/2__Python_basics}{B28_date_time_content.tex}\n"
     ]
    },
    {
     "name": "stderr",
     "output_type": "stream",
     "text": [
      "[NbConvertApp] Converting notebook _src_EN/B__Best_of_Python/2__Python_basics/B21_control_flow-EX.ipynb to latex\n",
      "[NbConvertApp] Writing 19996 bytes to _src_EN/B__Best_of_Python/2__Python_basics/B21_control_flow-EX.tex\n"
     ]
    },
    {
     "name": "stdout",
     "output_type": "stream",
     "text": [
      "\\import{_src_EN/B__Best_of_Python/2__Python_basics}{B21_control_flow-EX_content.tex}\n"
     ]
    },
    {
     "name": "stderr",
     "output_type": "stream",
     "text": [
      "[NbConvertApp] Converting notebook _src_EN/B__Best_of_Python/2__Python_basics/B25_function_signature-EX-COR.ipynb to latex\n",
      "[NbConvertApp] Writing 20549 bytes to _src_EN/B__Best_of_Python/2__Python_basics/B25_function_signature-EX-COR.tex\n"
     ]
    },
    {
     "name": "stdout",
     "output_type": "stream",
     "text": [
      "\\import{_src_EN/B__Best_of_Python/2__Python_basics}{B25_function_signature-EX-COR_content.tex}\n"
     ]
    },
    {
     "name": "stderr",
     "output_type": "stream",
     "text": [
      "[NbConvertApp] Converting notebook _src_EN/B__Best_of_Python/2__Python_basics/B28_date_time-EX.ipynb to latex\n",
      "[NbConvertApp] Writing 19511 bytes to _src_EN/B__Best_of_Python/2__Python_basics/B28_date_time-EX.tex\n"
     ]
    },
    {
     "name": "stdout",
     "output_type": "stream",
     "text": [
      "\\import{_src_EN/B__Best_of_Python/2__Python_basics}{B28_date_time-EX_content.tex}\n"
     ]
    },
    {
     "name": "stderr",
     "output_type": "stream",
     "text": [
      "[NbConvertApp] Converting notebook _src_EN/B__Best_of_Python/2__Python_basics/B21_control_flow-EX-COR.ipynb to latex\n",
      "[NbConvertApp] Writing 21336 bytes to _src_EN/B__Best_of_Python/2__Python_basics/B21_control_flow-EX-COR.tex\n"
     ]
    },
    {
     "name": "stdout",
     "output_type": "stream",
     "text": [
      "\\import{_src_EN/B__Best_of_Python/2__Python_basics}{B21_control_flow-EX-COR_content.tex}\n"
     ]
    },
    {
     "name": "stderr",
     "output_type": "stream",
     "text": [
      "[NbConvertApp] Converting notebook _src_EN/B__Best_of_Python/2__Python_basics/B21_control_flow.ipynb to latex\n",
      "[NbConvertApp] Writing 34625 bytes to _src_EN/B__Best_of_Python/2__Python_basics/B21_control_flow.tex\n"
     ]
    },
    {
     "name": "stdout",
     "output_type": "stream",
     "text": [
      "\\import{_src_EN/B__Best_of_Python/2__Python_basics}{B21_control_flow_content.tex}\n"
     ]
    },
    {
     "name": "stderr",
     "output_type": "stream",
     "text": [
      "[NbConvertApp] Converting notebook _src_EN/B__Best_of_Python/2__Python_basics/B26_OS_interactions-EX.ipynb to latex\n",
      "[NbConvertApp] Writing 19754 bytes to _src_EN/B__Best_of_Python/2__Python_basics/B26_OS_interactions-EX.tex\n"
     ]
    },
    {
     "name": "stdout",
     "output_type": "stream",
     "text": [
      "\\import{_src_EN/B__Best_of_Python/2__Python_basics}{B26_OS_interactions-EX_content.tex}\n"
     ]
    },
    {
     "name": "stderr",
     "output_type": "stream",
     "text": [
      "[NbConvertApp] Converting notebook _src_EN/B__Best_of_Python/2__Python_basics/B25_function_signature-EX.ipynb to latex\n",
      "[NbConvertApp] Writing 19991 bytes to _src_EN/B__Best_of_Python/2__Python_basics/B25_function_signature-EX.tex\n"
     ]
    },
    {
     "name": "stdout",
     "output_type": "stream",
     "text": [
      "\\import{_src_EN/B__Best_of_Python/2__Python_basics}{B25_function_signature-EX_content.tex}\n"
     ]
    },
    {
     "name": "stderr",
     "output_type": "stream",
     "text": [
      "[NbConvertApp] Converting notebook _src_EN/B__Best_of_Python/2__Python_basics/B22_print_formatting-EX-COR.ipynb to latex\n",
      "[NbConvertApp] Writing 20767 bytes to _src_EN/B__Best_of_Python/2__Python_basics/B22_print_formatting-EX-COR.tex\n"
     ]
    },
    {
     "name": "stdout",
     "output_type": "stream",
     "text": [
      "\\import{_src_EN/B__Best_of_Python/2__Python_basics}{B22_print_formatting-EX-COR_content.tex}\n"
     ]
    },
    {
     "name": "stderr",
     "output_type": "stream",
     "text": [
      "[NbConvertApp] Converting notebook _src_EN/B__Best_of_Python/2__Python_basics/B24_list_comprehensions-EX.ipynb to latex\n",
      "[NbConvertApp] Writing 19554 bytes to _src_EN/B__Best_of_Python/2__Python_basics/B24_list_comprehensions-EX.tex\n"
     ]
    },
    {
     "name": "stdout",
     "output_type": "stream",
     "text": [
      "\\import{_src_EN/B__Best_of_Python/2__Python_basics}{B24_list_comprehensions-EX_content.tex}\n"
     ]
    },
    {
     "name": "stderr",
     "output_type": "stream",
     "text": [
      "[NbConvertApp] Converting notebook _src_EN/B__Best_of_Python/2__Python_basics/B25_function_signature.ipynb to latex\n",
      "[NbConvertApp] Writing 43058 bytes to _src_EN/B__Best_of_Python/2__Python_basics/B25_function_signature.tex\n"
     ]
    },
    {
     "name": "stdout",
     "output_type": "stream",
     "text": [
      "\\import{_src_EN/B__Best_of_Python/2__Python_basics}{B25_function_signature_content.tex}\n"
     ]
    },
    {
     "name": "stderr",
     "output_type": "stream",
     "text": [
      "[NbConvertApp] Converting notebook _src_EN/B__Best_of_Python/2__Python_basics/B24_list_comprehensions.ipynb to latex\n",
      "[NbConvertApp] Writing 27736 bytes to _src_EN/B__Best_of_Python/2__Python_basics/B24_list_comprehensions.tex\n"
     ]
    },
    {
     "name": "stdout",
     "output_type": "stream",
     "text": [
      "\\import{_src_EN/B__Best_of_Python/2__Python_basics}{B24_list_comprehensions_content.tex}\n"
     ]
    },
    {
     "name": "stderr",
     "output_type": "stream",
     "text": [
      "[NbConvertApp] Converting notebook _src_EN/B__Best_of_Python/2__Python_basics/B22_print_formatting.ipynb to latex\n",
      "[NbConvertApp] Writing 30559 bytes to _src_EN/B__Best_of_Python/2__Python_basics/B22_print_formatting.tex\n"
     ]
    },
    {
     "name": "stdout",
     "output_type": "stream",
     "text": [
      "\\import{_src_EN/B__Best_of_Python/2__Python_basics}{B22_print_formatting_content.tex}\n"
     ]
    },
    {
     "name": "stderr",
     "output_type": "stream",
     "text": [
      "[NbConvertApp] Converting notebook _src_EN/B__Best_of_Python/2__Python_basics/B22_print_formatting-EX.ipynb to latex\n",
      "[NbConvertApp] Writing 19829 bytes to _src_EN/B__Best_of_Python/2__Python_basics/B22_print_formatting-EX.tex\n"
     ]
    },
    {
     "name": "stdout",
     "output_type": "stream",
     "text": [
      "\\import{_src_EN/B__Best_of_Python/2__Python_basics}{B22_print_formatting-EX_content.tex}\n"
     ]
    },
    {
     "name": "stderr",
     "output_type": "stream",
     "text": [
      "[NbConvertApp] Converting notebook _src_EN/B__Best_of_Python/2__Python_basics/B27_decorators-EX-COR.ipynb to latex\n",
      "[NbConvertApp] Writing 20909 bytes to _src_EN/B__Best_of_Python/2__Python_basics/B27_decorators-EX-COR.tex\n"
     ]
    },
    {
     "name": "stdout",
     "output_type": "stream",
     "text": [
      "\\import{_src_EN/B__Best_of_Python/2__Python_basics}{B27_decorators-EX-COR_content.tex}\n"
     ]
    },
    {
     "name": "stderr",
     "output_type": "stream",
     "text": [
      "[NbConvertApp] Converting notebook _src_EN/B__Best_of_Python/2__Python_basics/B23_use_all_types-EX.ipynb to latex\n",
      "[NbConvertApp] Writing 20772 bytes to _src_EN/B__Best_of_Python/2__Python_basics/B23_use_all_types-EX.tex\n"
     ]
    },
    {
     "name": "stdout",
     "output_type": "stream",
     "text": [
      "\\import{_src_EN/B__Best_of_Python/2__Python_basics}{B23_use_all_types-EX_content.tex}\n"
     ]
    },
    {
     "name": "stderr",
     "output_type": "stream",
     "text": [
      "[NbConvertApp] Converting notebook _src_EN/B__Best_of_Python/2__Python_basics/B27_decorators-EX.ipynb to latex\n",
      "[NbConvertApp] Writing 19640 bytes to _src_EN/B__Best_of_Python/2__Python_basics/B27_decorators-EX.tex\n"
     ]
    },
    {
     "name": "stdout",
     "output_type": "stream",
     "text": [
      "\\import{_src_EN/B__Best_of_Python/2__Python_basics}{B27_decorators-EX_content.tex}\n"
     ]
    },
    {
     "name": "stderr",
     "output_type": "stream",
     "text": [
      "[NbConvertApp] Converting notebook _src_EN/B__Best_of_Python/2__Python_basics/B26_OS_interactions.ipynb to latex\n",
      "[NbConvertApp] Writing 46948 bytes to _src_EN/B__Best_of_Python/2__Python_basics/B26_OS_interactions.tex\n"
     ]
    },
    {
     "name": "stdout",
     "output_type": "stream",
     "text": [
      "\\import{_src_EN/B__Best_of_Python/2__Python_basics}{B26_OS_interactions_content.tex}\n"
     ]
    },
    {
     "name": "stderr",
     "output_type": "stream",
     "text": [
      "[NbConvertApp] Converting notebook _src_EN/B__Best_of_Python/2__Python_basics/B28_date_time-EX-COR.ipynb to latex\n",
      "[NbConvertApp] Writing 20413 bytes to _src_EN/B__Best_of_Python/2__Python_basics/B28_date_time-EX-COR.tex\n"
     ]
    },
    {
     "name": "stdout",
     "output_type": "stream",
     "text": [
      "\\import{_src_EN/B__Best_of_Python/2__Python_basics}{B28_date_time-EX-COR_content.tex}\n"
     ]
    },
    {
     "name": "stderr",
     "output_type": "stream",
     "text": [
      "[NbConvertApp] Converting notebook _src_EN/B__Best_of_Python/2__Python_basics/B27_decorators.ipynb to latex\n",
      "[NbConvertApp] Writing 32559 bytes to _src_EN/B__Best_of_Python/2__Python_basics/B27_decorators.tex\n"
     ]
    },
    {
     "name": "stdout",
     "output_type": "stream",
     "text": [
      "\\import{_src_EN/B__Best_of_Python/2__Python_basics}{B27_decorators_content.tex}\n"
     ]
    },
    {
     "name": "stderr",
     "output_type": "stream",
     "text": [
      "[NbConvertApp] Converting notebook _src_EN/B__Best_of_Python/2__Python_basics/B23_use_all_types.ipynb to latex\n",
      "[NbConvertApp] Writing 55204 bytes to _src_EN/B__Best_of_Python/2__Python_basics/B23_use_all_types.tex\n"
     ]
    },
    {
     "name": "stdout",
     "output_type": "stream",
     "text": [
      "\\import{_src_EN/B__Best_of_Python/2__Python_basics}{B23_use_all_types_content.tex}\n"
     ]
    },
    {
     "name": "stderr",
     "output_type": "stream",
     "text": [
      "[NbConvertApp] Converting notebook _src_EN/B__Best_of_Python/2__Python_basics/B23_use_all_types-EX-COR.ipynb to latex\n",
      "[NbConvertApp] Writing 23186 bytes to _src_EN/B__Best_of_Python/2__Python_basics/B23_use_all_types-EX-COR.tex\n"
     ]
    },
    {
     "name": "stdout",
     "output_type": "stream",
     "text": [
      "\\import{_src_EN/B__Best_of_Python/2__Python_basics}{B23_use_all_types-EX-COR_content.tex}\n"
     ]
    },
    {
     "name": "stderr",
     "output_type": "stream",
     "text": [
      "[NbConvertApp] Converting notebook _src_EN/D__Scientific_Python/2__pandas/D23_dates-EX.ipynb to latex\n",
      "[NbConvertApp] Writing 19717 bytes to _src_EN/D__Scientific_Python/2__pandas/D23_dates-EX.tex\n"
     ]
    },
    {
     "name": "stdout",
     "output_type": "stream",
     "text": [
      "\\import{_src_EN/D__Scientific_Python/2__pandas}{D23_dates-EX_content.tex}\n"
     ]
    },
    {
     "name": "stderr",
     "output_type": "stream",
     "text": [
      "[NbConvertApp] Converting notebook _src_EN/D__Scientific_Python/2__pandas/D25_essential_operations-EX.ipynb to latex\n",
      "[NbConvertApp] Writing 20011 bytes to _src_EN/D__Scientific_Python/2__pandas/D25_essential_operations-EX.tex\n"
     ]
    },
    {
     "name": "stdout",
     "output_type": "stream",
     "text": [
      "\\import{_src_EN/D__Scientific_Python/2__pandas}{D25_essential_operations-EX_content.tex}\n"
     ]
    },
    {
     "name": "stderr",
     "output_type": "stream",
     "text": [
      "[NbConvertApp] Converting notebook _src_EN/D__Scientific_Python/2__pandas/D25_essential_operations.ipynb to latex\n",
      "[NbConvertApp] Writing 68172 bytes to _src_EN/D__Scientific_Python/2__pandas/D25_essential_operations.tex\n"
     ]
    },
    {
     "name": "stdout",
     "output_type": "stream",
     "text": [
      "\\import{_src_EN/D__Scientific_Python/2__pandas}{D25_essential_operations_content.tex}\n"
     ]
    },
    {
     "name": "stderr",
     "output_type": "stream",
     "text": [
      "[NbConvertApp] Converting notebook _src_EN/D__Scientific_Python/2__pandas/D22_IO.ipynb to latex\n",
      "[NbConvertApp] Writing 25622 bytes to _src_EN/D__Scientific_Python/2__pandas/D22_IO.tex\n"
     ]
    },
    {
     "name": "stdout",
     "output_type": "stream",
     "text": [
      "\\import{_src_EN/D__Scientific_Python/2__pandas}{D22_IO_content.tex}\n"
     ]
    },
    {
     "name": "stderr",
     "output_type": "stream",
     "text": [
      "[NbConvertApp] Converting notebook _src_EN/D__Scientific_Python/2__pandas/D21_introduction-EX-COR.ipynb to latex\n",
      "[NbConvertApp] Writing 22973 bytes to _src_EN/D__Scientific_Python/2__pandas/D21_introduction-EX-COR.tex\n"
     ]
    },
    {
     "name": "stdout",
     "output_type": "stream",
     "text": [
      "\\import{_src_EN/D__Scientific_Python/2__pandas}{D21_introduction-EX-COR_content.tex}\n"
     ]
    },
    {
     "name": "stderr",
     "output_type": "stream",
     "text": [
      "[NbConvertApp] Converting notebook _src_EN/D__Scientific_Python/2__pandas/D23_dates-EX-COR.ipynb to latex\n",
      "[NbConvertApp] Writing 25735 bytes to _src_EN/D__Scientific_Python/2__pandas/D23_dates-EX-COR.tex\n"
     ]
    },
    {
     "name": "stdout",
     "output_type": "stream",
     "text": [
      "\\import{_src_EN/D__Scientific_Python/2__pandas}{D23_dates-EX-COR_content.tex}\n"
     ]
    },
    {
     "name": "stderr",
     "output_type": "stream",
     "text": [
      "[NbConvertApp] Converting notebook _src_EN/D__Scientific_Python/2__pandas/D21_introduction-EX.ipynb to latex\n",
      "[NbConvertApp] Writing 19892 bytes to _src_EN/D__Scientific_Python/2__pandas/D21_introduction-EX.tex\n"
     ]
    },
    {
     "name": "stdout",
     "output_type": "stream",
     "text": [
      "\\import{_src_EN/D__Scientific_Python/2__pandas}{D21_introduction-EX_content.tex}\n"
     ]
    },
    {
     "name": "stderr",
     "output_type": "stream",
     "text": [
      "[NbConvertApp] Converting notebook _src_EN/D__Scientific_Python/2__pandas/D22_IO-EX-COR.ipynb to latex\n",
      "[NbConvertApp] Writing 20978 bytes to _src_EN/D__Scientific_Python/2__pandas/D22_IO-EX-COR.tex\n"
     ]
    },
    {
     "name": "stdout",
     "output_type": "stream",
     "text": [
      "\\import{_src_EN/D__Scientific_Python/2__pandas}{D22_IO-EX-COR_content.tex}\n"
     ]
    },
    {
     "name": "stderr",
     "output_type": "stream",
     "text": [
      "[NbConvertApp] Converting notebook _src_EN/D__Scientific_Python/2__pandas/D21_introduction.ipynb to latex\n",
      "[NbConvertApp] Writing 60405 bytes to _src_EN/D__Scientific_Python/2__pandas/D21_introduction.tex\n"
     ]
    },
    {
     "name": "stdout",
     "output_type": "stream",
     "text": [
      "\\import{_src_EN/D__Scientific_Python/2__pandas}{D21_introduction_content.tex}\n"
     ]
    },
    {
     "name": "stderr",
     "output_type": "stream",
     "text": [
      "[NbConvertApp] Converting notebook _src_EN/D__Scientific_Python/2__pandas/D24_str-EX.ipynb to latex\n",
      "[NbConvertApp] Writing 21134 bytes to _src_EN/D__Scientific_Python/2__pandas/D24_str-EX.tex\n"
     ]
    },
    {
     "name": "stdout",
     "output_type": "stream",
     "text": [
      "\\import{_src_EN/D__Scientific_Python/2__pandas}{D24_str-EX_content.tex}\n"
     ]
    },
    {
     "name": "stderr",
     "output_type": "stream",
     "text": [
      "[NbConvertApp] Converting notebook _src_EN/D__Scientific_Python/2__pandas/D24_str-EX-COR.ipynb to latex\n",
      "[NbConvertApp] Writing 24550 bytes to _src_EN/D__Scientific_Python/2__pandas/D24_str-EX-COR.tex\n"
     ]
    },
    {
     "name": "stdout",
     "output_type": "stream",
     "text": [
      "\\import{_src_EN/D__Scientific_Python/2__pandas}{D24_str-EX-COR_content.tex}\n"
     ]
    },
    {
     "name": "stderr",
     "output_type": "stream",
     "text": [
      "[NbConvertApp] Converting notebook _src_EN/D__Scientific_Python/2__pandas/D22_IO-EX.ipynb to latex\n",
      "[NbConvertApp] Writing 19432 bytes to _src_EN/D__Scientific_Python/2__pandas/D22_IO-EX.tex\n"
     ]
    },
    {
     "name": "stdout",
     "output_type": "stream",
     "text": [
      "\\import{_src_EN/D__Scientific_Python/2__pandas}{D22_IO-EX_content.tex}\n"
     ]
    },
    {
     "name": "stderr",
     "output_type": "stream",
     "text": [
      "[NbConvertApp] Converting notebook _src_EN/D__Scientific_Python/2__pandas/D24_str.ipynb to latex\n",
      "[NbConvertApp] Writing 36109 bytes to _src_EN/D__Scientific_Python/2__pandas/D24_str.tex\n"
     ]
    },
    {
     "name": "stdout",
     "output_type": "stream",
     "text": [
      "\\import{_src_EN/D__Scientific_Python/2__pandas}{D24_str_content.tex}\n"
     ]
    },
    {
     "name": "stderr",
     "output_type": "stream",
     "text": [
      "[NbConvertApp] Converting notebook _src_EN/D__Scientific_Python/2__pandas/D23_dates.ipynb to latex\n",
      "[NbConvertApp] Writing 35885 bytes to _src_EN/D__Scientific_Python/2__pandas/D23_dates.tex\n"
     ]
    },
    {
     "name": "stdout",
     "output_type": "stream",
     "text": [
      "\\import{_src_EN/D__Scientific_Python/2__pandas}{D23_dates_content.tex}\n"
     ]
    },
    {
     "name": "stderr",
     "output_type": "stream",
     "text": [
      "[NbConvertApp] Converting notebook _src_EN/D__Scientific_Python/2__pandas/D25_essential_operations-EX-COR.ipynb to latex\n",
      "[NbConvertApp] Writing 25824 bytes to _src_EN/D__Scientific_Python/2__pandas/D25_essential_operations-EX-COR.tex\n"
     ]
    },
    {
     "name": "stdout",
     "output_type": "stream",
     "text": [
      "\\import{_src_EN/D__Scientific_Python/2__pandas}{D25_essential_operations-EX-COR_content.tex}\n"
     ]
    },
    {
     "name": "stderr",
     "output_type": "stream",
     "text": [
      "[NbConvertApp] Converting notebook _src_EN/D__Scientific_Python/1__numpy/D15_data_types.ipynb to latex\n",
      "[NbConvertApp] Writing 34172 bytes to _src_EN/D__Scientific_Python/1__numpy/D15_data_types.tex\n"
     ]
    },
    {
     "name": "stdout",
     "output_type": "stream",
     "text": [
      "\\import{_src_EN/D__Scientific_Python/1__numpy}{D15_data_types_content.tex}\n"
     ]
    },
    {
     "name": "stderr",
     "output_type": "stream",
     "text": [
      "[NbConvertApp] Converting notebook _src_EN/D__Scientific_Python/1__numpy/D12_array.ipynb to latex\n",
      "[NbConvertApp] Writing 47361 bytes to _src_EN/D__Scientific_Python/1__numpy/D12_array.tex\n"
     ]
    },
    {
     "name": "stdout",
     "output_type": "stream",
     "text": [
      "\\import{_src_EN/D__Scientific_Python/1__numpy}{D12_array_content.tex}\n"
     ]
    },
    {
     "name": "stderr",
     "output_type": "stream",
     "text": [
      "[NbConvertApp] Converting notebook _src_EN/D__Scientific_Python/1__numpy/D13_basic-EX-COR.ipynb to latex\n",
      "[NbConvertApp] Writing 20935 bytes to _src_EN/D__Scientific_Python/1__numpy/D13_basic-EX-COR.tex\n"
     ]
    },
    {
     "name": "stdout",
     "output_type": "stream",
     "text": [
      "\\import{_src_EN/D__Scientific_Python/1__numpy}{D13_basic-EX-COR_content.tex}\n"
     ]
    },
    {
     "name": "stderr",
     "output_type": "stream",
     "text": [
      "[NbConvertApp] Converting notebook _src_EN/D__Scientific_Python/1__numpy/D14_random-EX.ipynb to latex\n",
      "[NbConvertApp] Writing 19574 bytes to _src_EN/D__Scientific_Python/1__numpy/D14_random-EX.tex\n"
     ]
    },
    {
     "name": "stdout",
     "output_type": "stream",
     "text": [
      "\\import{_src_EN/D__Scientific_Python/1__numpy}{D14_random-EX_content.tex}\n"
     ]
    },
    {
     "name": "stderr",
     "output_type": "stream",
     "text": [
      "[NbConvertApp] Converting notebook _src_EN/D__Scientific_Python/1__numpy/D12_array-EX-COR.ipynb to latex\n",
      "[NbConvertApp] Writing 33179 bytes to _src_EN/D__Scientific_Python/1__numpy/D12_array-EX-COR.tex\n"
     ]
    },
    {
     "name": "stdout",
     "output_type": "stream",
     "text": [
      "\\import{_src_EN/D__Scientific_Python/1__numpy}{D12_array-EX-COR_content.tex}\n"
     ]
    },
    {
     "name": "stderr",
     "output_type": "stream",
     "text": [
      "[NbConvertApp] Converting notebook _src_EN/D__Scientific_Python/1__numpy/D14_random.ipynb to latex\n",
      "[NbConvertApp] Writing 26862 bytes to _src_EN/D__Scientific_Python/1__numpy/D14_random.tex\n"
     ]
    },
    {
     "name": "stdout",
     "output_type": "stream",
     "text": [
      "\\import{_src_EN/D__Scientific_Python/1__numpy}{D14_random_content.tex}\n"
     ]
    },
    {
     "name": "stderr",
     "output_type": "stream",
     "text": [
      "[NbConvertApp] Converting notebook _src_EN/D__Scientific_Python/1__numpy/D14_random-EX-COR.ipynb to latex\n",
      "[NbConvertApp] Writing 38325 bytes to _src_EN/D__Scientific_Python/1__numpy/D14_random-EX-COR.tex\n"
     ]
    },
    {
     "name": "stdout",
     "output_type": "stream",
     "text": [
      "\\import{_src_EN/D__Scientific_Python/1__numpy}{D14_random-EX-COR_content.tex}\n"
     ]
    },
    {
     "name": "stderr",
     "output_type": "stream",
     "text": [
      "[NbConvertApp] Converting notebook _src_EN/D__Scientific_Python/1__numpy/D11_introduction.ipynb to latex\n",
      "[NbConvertApp] Writing 20386 bytes to _src_EN/D__Scientific_Python/1__numpy/D11_introduction.tex\n"
     ]
    },
    {
     "name": "stdout",
     "output_type": "stream",
     "text": [
      "\\import{_src_EN/D__Scientific_Python/1__numpy}{D11_introduction_content.tex}\n"
     ]
    },
    {
     "name": "stderr",
     "output_type": "stream",
     "text": [
      "[NbConvertApp] Converting notebook _src_EN/D__Scientific_Python/1__numpy/D13_basic-EX.ipynb to latex\n",
      "[NbConvertApp] Writing 19652 bytes to _src_EN/D__Scientific_Python/1__numpy/D13_basic-EX.tex\n"
     ]
    },
    {
     "name": "stdout",
     "output_type": "stream",
     "text": [
      "\\import{_src_EN/D__Scientific_Python/1__numpy}{D13_basic-EX_content.tex}\n"
     ]
    },
    {
     "name": "stderr",
     "output_type": "stream",
     "text": [
      "[NbConvertApp] Converting notebook _src_EN/D__Scientific_Python/1__numpy/D12_array-EX.ipynb to latex\n",
      "[NbConvertApp] Writing 19681 bytes to _src_EN/D__Scientific_Python/1__numpy/D12_array-EX.tex\n"
     ]
    },
    {
     "name": "stdout",
     "output_type": "stream",
     "text": [
      "\\import{_src_EN/D__Scientific_Python/1__numpy}{D12_array-EX_content.tex}\n"
     ]
    },
    {
     "name": "stderr",
     "output_type": "stream",
     "text": [
      "[NbConvertApp] Converting notebook _src_EN/D__Scientific_Python/1__numpy/D13_basic.ipynb to latex\n",
      "[NbConvertApp] Writing 49027 bytes to _src_EN/D__Scientific_Python/1__numpy/D13_basic.tex\n"
     ]
    },
    {
     "name": "stdout",
     "output_type": "stream",
     "text": [
      "\\import{_src_EN/D__Scientific_Python/1__numpy}{D13_basic_content.tex}\n"
     ]
    },
    {
     "name": "stderr",
     "output_type": "stream",
     "text": [
      "[NbConvertApp] Converting notebook _src_EN/D__Scientific_Python/4__Typical_problems/D43_function_differenciation.ipynb to latex\n",
      "[NbConvertApp] Writing 29401 bytes to _src_EN/D__Scientific_Python/4__Typical_problems/D43_function_differenciation.tex\n"
     ]
    },
    {
     "name": "stdout",
     "output_type": "stream",
     "text": [
      "\\import{_src_EN/D__Scientific_Python/4__Typical_problems}{D43_function_differenciation_content.tex}\n"
     ]
    },
    {
     "name": "stderr",
     "output_type": "stream",
     "text": [
      "[NbConvertApp] Converting notebook _src_EN/D__Scientific_Python/4__Typical_problems/D44_linear_regression.ipynb to latex\n",
      "[NbConvertApp] Writing 27476 bytes to _src_EN/D__Scientific_Python/4__Typical_problems/D44_linear_regression.tex\n"
     ]
    },
    {
     "name": "stdout",
     "output_type": "stream",
     "text": [
      "\\import{_src_EN/D__Scientific_Python/4__Typical_problems}{D44_linear_regression_content.tex}\n"
     ]
    },
    {
     "name": "stderr",
     "output_type": "stream",
     "text": [
      "[NbConvertApp] Converting notebook _src_EN/D__Scientific_Python/4__Typical_problems/D42_function_minimization.ipynb to latex\n",
      "[NbConvertApp] Support files will be in D42_function_minimization_files/\n",
      "[NbConvertApp] Making directory _src_EN/D__Scientific_Python/4__Typical_problems/D42_function_minimization_files\n",
      "[NbConvertApp] Writing 32409 bytes to _src_EN/D__Scientific_Python/4__Typical_problems/D42_function_minimization.tex\n"
     ]
    },
    {
     "name": "stdout",
     "output_type": "stream",
     "text": [
      "\\import{_src_EN/D__Scientific_Python/4__Typical_problems}{D42_function_minimization_content.tex}\n"
     ]
    },
    {
     "name": "stderr",
     "output_type": "stream",
     "text": [
      "[NbConvertApp] Converting notebook _src_EN/D__Scientific_Python/4__Typical_problems/D41_introduction.ipynb to latex\n",
      "[NbConvertApp] Writing 21359 bytes to _src_EN/D__Scientific_Python/4__Typical_problems/D41_introduction.tex\n"
     ]
    },
    {
     "name": "stdout",
     "output_type": "stream",
     "text": [
      "\\import{_src_EN/D__Scientific_Python/4__Typical_problems}{D41_introduction_content.tex}\n"
     ]
    },
    {
     "name": "stderr",
     "output_type": "stream",
     "text": [
      "[NbConvertApp] Converting notebook _src_EN/D__Scientific_Python/3__matplotlib/D34_matplotlib_based_tools-EX-COR.ipynb to latex\n",
      "[NbConvertApp] Support files will be in D34_matplotlib_based_tools-EX-COR_files/\n",
      "[NbConvertApp] Making directory _src_EN/D__Scientific_Python/3__matplotlib/D34_matplotlib_based_tools-EX-COR_files\n",
      "[NbConvertApp] Writing 22489 bytes to _src_EN/D__Scientific_Python/3__matplotlib/D34_matplotlib_based_tools-EX-COR.tex\n"
     ]
    },
    {
     "name": "stdout",
     "output_type": "stream",
     "text": [
      "\\import{_src_EN/D__Scientific_Python/3__matplotlib}{D34_matplotlib_based_tools-EX-COR_content.tex}\n"
     ]
    },
    {
     "name": "stderr",
     "output_type": "stream",
     "text": [
      "[NbConvertApp] Converting notebook _src_EN/D__Scientific_Python/3__matplotlib/D33_customization.ipynb to latex\n",
      "[NbConvertApp] Support files will be in D33_customization_files/\n",
      "[NbConvertApp] Making directory _src_EN/D__Scientific_Python/3__matplotlib/D33_customization_files\n",
      "[NbConvertApp] Making directory _src_EN/D__Scientific_Python/3__matplotlib/D33_customization_files\n",
      "[NbConvertApp] Making directory _src_EN/D__Scientific_Python/3__matplotlib/D33_customization_files\n",
      "[NbConvertApp] Making directory _src_EN/D__Scientific_Python/3__matplotlib/D33_customization_files\n",
      "[NbConvertApp] Making directory _src_EN/D__Scientific_Python/3__matplotlib/D33_customization_files\n",
      "[NbConvertApp] Making directory _src_EN/D__Scientific_Python/3__matplotlib/D33_customization_files\n",
      "[NbConvertApp] Making directory _src_EN/D__Scientific_Python/3__matplotlib/D33_customization_files\n",
      "[NbConvertApp] Writing 34046 bytes to _src_EN/D__Scientific_Python/3__matplotlib/D33_customization.tex\n"
     ]
    },
    {
     "name": "stdout",
     "output_type": "stream",
     "text": [
      "\\import{_src_EN/D__Scientific_Python/3__matplotlib}{D33_customization_content.tex}\n"
     ]
    },
    {
     "name": "stderr",
     "output_type": "stream",
     "text": [
      "[NbConvertApp] Converting notebook _src_EN/D__Scientific_Python/3__matplotlib/D31_simple_plot-EX.ipynb to latex\n",
      "[NbConvertApp] Writing 19932 bytes to _src_EN/D__Scientific_Python/3__matplotlib/D31_simple_plot-EX.tex\n"
     ]
    },
    {
     "name": "stdout",
     "output_type": "stream",
     "text": [
      "\\import{_src_EN/D__Scientific_Python/3__matplotlib}{D31_simple_plot-EX_content.tex}\n"
     ]
    },
    {
     "name": "stderr",
     "output_type": "stream",
     "text": [
      "[NbConvertApp] Converting notebook _src_EN/D__Scientific_Python/3__matplotlib/D34_matplotlib_based_tools.ipynb to latex\n",
      "[NbConvertApp] Support files will be in D34_matplotlib_based_tools_files/\n",
      "[NbConvertApp] Making directory _src_EN/D__Scientific_Python/3__matplotlib/D34_matplotlib_based_tools_files\n",
      "[NbConvertApp] Making directory _src_EN/D__Scientific_Python/3__matplotlib/D34_matplotlib_based_tools_files\n",
      "[NbConvertApp] Making directory _src_EN/D__Scientific_Python/3__matplotlib/D34_matplotlib_based_tools_files\n",
      "[NbConvertApp] Making directory _src_EN/D__Scientific_Python/3__matplotlib/D34_matplotlib_based_tools_files\n",
      "[NbConvertApp] Making directory _src_EN/D__Scientific_Python/3__matplotlib/D34_matplotlib_based_tools_files\n",
      "[NbConvertApp] Making directory _src_EN/D__Scientific_Python/3__matplotlib/D34_matplotlib_based_tools_files\n",
      "[NbConvertApp] Making directory _src_EN/D__Scientific_Python/3__matplotlib/D34_matplotlib_based_tools_files\n",
      "[NbConvertApp] Making directory _src_EN/D__Scientific_Python/3__matplotlib/D34_matplotlib_based_tools_files\n",
      "[NbConvertApp] Writing 37702 bytes to _src_EN/D__Scientific_Python/3__matplotlib/D34_matplotlib_based_tools.tex\n"
     ]
    },
    {
     "name": "stdout",
     "output_type": "stream",
     "text": [
      "\\import{_src_EN/D__Scientific_Python/3__matplotlib}{D34_matplotlib_based_tools_content.tex}\n"
     ]
    },
    {
     "name": "stderr",
     "output_type": "stream",
     "text": [
      "[NbConvertApp] Converting notebook _src_EN/D__Scientific_Python/3__matplotlib/D31_simple_plot.ipynb to latex\n",
      "[NbConvertApp] Support files will be in D31_simple_plot_files/\n",
      "[NbConvertApp] Making directory _src_EN/D__Scientific_Python/3__matplotlib/D31_simple_plot_files\n",
      "[NbConvertApp] Making directory _src_EN/D__Scientific_Python/3__matplotlib/D31_simple_plot_files\n",
      "[NbConvertApp] Making directory _src_EN/D__Scientific_Python/3__matplotlib/D31_simple_plot_files\n",
      "[NbConvertApp] Making directory _src_EN/D__Scientific_Python/3__matplotlib/D31_simple_plot_files\n",
      "[NbConvertApp] Making directory _src_EN/D__Scientific_Python/3__matplotlib/D31_simple_plot_files\n",
      "[NbConvertApp] Making directory _src_EN/D__Scientific_Python/3__matplotlib/D31_simple_plot_files\n",
      "[NbConvertApp] Writing 32184 bytes to _src_EN/D__Scientific_Python/3__matplotlib/D31_simple_plot.tex\n"
     ]
    },
    {
     "name": "stdout",
     "output_type": "stream",
     "text": [
      "\\import{_src_EN/D__Scientific_Python/3__matplotlib}{D31_simple_plot_content.tex}\n"
     ]
    },
    {
     "name": "stderr",
     "output_type": "stream",
     "text": [
      "[NbConvertApp] Converting notebook _src_EN/D__Scientific_Python/3__matplotlib/D31_simple_plot-EX-COR.ipynb to latex\n",
      "[NbConvertApp] Support files will be in D31_simple_plot-EX-COR_files/\n",
      "[NbConvertApp] Making directory _src_EN/D__Scientific_Python/3__matplotlib/D31_simple_plot-EX-COR_files\n",
      "[NbConvertApp] Writing 21131 bytes to _src_EN/D__Scientific_Python/3__matplotlib/D31_simple_plot-EX-COR.tex\n"
     ]
    },
    {
     "name": "stdout",
     "output_type": "stream",
     "text": [
      "\\import{_src_EN/D__Scientific_Python/3__matplotlib}{D31_simple_plot-EX-COR_content.tex}\n"
     ]
    },
    {
     "name": "stderr",
     "output_type": "stream",
     "text": [
      "[NbConvertApp] Converting notebook _src_EN/D__Scientific_Python/3__matplotlib/D34_matplotlib_based_tools-EX.ipynb to latex\n",
      "[NbConvertApp] Writing 19662 bytes to _src_EN/D__Scientific_Python/3__matplotlib/D34_matplotlib_based_tools-EX.tex\n"
     ]
    },
    {
     "name": "stdout",
     "output_type": "stream",
     "text": [
      "\\import{_src_EN/D__Scientific_Python/3__matplotlib}{D34_matplotlib_based_tools-EX_content.tex}\n"
     ]
    },
    {
     "name": "stderr",
     "output_type": "stream",
     "text": [
      "[NbConvertApp] Converting notebook _src_EN/D__Scientific_Python/3__matplotlib/D32_complex_figures.ipynb to latex\n",
      "[NbConvertApp] Support files will be in D32_complex_figures_files/\n",
      "[NbConvertApp] Making directory _src_EN/D__Scientific_Python/3__matplotlib/D32_complex_figures_files\n",
      "[NbConvertApp] Making directory _src_EN/D__Scientific_Python/3__matplotlib/D32_complex_figures_files\n",
      "[NbConvertApp] Making directory _src_EN/D__Scientific_Python/3__matplotlib/D32_complex_figures_files\n",
      "[NbConvertApp] Making directory _src_EN/D__Scientific_Python/3__matplotlib/D32_complex_figures_files\n",
      "[NbConvertApp] Making directory _src_EN/D__Scientific_Python/3__matplotlib/D32_complex_figures_files\n",
      "[NbConvertApp] Writing 30223 bytes to _src_EN/D__Scientific_Python/3__matplotlib/D32_complex_figures.tex\n"
     ]
    },
    {
     "name": "stdout",
     "output_type": "stream",
     "text": [
      "\\import{_src_EN/D__Scientific_Python/3__matplotlib}{D32_complex_figures_content.tex}\n"
     ]
    },
    {
     "name": "stderr",
     "output_type": "stream",
     "text": [
      "[NbConvertApp] Converting notebook _src_EN/E__Algorithmic_complexity/1__Estimate_problem_size/E11_time_complexity_analysis.ipynb to latex\n",
      "[NbConvertApp] Writing 26071 bytes to _src_EN/E__Algorithmic_complexity/1__Estimate_problem_size/E11_time_complexity_analysis.tex\n"
     ]
    },
    {
     "name": "stdout",
     "output_type": "stream",
     "text": [
      "\\import{_src_EN/E__Algorithmic_complexity/1__Estimate_problem_size}{E11_time_complexity_analysis_content.tex}\n"
     ]
    },
    {
     "name": "stderr",
     "output_type": "stream",
     "text": [
      "[NbConvertApp] Converting notebook _src_EN/E__Algorithmic_complexity/1__Estimate_problem_size/E12_typical_time_limitations.ipynb to latex\n",
      "[NbConvertApp] Writing 24875 bytes to _src_EN/E__Algorithmic_complexity/1__Estimate_problem_size/E12_typical_time_limitations.tex\n"
     ]
    },
    {
     "name": "stdout",
     "output_type": "stream",
     "text": [
      "\\import{_src_EN/E__Algorithmic_complexity/1__Estimate_problem_size}{E12_typical_time_limitations_content.tex}\n"
     ]
    },
    {
     "name": "stderr",
     "output_type": "stream",
     "text": [
      "[NbConvertApp] Converting notebook _src_EN/E__Algorithmic_complexity/2__Profile_ones_code/E22_memory_usage.ipynb to latex\n",
      "[NbConvertApp] Writing 35849 bytes to _src_EN/E__Algorithmic_complexity/2__Profile_ones_code/E22_memory_usage.tex\n"
     ]
    },
    {
     "name": "stdout",
     "output_type": "stream",
     "text": [
      "\\import{_src_EN/E__Algorithmic_complexity/2__Profile_ones_code}{E22_memory_usage_content.tex}\n"
     ]
    },
    {
     "name": "stderr",
     "output_type": "stream",
     "text": [
      "[NbConvertApp] Converting notebook _src_EN/E__Algorithmic_complexity/2__Profile_ones_code/E21_time_complexity-EX.ipynb to latex\n",
      "[NbConvertApp] Writing 28610 bytes to _src_EN/E__Algorithmic_complexity/2__Profile_ones_code/E21_time_complexity-EX.tex\n"
     ]
    },
    {
     "name": "stdout",
     "output_type": "stream",
     "text": [
      "\\import{_src_EN/E__Algorithmic_complexity/2__Profile_ones_code}{E21_time_complexity-EX_content.tex}\n"
     ]
    },
    {
     "name": "stderr",
     "output_type": "stream",
     "text": [
      "[NbConvertApp] Converting notebook _src_EN/E__Algorithmic_complexity/2__Profile_ones_code/E21_time_complexity.ipynb to latex\n",
      "[NbConvertApp] Writing 28459 bytes to _src_EN/E__Algorithmic_complexity/2__Profile_ones_code/E21_time_complexity.tex\n"
     ]
    },
    {
     "name": "stdout",
     "output_type": "stream",
     "text": [
      "\\import{_src_EN/E__Algorithmic_complexity/2__Profile_ones_code}{E21_time_complexity_content.tex}\n"
     ]
    },
    {
     "name": "stderr",
     "output_type": "stream",
     "text": [
      "[NbConvertApp] Converting notebook _src_EN/E__Algorithmic_complexity/4__Advanced_code_sped_up/E41_introduction.ipynb to latex\n",
      "[NbConvertApp] Writing 25498 bytes to _src_EN/E__Algorithmic_complexity/4__Advanced_code_sped_up/E41_introduction.tex\n"
     ]
    },
    {
     "name": "stdout",
     "output_type": "stream",
     "text": [
      "\\import{_src_EN/E__Algorithmic_complexity/4__Advanced_code_sped_up}{E41_introduction_content.tex}\n"
     ]
    },
    {
     "name": "stderr",
     "output_type": "stream",
     "text": [
      "[NbConvertApp] Converting notebook _src_EN/E__Algorithmic_complexity/4__Advanced_code_sped_up/E42_threading.ipynb to latex\n",
      "[NbConvertApp] Writing 38307 bytes to _src_EN/E__Algorithmic_complexity/4__Advanced_code_sped_up/E42_threading.tex\n"
     ]
    },
    {
     "name": "stdout",
     "output_type": "stream",
     "text": [
      "\\import{_src_EN/E__Algorithmic_complexity/4__Advanced_code_sped_up}{E42_threading_content.tex}\n"
     ]
    },
    {
     "name": "stderr",
     "output_type": "stream",
     "text": [
      "[NbConvertApp] Converting notebook _src_EN/E__Algorithmic_complexity/4__Advanced_code_sped_up/E43_multiprocessing.ipynb to latex\n",
      "[NbConvertApp] Support files will be in E43_multiprocessing_files/\n",
      "[NbConvertApp] Making directory _src_EN/E__Algorithmic_complexity/4__Advanced_code_sped_up/E43_multiprocessing_files\n",
      "[NbConvertApp] Making directory _src_EN/E__Algorithmic_complexity/4__Advanced_code_sped_up/E43_multiprocessing_files\n",
      "[NbConvertApp] Writing 31387 bytes to _src_EN/E__Algorithmic_complexity/4__Advanced_code_sped_up/E43_multiprocessing.tex\n"
     ]
    },
    {
     "name": "stdout",
     "output_type": "stream",
     "text": [
      "\\import{_src_EN/E__Algorithmic_complexity/4__Advanced_code_sped_up}{E43_multiprocessing_content.tex}\n"
     ]
    },
    {
     "name": "stderr",
     "output_type": "stream",
     "text": [
      "[NbConvertApp] Converting notebook _src_EN/E__Algorithmic_complexity/3__Simple_code_sped_up/E32_cache.ipynb to latex\n",
      "[NbConvertApp] Writing 28331 bytes to _src_EN/E__Algorithmic_complexity/3__Simple_code_sped_up/E32_cache.tex\n"
     ]
    },
    {
     "name": "stdout",
     "output_type": "stream",
     "text": [
      "\\import{_src_EN/E__Algorithmic_complexity/3__Simple_code_sped_up}{E32_cache_content.tex}\n"
     ]
    },
    {
     "name": "stderr",
     "output_type": "stream",
     "text": [
      "[NbConvertApp] Converting notebook _src_EN/E__Algorithmic_complexity/3__Simple_code_sped_up/E31_numpy.ipynb to latex\n",
      "[NbConvertApp] Support files will be in E31_numpy_files/\n",
      "[NbConvertApp] Making directory _src_EN/E__Algorithmic_complexity/3__Simple_code_sped_up/E31_numpy_files\n",
      "[NbConvertApp] Writing 25561 bytes to _src_EN/E__Algorithmic_complexity/3__Simple_code_sped_up/E31_numpy.tex\n"
     ]
    },
    {
     "name": "stdout",
     "output_type": "stream",
     "text": [
      "\\import{_src_EN/E__Algorithmic_complexity/3__Simple_code_sped_up}{E31_numpy_content.tex}\n"
     ]
    },
    {
     "name": "stderr",
     "output_type": "stream",
     "text": [
      "[NbConvertApp] Converting notebook _src_EN/C__Share_ones_code/C1__Environments.ipynb to latex\n",
      "[NbConvertApp] Writing 25888 bytes to _src_EN/C__Share_ones_code/C1__Environments.tex\n"
     ]
    },
    {
     "name": "stdout",
     "output_type": "stream",
     "text": [
      "\\import{_src_EN/C__Share_ones_code}{C1__Environments_content.tex}\n"
     ]
    },
    {
     "name": "stderr",
     "output_type": "stream",
     "text": [
      "[NbConvertApp] Converting notebook _src_EN/C__Share_ones_code/2__Structuration/C21_Imports.ipynb to latex\n",
      "[NbConvertApp] Writing 26128 bytes to _src_EN/C__Share_ones_code/2__Structuration/C21_Imports.tex\n"
     ]
    },
    {
     "name": "stdout",
     "output_type": "stream",
     "text": [
      "\\import{_src_EN/C__Share_ones_code/2__Structuration}{C21_Imports_content.tex}\n"
     ]
    },
    {
     "name": "stderr",
     "output_type": "stream",
     "text": [
      "[NbConvertApp] Converting notebook _src_EN/C__Share_ones_code/2__Structuration/C22__Package_structuration/C22_Package_structuration.ipynb to latex\n",
      "[NbConvertApp] Writing 34549 bytes to _src_EN/C__Share_ones_code/2__Structuration/C22__Package_structuration/C22_Package_structuration.tex\n"
     ]
    },
    {
     "name": "stdout",
     "output_type": "stream",
     "text": [
      "\\import{_src_EN/C__Share_ones_code/2__Structuration/C22__Package_structuration}{C22_Package_structuration_content.tex}\n"
     ]
    },
    {
     "name": "stderr",
     "output_type": "stream",
     "text": [
      "[NbConvertApp] Converting notebook _src_EN/C__Share_ones_code/3__Documentation/C32_Documentation_generation.ipynb to latex\n",
      "[NbConvertApp] Writing 25924 bytes to _src_EN/C__Share_ones_code/3__Documentation/C32_Documentation_generation.tex\n"
     ]
    },
    {
     "name": "stdout",
     "output_type": "stream",
     "text": [
      "\\import{_src_EN/C__Share_ones_code/3__Documentation}{C32_Documentation_generation_content.tex}\n"
     ]
    },
    {
     "name": "stderr",
     "output_type": "stream",
     "text": [
      "[NbConvertApp] Converting notebook _src_EN/C__Share_ones_code/3__Documentation/C31_Documentation_writing.ipynb to latex\n"
     ]
    },
    {
     "name": "stdout",
     "output_type": "stream",
     "text": [
      "\\import{_src_EN/C__Share_ones_code/3__Documentation}{C31_Documentation_writing_content.tex}\n"
     ]
    },
    {
     "name": "stderr",
     "output_type": "stream",
     "text": [
      "[NbConvertApp] Writing 23922 bytes to _src_EN/C__Share_ones_code/3__Documentation/C31_Documentation_writing.tex\n"
     ]
    }
   ],
   "source": [
    "\n",
    "from shutil import copytree, rmtree\n",
    "from pathlib import Path\n",
    "from os import walk\n",
    "from os.path import splitext\n",
    "from subprocess import run\n",
    "import re\n",
    "\n",
    "processed = []\n",
    "\n",
    "def content_extractor(input_tex_content, current_dir, name, ext):    \n",
    "    content_output = f'{current_dir}/{name}_content.tex'\n",
    "    preamble_output = f'{current_dir}/{name}_preamble.tex'\n",
    "    processed.extend([content_output, preamble_output])\n",
    "\n",
    "\n",
    "    input_tex_content = ''.join(input_tex_content)\n",
    "    preamble, content = input_tex_content.split(r'\\begin{document}')\n",
    "    content, _ = content.split(r'\\end{document}')\n",
    "    \n",
    "    # remove '\\maketitle'\n",
    "    content = content.replace('\\maketitle', '\\n')\n",
    "    \n",
    "    # add line before picture insertion\n",
    "    content = content.replace('\\includegraphics', '\\n\\n\\includegraphics')\n",
    "    \n",
    "    content = '\\n' + content + '\\n'\n",
    "    print('\\import{', current_dir, '}{', name, '_content.tex', '}', sep='')\n",
    "\n",
    "    with open(content_output, 'w') as f:\n",
    "        f.write(content)\n",
    "\n",
    "    with open(preamble_output, 'w') as f:\n",
    "        f.write(preamble)\n",
    "\n",
    "\n",
    "source = Path('../src_EN')\n",
    "destination = Path('_src_EN')\n",
    "\n",
    "if destination.exists():\n",
    "    rmtree(destination)\n",
    "\n",
    "copytree(source, destination)\n",
    "\n",
    "to_exclude = ['my_package.tex']\n",
    "pattern = '.*(A__|B__|C__|D__|E__).*'\n",
    "\n",
    "from subprocess import run\n",
    "for current_dir, subdirs, files in walk(destination):\n",
    "    if re.match(pattern, current_dir):\n",
    "        for file_name in files:\n",
    "            if (file_name not in to_exclude) \\\n",
    "            and (~file_name.endswith('EX-COR.ipynb')) \\\n",
    "            and (~file_name.endswith('EX.ipynb')) \\\n",
    "            and ('.ipynb_checkpoints' not in current_dir):\n",
    "                do = False\n",
    "                name, ext = splitext(file_name)\n",
    "                if (ext=='.ipynb') and ('.ipynb_checkpoints' not in current_dir):\n",
    "                    run(f\"jupyter nbconvert --to latex \\\"{current_dir}/{file_name}\\\"\", shell=True)\n",
    "                    do = True\n",
    "                if (ext=='.tex') and (file_name not in processed):\n",
    "                    do = True\n",
    "                if do: \n",
    "                    with open(f'{current_dir}/{name}.tex', 'r') as f:\n",
    "                        body = f.readlines()\n",
    "                        body = ''.join(body)               \n",
    "                    content_extractor(body, current_dir, name, ext)\n"
   ]
  },
  {
   "cell_type": "code",
   "execution_count": null,
   "id": "4ff57945",
   "metadata": {},
   "outputs": [],
   "source": []
  }
 ],
 "metadata": {
  "kernelspec": {
   "display_name": "Python 3 (ipykernel)",
   "language": "python",
   "name": "python3"
  },
  "language_info": {
   "codemirror_mode": {
    "name": "ipython",
    "version": 3
   },
   "file_extension": ".py",
   "mimetype": "text/x-python",
   "name": "python",
   "nbconvert_exporter": "python",
   "pygments_lexer": "ipython3",
   "version": "3.10.12"
  }
 },
 "nbformat": 4,
 "nbformat_minor": 5
}
