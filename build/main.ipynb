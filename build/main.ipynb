{
 "cells": [
  {
   "cell_type": "code",
   "execution_count": 1,
   "id": "00462aca",
   "metadata": {
    "editable": true,
    "scrolled": true,
    "slideshow": {
     "slide_type": ""
    },
    "tags": []
   },
   "outputs": [
    {
     "name": "stderr",
     "output_type": "stream",
     "text": [
      "<>:21: SyntaxWarning: invalid escape sequence '\\m'\n",
      "<>:24: SyntaxWarning: invalid escape sequence '\\i'\n",
      "<>:24: SyntaxWarning: invalid escape sequence '\\i'\n",
      "<>:27: SyntaxWarning: invalid escape sequence '\\i'\n",
      "<>:21: SyntaxWarning: invalid escape sequence '\\m'\n",
      "<>:24: SyntaxWarning: invalid escape sequence '\\i'\n",
      "<>:24: SyntaxWarning: invalid escape sequence '\\i'\n",
      "<>:27: SyntaxWarning: invalid escape sequence '\\i'\n",
      "/tmp/ipykernel_61075/3642134940.py:21: SyntaxWarning: invalid escape sequence '\\m'\n",
      "  content = content.replace('\\maketitle', '\\n')\n",
      "/tmp/ipykernel_61075/3642134940.py:24: SyntaxWarning: invalid escape sequence '\\i'\n",
      "  content = content.replace('\\includegraphics', '\\n\\n\\includegraphics')\n",
      "/tmp/ipykernel_61075/3642134940.py:24: SyntaxWarning: invalid escape sequence '\\i'\n",
      "  content = content.replace('\\includegraphics', '\\n\\n\\includegraphics')\n",
      "/tmp/ipykernel_61075/3642134940.py:27: SyntaxWarning: invalid escape sequence '\\i'\n",
      "  print('\\import{', current_dir, '}{', name, '_content.tex', '}', sep='')\n",
      "[NbConvertApp] Converting notebook _src_EN/D__Scientific_Python/4__Typical_problems/D41_introduction.ipynb to latex\n",
      "[NbConvertApp] Writing 21618 bytes to _src_EN/D__Scientific_Python/4__Typical_problems/D41_introduction.tex\n"
     ]
    },
    {
     "name": "stdout",
     "output_type": "stream",
     "text": [
      "\\import{_src_EN/D__Scientific_Python/4__Typical_problems}{D41_introduction_content.tex}\n"
     ]
    },
    {
     "name": "stderr",
     "output_type": "stream",
     "text": [
      "[NbConvertApp] Converting notebook _src_EN/D__Scientific_Python/4__Typical_problems/D44_linear_regression.ipynb to latex\n",
      "[NbConvertApp] Writing 27782 bytes to _src_EN/D__Scientific_Python/4__Typical_problems/D44_linear_regression.tex\n"
     ]
    },
    {
     "name": "stdout",
     "output_type": "stream",
     "text": [
      "\\import{_src_EN/D__Scientific_Python/4__Typical_problems}{D44_linear_regression_content.tex}\n"
     ]
    },
    {
     "name": "stderr",
     "output_type": "stream",
     "text": [
      "[NbConvertApp] Converting notebook _src_EN/D__Scientific_Python/4__Typical_problems/D42_function_minimization.ipynb to latex\n",
      "[NbConvertApp] Support files will be in D42_function_minimization_files/\n",
      "[NbConvertApp] Making directory _src_EN/D__Scientific_Python/4__Typical_problems/D42_function_minimization_files\n",
      "[NbConvertApp] Writing 32705 bytes to _src_EN/D__Scientific_Python/4__Typical_problems/D42_function_minimization.tex\n"
     ]
    },
    {
     "name": "stdout",
     "output_type": "stream",
     "text": [
      "\\import{_src_EN/D__Scientific_Python/4__Typical_problems}{D42_function_minimization_content.tex}\n"
     ]
    },
    {
     "name": "stderr",
     "output_type": "stream",
     "text": [
      "[NbConvertApp] Converting notebook _src_EN/D__Scientific_Python/4__Typical_problems/D43_function_differenciation.ipynb to latex\n",
      "[NbConvertApp] Writing 29307 bytes to _src_EN/D__Scientific_Python/4__Typical_problems/D43_function_differenciation.tex\n"
     ]
    },
    {
     "name": "stdout",
     "output_type": "stream",
     "text": [
      "\\import{_src_EN/D__Scientific_Python/4__Typical_problems}{D43_function_differenciation_content.tex}\n"
     ]
    },
    {
     "name": "stderr",
     "output_type": "stream",
     "text": [
      "[NbConvertApp] Converting notebook _src_EN/D__Scientific_Python/2__pandas/D24_str.ipynb to latex\n",
      "[NbConvertApp] Writing 36291 bytes to _src_EN/D__Scientific_Python/2__pandas/D24_str.tex\n"
     ]
    },
    {
     "name": "stdout",
     "output_type": "stream",
     "text": [
      "\\import{_src_EN/D__Scientific_Python/2__pandas}{D24_str_content.tex}\n"
     ]
    },
    {
     "name": "stderr",
     "output_type": "stream",
     "text": [
      "[NbConvertApp] Converting notebook _src_EN/D__Scientific_Python/2__pandas/D23_dates.ipynb to latex\n",
      "[NbConvertApp] Writing 36144 bytes to _src_EN/D__Scientific_Python/2__pandas/D23_dates.tex\n"
     ]
    },
    {
     "name": "stdout",
     "output_type": "stream",
     "text": [
      "\\import{_src_EN/D__Scientific_Python/2__pandas}{D23_dates_content.tex}\n"
     ]
    },
    {
     "name": "stderr",
     "output_type": "stream",
     "text": [
      "[NbConvertApp] Converting notebook _src_EN/D__Scientific_Python/2__pandas/D21_introduction.ipynb to latex\n",
      "[NbConvertApp] Writing 61957 bytes to _src_EN/D__Scientific_Python/2__pandas/D21_introduction.tex\n"
     ]
    },
    {
     "name": "stdout",
     "output_type": "stream",
     "text": [
      "\\import{_src_EN/D__Scientific_Python/2__pandas}{D21_introduction_content.tex}\n"
     ]
    },
    {
     "name": "stderr",
     "output_type": "stream",
     "text": [
      "[NbConvertApp] Converting notebook _src_EN/D__Scientific_Python/2__pandas/D25_essential_operations.ipynb to latex\n",
      "[NbConvertApp] Writing 69698 bytes to _src_EN/D__Scientific_Python/2__pandas/D25_essential_operations.tex\n"
     ]
    },
    {
     "name": "stdout",
     "output_type": "stream",
     "text": [
      "\\import{_src_EN/D__Scientific_Python/2__pandas}{D25_essential_operations_content.tex}\n"
     ]
    },
    {
     "name": "stderr",
     "output_type": "stream",
     "text": [
      "[NbConvertApp] Converting notebook _src_EN/D__Scientific_Python/2__pandas/D22_IO.ipynb to latex\n",
      "[NbConvertApp] Writing 25878 bytes to _src_EN/D__Scientific_Python/2__pandas/D22_IO.tex\n"
     ]
    },
    {
     "name": "stdout",
     "output_type": "stream",
     "text": [
      "\\import{_src_EN/D__Scientific_Python/2__pandas}{D22_IO_content.tex}\n"
     ]
    },
    {
     "name": "stderr",
     "output_type": "stream",
     "text": [
      "[NbConvertApp] Converting notebook _src_EN/D__Scientific_Python/3__matplotlib/D33_customization.ipynb to latex\n",
      "[NbConvertApp] Support files will be in D33_customization_files/\n",
      "[NbConvertApp] Making directory _src_EN/D__Scientific_Python/3__matplotlib/D33_customization_files\n",
      "[NbConvertApp] Writing 34355 bytes to _src_EN/D__Scientific_Python/3__matplotlib/D33_customization.tex\n"
     ]
    },
    {
     "name": "stdout",
     "output_type": "stream",
     "text": [
      "\\import{_src_EN/D__Scientific_Python/3__matplotlib}{D33_customization_content.tex}\n"
     ]
    },
    {
     "name": "stderr",
     "output_type": "stream",
     "text": [
      "[NbConvertApp] Converting notebook _src_EN/D__Scientific_Python/3__matplotlib/D31_simple_plot.ipynb to latex\n",
      "[NbConvertApp] Support files will be in D31_simple_plot_files/\n",
      "[NbConvertApp] Making directory _src_EN/D__Scientific_Python/3__matplotlib/D31_simple_plot_files\n",
      "[NbConvertApp] Writing 32211 bytes to _src_EN/D__Scientific_Python/3__matplotlib/D31_simple_plot.tex\n"
     ]
    },
    {
     "name": "stdout",
     "output_type": "stream",
     "text": [
      "\\import{_src_EN/D__Scientific_Python/3__matplotlib}{D31_simple_plot_content.tex}\n"
     ]
    },
    {
     "name": "stderr",
     "output_type": "stream",
     "text": [
      "[NbConvertApp] Converting notebook _src_EN/D__Scientific_Python/3__matplotlib/D32_complex_figures.ipynb to latex\n",
      "[NbConvertApp] Support files will be in D32_complex_figures_files/\n",
      "[NbConvertApp] Making directory _src_EN/D__Scientific_Python/3__matplotlib/D32_complex_figures_files\n",
      "[NbConvertApp] Writing 30530 bytes to _src_EN/D__Scientific_Python/3__matplotlib/D32_complex_figures.tex\n"
     ]
    },
    {
     "name": "stdout",
     "output_type": "stream",
     "text": [
      "\\import{_src_EN/D__Scientific_Python/3__matplotlib}{D32_complex_figures_content.tex}\n"
     ]
    },
    {
     "name": "stderr",
     "output_type": "stream",
     "text": [
      "[NbConvertApp] Converting notebook _src_EN/D__Scientific_Python/3__matplotlib/D34_matplotlib_based_tools.ipynb to latex\n",
      "[NbConvertApp] Support files will be in D34_matplotlib_based_tools_files/\n",
      "[NbConvertApp] Making directory _src_EN/D__Scientific_Python/3__matplotlib/D34_matplotlib_based_tools_files\n",
      "[NbConvertApp] Writing 38020 bytes to _src_EN/D__Scientific_Python/3__matplotlib/D34_matplotlib_based_tools.tex\n"
     ]
    },
    {
     "name": "stdout",
     "output_type": "stream",
     "text": [
      "\\import{_src_EN/D__Scientific_Python/3__matplotlib}{D34_matplotlib_based_tools_content.tex}\n"
     ]
    },
    {
     "name": "stderr",
     "output_type": "stream",
     "text": [
      "[NbConvertApp] Converting notebook _src_EN/D__Scientific_Python/1__numpy/D12_array.ipynb to latex\n",
      "[NbConvertApp] Writing 46628 bytes to _src_EN/D__Scientific_Python/1__numpy/D12_array.tex\n"
     ]
    },
    {
     "name": "stdout",
     "output_type": "stream",
     "text": [
      "\\import{_src_EN/D__Scientific_Python/1__numpy}{D12_array_content.tex}\n"
     ]
    },
    {
     "name": "stderr",
     "output_type": "stream",
     "text": [
      "[NbConvertApp] Converting notebook _src_EN/D__Scientific_Python/1__numpy/D13_basic.ipynb to latex\n",
      "[NbConvertApp] Writing 49317 bytes to _src_EN/D__Scientific_Python/1__numpy/D13_basic.tex\n"
     ]
    },
    {
     "name": "stdout",
     "output_type": "stream",
     "text": [
      "\\import{_src_EN/D__Scientific_Python/1__numpy}{D13_basic_content.tex}\n"
     ]
    },
    {
     "name": "stderr",
     "output_type": "stream",
     "text": [
      "[NbConvertApp] Converting notebook _src_EN/D__Scientific_Python/1__numpy/D14_random.ipynb to latex\n",
      "[NbConvertApp] Writing 27121 bytes to _src_EN/D__Scientific_Python/1__numpy/D14_random.tex\n"
     ]
    },
    {
     "name": "stdout",
     "output_type": "stream",
     "text": [
      "\\import{_src_EN/D__Scientific_Python/1__numpy}{D14_random_content.tex}\n"
     ]
    },
    {
     "name": "stderr",
     "output_type": "stream",
     "text": [
      "[NbConvertApp] Converting notebook _src_EN/D__Scientific_Python/1__numpy/D15_data_types.ipynb to latex\n",
      "[NbConvertApp] Writing 34445 bytes to _src_EN/D__Scientific_Python/1__numpy/D15_data_types.tex\n"
     ]
    },
    {
     "name": "stdout",
     "output_type": "stream",
     "text": [
      "\\import{_src_EN/D__Scientific_Python/1__numpy}{D15_data_types_content.tex}\n"
     ]
    },
    {
     "name": "stderr",
     "output_type": "stream",
     "text": [
      "[NbConvertApp] Converting notebook _src_EN/D__Scientific_Python/1__numpy/D11_introduction.ipynb to latex\n",
      "[NbConvertApp] Writing 20641 bytes to _src_EN/D__Scientific_Python/1__numpy/D11_introduction.tex\n"
     ]
    },
    {
     "name": "stdout",
     "output_type": "stream",
     "text": [
      "\\import{_src_EN/D__Scientific_Python/1__numpy}{D11_introduction_content.tex}\n"
     ]
    },
    {
     "name": "stderr",
     "output_type": "stream",
     "text": [
      "[NbConvertApp] Converting notebook _src_EN/E__Algorithmic_complexity/2__Profile_ones_code/E22_memory_usage.ipynb to latex\n",
      "[NbConvertApp] Writing 36126 bytes to _src_EN/E__Algorithmic_complexity/2__Profile_ones_code/E22_memory_usage.tex\n"
     ]
    },
    {
     "name": "stdout",
     "output_type": "stream",
     "text": [
      "\\import{_src_EN/E__Algorithmic_complexity/2__Profile_ones_code}{E22_memory_usage_content.tex}\n"
     ]
    },
    {
     "name": "stderr",
     "output_type": "stream",
     "text": [
      "[NbConvertApp] Converting notebook _src_EN/E__Algorithmic_complexity/2__Profile_ones_code/E21_time_complexity.ipynb to latex\n",
      "[NbConvertApp] Writing 28744 bytes to _src_EN/E__Algorithmic_complexity/2__Profile_ones_code/E21_time_complexity.tex\n"
     ]
    },
    {
     "name": "stdout",
     "output_type": "stream",
     "text": [
      "\\import{_src_EN/E__Algorithmic_complexity/2__Profile_ones_code}{E21_time_complexity_content.tex}\n"
     ]
    },
    {
     "name": "stderr",
     "output_type": "stream",
     "text": [
      "[NbConvertApp] Converting notebook _src_EN/E__Algorithmic_complexity/3__Simple_code_sped_up/E32_cache.ipynb to latex\n",
      "[NbConvertApp] Writing 28595 bytes to _src_EN/E__Algorithmic_complexity/3__Simple_code_sped_up/E32_cache.tex\n"
     ]
    },
    {
     "name": "stdout",
     "output_type": "stream",
     "text": [
      "\\import{_src_EN/E__Algorithmic_complexity/3__Simple_code_sped_up}{E32_cache_content.tex}\n"
     ]
    },
    {
     "name": "stderr",
     "output_type": "stream",
     "text": [
      "[NbConvertApp] Converting notebook _src_EN/E__Algorithmic_complexity/3__Simple_code_sped_up/E31_numpy.ipynb to latex\n",
      "[NbConvertApp] Support files will be in E31_numpy_files/\n",
      "[NbConvertApp] Making directory _src_EN/E__Algorithmic_complexity/3__Simple_code_sped_up/E31_numpy_files\n",
      "[NbConvertApp] Writing 25810 bytes to _src_EN/E__Algorithmic_complexity/3__Simple_code_sped_up/E31_numpy.tex\n"
     ]
    },
    {
     "name": "stdout",
     "output_type": "stream",
     "text": [
      "\\import{_src_EN/E__Algorithmic_complexity/3__Simple_code_sped_up}{E31_numpy_content.tex}\n"
     ]
    },
    {
     "name": "stderr",
     "output_type": "stream",
     "text": [
      "[NbConvertApp] Converting notebook _src_EN/E__Algorithmic_complexity/1__Estimate_problem_size/E12_typical_time_limitations.ipynb to latex\n",
      "[NbConvertApp] Writing 25256 bytes to _src_EN/E__Algorithmic_complexity/1__Estimate_problem_size/E12_typical_time_limitations.tex\n"
     ]
    },
    {
     "name": "stdout",
     "output_type": "stream",
     "text": [
      "\\import{_src_EN/E__Algorithmic_complexity/1__Estimate_problem_size}{E12_typical_time_limitations_content.tex}\n"
     ]
    },
    {
     "name": "stderr",
     "output_type": "stream",
     "text": [
      "[NbConvertApp] Converting notebook _src_EN/E__Algorithmic_complexity/1__Estimate_problem_size/E11_time_complexity_analysis.ipynb to latex\n",
      "[NbConvertApp] Writing 26327 bytes to _src_EN/E__Algorithmic_complexity/1__Estimate_problem_size/E11_time_complexity_analysis.tex\n"
     ]
    },
    {
     "name": "stdout",
     "output_type": "stream",
     "text": [
      "\\import{_src_EN/E__Algorithmic_complexity/1__Estimate_problem_size}{E11_time_complexity_analysis_content.tex}\n"
     ]
    },
    {
     "name": "stderr",
     "output_type": "stream",
     "text": [
      "[NbConvertApp] Converting notebook _src_EN/E__Algorithmic_complexity/4__Advanced_code_sped_up/E42_threading.ipynb to latex\n",
      "[NbConvertApp] Writing 38586 bytes to _src_EN/E__Algorithmic_complexity/4__Advanced_code_sped_up/E42_threading.tex\n"
     ]
    },
    {
     "name": "stdout",
     "output_type": "stream",
     "text": [
      "\\import{_src_EN/E__Algorithmic_complexity/4__Advanced_code_sped_up}{E42_threading_content.tex}\n"
     ]
    },
    {
     "name": "stderr",
     "output_type": "stream",
     "text": [
      "[NbConvertApp] Converting notebook _src_EN/E__Algorithmic_complexity/4__Advanced_code_sped_up/E43_multiprocessing.ipynb to latex\n",
      "[NbConvertApp] Support files will be in E43_multiprocessing_files/\n",
      "[NbConvertApp] Making directory _src_EN/E__Algorithmic_complexity/4__Advanced_code_sped_up/E43_multiprocessing_files\n",
      "[NbConvertApp] Writing 31656 bytes to _src_EN/E__Algorithmic_complexity/4__Advanced_code_sped_up/E43_multiprocessing.tex\n"
     ]
    },
    {
     "name": "stdout",
     "output_type": "stream",
     "text": [
      "\\import{_src_EN/E__Algorithmic_complexity/4__Advanced_code_sped_up}{E43_multiprocessing_content.tex}\n"
     ]
    },
    {
     "name": "stderr",
     "output_type": "stream",
     "text": [
      "[NbConvertApp] Converting notebook _src_EN/E__Algorithmic_complexity/4__Advanced_code_sped_up/E41_introduction.ipynb to latex\n",
      "[NbConvertApp] Writing 26066 bytes to _src_EN/E__Algorithmic_complexity/4__Advanced_code_sped_up/E41_introduction.tex\n"
     ]
    },
    {
     "name": "stdout",
     "output_type": "stream",
     "text": [
      "\\import{_src_EN/E__Algorithmic_complexity/4__Advanced_code_sped_up}{E41_introduction_content.tex}\n"
     ]
    },
    {
     "name": "stderr",
     "output_type": "stream",
     "text": [
      "[NbConvertApp] Converting notebook _src_EN/C__Share_ones_code/C1__Environments.ipynb to latex\n",
      "[NbConvertApp] Writing 26220 bytes to _src_EN/C__Share_ones_code/C1__Environments.tex\n"
     ]
    },
    {
     "name": "stdout",
     "output_type": "stream",
     "text": [
      "\\import{_src_EN/C__Share_ones_code}{C1__Environments_content.tex}\n"
     ]
    },
    {
     "name": "stderr",
     "output_type": "stream",
     "text": [
      "[NbConvertApp] Converting notebook _src_EN/C__Share_ones_code/2__Structuration/C21_Imports.ipynb to latex\n",
      "[NbConvertApp] Writing 26383 bytes to _src_EN/C__Share_ones_code/2__Structuration/C21_Imports.tex\n"
     ]
    },
    {
     "name": "stdout",
     "output_type": "stream",
     "text": [
      "\\import{_src_EN/C__Share_ones_code/2__Structuration}{C21_Imports_content.tex}\n"
     ]
    },
    {
     "name": "stderr",
     "output_type": "stream",
     "text": [
      "[NbConvertApp] Converting notebook _src_EN/C__Share_ones_code/2__Structuration/C22__Package_structuration/C22_Package_structuration.ipynb to latex\n",
      "[NbConvertApp] Writing 34689 bytes to _src_EN/C__Share_ones_code/2__Structuration/C22__Package_structuration/C22_Package_structuration.tex\n"
     ]
    },
    {
     "name": "stdout",
     "output_type": "stream",
     "text": [
      "\\import{_src_EN/C__Share_ones_code/2__Structuration/C22__Package_structuration}{C22_Package_structuration_content.tex}\n"
     ]
    },
    {
     "name": "stderr",
     "output_type": "stream",
     "text": [
      "[NbConvertApp] Converting notebook _src_EN/C__Share_ones_code/3__Documentation/C31_Documentation_writing.ipynb to latex\n",
      "[NbConvertApp] Writing 24258 bytes to _src_EN/C__Share_ones_code/3__Documentation/C31_Documentation_writing.tex\n"
     ]
    },
    {
     "name": "stdout",
     "output_type": "stream",
     "text": [
      "\\import{_src_EN/C__Share_ones_code/3__Documentation}{C31_Documentation_writing_content.tex}\n"
     ]
    },
    {
     "name": "stderr",
     "output_type": "stream",
     "text": [
      "[NbConvertApp] Converting notebook _src_EN/C__Share_ones_code/3__Documentation/C32_Documentation_generation.ipynb to latex\n",
      "[NbConvertApp] Writing 26247 bytes to _src_EN/C__Share_ones_code/3__Documentation/C32_Documentation_generation.tex\n"
     ]
    },
    {
     "name": "stdout",
     "output_type": "stream",
     "text": [
      "\\import{_src_EN/C__Share_ones_code/3__Documentation}{C32_Documentation_generation_content.tex}\n",
      "\\import{_src_EN/A__General_programming_knowledge/3__Development_steps}{A3_content.tex}\n",
      "\\import{_src_EN/A__General_programming_knowledge/1__Computer_basics}{A1_content.tex}\n",
      "\\import{_src_EN/A__General_programming_knowledge/2__Development_basics}{A2_content.tex}\n"
     ]
    },
    {
     "name": "stderr",
     "output_type": "stream",
     "text": [
      "[NbConvertApp] Converting notebook _src_EN/B__Best_of_Python/3__Handling_exceptions/B33_logging.ipynb to latex\n",
      "[NbConvertApp] Writing 31944 bytes to _src_EN/B__Best_of_Python/3__Handling_exceptions/B33_logging.tex\n"
     ]
    },
    {
     "name": "stdout",
     "output_type": "stream",
     "text": [
      "\\import{_src_EN/B__Best_of_Python/3__Handling_exceptions}{B33_logging_content.tex}\n"
     ]
    },
    {
     "name": "stderr",
     "output_type": "stream",
     "text": [
      "[NbConvertApp] Converting notebook _src_EN/B__Best_of_Python/3__Handling_exceptions/B31_exceptions.ipynb to latex\n",
      "[NbConvertApp] Writing 38103 bytes to _src_EN/B__Best_of_Python/3__Handling_exceptions/B31_exceptions.tex\n"
     ]
    },
    {
     "name": "stdout",
     "output_type": "stream",
     "text": [
      "\\import{_src_EN/B__Best_of_Python/3__Handling_exceptions}{B31_exceptions_content.tex}\n"
     ]
    },
    {
     "name": "stderr",
     "output_type": "stream",
     "text": [
      "[NbConvertApp] Converting notebook _src_EN/B__Best_of_Python/3__Handling_exceptions/B32_debugger/B32_debugger.ipynb to latex\n",
      "[NbConvertApp] Writing 24744 bytes to _src_EN/B__Best_of_Python/3__Handling_exceptions/B32_debugger/B32_debugger.tex\n"
     ]
    },
    {
     "name": "stdout",
     "output_type": "stream",
     "text": [
      "\\import{_src_EN/B__Best_of_Python/3__Handling_exceptions/B32_debugger}{B32_debugger_content.tex}\n"
     ]
    },
    {
     "name": "stderr",
     "output_type": "stream",
     "text": [
      "[NbConvertApp] Converting notebook _src_EN/B__Best_of_Python/1__Notebooks/B12_jupyter_markdown.ipynb to latex\n",
      "[NbConvertApp] Writing 26873 bytes to _src_EN/B__Best_of_Python/1__Notebooks/B12_jupyter_markdown.tex\n"
     ]
    },
    {
     "name": "stdout",
     "output_type": "stream",
     "text": [
      "\\import{_src_EN/B__Best_of_Python/1__Notebooks}{B12_jupyter_markdown_content.tex}\n"
     ]
    },
    {
     "name": "stderr",
     "output_type": "stream",
     "text": [
      "[NbConvertApp] Converting notebook _src_EN/B__Best_of_Python/1__Notebooks/B11_jupyter_code.ipynb to latex\n",
      "[NbConvertApp] Writing 25890 bytes to _src_EN/B__Best_of_Python/1__Notebooks/B11_jupyter_code.tex\n"
     ]
    },
    {
     "name": "stdout",
     "output_type": "stream",
     "text": [
      "\\import{_src_EN/B__Best_of_Python/1__Notebooks}{B11_jupyter_code_content.tex}\n"
     ]
    },
    {
     "name": "stderr",
     "output_type": "stream",
     "text": [
      "[NbConvertApp] Converting notebook _src_EN/B__Best_of_Python/2__Python_basics/B23_use_all_types.ipynb to latex\n",
      "[NbConvertApp] Writing 55736 bytes to _src_EN/B__Best_of_Python/2__Python_basics/B23_use_all_types.tex\n"
     ]
    },
    {
     "name": "stdout",
     "output_type": "stream",
     "text": [
      "\\import{_src_EN/B__Best_of_Python/2__Python_basics}{B23_use_all_types_content.tex}\n"
     ]
    },
    {
     "name": "stderr",
     "output_type": "stream",
     "text": [
      "[NbConvertApp] Converting notebook _src_EN/B__Best_of_Python/2__Python_basics/B27_decorators.ipynb to latex\n",
      "[NbConvertApp] Writing 32334 bytes to _src_EN/B__Best_of_Python/2__Python_basics/B27_decorators.tex\n"
     ]
    },
    {
     "name": "stdout",
     "output_type": "stream",
     "text": [
      "\\import{_src_EN/B__Best_of_Python/2__Python_basics}{B27_decorators_content.tex}\n"
     ]
    },
    {
     "name": "stderr",
     "output_type": "stream",
     "text": [
      "[NbConvertApp] Converting notebook _src_EN/B__Best_of_Python/2__Python_basics/B22_print_formatting.ipynb to latex\n",
      "[NbConvertApp] Writing 30810 bytes to _src_EN/B__Best_of_Python/2__Python_basics/B22_print_formatting.tex\n"
     ]
    },
    {
     "name": "stdout",
     "output_type": "stream",
     "text": [
      "\\import{_src_EN/B__Best_of_Python/2__Python_basics}{B22_print_formatting_content.tex}\n"
     ]
    },
    {
     "name": "stderr",
     "output_type": "stream",
     "text": [
      "[NbConvertApp] Converting notebook _src_EN/B__Best_of_Python/2__Python_basics/B26_OS_interactions.ipynb to latex\n",
      "[NbConvertApp] Writing 47354 bytes to _src_EN/B__Best_of_Python/2__Python_basics/B26_OS_interactions.tex\n"
     ]
    },
    {
     "name": "stdout",
     "output_type": "stream",
     "text": [
      "\\import{_src_EN/B__Best_of_Python/2__Python_basics}{B26_OS_interactions_content.tex}\n"
     ]
    },
    {
     "name": "stderr",
     "output_type": "stream",
     "text": [
      "[NbConvertApp] Converting notebook _src_EN/B__Best_of_Python/2__Python_basics/B25_function_signature.ipynb to latex\n",
      "[NbConvertApp] Writing 43418 bytes to _src_EN/B__Best_of_Python/2__Python_basics/B25_function_signature.tex\n"
     ]
    },
    {
     "name": "stdout",
     "output_type": "stream",
     "text": [
      "\\import{_src_EN/B__Best_of_Python/2__Python_basics}{B25_function_signature_content.tex}\n"
     ]
    },
    {
     "name": "stderr",
     "output_type": "stream",
     "text": [
      "[NbConvertApp] Converting notebook _src_EN/B__Best_of_Python/2__Python_basics/B28_date_time.ipynb to latex\n",
      "[NbConvertApp] Writing 39442 bytes to _src_EN/B__Best_of_Python/2__Python_basics/B28_date_time.tex\n"
     ]
    },
    {
     "name": "stdout",
     "output_type": "stream",
     "text": [
      "\\import{_src_EN/B__Best_of_Python/2__Python_basics}{B28_date_time_content.tex}\n"
     ]
    },
    {
     "name": "stderr",
     "output_type": "stream",
     "text": [
      "[NbConvertApp] Converting notebook _src_EN/B__Best_of_Python/2__Python_basics/B24_list_comprehensions.ipynb to latex\n",
      "[NbConvertApp] Writing 27986 bytes to _src_EN/B__Best_of_Python/2__Python_basics/B24_list_comprehensions.tex\n"
     ]
    },
    {
     "name": "stdout",
     "output_type": "stream",
     "text": [
      "\\import{_src_EN/B__Best_of_Python/2__Python_basics}{B24_list_comprehensions_content.tex}\n"
     ]
    },
    {
     "name": "stderr",
     "output_type": "stream",
     "text": [
      "[NbConvertApp] Converting notebook _src_EN/B__Best_of_Python/2__Python_basics/B21_control_flow.ipynb to latex\n"
     ]
    },
    {
     "name": "stdout",
     "output_type": "stream",
     "text": [
      "\\import{_src_EN/B__Best_of_Python/2__Python_basics}{B21_control_flow_content.tex}\n"
     ]
    },
    {
     "name": "stderr",
     "output_type": "stream",
     "text": [
      "[NbConvertApp] Writing 34397 bytes to _src_EN/B__Best_of_Python/2__Python_basics/B21_control_flow.tex\n"
     ]
    }
   ],
   "source": [
    "\n",
    "from shutil import copytree, rmtree\n",
    "from pathlib import Path\n",
    "from os import walk\n",
    "from os.path import splitext\n",
    "from subprocess import run\n",
    "import re\n",
    "\n",
    "processed = []\n",
    "\n",
    "def content_extractor(input_tex_content, current_dir, name, ext):    \n",
    "    content_output = f'{current_dir}/{name}_content.tex'\n",
    "    preamble_output = f'{current_dir}/{name}_preamble.tex'\n",
    "    processed.extend([content_output, preamble_output])\n",
    "\n",
    "\n",
    "    input_tex_content = ''.join(input_tex_content)\n",
    "    preamble, content = input_tex_content.split(r'\\begin{document}')\n",
    "    content, _ = content.split(r'\\end{document}')\n",
    "    \n",
    "    # remove '\\maketitle'\n",
    "    content = content.replace('\\maketitle', '\\n')\n",
    "    \n",
    "    # add line before picture insertion\n",
    "    content = content.replace('\\includegraphics', '\\n\\n\\includegraphics')\n",
    "    \n",
    "    content = '\\n' + content + '\\n'\n",
    "    print('\\import{', current_dir, '}{', name, '_content.tex', '}', sep='')\n",
    "\n",
    "    with open(content_output, 'w') as f:\n",
    "        f.write(content)\n",
    "\n",
    "    with open(preamble_output, 'w') as f:\n",
    "        f.write(preamble)\n",
    "\n",
    "\n",
    "source = Path('../src_EN')\n",
    "destination = Path('_src_EN')\n",
    "\n",
    "if destination.exists():\n",
    "    rmtree(destination)\n",
    "\n",
    "copytree(source, destination)\n",
    "\n",
    "to_exclude = ['my_package.tex']\n",
    "pattern = '.*(A__|B__|C__|D__|E__).*'\n",
    "\n",
    "from subprocess import run\n",
    "for current_dir, subdirs, files in walk(destination):\n",
    "    if re.match(pattern, current_dir):\n",
    "        for file_name in files:\n",
    "            if (file_name not in to_exclude) \\\n",
    "            and (not file_name.endswith('EX-COR.ipynb')) \\\n",
    "            and (not file_name.endswith('EX.ipynb')) \\\n",
    "            and ('.ipynb_checkpoints' not in current_dir):\n",
    "                do = False\n",
    "                name, ext = splitext(file_name)\n",
    "                if (ext=='.ipynb') and ('.ipynb_checkpoints' not in current_dir):\n",
    "                    run(f\"jupyter nbconvert --to latex \\\"{current_dir}/{file_name}\\\"\", shell=True)\n",
    "                    do = True\n",
    "                if (ext=='.tex') and (file_name not in processed):\n",
    "                    do = True\n",
    "                if do: \n",
    "                    with open(f'{current_dir}/{name}.tex', 'r') as f:\n",
    "                        body = f.readlines()\n",
    "                        body = ''.join(body)               \n",
    "                    content_extractor(body, current_dir, name, ext)\n"
   ]
  },
  {
   "cell_type": "code",
   "execution_count": null,
   "id": "b4bda2e7-5906-4de2-bc4c-5f5b9fffce7d",
   "metadata": {
    "editable": true,
    "slideshow": {
     "slide_type": ""
    },
    "tags": []
   },
   "outputs": [],
   "source": []
  }
 ],
 "metadata": {
  "kernelspec": {
   "display_name": "Python 3 (ipykernel)",
   "language": "python",
   "name": "python3"
  },
  "language_info": {
   "codemirror_mode": {
    "name": "ipython",
    "version": 3
   },
   "file_extension": ".py",
   "mimetype": "text/x-python",
   "name": "python",
   "nbconvert_exporter": "python",
   "pygments_lexer": "ipython3",
   "version": "3.12.3"
  }
 },
 "nbformat": 4,
 "nbformat_minor": 5
}
