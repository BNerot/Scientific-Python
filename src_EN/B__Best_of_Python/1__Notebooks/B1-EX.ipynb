{
 "cells": [
  {
   "cell_type": "markdown",
   "id": "28b5a712-cc12-4f8c-9c69-6dffea78aa39",
   "metadata": {
    "editable": true,
    "slideshow": {
     "slide_type": "slide"
    },
    "tags": []
   },
   "source": [
    "## Obtain the following results using _markdown_ and Python code"
   ]
  },
  {
   "cell_type": "markdown",
   "id": "11ca551a-239e-4cdc-bc6c-0ed755d0ad38",
   "metadata": {
    "editable": true,
    "slideshow": {
     "slide_type": "slide"
    },
    "tags": []
   },
   "source": [
    "## Part 1\n",
    "\n",
    "This is a simple demonstration of the `Python` language:"
   ]
  },
  {
   "cell_type": "code",
   "execution_count": 11,
   "id": "6bc39c93-f41d-4a50-9157-86665581cbcc",
   "metadata": {
    "editable": true,
    "slideshow": {
     "slide_type": ""
    },
    "tags": []
   },
   "outputs": [
    {
     "name": "stdout",
     "output_type": "stream",
     "text": [
      "5\n"
     ]
    }
   ],
   "source": [
    "a = 5\n",
    "b = 6\n",
    "print(a)"
   ]
  },
  {
   "cell_type": "markdown",
   "id": "6348a511-23cf-4c02-a221-24f02a11d85e",
   "metadata": {
    "editable": true,
    "slideshow": {
     "slide_type": ""
    },
    "tags": []
   },
   "source": [
    "We can do:\n",
    "\n",
    "$$ c = a ^ {b} $$"
   ]
  },
  {
   "cell_type": "code",
   "execution_count": 12,
   "id": "97566113-518e-4e9a-a022-0d8848e5a561",
   "metadata": {
    "editable": true,
    "slideshow": {
     "slide_type": ""
    },
    "tags": []
   },
   "outputs": [
    {
     "data": {
      "text/plain": [
       "15625"
      ]
     },
     "execution_count": 12,
     "metadata": {},
     "output_type": "execute_result"
    }
   ],
   "source": [
    "c = a ** b\n",
    "c"
   ]
  },
  {
   "cell_type": "markdown",
   "id": "a14b9c18-8f55-4b25-b09e-52823f96d8f2",
   "metadata": {
    "editable": true,
    "slideshow": {
     "slide_type": "slide"
    },
    "tags": []
   },
   "source": [
    "## Part 2\n",
    "\n",
    "And then modify the **b variable** and check for changes in `c`: "
   ]
  },
  {
   "cell_type": "code",
   "execution_count": 13,
   "id": "df8570bd-f865-4351-a7bb-4cf9d039fc02",
   "metadata": {
    "editable": true,
    "slideshow": {
     "slide_type": ""
    },
    "tags": []
   },
   "outputs": [
    {
     "data": {
      "text/plain": [
       "15625"
      ]
     },
     "execution_count": 13,
     "metadata": {},
     "output_type": "execute_result"
    }
   ],
   "source": [
    "b = 8\n",
    "c"
   ]
  },
  {
   "cell_type": "markdown",
   "id": "e2f8e1e8-6254-4f53-8c3c-b6672c457c8c",
   "metadata": {
    "editable": true,
    "slideshow": {
     "slide_type": ""
    },
    "tags": []
   },
   "source": [
    "Nothing changed!"
   ]
  },
  {
   "cell_type": "markdown",
   "id": "0b8f15f6-e80b-4c4e-823b-b781f3c92c5d",
   "metadata": {
    "editable": true,
    "slideshow": {
     "slide_type": "slide"
    },
    "tags": []
   },
   "source": [
    "## Part 3\n",
    "\n",
    " A better idea is to define a function:"
   ]
  },
  {
   "cell_type": "code",
   "execution_count": 16,
   "id": "a2fecdf2-a4df-4f17-81ec-43b48e35c7fa",
   "metadata": {
    "editable": true,
    "slideshow": {
     "slide_type": ""
    },
    "tags": []
   },
   "outputs": [
    {
     "name": "stdout",
     "output_type": "stream",
     "text": [
      "'a'=5 and 'b'=8\n"
     ]
    },
    {
     "data": {
      "text/plain": [
       "390625"
      ]
     },
     "execution_count": 16,
     "metadata": {},
     "output_type": "execute_result"
    }
   ],
   "source": [
    "def f(a, b):\n",
    "    print(f\"'a'={a} and 'b'={b}\")\n",
    "    return a**b\n",
    "\n",
    "f(a, b)"
   ]
  },
  {
   "cell_type": "markdown",
   "id": "d565e4cf-26f1-4099-804a-deec5af625c9",
   "metadata": {
    "editable": true,
    "slideshow": {
     "slide_type": ""
    },
    "tags": []
   },
   "source": [
    "Perfect ! \n",
    "\n",
    "- a function was defined...\n",
    "- ... and changes in `c` were taken into account"
   ]
  }
 ],
 "metadata": {
  "kernelspec": {
   "display_name": "Python 3 (ipykernel)",
   "language": "python",
   "name": "python3"
  },
  "language_info": {
   "codemirror_mode": {
    "name": "ipython",
    "version": 3
   },
   "file_extension": ".py",
   "mimetype": "text/x-python",
   "name": "python",
   "nbconvert_exporter": "python",
   "pygments_lexer": "ipython3",
   "version": "3.12.3"
  }
 },
 "nbformat": 4,
 "nbformat_minor": 5
}
