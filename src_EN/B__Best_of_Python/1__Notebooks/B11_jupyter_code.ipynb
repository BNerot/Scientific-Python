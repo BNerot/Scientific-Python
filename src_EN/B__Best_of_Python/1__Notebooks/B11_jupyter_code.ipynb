{
 "cells": [
  {
   "cell_type": "markdown",
   "id": "6ae02139",
   "metadata": {
    "editable": true,
    "slideshow": {
     "slide_type": "slide"
    },
    "tags": []
   },
   "source": [
    "## Presentation"
   ]
  },
  {
   "cell_type": "markdown",
   "id": "c2fe593e",
   "metadata": {},
   "source": [
    "A __notebook__ is a sort of interactive Python console where the code is contained within __cells__. each celle can be ran alone, but the memory (i.e. variables) is shared by all cells. \n",
    "\n",
    "Output of each cell is printed below the cell. By default, the last evaluated statement of the cell is an output.\n",
    "\n",
    "There are several pros of using **notebooks** at a development step:\n",
    "\n",
    "- split heavy computation into small units that make sense\n",
    "- access easily to variable values\n",
    "- describe the scientific flow of your program using *markdown* (discussed hereafter)"
   ]
  },
  {
   "cell_type": "markdown",
   "id": "59a2fbb6",
   "metadata": {
    "editable": true,
    "slideshow": {
     "slide_type": "slide"
    },
    "tags": []
   },
   "source": [
    "## Howto"
   ]
  },
  {
   "cell_type": "code",
   "execution_count": null,
   "id": "5826c8a3",
   "metadata": {},
   "outputs": [],
   "source": [
    "area = 100\n",
    "speed = 30\n",
    "\n",
    "print(area, speed)"
   ]
  },
  {
   "cell_type": "code",
   "execution_count": 6,
   "id": "53904093",
   "metadata": {},
   "outputs": [
    {
     "name": "stdout",
     "output_type": "stream",
     "text": [
      "3000\n"
     ]
    }
   ],
   "source": [
    "flowrate = area * speed\n",
    "print(flowrate)"
   ]
  },
  {
   "cell_type": "markdown",
   "id": "4eda99d1",
   "metadata": {
    "editable": true,
    "slideshow": {
     "slide_type": ""
    },
    "tags": []
   },
   "source": [
    "Above: `flowrate` is displayed as `print` is used.\n",
    "\n",
    "Below: `flowrate` is returned, and thus displayed, as it is the last statement of the cell"
   ]
  },
  {
   "cell_type": "code",
   "execution_count": 7,
   "id": "123f2ba0",
   "metadata": {},
   "outputs": [
    {
     "data": {
      "text/plain": [
       "3000"
      ]
     },
     "execution_count": 7,
     "metadata": {},
     "output_type": "execute_result"
    }
   ],
   "source": [
    "flowrate"
   ]
  },
  {
   "cell_type": "markdown",
   "id": "18c9a9da",
   "metadata": {
    "editable": true,
    "slideshow": {
     "slide_type": "slide"
    },
    "tags": []
   },
   "source": [
    "One can run nearly every Python code in a __notebook__:\n",
    "\n",
    "\n",
    "- in script mode: global variables declared directly in any cell \n",
    "- in function mode: functions are defined and called later on\n",
    "- in object oriented mode: class and methods are defined\n"
   ]
  },
  {
   "cell_type": "code",
   "execution_count": 8,
   "id": "6b3c27a8",
   "metadata": {},
   "outputs": [
    {
     "data": {
      "text/plain": [
       "30000"
      ]
     },
     "execution_count": 8,
     "metadata": {},
     "output_type": "execute_result"
    }
   ],
   "source": [
    "def compute_flowrate(area, speed):\n",
    "    return area * speed\n",
    "compute_flowrate(1000, 30)"
   ]
  },
  {
   "cell_type": "code",
   "execution_count": 9,
   "id": "968ae20f",
   "metadata": {
    "editable": true,
    "slideshow": {
     "slide_type": "slide"
    },
    "tags": []
   },
   "outputs": [
    {
     "data": {
      "text/plain": [
       "Instance 'Flowrate' with value: 3000"
      ]
     },
     "execution_count": 9,
     "metadata": {},
     "output_type": "execute_result"
    }
   ],
   "source": [
    "class Flowrate():\n",
    "    def __init__(self, area, speed):\n",
    "        self._area = area\n",
    "        self._speed = speed\n",
    "        self.compute()\n",
    "    \n",
    "    def compute(self):\n",
    "        self._flowrate =  self._area * self._speed\n",
    "        \n",
    "    def __repr__(self):\n",
    "        return f\"Instance 'Flowrate' with value: {self._flowrate:d}\"\n",
    "        \n",
    "Flowrate(100, 30)"
   ]
  },
  {
   "cell_type": "markdown",
   "id": "2e573eef",
   "metadata": {
    "editable": true,
    "slideshow": {
     "slide_type": "slide"
    },
    "tags": []
   },
   "source": [
    "Note: during the execution of a cell:\n",
    "\n",
    "\n",
    "- the cell itself shows an asterisk **\\[\\*\\]**\n",
    "- the black circle on the right hand side of the page is colored with black\n"
   ]
  },
  {
   "cell_type": "markdown",
   "id": "ec01bfc6",
   "metadata": {
    "editable": true,
    "slideshow": {
     "slide_type": "slide"
    },
    "tags": []
   },
   "source": [
    "## Configuration"
   ]
  },
  {
   "cell_type": "markdown",
   "id": "7f23566c",
   "metadata": {
    "editable": true,
    "slideshow": {
     "slide_type": ""
    },
    "tags": []
   },
   "source": [
    "### Files"
   ]
  },
  {
   "cell_type": "markdown",
   "id": "d72060b4",
   "metadata": {
    "editable": true,
    "slideshow": {
     "slide_type": ""
    },
    "tags": []
   },
   "source": [
    "**notebooks** files have an extension *.ipynb*: these files cannot be manually read (JSON format) and cannot be ran the same way a Python file (*.py*) is ran. Yet, most IDE have a support plugin for these files."
   ]
  },
  {
   "cell_type": "markdown",
   "id": "111cd21d",
   "metadata": {},
   "source": [
    "### Kernel"
   ]
  },
  {
   "cell_type": "markdown",
   "id": "5a882645",
   "metadata": {},
   "source": [
    "The *Python* version used by the **notebook** depends either on the environment it is running in or on the configuration of the system. If several Python versions are available, one can choose which to use in the notebook by going to Kernel > Change kernel. The *nb_conda* plugins facilitates the discovery of existing *conda* environments.\n",
    "\n",
    "Other **kernels** can be installed to code in other languages ([full list](https://github.com/jupyter/jupyter/wiki/Jupyter-kernels)).\n"
   ]
  },
  {
   "cell_type": "markdown",
   "id": "ca6188ca",
   "metadata": {
    "editable": true,
    "slideshow": {
     "slide_type": ""
    },
    "tags": []
   },
   "source": [
    "Some helper functionalitiesin the development process are not natively available in a **notebook**:\n",
    "\n",
    "Some of them are available using *plugins*. \n"
   ]
  }
 ],
 "metadata": {
  "kernelspec": {
   "display_name": "Python 3 (ipykernel)",
   "language": "python",
   "name": "python3"
  },
  "language_info": {
   "codemirror_mode": {
    "name": "ipython",
    "version": 3
   },
   "file_extension": ".py",
   "mimetype": "text/x-python",
   "name": "python",
   "nbconvert_exporter": "python",
   "pygments_lexer": "ipython3",
   "version": "3.12.3"
  }
 },
 "nbformat": 4,
 "nbformat_minor": 5
}
