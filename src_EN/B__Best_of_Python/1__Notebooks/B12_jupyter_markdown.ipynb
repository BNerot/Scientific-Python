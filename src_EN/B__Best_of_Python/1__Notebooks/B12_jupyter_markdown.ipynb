{
 "cells": [
  {
   "cell_type": "markdown",
   "id": "629e04c1",
   "metadata": {
    "editable": true,
    "slideshow": {
     "slide_type": "slide"
    },
    "tags": []
   },
   "source": [
    "## Introduction"
   ]
  },
  {
   "cell_type": "markdown",
   "id": "0aec7627",
   "metadata": {
    "editable": true,
    "slideshow": {
     "slide_type": ""
    },
    "tags": []
   },
   "source": [
    "A notebook cell can also contained text formatted in **markdown**. **markdown** is a language that makes it easy to structure a text. **markdown** has fewer features than *html* or *Latex* yet it is very adapted to a scientific context."
   ]
  },
  {
   "cell_type": "markdown",
   "id": "bcd42ade",
   "metadata": {
    "editable": true,
    "slideshow": {
     "slide_type": ""
    },
    "tags": []
   },
   "source": [
    "*markdown* benefits from a large community. A documentation [lies here](https://www.markdownguide.org/). "
   ]
  },
  {
   "cell_type": "markdown",
   "id": "51713e1f",
   "metadata": {
    "editable": true,
    "slideshow": {
     "slide_type": "slide"
    },
    "tags": []
   },
   "source": [
    "## Main functionalities"
   ]
  },
  {
   "cell_type": "markdown",
   "id": "80a774d9-72f3-49ed-9d92-f7b7d947a2b8",
   "metadata": {
    "editable": true,
    "raw_mimetype": "",
    "slideshow": {
     "slide_type": ""
    },
    "tags": []
   },
   "source": [
    "A new line is inserted only if a blank line is added: line 1\n",
    "    \n",
    "line 2"
   ]
  },
  {
   "cell_type": "markdown",
   "id": "bf6b45c7",
   "metadata": {
    "editable": true,
    "slideshow": {
     "slide_type": ""
    },
    "tags": []
   },
   "source": [
    "A new line is inserted only if a blank line is added: line 1\n",
    "\n",
    "line 2"
   ]
  },
  {
   "cell_type": "markdown",
   "id": "77e93881-6557-4e59-895c-911fc5effdba",
   "metadata": {
    "editable": true,
    "raw_mimetype": "",
    "slideshow": {
     "slide_type": ""
    },
    "tags": []
   },
   "source": [
    "**bold** and *italic*\n",
    "\n",
    "Same with: __bold__ and _italic_"
   ]
  },
  {
   "cell_type": "markdown",
   "id": "6a4bdb82",
   "metadata": {
    "editable": true,
    "slideshow": {
     "slide_type": ""
    },
    "tags": []
   },
   "source": [
    "**bold** and *italic*\n",
    "\n",
    "Same with: __bold__ and _italic_"
   ]
  },
  {
   "cell_type": "markdown",
   "id": "1c00f658-c7e5-480e-b687-a1645ca3a390",
   "metadata": {
    "editable": true,
    "raw_mimetype": "",
    "slideshow": {
     "slide_type": "slide"
    },
    "tags": []
   },
   "source": [
    "Items list:\n",
    "\n",
    "- item 1\n",
    "- item 2\n"
   ]
  },
  {
   "cell_type": "markdown",
   "id": "507a85f1",
   "metadata": {
    "editable": true,
    "slideshow": {
     "slide_type": ""
    },
    "tags": []
   },
   "source": [
    "Items list:\n",
    "\n",
    "- item 1\n",
    "- item 2\n"
   ]
  },
  {
   "cell_type": "code",
   "execution_count": null,
   "id": "1b618912-5dd1-4be5-b845-262324a8cce0",
   "metadata": {
    "editable": true,
    "raw_mimetype": "",
    "slideshow": {
     "slide_type": "slide"
    },
    "tags": [
     "no_run"
    ]
   },
   "outputs": [],
   "source": [
    "Numbered list:\n",
    "\n",
    "1. item 1\n",
    "2. item 2    \n",
    "3. item 3"
   ]
  },
  {
   "cell_type": "markdown",
   "id": "d1b807ad",
   "metadata": {
    "editable": true,
    "slideshow": {
     "slide_type": ""
    },
    "tags": []
   },
   "source": [
    "Numbered list:\n",
    "\n",
    "1. item 1\n",
    "2. item 2    \n",
    "3. item 3"
   ]
  },
  {
   "cell_type": "code",
   "execution_count": null,
   "id": "073f0b4f-c4fb-4daf-8050-88ce9eb38214",
   "metadata": {
    "editable": true,
    "raw_mimetype": "",
    "slideshow": {
     "slide_type": "slide"
    },
    "tags": [
     "no_run"
    ]
   },
   "outputs": [],
   "source": [
    "titles:\n",
    "# Level 1\n",
    "## Level 2\n",
    "### Level 3\n",
    "#### Etc..."
   ]
  },
  {
   "cell_type": "markdown",
   "id": "d4f9eb0f",
   "metadata": {},
   "source": [
    "![.](figures/titres.png)"
   ]
  },
  {
   "cell_type": "code",
   "execution_count": null,
   "id": "4a8ea650-fbb9-4253-86b4-31e8a5793338",
   "metadata": {
    "editable": true,
    "raw_mimetype": "",
    "slideshow": {
     "slide_type": "slide"
    },
    "tags": [
     "no_run"
    ]
   },
   "outputs": [],
   "source": [
    "URL: [search engine](www.google.fr)"
   ]
  },
  {
   "cell_type": "markdown",
   "id": "b8276a4b",
   "metadata": {},
   "source": [
    "URL: [search engine](www.google.fr)"
   ]
  },
  {
   "cell_type": "code",
   "execution_count": null,
   "id": "ed5cbe1f-57a0-450f-9984-1e54c256f489",
   "metadata": {
    "editable": true,
    "raw_mimetype": "",
    "slideshow": {
     "slide_type": ""
    },
    "tags": [
     "no_run"
    ]
   },
   "outputs": [],
   "source": [
    "Image:  ![some elephants](figures/elephants.png)"
   ]
  },
  {
   "cell_type": "markdown",
   "id": "51cea2eb",
   "metadata": {},
   "source": [
    "Image:  ![some elephants](figures/elephants__.png)"
   ]
  },
  {
   "cell_type": "code",
   "execution_count": null,
   "id": "64ffe8f9-b79b-402f-bdd6-87e436da94b1",
   "metadata": {
    "editable": true,
    "raw_mimetype": "",
    "slideshow": {
     "slide_type": "slide"
    },
    "tags": [
     "no_run"
    ]
   },
   "outputs": [],
   "source": [
    "Reference to a software component, for instance the `matplotlib` library."
   ]
  },
  {
   "cell_type": "markdown",
   "id": "8e114386",
   "metadata": {},
   "source": [
    "Reference to a software component, for instance the `matplotlib` library."
   ]
  },
  {
   "cell_type": "code",
   "execution_count": null,
   "id": "f63d96ed-32cf-46a3-9d74-939dd25d74bf",
   "metadata": {
    "editable": true,
    "raw_mimetype": "",
    "slideshow": {
     "slide_type": ""
    },
    "tags": [
     "no_run"
    ]
   },
   "outputs": [],
   "source": [
    "Mathematical formulas are (mainly) written using the Latex commands :\n",
    "    \n",
    "- In-line mode: $a_{3,4}=\\sum_{j}{b^{j}_{3}\\times c^{j}_{4}}$\n",
    "\n",
    "- Block mode:\n",
    "  $$ a_{3,4}=\\sum_{j}{b^{j}_{3}\\times c^{j}_{4}} $$"
   ]
  },
  {
   "cell_type": "markdown",
   "id": "48c44607",
   "metadata": {},
   "source": [
    "Mathematical formulas are (mainly) written using the Latex commands :\n",
    "    \n",
    "- In-line mode: $a_{3,4}=\\sum_{j}{b^{j}_{3}\\times c^{j}_{4}}$\n",
    "\n",
    "- Block mode:\n",
    "  $$ a_{3,4}=\\sum_{j}{b^{j}_{3}\\times c^{j}_{4}} $$"
   ]
  },
  {
   "cell_type": "markdown",
   "id": "79dce96f",
   "metadata": {
    "editable": true,
    "slideshow": {
     "slide_type": "slide"
    },
    "tags": []
   },
   "source": [
    "## Make the best of markdown"
   ]
  },
  {
   "cell_type": "markdown",
   "id": "792ce962",
   "metadata": {
    "editable": true,
    "slideshow": {
     "slide_type": ""
    },
    "tags": []
   },
   "source": [
    "One can combine in the same **notebook** some cells of **markdown** and some cells of code. In a ascientific approach, it is useful to give short explanations regarding what is computed.\n",
    "\n",
    "\n"
   ]
  },
  {
   "cell_type": "markdown",
   "id": "3ef5db2d-1b77-4f7c-9555-bfccc626b569",
   "metadata": {
    "editable": true,
    "slideshow": {
     "slide_type": "slide"
    },
    "tags": []
   },
   "source": [
    "For instance:"
   ]
  },
  {
   "cell_type": "markdown",
   "id": "68cbbf0c",
   "metadata": {
    "editable": true,
    "slideshow": {
     "slide_type": ""
    },
    "tags": []
   },
   "source": [
    "\"[...] after the fit I compute the quadratic error: \n",
    "\n",
    "$$ \\epsilon = \\sum_{i}{(\\hat{y}_{i}-\\bar{y}_{i})^{2}} $$ \""
   ]
  },
  {
   "cell_type": "code",
   "execution_count": 1,
   "id": "d82b0c96",
   "metadata": {
    "editable": true,
    "slideshow": {
     "slide_type": ""
    },
    "tags": [
     "no_run"
    ]
   },
   "outputs": [
    {
     "data": {
      "text/plain": [
       "8.75"
      ]
     },
     "execution_count": 1,
     "metadata": {},
     "output_type": "execute_result"
    }
   ],
   "source": [
    "from numpy import sum, array\n",
    "\n",
    "def sum_square(y_predicted, y_mean):\n",
    "    return sum((y_predicted - y_mean)**2)\n",
    "\n",
    "y_predicted = array([1,2,3])\n",
    "sum_square(y_predicted, 0.5)"
   ]
  },
  {
   "cell_type": "markdown",
   "id": "a50fd8f1",
   "metadata": {
    "editable": true,
    "slideshow": {
     "slide_type": ""
    },
    "tags": []
   },
   "source": [
    "__One can easily convert a notebook into a Latex or PDF file. This is very handy to produce a scientific report where code has a major importance.__"
   ]
  },
  {
   "cell_type": "markdown",
   "id": "6df51dac",
   "metadata": {
    "editable": true,
    "slideshow": {
     "slide_type": "slide"
    },
    "tags": []
   },
   "source": [
    "## See also\n",
    "**markdown** is one out of many languages of a similar type: the **markup languages**. \n",
    "\n",
    "An interesting library is `pandoc` ([doc](https://pandoc.org/)): it converts content from a markup language to another. "
   ]
  }
 ],
 "metadata": {
  "kernelspec": {
   "display_name": "Python 3 (ipykernel)",
   "language": "python",
   "name": "python3"
  },
  "language_info": {
   "codemirror_mode": {
    "name": "ipython",
    "version": 3
   },
   "file_extension": ".py",
   "mimetype": "text/x-python",
   "name": "python",
   "nbconvert_exporter": "python",
   "pygments_lexer": "ipython3",
   "version": "3.12.3"
  }
 },
 "nbformat": 4,
 "nbformat_minor": 5
}
