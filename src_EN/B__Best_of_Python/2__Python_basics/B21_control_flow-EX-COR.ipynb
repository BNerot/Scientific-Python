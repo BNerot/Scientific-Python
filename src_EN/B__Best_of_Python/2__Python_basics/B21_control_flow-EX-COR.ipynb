{
 "cells": [
  {
   "cell_type": "markdown",
   "id": "025e1971",
   "metadata": {},
   "source": [
    "# Simple\n"
   ]
  },
  {
   "cell_type": "code",
   "execution_count": 6,
   "id": "e857e57e",
   "metadata": {},
   "outputs": [
    {
     "name": "stdout",
     "output_type": "stream",
     "text": [
      "21 10899\n"
     ]
    }
   ],
   "source": [
    "n = 0\n",
    "res = n**3 - n*22 + 100 * n\n",
    "while res < 10000:\n",
    "    n += 1\n",
    "    res = n**3 - n*22 + 100 * n\n",
    "\n",
    "print(n, res)"
   ]
  },
  {
   "cell_type": "markdown",
   "id": "57b4886f",
   "metadata": {},
   "source": [
    "# Advanced"
   ]
  },
  {
   "cell_type": "code",
   "execution_count": null,
   "id": "cb9e35ee",
   "metadata": {},
   "outputs": [],
   "source": [
    "for k in range(101):\n",
    "    for j in range(101):\n",
    "        lower_bound = max(k**2 - j + 1, 0)\n",
    "        for i in range(lower_bound, 101):\n",
    "            if i ** 2 >= 200:\n",
    "                break\n",
    "            print(i, j, k)"
   ]
  }
 ],
 "metadata": {
  "kernelspec": {
   "display_name": "Python 3 (ipykernel)",
   "language": "python",
   "name": "python3"
  },
  "language_info": {
   "codemirror_mode": {
    "name": "ipython",
    "version": 3
   },
   "file_extension": ".py",
   "mimetype": "text/x-python",
   "name": "python",
   "nbconvert_exporter": "python",
   "pygments_lexer": "ipython3",
   "version": "3.10.12"
  }
 },
 "nbformat": 4,
 "nbformat_minor": 5
}
