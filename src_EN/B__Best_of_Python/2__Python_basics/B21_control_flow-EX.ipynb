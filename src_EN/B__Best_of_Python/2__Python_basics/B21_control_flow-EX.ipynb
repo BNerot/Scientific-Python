{
 "cells": [
  {
   "cell_type": "markdown",
   "id": "81be85d4",
   "metadata": {},
   "source": [
    "# Simple\n",
    "\n",
    "Find the biggest positive integer $n$ that satisfies:\n",
    "\n",
    "$$ n^3 - n^2 + 100 n < 10000 $$"
   ]
  },
  {
   "cell_type": "markdown",
   "id": "10c4a05c",
   "metadata": {},
   "source": [
    "# Advanced\n",
    "\n",
    "Build all the 3-tuple $(i, j, k)$ that satisfy:\n",
    "\n",
    "- $i, j, k$ positive integers, smaller than 100\n",
    "- $i + j > k^2$\n",
    "- $i^2 < 200$"
   ]
  },
  {
   "cell_type": "code",
   "execution_count": null,
   "id": "838dc9d4",
   "metadata": {},
   "outputs": [],
   "source": []
  }
 ],
 "metadata": {
  "kernelspec": {
   "display_name": "Python 3 (ipykernel)",
   "language": "python",
   "name": "python3"
  },
  "language_info": {
   "codemirror_mode": {
    "name": "ipython",
    "version": 3
   },
   "file_extension": ".py",
   "mimetype": "text/x-python",
   "name": "python",
   "nbconvert_exporter": "python",
   "pygments_lexer": "ipython3",
   "version": "3.10.12"
  }
 },
 "nbformat": 4,
 "nbformat_minor": 5
}
