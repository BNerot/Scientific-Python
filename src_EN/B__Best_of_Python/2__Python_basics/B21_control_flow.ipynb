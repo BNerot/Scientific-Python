{
 "cells": [
  {
   "cell_type": "markdown",
   "id": "f3b6d7da",
   "metadata": {},
   "source": [
    "## `while` loop\n",
    "\n",
    "Code runs while a condition holds True."
   ]
  },
  {
   "cell_type": "code",
   "execution_count": 1,
   "id": "8e873c31",
   "metadata": {
    "scrolled": true
   },
   "outputs": [
    {
     "name": "stdout",
     "output_type": "stream",
     "text": [
      "i=10, j=0\n",
      "i=9 , j=1\n",
      "i=8 , j=2\n",
      "i=7 , j=3\n",
      "i=6 , j=4\n"
     ]
    }
   ],
   "source": [
    "i = 10\n",
    "j = 0\n",
    "while (j<5) or (i>6):\n",
    "    print(f\"i={i:<2}, j={j}\")\n",
    "    j += 1\n",
    "    i -= 1"
   ]
  },
  {
   "cell_type": "markdown",
   "id": "790d3074",
   "metadata": {},
   "source": [
    "Operators `any` and `all` are used to process iterables of boolean values:\n",
    "\n",
    "- `any` returns `True` when at least one value is `True`\n",
    "- `all` returns `True` when all values are `True`\n",
    "\n",
    "note: if `any` returns `True` then `all` returns also `True`."
   ]
  },
  {
   "cell_type": "code",
   "execution_count": 2,
   "id": "e75d9aa0",
   "metadata": {},
   "outputs": [
    {
     "name": "stdout",
     "output_type": "stream",
     "text": [
      "True\n",
      "False\n"
     ]
    }
   ],
   "source": [
    "data = [1, 2, 3, 4, 5]\n",
    "data_cond = [e > 3 for e in data]\n",
    "print(any(data_cond))\n",
    "print(all(data_cond))"
   ]
  },
  {
   "cell_type": "code",
   "execution_count": 3,
   "id": "386ccbf1",
   "metadata": {},
   "outputs": [
    {
     "name": "stdout",
     "output_type": "stream",
     "text": [
      "True\n",
      "True\n"
     ]
    }
   ],
   "source": [
    "data = [1, 2, 3, 4, 5]\n",
    "data_cond = [e > 0 for e in data]\n",
    "print(any(data_cond))\n",
    "print(all(data_cond))"
   ]
  },
  {
   "cell_type": "markdown",
   "id": "aa22c792",
   "metadata": {},
   "source": [
    "note: beware of `while` loops that never come to an end!"
   ]
  },
  {
   "cell_type": "markdown",
   "id": "ab35aa81",
   "metadata": {},
   "source": [
    "## `for` loop\n"
   ]
  },
  {
   "cell_type": "markdown",
   "id": "2188ecec",
   "metadata": {},
   "source": [
    "`for` makes it possible to go through the values of any **iterable** object."
   ]
  },
  {
   "cell_type": "markdown",
   "id": "ba88804e",
   "metadata": {},
   "source": [
    "### Lists"
   ]
  },
  {
   "cell_type": "code",
   "execution_count": 4,
   "id": "7ab59565",
   "metadata": {},
   "outputs": [
    {
     "name": "stdout",
     "output_type": "stream",
     "text": [
      "0\n",
      "1\n",
      "2\n",
      "3\n",
      "4\n"
     ]
    }
   ],
   "source": [
    "for k in [0, 1, 2, 3, 4]:\n",
    "    print(k)"
   ]
  },
  {
   "cell_type": "markdown",
   "id": "034de7a6",
   "metadata": {},
   "source": [
    "### Generators-like"
   ]
  },
  {
   "cell_type": "code",
   "execution_count": 5,
   "id": "1e076fc5",
   "metadata": {
    "scrolled": true
   },
   "outputs": [
    {
     "name": "stdout",
     "output_type": "stream",
     "text": [
      "0\n",
      "1\n",
      "2\n",
      "3\n",
      "4\n"
     ]
    }
   ],
   "source": [
    "for k in range(5):\n",
    "    print(k)"
   ]
  },
  {
   "cell_type": "code",
   "execution_count": 6,
   "id": "2ef8cde0",
   "metadata": {},
   "outputs": [
    {
     "name": "stdout",
     "output_type": "stream",
     "text": [
      "0\n",
      "1\n",
      "2\n",
      "3\n",
      "4\n"
     ]
    }
   ],
   "source": [
    "gen = (k//2 for k in range(0, 10, 2))\n",
    "for k in gen:\n",
    "    print(k)"
   ]
  },
  {
   "cell_type": "markdown",
   "id": "ff424277",
   "metadata": {},
   "source": [
    "### Dictionaries\n",
    "\n",
    "Iteration is done on the keys of the dictionary:"
   ]
  },
  {
   "cell_type": "code",
   "execution_count": 7,
   "id": "beba51b8",
   "metadata": {},
   "outputs": [
    {
     "name": "stdout",
     "output_type": "stream",
     "text": [
      "key1\n",
      "key2\n"
     ]
    }
   ],
   "source": [
    "dic = {\"key1\": \"value1\", \"key2\": \"value2\"}\n",
    "for k in dic:\n",
    "    print(k)"
   ]
  },
  {
   "cell_type": "markdown",
   "id": "843e5beb",
   "metadata": {},
   "source": [
    "If both keys and values are needed, one must use the `items()` method:"
   ]
  },
  {
   "cell_type": "code",
   "execution_count": 8,
   "id": "12f4b6a1",
   "metadata": {},
   "outputs": [
    {
     "name": "stdout",
     "output_type": "stream",
     "text": [
      "key1 value1\n",
      "key2 value2\n"
     ]
    }
   ],
   "source": [
    "dic = {\"key1\": \"value1\", \"key2\": \"value2\"}\n",
    "for k, v in dic.items():\n",
    "    print(k, v)"
   ]
  },
  {
   "cell_type": "markdown",
   "id": "180cc42d",
   "metadata": {},
   "source": [
    "### Indexes and values\n",
    "\n",
    "The `enumerate` function applies to any object that can be iterated over. It returns both the index, and the value. In Python, __the first index is always 0__.\n"
   ]
  },
  {
   "cell_type": "code",
   "execution_count": 9,
   "id": "7ddd23b3",
   "metadata": {},
   "outputs": [
    {
     "name": "stdout",
     "output_type": "stream",
     "text": [
      "0 A\n",
      "1 B\n",
      "2 C\n"
     ]
    }
   ],
   "source": [
    "for idx, k in enumerate([\"A\", \"B\", \"C\"]):\n",
    "    print(idx, k)"
   ]
  },
  {
   "cell_type": "markdown",
   "id": "7204600e",
   "metadata": {},
   "source": [
    "### Group using `zip`"
   ]
  },
  {
   "cell_type": "markdown",
   "id": "a3fba136",
   "metadata": {},
   "source": [
    "`zip` makes tuples by extracting an element from each iterable it is given, as long as at least one iterable has no more elements."
   ]
  },
  {
   "cell_type": "code",
   "execution_count": 10,
   "id": "bec2fd6b",
   "metadata": {},
   "outputs": [
    {
     "name": "stdout",
     "output_type": "stream",
     "text": [
      "1 a\n",
      "2 b\n",
      "3 c\n",
      "4 d\n"
     ]
    }
   ],
   "source": [
    "iter_1 = [1,2,3,4]     # longueur: 4\n",
    "iter_2 = \"abcdefgh\"    # longueur: 8\n",
    "for i, j in zip(iter_1, iter_2):\n",
    "    print(i, j)"
   ]
  },
  {
   "cell_type": "markdown",
   "id": "b4ea3221",
   "metadata": {},
   "source": [
    "### `break`\n",
    "\n",
    "Get out of a control flow structure:"
   ]
  },
  {
   "cell_type": "code",
   "execution_count": 11,
   "id": "df2ec1b3",
   "metadata": {},
   "outputs": [
    {
     "name": "stdout",
     "output_type": "stream",
     "text": [
      "k=0\n",
      "k=1\n",
      "k=2\n",
      "k=3\n"
     ]
    }
   ],
   "source": [
    "for k in range(5):\n",
    "    print(f\"k={k}\")\n",
    "    if k == 3:\n",
    "        break"
   ]
  },
  {
   "cell_type": "markdown",
   "id": "a05092c7",
   "metadata": {},
   "source": [
    "If multiple control flow structure are ensted, `break` only exits the deepest level (innermost):"
   ]
  },
  {
   "cell_type": "code",
   "execution_count": 12,
   "id": "47c98e2e",
   "metadata": {
    "scrolled": true
   },
   "outputs": [
    {
     "name": "stdout",
     "output_type": "stream",
     "text": [
      "\n",
      "j=0, k=0, k=1, k=2, k=3\n",
      "j=1, k=0, k=1, k=2, k=3\n",
      "j=2, k=0, k=1, k=2, k=3\n",
      "j=3, k=0, k=1, k=2, k=3\n",
      "j=4, k=0, k=1, k=2, k=3"
     ]
    }
   ],
   "source": [
    "j = 0\n",
    "while j < 5:\n",
    "    print(f\"\\nj={j}\", end=\"\")\n",
    "    for k in range(5):\n",
    "        print(f\", k={k}\", end=\"\")\n",
    "        if k == 3:\n",
    "            break\n",
    "    j += 1        "
   ]
  },
  {
   "cell_type": "markdown",
   "id": "b3b890dd",
   "metadata": {},
   "source": [
    "### `continue`\n",
    "\n",
    "Interrupt current iteration and go the next one."
   ]
  },
  {
   "cell_type": "code",
   "execution_count": 13,
   "id": "adf2b6dd",
   "metadata": {},
   "outputs": [
    {
     "name": "stdout",
     "output_type": "stream",
     "text": [
      "j=1\n",
      "j=2\n",
      "j=4\n",
      "j=5\n"
     ]
    }
   ],
   "source": [
    "j = 0\n",
    "while j < 5:\n",
    "    j += 1\n",
    "    if j%3 == 0:\n",
    "        continue\n",
    "    print(f\"j={j}\")"
   ]
  },
  {
   "cell_type": "markdown",
   "id": "12dbdeb5",
   "metadata": {},
   "source": [
    "### `else` statement\n",
    "\n",
    "The content of `else` is ran only and only if the previously ran control flow structure never met a `break`."
   ]
  },
  {
   "cell_type": "code",
   "execution_count": 14,
   "id": "a8905013",
   "metadata": {},
   "outputs": [
    {
     "name": "stdout",
     "output_type": "stream",
     "text": [
      "Values lower than 15\n"
     ]
    }
   ],
   "source": [
    "for k in range(5):\n",
    "    if k > 15:\n",
    "        break\n",
    "else:\n",
    "    print(\"Values lower than 15\")"
   ]
  },
  {
   "cell_type": "markdown",
   "id": "dc812232",
   "metadata": {},
   "source": [
    "## `if` conditions"
   ]
  },
  {
   "cell_type": "markdown",
   "id": "fb7fa78f",
   "metadata": {},
   "source": [
    "Keyworks are:\n",
    "\n",
    "- `if`: test whether a condition holds `True`, independantly from previous tests\n",
    "- `elif`: (optional) test whether a condition holds `True` if and only if previous `if` and `elif` did not hold `True`\n",
    "- `else`: (optional) code that mus"
   ]
  },
  {
   "cell_type": "markdown",
   "id": "ae359bb8",
   "metadata": {},
   "source": [
    "Keyworks are:\n",
    "\n",
    "- `if`: test whether a condition holds `True`, independantly from previous tests\n",
    "- `elif`: (optional) test whether a condition holds `True` if and only if previous `if` and `elif` did not hold `True`\n",
    "- `else`: (optional) code that is ran when the nearest `if` (and following `elseif` if any) did not hold `True`."
   ]
  },
  {
   "cell_type": "code",
   "execution_count": 15,
   "id": "8ce02926",
   "metadata": {},
   "outputs": [
    {
     "name": "stdout",
     "output_type": "stream",
     "text": [
      "'a' in word\n",
      "Fallback to 'else'\n"
     ]
    }
   ],
   "source": [
    "word = \"abracadra\"\n",
    "if \"x\" in word:\n",
    "    print(\"'x' in word\")\n",
    "if \"a\" in word:\n",
    "    print(\"'a' in word\")\n",
    "if \"y\" in word:\n",
    "    print(\"'y' in word\")\n",
    "elif len(word) < 5:\n",
    "    print(\"Small word\")\n",
    "else:\n",
    "    print(\"Fallback to 'else'\")"
   ]
  }
 ],
 "metadata": {
  "kernelspec": {
   "display_name": "Python 3 (ipykernel)",
   "language": "python",
   "name": "python3"
  },
  "language_info": {
   "codemirror_mode": {
    "name": "ipython",
    "version": 3
   },
   "file_extension": ".py",
   "mimetype": "text/x-python",
   "name": "python",
   "nbconvert_exporter": "python",
   "pygments_lexer": "ipython3",
   "version": "3.10.12"
  }
 },
 "nbformat": 4,
 "nbformat_minor": 5
}
