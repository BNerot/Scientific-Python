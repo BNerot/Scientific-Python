{
 "cells": [
  {
   "cell_type": "code",
   "execution_count": 10,
   "id": "07330c8f",
   "metadata": {},
   "outputs": [
    {
     "name": "stdout",
     "output_type": "stream",
     "text": [
      "123\n",
      "4.57e-01\n",
      "0.457\n",
      "45.68%\n"
     ]
    }
   ],
   "source": [
    "x = 123.456789\n",
    "\n",
    "s1 = f'{int(x)}'\n",
    "s2 = f'{x-int(x):>3.2e}'\n",
    "s3 = f'{x-int(x):>.3f}'\n",
    "s4 = f'{x-int(x):>.2%}'\n",
    "print(s1, s2, s3, s4, sep='\\n')"
   ]
  }
 ],
 "metadata": {
  "kernelspec": {
   "display_name": "Python 3 (ipykernel)",
   "language": "python",
   "name": "python3"
  },
  "language_info": {
   "codemirror_mode": {
    "name": "ipython",
    "version": 3
   },
   "file_extension": ".py",
   "mimetype": "text/x-python",
   "name": "python",
   "nbconvert_exporter": "python",
   "pygments_lexer": "ipython3",
   "version": "3.10.12"
  }
 },
 "nbformat": 4,
 "nbformat_minor": 5
}
