{
 "cells": [
  {
   "cell_type": "markdown",
   "id": "cbdf1711",
   "metadata": {},
   "source": [
    "For $x = 123.456789$, print:\n",
    "\n",
    "- it's integer part\n",
    "- it's decimal part using:\n",
    "    \n",
    "    - scientific notation with 3-digits precision\n",
    "    - float notation with 3 decimals\n",
    "    - percentage with 2 decimals\n",
    "    \n",
    "All strings must be right-aligned, be 10 characters length and padded with '_'.\n",
    "\n",
    "Print them using a single `print` statement, one string per line."
   ]
  }
 ],
 "metadata": {
  "kernelspec": {
   "display_name": "Python 3 (ipykernel)",
   "language": "python",
   "name": "python3"
  },
  "language_info": {
   "codemirror_mode": {
    "name": "ipython",
    "version": 3
   },
   "file_extension": ".py",
   "mimetype": "text/x-python",
   "name": "python",
   "nbconvert_exporter": "python",
   "pygments_lexer": "ipython3",
   "version": "3.10.12"
  }
 },
 "nbformat": 4,
 "nbformat_minor": 5
}
