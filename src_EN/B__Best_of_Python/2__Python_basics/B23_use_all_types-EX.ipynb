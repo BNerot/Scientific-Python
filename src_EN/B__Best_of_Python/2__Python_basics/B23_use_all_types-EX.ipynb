{
 "cells": [
  {
   "cell_type": "markdown",
   "id": "2260c627",
   "metadata": {},
   "source": [
    "# EX 1\n",
    "\n",
    "Build a dictionary where each alphabet letter is mapped to it's reverse position:\n",
    "\n",
    "```\n",
    "'z' with 1\n",
    "'y' with 2\n",
    "...\n",
    "```\n",
    "\n",
    "You can use the `alphabet`variable:"
   ]
  },
  {
   "cell_type": "code",
   "execution_count": 15,
   "id": "2b790074",
   "metadata": {},
   "outputs": [
    {
     "name": "stdout",
     "output_type": "stream",
     "text": [
      "abcdefghijklmnopqrstuvwxyz\n"
     ]
    }
   ],
   "source": [
    "from string import ascii_lowercase as alphabet\n",
    "print(alphabet)"
   ]
  },
  {
   "cell_type": "markdown",
   "id": "2ac12f8a",
   "metadata": {},
   "source": [
    "# EX 2\n",
    "\n",
    "Perform the union of the sets stored in the `var` variable:"
   ]
  },
  {
   "cell_type": "code",
   "execution_count": 12,
   "id": "04c9557e",
   "metadata": {},
   "outputs": [],
   "source": [
    "var = [{2*j-1+k for k in range(j)} for j in range(1, 100)]"
   ]
  }
 ],
 "metadata": {
  "kernelspec": {
   "display_name": "Python 3 (ipykernel)",
   "language": "python",
   "name": "python3"
  },
  "language_info": {
   "codemirror_mode": {
    "name": "ipython",
    "version": 3
   },
   "file_extension": ".py",
   "mimetype": "text/x-python",
   "name": "python",
   "nbconvert_exporter": "python",
   "pygments_lexer": "ipython3",
   "version": "3.10.12"
  }
 },
 "nbformat": 4,
 "nbformat_minor": 5
}
