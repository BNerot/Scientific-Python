{
 "cells": [
  {
   "cell_type": "markdown",
   "id": "a5e5ead7",
   "metadata": {},
   "source": [
    "## `list`"
   ]
  },
  {
   "cell_type": "markdown",
   "id": "1bc19232",
   "metadata": {},
   "source": [
    "`list` are the most common data containers. They are:\n",
    "\n",
    "- __mutable__: one can change their content by adding new elements or changing existing elements\n",
    "- __indexable__: one can access the content of a list using an index, starting from __0__\n",
    "\n",
    "All the operations done on a list are done __in place__. That means no other list is returned but the current instance is modified.\n"
   ]
  },
  {
   "cell_type": "markdown",
   "id": "5440709d",
   "metadata": {},
   "source": [
    "### Appending content\n",
    "\n",
    "#### 1 at a time at the end of the list"
   ]
  },
  {
   "cell_type": "code",
   "execution_count": 1,
   "id": "dce130b1",
   "metadata": {},
   "outputs": [
    {
     "name": "stdout",
     "output_type": "stream",
     "text": [
      "[34, 23, 1, 2, 'b']\n"
     ]
    }
   ],
   "source": [
    "var = [34, 23]\n",
    "var.append(1)\n",
    "var.append(2)\n",
    "var.append(\"b\")\n",
    "print(var)"
   ]
  },
  {
   "cell_type": "markdown",
   "id": "3f53a69f",
   "metadata": {},
   "source": [
    "#### 1 at a time by position"
   ]
  },
  {
   "cell_type": "code",
   "execution_count": null,
   "id": "0e68f639",
   "metadata": {},
   "outputs": [],
   "source": [
    "var.insert(3, \"new\")\n",
    "print(var)"
   ]
  },
  {
   "cell_type": "markdown",
   "id": "aaa5845d",
   "metadata": {},
   "source": [
    "#### Already stored in a list"
   ]
  },
  {
   "cell_type": "code",
   "execution_count": 3,
   "id": "e3a80b22",
   "metadata": {},
   "outputs": [
    {
     "name": "stdout",
     "output_type": "stream",
     "text": [
      "[1, 2, 3, 4]\n"
     ]
    }
   ],
   "source": [
    "var1 = [1, 2]\n",
    "var2 = [3, 4]\n",
    "var1.extend(var2)\n",
    "print(var1)"
   ]
  },
  {
   "cell_type": "markdown",
   "id": "15c2df3c",
   "metadata": {},
   "source": [
    "### Modifying content"
   ]
  },
  {
   "cell_type": "code",
   "execution_count": 4,
   "id": "7d689d38",
   "metadata": {},
   "outputs": [
    {
     "name": "stdout",
     "output_type": "stream",
     "text": [
      "[3, 23, 1, 'new', 2, 'b']\n"
     ]
    }
   ],
   "source": [
    "var[0] = 3 \n",
    "print(var)"
   ]
  },
  {
   "cell_type": "markdown",
   "id": "167f4d3a",
   "metadata": {},
   "source": [
    "One can specify a __negative index__: -1 is the latest value of the list, -2 is the second to last, etc..."
   ]
  },
  {
   "cell_type": "code",
   "execution_count": 5,
   "id": "38101234",
   "metadata": {},
   "outputs": [
    {
     "name": "stdout",
     "output_type": "stream",
     "text": [
      "10\n",
      "8\n"
     ]
    }
   ],
   "source": [
    "var = [0, 1, 2, 3, 4, 5, 6, 7, 8, 9, 10]\n",
    "print(var[-1])\n",
    "print(var[-3])"
   ]
  },
  {
   "cell_type": "markdown",
   "id": "614fb053",
   "metadata": {},
   "source": [
    "Note than you can go from negative to positive index using this simple trick:"
   ]
  },
  {
   "cell_type": "code",
   "execution_count": 6,
   "id": "022ff162",
   "metadata": {},
   "outputs": [
    {
     "name": "stdout",
     "output_type": "stream",
     "text": [
      "3\n",
      "3\n",
      "3\n"
     ]
    }
   ],
   "source": [
    "positive_index  = 3\n",
    "negative_index  = -(len(var)-positive_index)\n",
    "positive_index2 =  len(var)+negative_index\n",
    "print(var[positive_index])\n",
    "print(var[negative_index])\n",
    "print(var[positive_index2])"
   ]
  },
  {
   "cell_type": "markdown",
   "id": "c8dc1fc6",
   "metadata": {},
   "source": [
    "The `index` method returns the index (positive) of the first occurence of an element. A lower and upper index can also be specified to look for a value at a particular location."
   ]
  },
  {
   "cell_type": "code",
   "execution_count": 7,
   "id": "70ac866e",
   "metadata": {},
   "outputs": [
    {
     "name": "stdout",
     "output_type": "stream",
     "text": [
      "[0, 1, 2, 3, 4, 5, 6, 7, 8, 9, 10, 1]\n",
      "Index of first '1' value starting from index 0: 1\n",
      "Index of first '1' value starting from index 0: 11\n"
     ]
    }
   ],
   "source": [
    "var.append(1)\n",
    "print(var)\n",
    "print(f\"Index of first '1' value starting from index 0: {var.index(1)}\")\n",
    "print(f\"Index of first '1' value starting from index 0: {var.index(1, 4, len(var))}\")"
   ]
  },
  {
   "cell_type": "markdown",
   "id": "cc75beaa",
   "metadata": {},
   "source": [
    "### Deleting content"
   ]
  },
  {
   "cell_type": "markdown",
   "id": "2b4093ca",
   "metadata": {},
   "source": [
    "#### At the end of the list"
   ]
  },
  {
   "cell_type": "code",
   "execution_count": 8,
   "id": "55edeb5d",
   "metadata": {},
   "outputs": [
    {
     "name": "stdout",
     "output_type": "stream",
     "text": [
      "Last value: 1\n",
      "[0, 1, 2, 3, 4, 5, 6, 7, 8, 9, 10]\n"
     ]
    }
   ],
   "source": [
    "last = var.pop()\n",
    "print(f\"Last value: {last}\")\n",
    "print(var)"
   ]
  },
  {
   "cell_type": "markdown",
   "id": "2f9427fc",
   "metadata": {},
   "source": [
    "#### Positionnal"
   ]
  },
  {
   "cell_type": "code",
   "execution_count": 9,
   "id": "9014dc01",
   "metadata": {},
   "outputs": [
    {
     "name": "stdout",
     "output_type": "stream",
     "text": [
      "[0, 2, 3, 4, 5, 6, 7, 8, 9, 10]\n"
     ]
    }
   ],
   "source": [
    "var.remove(1)\n",
    "print(var)"
   ]
  },
  {
   "cell_type": "markdown",
   "id": "918ebefd",
   "metadata": {},
   "source": [
    "### Sorting"
   ]
  },
  {
   "cell_type": "markdown",
   "id": "788c22b9",
   "metadata": {},
   "source": [
    "#### With homogeneous data types"
   ]
  },
  {
   "cell_type": "markdown",
   "id": "d459082f",
   "metadata": {},
   "source": [
    "Beware that sorting the variable is done in place."
   ]
  },
  {
   "cell_type": "code",
   "execution_count": 10,
   "id": "d8c09af4",
   "metadata": {},
   "outputs": [
    {
     "name": "stdout",
     "output_type": "stream",
     "text": [
      "[189, 1, -6.7]\n"
     ]
    }
   ],
   "source": [
    "var = [1, -6.7, 189]\n",
    "var.sort(reverse=True)\n",
    "print(var)"
   ]
  },
  {
   "cell_type": "markdown",
   "id": "81f12eb2",
   "metadata": {},
   "source": [
    "#### Using a custom sorting key\n",
    "\n",
    "A custom sorting key is a function that returns, for all elements of the list to sort, a value that can be compared to the other."
   ]
  },
  {
   "cell_type": "code",
   "execution_count": 11,
   "id": "c6227f66",
   "metadata": {},
   "outputs": [
    {
     "name": "stdout",
     "output_type": "stream",
     "text": [
      "[-102, 56, '98', '102.45']\n"
     ]
    }
   ],
   "source": [
    "var = [56, \"98\", -102, \"102.45\"]\n",
    "var.sort(key=lambda key:float(key))\n",
    "print(var)"
   ]
  },
  {
   "cell_type": "markdown",
   "id": "1afc8ca1",
   "metadata": {},
   "source": [
    "#### Advanced"
   ]
  },
  {
   "cell_type": "markdown",
   "id": "16406b3c",
   "metadata": {},
   "source": [
    "Sorting is done internally by a call to methods `__lt__` and `__gt__` of an instance. One can redefine these methods to sort elements on some relevant properties. \n",
    "\n",
    "Below is an example of a custom object who internal value (used for the sorting process) depends on the order of creation of the instance (see `COUNTER`). The `__lt__` method is redefined using this value."
   ]
  },
  {
   "cell_type": "code",
   "execution_count": 12,
   "id": "711414ed",
   "metadata": {},
   "outputs": [
    {
     "name": "stdout",
     "output_type": "stream",
     "text": [
      "[Custom (10), Custom (9), Custom (8)]\n",
      "[Custom (8), Custom (9), Custom (10)]\n"
     ]
    }
   ],
   "source": [
    "class Custom():\n",
    "    COUNTER = 10\n",
    "    def __init__(self):\n",
    "        self.value = Custom.COUNTER \n",
    "        Custom.COUNTER -= 1\n",
    "        \n",
    "    def __lt__(self, other):\n",
    "        if not isinstance(other, Custom):\n",
    "            raise NotImplementedError()\n",
    "        return self.value < other.value\n",
    "    \n",
    "    def __repr__(self):\n",
    "        return f\"Custom ({self.value})\"\n",
    "\n",
    "var1 = Custom()\n",
    "var2 = Custom()\n",
    "var3 = Custom()\n",
    "var = [var1, var2, var3]\n",
    "print(var)\n",
    "var.sort()\n",
    "print(var)\n"
   ]
  },
  {
   "cell_type": "markdown",
   "id": "2b7ebd2d",
   "metadata": {},
   "source": [
    "Another way to sort data containers is the `sorted` function.  Differently from method `.sort()`, it returns a new sorted list."
   ]
  },
  {
   "cell_type": "code",
   "execution_count": 13,
   "id": "08e18768",
   "metadata": {
    "scrolled": false
   },
   "outputs": [
    {
     "data": {
      "text/plain": [
       "[-4, 2, 3, 7, 9]"
      ]
     },
     "execution_count": 13,
     "metadata": {},
     "output_type": "execute_result"
    }
   ],
   "source": [
    "var = (3, 7, 2, 9, -4)\n",
    "sorted(var)"
   ]
  },
  {
   "cell_type": "markdown",
   "id": "fa5bb3be",
   "metadata": {},
   "source": [
    "### Concatenation"
   ]
  },
  {
   "cell_type": "markdown",
   "id": "fe262e7e",
   "metadata": {},
   "source": [
    "Two lists can be concatenated using `+`."
   ]
  },
  {
   "cell_type": "code",
   "execution_count": 2,
   "id": "98f808f4",
   "metadata": {},
   "outputs": [
    {
     "name": "stdout",
     "output_type": "stream",
     "text": [
      "[1, 2]\n",
      "[3, 4]\n",
      "[1, 2, 3, 4]\n"
     ]
    }
   ],
   "source": [
    "var1 = [1, 2]\n",
    "var2 = [3, 4]\n",
    "\n",
    "print(var1)\n",
    "print(var2)\n",
    "print(var1 + var2)"
   ]
  },
  {
   "cell_type": "markdown",
   "id": "212d1dd3",
   "metadata": {},
   "source": [
    "### Conclusion"
   ]
  },
  {
   "cell_type": "markdown",
   "id": "2131e7b1",
   "metadata": {},
   "source": [
    "`list` are commonly used in Python. Yet they are neither always fitted to all use cases, nor the the most powerful solution."
   ]
  },
  {
   "cell_type": "markdown",
   "id": "cd0542d4",
   "metadata": {},
   "source": [
    "## `set`"
   ]
  },
  {
   "cell_type": "markdown",
   "id": "c87bc95a",
   "metadata": {},
   "source": [
    "`set` are data containers that can store a given value at most one time. They are not __mutable__ and not __indexable__. Thus, __there is no guarantee for the insertion order to be preserved.__"
   ]
  },
  {
   "cell_type": "code",
   "execution_count": 15,
   "id": "6d74ca57",
   "metadata": {},
   "outputs": [
    {
     "name": "stdout",
     "output_type": "stream",
     "text": [
      "{1, 2, 3, 4}\n",
      "{1, 2, 3, 4}\n"
     ]
    }
   ],
   "source": [
    "var = {1, 2, 3}\n",
    "var.add(4)\n",
    "print(var)\n",
    "var.add(3)\n",
    "print(var)"
   ]
  },
  {
   "cell_type": "markdown",
   "id": "ba842900",
   "metadata": {},
   "source": [
    "One can perform unions, intersections and differences of `set` instances."
   ]
  },
  {
   "cell_type": "code",
   "execution_count": 16,
   "id": "dfc13524",
   "metadata": {},
   "outputs": [
    {
     "name": "stdout",
     "output_type": "stream",
     "text": [
      "Union          : {2, 3}\n",
      "Intersection   : {1, 2, 3, 4}\n",
      "Difference 1   : {1}\n",
      "Difference 2   : {4}\n"
     ]
    }
   ],
   "source": [
    "var1 = {1, 2, 3}\n",
    "var2 = {2, 3, 4}\n",
    "print(f\"{'Union':<15}: {var1&var2}\")\n",
    "print(f\"{'Intersection':<15}: {var1|var2}\")\n",
    "print(f\"{'Difference 1':<15}: {var1-var2}\")\n",
    "print(f\"{'Difference 2':<15}: {var2-var1}\")"
   ]
  },
  {
   "cell_type": "markdown",
   "id": "402ec56d",
   "metadata": {},
   "source": [
    "Above, we used operators `&`, `|`, `-`: these are shortcuts for the dedicated methods. These methods can be showed using `dir`."
   ]
  },
  {
   "cell_type": "code",
   "execution_count": 17,
   "id": "38850832",
   "metadata": {},
   "outputs": [
    {
     "data": {
      "text/plain": [
       "['add',\n",
       " 'clear',\n",
       " 'copy',\n",
       " 'difference',\n",
       " 'difference_update',\n",
       " 'discard',\n",
       " 'intersection',\n",
       " 'intersection_update',\n",
       " 'isdisjoint',\n",
       " 'issubset',\n",
       " 'issuperset',\n",
       " 'pop',\n",
       " 'remove',\n",
       " 'symmetric_difference',\n",
       " 'symmetric_difference_update',\n",
       " 'union',\n",
       " 'update']"
      ]
     },
     "execution_count": 17,
     "metadata": {},
     "output_type": "execute_result"
    }
   ],
   "source": [
    "attrs = dir(var1)\n",
    "[attr for attr in attrs if not attr.startswith(\"__\")]"
   ]
  },
  {
   "cell_type": "markdown",
   "id": "b60a3b92",
   "metadata": {},
   "source": [
    "## `tuple`"
   ]
  },
  {
   "cell_type": "markdown",
   "id": "5dd0e5e7",
   "metadata": {},
   "source": [
    "`tuple` are similar to `list`, yet they are __immutable__ (not __mutable__). Whenever it's possible `tuple` must be prefered over `list`."
   ]
  },
  {
   "cell_type": "code",
   "execution_count": 18,
   "id": "00371ea5",
   "metadata": {},
   "outputs": [
    {
     "name": "stdout",
     "output_type": "stream",
     "text": [
      "(1, 2, 3)\n"
     ]
    }
   ],
   "source": [
    "var = (1, 2, 3)\n",
    "print(var)"
   ]
  },
  {
   "cell_type": "markdown",
   "id": "35a36293",
   "metadata": {},
   "source": [
    "Reminder, `tuple`s are immutable:"
   ]
  },
  {
   "cell_type": "code",
   "execution_count": 19,
   "id": "39d0a075",
   "metadata": {},
   "outputs": [
    {
     "ename": "TypeError",
     "evalue": "'tuple' object does not support item assignment",
     "output_type": "error",
     "traceback": [
      "\u001b[0;31m---------------------------------------------------------------------------\u001b[0m",
      "\u001b[0;31mTypeError\u001b[0m                                 Traceback (most recent call last)",
      "Cell \u001b[0;32mIn[19], line 1\u001b[0m\n\u001b[0;32m----> 1\u001b[0m \u001b[43mvar\u001b[49m\u001b[43m[\u001b[49m\u001b[38;5;241;43m2\u001b[39;49m\u001b[43m]\u001b[49m \u001b[38;5;241m=\u001b[39m \u001b[38;5;241m5\u001b[39m\n",
      "\u001b[0;31mTypeError\u001b[0m: 'tuple' object does not support item assignment"
     ]
    }
   ],
   "source": [
    "var[2] = 5"
   ]
  },
  {
   "cell_type": "markdown",
   "id": "da6df388",
   "metadata": {},
   "source": [
    "__Important__: what defines a `tuple` is not the parenthesis `(`...`)` but __the comma__ `,`."
   ]
  },
  {
   "cell_type": "code",
   "execution_count": 20,
   "id": "15b612e8",
   "metadata": {
    "scrolled": true
   },
   "outputs": [
    {
     "name": "stdout",
     "output_type": "stream",
     "text": [
      "<class 'int'>\n",
      "<class 'tuple'>\n",
      "<class 'tuple'>\n"
     ]
    }
   ],
   "source": [
    "var = (1)\n",
    "print(type(var))\n",
    "var = 1,\n",
    "print(type(var))\n",
    "var = 1, 2, 3\n",
    "print(type(var))"
   ]
  },
  {
   "cell_type": "markdown",
   "id": "856795ba",
   "metadata": {},
   "source": [
    "## `dict`"
   ]
  },
  {
   "cell_type": "markdown",
   "id": "2dc0a7dd",
   "metadata": {},
   "source": [
    "Dictionaries makes it possile to store a __value__ with a unique __key__ as identifier. "
   ]
  },
  {
   "cell_type": "code",
   "execution_count": 21,
   "id": "318e4fd6",
   "metadata": {},
   "outputs": [
    {
     "data": {
      "text/plain": [
       "{'one': 1, 'two': 2, 'three': 3}"
      ]
     },
     "execution_count": 21,
     "metadata": {},
     "output_type": "execute_result"
    }
   ],
   "source": [
    "var = {\"one\": 1, \"two\": 2, \"three\": 3}\n",
    "var"
   ]
  },
  {
   "cell_type": "markdown",
   "id": "85d9e918",
   "metadata": {},
   "source": [
    "Keys and values are retrieved using dedicated methods. These methods return something similar to a list (but different):"
   ]
  },
  {
   "cell_type": "code",
   "execution_count": 22,
   "id": "54716753",
   "metadata": {
    "scrolled": true
   },
   "outputs": [
    {
     "name": "stdout",
     "output_type": "stream",
     "text": [
      "dict_keys(['one', 'two', 'three'])\n",
      "dict_values([1, 2, 3])\n"
     ]
    }
   ],
   "source": [
    "keys = var.keys()  \n",
    "print(keys)\n",
    "values = var.values()\n",
    "print(values)"
   ]
  },
  {
   "cell_type": "markdown",
   "id": "9797a697",
   "metadata": {},
   "source": [
    "A call to `items` extract couples of (key, value)."
   ]
  },
  {
   "cell_type": "code",
   "execution_count": 23,
   "id": "436c1115",
   "metadata": {},
   "outputs": [
    {
     "name": "stdout",
     "output_type": "stream",
     "text": [
      "dict_items([('one', 1), ('two', 2), ('three', 3)])\n"
     ]
    }
   ],
   "source": [
    "items = var.items()\n",
    "print(items)"
   ]
  },
  {
   "cell_type": "markdown",
   "id": "aaaa3866",
   "metadata": {},
   "source": [
    "One can read and modify a dictionary using any key."
   ]
  },
  {
   "cell_type": "code",
   "execution_count": 24,
   "id": "68662ed2",
   "metadata": {
    "scrolled": false
   },
   "outputs": [
    {
     "name": "stdout",
     "output_type": "stream",
     "text": [
      "{'one': 'first', 'two': 2, 'three': 3}\n",
      "2\n"
     ]
    }
   ],
   "source": [
    "var[\"one\"] = \"first\"\n",
    "print(var)\n",
    "print(var[\"two\"])"
   ]
  },
  {
   "cell_type": "markdown",
   "id": "606d8e56",
   "metadata": {},
   "source": [
    "Retriving an element using brackets `[]` is internally done by a call to the `get` method. One can call explicitely the `get` method with a default value in case the key does not exist."
   ]
  },
  {
   "cell_type": "code",
   "execution_count": 25,
   "id": "6d6a2a15",
   "metadata": {},
   "outputs": [
    {
     "name": "stdout",
     "output_type": "stream",
     "text": [
      "3\n",
      "Unknown!\n"
     ]
    }
   ],
   "source": [
    "print(var.get(\"three\", \"Unknown!\"))\n",
    "print(var.get(\"four\", \"Unknown!\"))"
   ]
  },
  {
   "cell_type": "markdown",
   "id": "5e564d8f",
   "metadata": {},
   "source": [
    "Other methods are presented using `dir(dict)`."
   ]
  },
  {
   "cell_type": "code",
   "execution_count": 26,
   "id": "0b6ae93d",
   "metadata": {
    "scrolled": false
   },
   "outputs": [
    {
     "data": {
      "text/plain": [
       "['clear',\n",
       " 'copy',\n",
       " 'fromkeys',\n",
       " 'get',\n",
       " 'items',\n",
       " 'keys',\n",
       " 'pop',\n",
       " 'popitem',\n",
       " 'setdefault',\n",
       " 'update',\n",
       " 'values']"
      ]
     },
     "execution_count": 26,
     "metadata": {},
     "output_type": "execute_result"
    }
   ],
   "source": [
    "attrs = dir(dict)\n",
    "[attr for attr in attrs if not attr.startswith(\"__\")]"
   ]
  },
  {
   "cell_type": "markdown",
   "id": "636dd898",
   "metadata": {},
   "source": [
    "Recall that help is available on any Python object using `help`:"
   ]
  },
  {
   "cell_type": "code",
   "execution_count": 38,
   "id": "d834994a",
   "metadata": {},
   "outputs": [
    {
     "name": "stdout",
     "output_type": "stream",
     "text": [
      "Help on method_descriptor:\n",
      "\n",
      "popitem(self, /)\n",
      "    Remove and return a (key, value) pair as a 2-tuple.\n",
      "    \n",
      "    Pairs are returned in LIFO (last-in, first-out) order.\n",
      "    Raises KeyError if the dict is empty.\n",
      "\n"
     ]
    }
   ],
   "source": [
    "help(dict.popitem)"
   ]
  },
  {
   "cell_type": "markdown",
   "id": "ade9e815",
   "metadata": {},
   "source": [
    "### Notes\n",
    "\n",
    "As for values of a `set`, keys of a dictionary must be __hashable__. Hence, a list cannot be a dictionary key.\n",
    "\n",
    "In practice, most immutable objects are hashable."
   ]
  },
  {
   "cell_type": "code",
   "execution_count": 27,
   "id": "776b846b",
   "metadata": {},
   "outputs": [
    {
     "ename": "TypeError",
     "evalue": "unhashable type: 'list'",
     "output_type": "error",
     "traceback": [
      "\u001b[0;31m---------------------------------------------------------------------------\u001b[0m",
      "\u001b[0;31mTypeError\u001b[0m                                 Traceback (most recent call last)",
      "Cell \u001b[0;32mIn[27], line 1\u001b[0m\n\u001b[0;32m----> 1\u001b[0m var \u001b[38;5;241m=\u001b[39m {[\u001b[38;5;241m1\u001b[39m,\u001b[38;5;241m2\u001b[39m]: \u001b[38;5;241m5\u001b[39m}\n",
      "\u001b[0;31mTypeError\u001b[0m: unhashable type: 'list'"
     ]
    }
   ],
   "source": [
    "var = {[1,2]: 5}"
   ]
  },
  {
   "cell_type": "markdown",
   "id": "53a9c62c",
   "metadata": {},
   "source": [
    "## `deque`"
   ]
  },
  {
   "cell_type": "markdown",
   "id": "71bd3f2d",
   "metadata": {},
   "source": [
    "A `deque` is kind of `list` that is optimized for fast values appending at both ends (beginning and end of the container). The speed up is observed maily for very large containers.\n",
    "\n",
    "`deque` thus have the following methods `appendleft`, `popleft` et `extendleft`."
   ]
  },
  {
   "cell_type": "code",
   "execution_count": 28,
   "id": "0c82cf03",
   "metadata": {
    "scrolled": true
   },
   "outputs": [
    {
     "name": "stdout",
     "output_type": "stream",
     "text": [
      "deque([2, 3, 4])\n",
      "deque([0, 2, 3, 4])\n",
      "deque([63, -5, 0, 2, 3, 4])\n"
     ]
    }
   ],
   "source": [
    "from collections import deque\n",
    "d = deque([1, 2, 3 ,4])\n",
    "d.popleft()\n",
    "print(d)\n",
    "d.appendleft(0)\n",
    "print(d)\n",
    "d.extendleft([-5, 63])\n",
    "print(d)"
   ]
  },
  {
   "cell_type": "markdown",
   "id": "3f3722cb",
   "metadata": {},
   "source": [
    "## About __slicing__"
   ]
  },
  {
   "cell_type": "markdown",
   "id": "c9440fd4",
   "metadata": {},
   "source": [
    "__slicing__ is a way to extract part of an indexable object (ex: `list`, `tuple`, `str`).\n",
    "\n",
    "Slincing is done using brackets with a specific notation: `start:end+1:step` (last index is excluded). `step` is not mandatory (if none, it is assumed `step=1`) but if `step` is given then the two other must be given too.\n",
    "\n",
    "Hereafter, a use case using a `list`."
   ]
  },
  {
   "cell_type": "code",
   "execution_count": 29,
   "id": "2c9fbc02",
   "metadata": {},
   "outputs": [
    {
     "name": "stdout",
     "output_type": "stream",
     "text": [
      "[0, 1, 2, 3, 4]\n",
      "[5, 6, 7, 8, 9, 10]\n",
      "[1, 2, 3, 4]\n",
      "[1, 3]\n"
     ]
    }
   ],
   "source": [
    "var = [0, 1, 2, 3, 4, 5, 6, 7, 8, 9, 10]\n",
    "print(var[:5])     # the first 5 values\n",
    "print(var[5:])     # values from index 5 to the end\n",
    "print(var[1:5])    # values from index 1 to index 4\n",
    "print(var[1:5:2])  # values from index 1 to index 4, every 2 values"
   ]
  },
  {
   "cell_type": "markdown",
   "id": "4f6572a6",
   "metadata": {},
   "source": [
    "Some negative indexers are also possible here, as long as `start` references an element locarted before `end`."
   ]
  },
  {
   "cell_type": "code",
   "execution_count": 30,
   "id": "0a527eae",
   "metadata": {},
   "outputs": [
    {
     "name": "stdout",
     "output_type": "stream",
     "text": [
      "[8, 9, 10]\n",
      "[5, 7]\n"
     ]
    }
   ],
   "source": [
    "print(var[-3:])    # the last three values\n",
    "print(var[-6:8:2])  # values from index -6 to index 8, every 2 values"
   ]
  },
  {
   "cell_type": "markdown",
   "id": "8c8652ce",
   "metadata": {},
   "source": [
    "This small trick reverse the container:"
   ]
  },
  {
   "cell_type": "code",
   "execution_count": 31,
   "id": "2eede39d",
   "metadata": {},
   "outputs": [
    {
     "name": "stdout",
     "output_type": "stream",
     "text": [
      "[10, 9, 8, 7, 6, 5, 4, 3, 2, 1, 0]\n"
     ]
    }
   ],
   "source": [
    "var = var[::-1]\n",
    "print(var)"
   ]
  },
  {
   "cell_type": "markdown",
   "id": "70fe36ce",
   "metadata": {},
   "source": [
    "__slicing__ returns a __copy__ of its argument, even when the argument is mutable."
   ]
  },
  {
   "cell_type": "code",
   "execution_count": 32,
   "id": "4e4dd7e8",
   "metadata": {},
   "outputs": [
    {
     "name": "stdout",
     "output_type": "stream",
     "text": [
      "var: [10, 9, 8, 7, 6, 5, 4, 3, 2, 1, 0]\t\t var2: [10, 9, 8, 7, 6]\n",
      "var: [10, 9, 8, 7, 6, 5, 4, 3, 2, 1, 0]\t\t var2: [10, 1000, 8, 7, 6]\n"
     ]
    }
   ],
   "source": [
    "var2 = var[:5]\n",
    "print(f\"var: {var}\\t\\t var2: {var2}\")\n",
    "var2[1] = 1000                           # modification\n",
    "print(f\"var: {var}\\t\\t var2: {var2}\")\n"
   ]
  },
  {
   "cell_type": "markdown",
   "id": "f5b490d3",
   "metadata": {},
   "source": [
    "## Booleans\n",
    "\n",
    "Some values are interpreted as booleans in a __boolean context__, for instance an `if`.\n",
    "\n",
    "Example: an empty data container has a value of `False` (`True` if it contains at least one element)"
   ]
  },
  {
   "cell_type": "code",
   "execution_count": 33,
   "id": "3cdc9b2d",
   "metadata": {},
   "outputs": [
    {
     "name": "stdout",
     "output_type": "stream",
     "text": [
      "[]    is interpreted as False\n",
      "0     is interpreted as False\n",
      "None  is interpreted as False\n"
     ]
    }
   ],
   "source": [
    "for var in ([], 0, None):\n",
    "    if var:\n",
    "        print(f\"{var!s:<5} is interpreted as True\")\n",
    "    else:\n",
    "        print(f\"{var!s:<5} is interpreted as False\")\n",
    "    "
   ]
  },
  {
   "cell_type": "markdown",
   "id": "c82a0c03",
   "metadata": {},
   "source": [
    "This is not the case outside of these contexts, unless using __type casting__ toward a __bool__ type."
   ]
  },
  {
   "cell_type": "code",
   "execution_count": 34,
   "id": "2cd7f3cc",
   "metadata": {},
   "outputs": [
    {
     "name": "stdout",
     "output_type": "stream",
     "text": [
      "False\n",
      "True\n"
     ]
    }
   ],
   "source": [
    "print([] is False)        # False, since a list is not a bool, even empty\n",
    "print(bool([]) is False)  # True"
   ]
  }
 ],
 "metadata": {
  "kernelspec": {
   "display_name": "Python 3 (ipykernel)",
   "language": "python",
   "name": "python3"
  },
  "language_info": {
   "codemirror_mode": {
    "name": "ipython",
    "version": 3
   },
   "file_extension": ".py",
   "mimetype": "text/x-python",
   "name": "python",
   "nbconvert_exporter": "python",
   "pygments_lexer": "ipython3",
   "version": "3.10.12"
  }
 },
 "nbformat": 4,
 "nbformat_minor": 5
}
