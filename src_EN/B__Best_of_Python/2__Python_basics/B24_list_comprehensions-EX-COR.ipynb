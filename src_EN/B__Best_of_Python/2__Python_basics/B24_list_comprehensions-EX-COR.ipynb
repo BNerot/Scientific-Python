{
 "cells": [
  {
   "cell_type": "code",
   "execution_count": null,
   "id": "627586e6",
   "metadata": {},
   "outputs": [],
   "source": [
    "res = {tuple(i for i in range(k**3+1) if not i%(2*k+8)) for k in range(10)}"
   ]
  }
 ],
 "metadata": {
  "kernelspec": {
   "display_name": "Python 3 (ipykernel)",
   "language": "python",
   "name": "python3"
  },
  "language_info": {
   "codemirror_mode": {
    "name": "ipython",
    "version": 3
   },
   "file_extension": ".py",
   "mimetype": "text/x-python",
   "name": "python",
   "nbconvert_exporter": "python",
   "pygments_lexer": "ipython3",
   "version": "3.10.12"
  }
 },
 "nbformat": 4,
 "nbformat_minor": 5
}
