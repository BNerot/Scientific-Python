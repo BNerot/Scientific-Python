{
 "cells": [
  {
   "cell_type": "markdown",
   "id": "3cfcd1a5",
   "metadata": {},
   "source": [
    "## Introduction\n",
    "\n",
    "__list comprehensions__ are a way to define lists. Pros of using list comprehensions include:\n",
    "\n",
    "1. does not pollute the current scope wwith unwanted variables:\n",
    "2. takes only one line of code\n",
    " \n",
    "Regarding 1, consider the following example.\n",
    " "
   ]
  },
  {
   "cell_type": "code",
   "execution_count": 1,
   "id": "d2b584f7",
   "metadata": {},
   "outputs": [
    {
     "name": "stdout",
     "output_type": "stream",
     "text": [
      "4\n"
     ]
    }
   ],
   "source": [
    "var = []\n",
    "for k in range(5):\n",
    "    var.append(k**2)\n",
    "    \n",
    "print(k)"
   ]
  },
  {
   "cell_type": "markdown",
   "id": "b5dc5745",
   "metadata": {},
   "source": [
    "Variable `k` whose only purpose is to build the list still exists after the loop. This is dangerous in case the name `k` is used elsewhere with no initialization."
   ]
  },
  {
   "cell_type": "markdown",
   "id": "d2702487",
   "metadata": {},
   "source": [
    "List comprehensions are made of:\n",
    " \n",
    " - one or several `for` loops\n",
    " - a value to fill the container with, possibly dependant from the indexes of the `for` loops\n",
    "\n",
    " - (optional) a condition `if`/`then`/`else`\n",
    " "
   ]
  },
  {
   "cell_type": "markdown",
   "id": "1ba7851b",
   "metadata": {},
   "source": [
    "## Exemples simples"
   ]
  },
  {
   "cell_type": "markdown",
   "id": "f5f0a810",
   "metadata": {},
   "source": [
    "Even integers"
   ]
  },
  {
   "cell_type": "code",
   "execution_count": 2,
   "id": "fbbd73b0",
   "metadata": {},
   "outputs": [
    {
     "data": {
      "text/plain": [
       "[0, 2, 4, 6, 8, 10, 12, 14, 16, 18]"
      ]
     },
     "execution_count": 2,
     "metadata": {},
     "output_type": "execute_result"
    }
   ],
   "source": [
    "var = [2*k for k in range(10)]\n",
    "var"
   ]
  },
  {
   "cell_type": "markdown",
   "id": "c8733cc5",
   "metadata": {},
   "source": [
    "Even integers that are multiple of 4."
   ]
  },
  {
   "cell_type": "code",
   "execution_count": 3,
   "id": "0c1025bf",
   "metadata": {},
   "outputs": [
    {
     "data": {
      "text/plain": [
       "[0, 4, 8, 12, 16]"
      ]
     },
     "execution_count": 3,
     "metadata": {},
     "output_type": "execute_result"
    }
   ],
   "source": [
    "var = [2*k for k in range(10) if not 2*k%4]\n",
    "var"
   ]
  },
  {
   "cell_type": "markdown",
   "id": "5d50f2c0",
   "metadata": {},
   "source": [
    "Note that with a `else`, location of `if` is also modified."
   ]
  },
  {
   "cell_type": "code",
   "execution_count": 4,
   "id": "e48c40f1",
   "metadata": {},
   "outputs": [
    {
     "data": {
      "text/plain": [
       "[0, 0, 4, 0, 8, 0, 12, 0, 16, 0]"
      ]
     },
     "execution_count": 4,
     "metadata": {},
     "output_type": "execute_result"
    }
   ],
   "source": [
    "var = [2*k if not 2*k%4 else 0 for k in range(10) ]\n",
    "var"
   ]
  },
  {
   "cell_type": "markdown",
   "id": "1b9cf8d6",
   "metadata": {},
   "source": [
    "One can use existing other variables:"
   ]
  },
  {
   "cell_type": "code",
   "execution_count": 5,
   "id": "db4bcb9c",
   "metadata": {},
   "outputs": [
    {
     "data": {
      "text/plain": [
       "['val_2', 'val_1', 'val_1', 'val_2', 'val_1']"
      ]
     },
     "execution_count": 5,
     "metadata": {},
     "output_type": "execute_result"
    }
   ],
   "source": [
    "reference = {0: \"val_2\", 1: \"val_1\", 2: \"val_1\", 3: \"val_2\", 4: \"val_1\"}\n",
    "var = [reference[k] for k in range(5)]\n",
    "var"
   ]
  },
  {
   "cell_type": "markdown",
   "id": "9e8e89cf",
   "metadata": {},
   "source": [
    "## Autres types de données"
   ]
  },
  {
   "cell_type": "markdown",
   "id": "9b72cf6d",
   "metadata": {},
   "source": [
    "__list comprehensions__ can be used with other data containers:\n",
    "\n",
    "- `generateur`\n",
    "- `set`\n",
    "- `dict`\n",
    "- etc..."
   ]
  },
  {
   "cell_type": "markdown",
   "id": "d21adbe7",
   "metadata": {},
   "source": [
    "### Generators\n",
    "\n",
    "A generator is a data container whose content is not stored into memory until it has to be retrieved. Retrieval is done either using a classical `for`, or the `next` method."
   ]
  },
  {
   "cell_type": "code",
   "execution_count": 6,
   "id": "88195c64",
   "metadata": {},
   "outputs": [
    {
     "data": {
      "text/plain": [
       "<generator object <genexpr> at 0x7f77e76625e0>"
      ]
     },
     "execution_count": 6,
     "metadata": {},
     "output_type": "execute_result"
    }
   ],
   "source": [
    "var = (letter.upper() for letter in \"test\" if letter != \"e\")\n",
    "var"
   ]
  },
  {
   "cell_type": "code",
   "execution_count": 7,
   "id": "cd26c806",
   "metadata": {
    "scrolled": true
   },
   "outputs": [
    {
     "name": "stdout",
     "output_type": "stream",
     "text": [
      "T\n",
      "S\n",
      "T\n"
     ]
    }
   ],
   "source": [
    "print(next(var))\n",
    "print(next(var))\n",
    "print(next(var))"
   ]
  },
  {
   "cell_type": "markdown",
   "id": "d4c3ef4d",
   "metadata": {},
   "source": [
    "### Sets"
   ]
  },
  {
   "cell_type": "markdown",
   "id": "5f9df852",
   "metadata": {},
   "source": [
    "sets cannot contain duplicate values:"
   ]
  },
  {
   "cell_type": "code",
   "execution_count": 8,
   "id": "ae342f8a",
   "metadata": {},
   "outputs": [
    {
     "data": {
      "text/plain": [
       "{0, 1, 2, 3, 4}"
      ]
     },
     "execution_count": 8,
     "metadata": {},
     "output_type": "execute_result"
    }
   ],
   "source": [
    "var = {k%5 for k in range(100)}\n",
    "var"
   ]
  },
  {
   "cell_type": "markdown",
   "id": "162172ae",
   "metadata": {},
   "source": [
    "### Dictionaries"
   ]
  },
  {
   "cell_type": "code",
   "execution_count": 9,
   "id": "9bb61cc1",
   "metadata": {},
   "outputs": [
    {
     "data": {
      "text/plain": [
       "{0: 1, 1: 3, 2: 5, 3: 7, 4: 9}"
      ]
     },
     "execution_count": 9,
     "metadata": {},
     "output_type": "execute_result"
    }
   ],
   "source": [
    "var = {k: 2*k+1 for k in range(5)}\n",
    "var"
   ]
  }
 ],
 "metadata": {
  "kernelspec": {
   "display_name": "Python 3 (ipykernel)",
   "language": "python",
   "name": "python3"
  },
  "language_info": {
   "codemirror_mode": {
    "name": "ipython",
    "version": 3
   },
   "file_extension": ".py",
   "mimetype": "text/x-python",
   "name": "python",
   "nbconvert_exporter": "python",
   "pygments_lexer": "ipython3",
   "version": "3.10.12"
  }
 },
 "nbformat": 4,
 "nbformat_minor": 5
}
