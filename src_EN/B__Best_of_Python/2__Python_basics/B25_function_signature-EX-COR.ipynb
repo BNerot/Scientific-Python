{
 "cells": [
  {
   "cell_type": "code",
   "execution_count": null,
   "id": "8b1718df",
   "metadata": {},
   "outputs": [],
   "source": [
    "def f(*args, **kwargs):\n",
    "    sum_ = 0\n",
    "    prod_ = 1\n",
    "    for var_name, value in kwargs.items():\n",
    "        if var_name.endswith('_tosum'):\n",
    "            sum_ += value\n",
    "        if var_name.endswith('_tomul'):\n",
    "            prod_ *= value\n",
    "    return (*args, sum_ - prod_)        \n",
    "        "
   ]
  }
 ],
 "metadata": {
  "kernelspec": {
   "display_name": "Python 3 (ipykernel)",
   "language": "python",
   "name": "python3"
  },
  "language_info": {
   "codemirror_mode": {
    "name": "ipython",
    "version": 3
   },
   "file_extension": ".py",
   "mimetype": "text/x-python",
   "name": "python",
   "nbconvert_exporter": "python",
   "pygments_lexer": "ipython3",
   "version": "3.10.12"
  }
 },
 "nbformat": 4,
 "nbformat_minor": 5
}
