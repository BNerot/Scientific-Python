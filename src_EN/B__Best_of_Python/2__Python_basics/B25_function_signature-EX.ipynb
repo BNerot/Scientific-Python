{
 "cells": [
  {
   "cell_type": "markdown",
   "id": "fbc62664",
   "metadata": {},
   "source": [
    "Define a function `f` that performs:\n",
    "\n",
    "- the sum of every undeterminated keyword argument whose name ends with '_tosum'\n",
    "- the product of every undeterminated keyword argument whose name ends with '_tomul'\n",
    "- compute the difference of this sum and product\n",
    "- return:\n",
    "    \n",
    "    - the undeterminated positional arguments\n",
    "    - the previously computed difference\n",
    "   \n",
    "  as a set\n",
    "\n",
    "\n",
    "\n",
    "Test, try:\n",
    "\n",
    "```\n",
    "assert f(1, 2, 3, a_tosum=1, b_tosum=42, c_tosum_tomul=98, d_tomul=-5) == (1, 2, 3, 533)\n",
    "\n",
    "```"
   ]
  }
 ],
 "metadata": {
  "kernelspec": {
   "display_name": "Python 3 (ipykernel)",
   "language": "python",
   "name": "python3"
  },
  "language_info": {
   "codemirror_mode": {
    "name": "ipython",
    "version": 3
   },
   "file_extension": ".py",
   "mimetype": "text/x-python",
   "name": "python",
   "nbconvert_exporter": "python",
   "pygments_lexer": "ipython3",
   "version": "3.10.12"
  }
 },
 "nbformat": 4,
 "nbformat_minor": 5
}
