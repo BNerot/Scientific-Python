{
 "cells": [
  {
   "cell_type": "markdown",
   "id": "9b671dab",
   "metadata": {},
   "source": [
    "## `unpacking`"
   ]
  },
  {
   "cell_type": "markdown",
   "id": "969adf37",
   "metadata": {},
   "source": [
    "### Key idea"
   ]
  },
  {
   "cell_type": "markdown",
   "id": "b2638872",
   "metadata": {},
   "source": [
    "__unpacking__ is a way to extract values from a data container into separate variables."
   ]
  },
  {
   "cell_type": "code",
   "execution_count": 1,
   "id": "dfdb0047",
   "metadata": {
    "scrolled": true
   },
   "outputs": [
    {
     "name": "stdout",
     "output_type": "stream",
     "text": [
      "1\n",
      "2\n",
      "3\n"
     ]
    }
   ],
   "source": [
    "a, b, c = [1, 2, 3]\n",
    "print(a)\n",
    "print(b)\n",
    "print(c)"
   ]
  },
  {
   "cell_type": "markdown",
   "id": "67715c3a",
   "metadata": {},
   "source": [
    "If the number of variables on left side of `=` is not the number of elements of the container, an error is raised:"
   ]
  },
  {
   "cell_type": "code",
   "execution_count": 2,
   "id": "d5664931",
   "metadata": {},
   "outputs": [
    {
     "ename": "ValueError",
     "evalue": "too many values to unpack (expected 2)",
     "output_type": "error",
     "traceback": [
      "\u001b[0;31m---------------------------------------------------------------------------\u001b[0m",
      "\u001b[0;31mValueError\u001b[0m                                Traceback (most recent call last)",
      "Cell \u001b[0;32mIn[2], line 1\u001b[0m\n\u001b[0;32m----> 1\u001b[0m a, b \u001b[38;5;241m=\u001b[39m [\u001b[38;5;241m1\u001b[39m, \u001b[38;5;241m2\u001b[39m, \u001b[38;5;241m3\u001b[39m]\n",
      "\u001b[0;31mValueError\u001b[0m: too many values to unpack (expected 2)"
     ]
    }
   ],
   "source": [
    "a, b = [1, 2, 3]"
   ]
  },
  {
   "cell_type": "markdown",
   "id": "633aeff1",
   "metadata": {},
   "source": [
    "One can forget about some specific elements using __`*`__. "
   ]
  },
  {
   "cell_type": "code",
   "execution_count": 3,
   "id": "180b08e1",
   "metadata": {},
   "outputs": [
    {
     "name": "stdout",
     "output_type": "stream",
     "text": [
      "a b c g\n"
     ]
    }
   ],
   "source": [
    "var1, var2, var3, *unwanted, var4 = \"abcdefg\"\n",
    "print(var1, var2, var3, var4)"
   ]
  },
  {
   "cell_type": "markdown",
   "id": "4863ceaf",
   "metadata": {},
   "source": [
    "Yet, in this case, there must be at most one unknown variable (one `*`)"
   ]
  },
  {
   "cell_type": "code",
   "execution_count": 4,
   "id": "a5505638",
   "metadata": {},
   "outputs": [
    {
     "ename": "SyntaxError",
     "evalue": "multiple starred expressions in assignment (741216360.py, line 1)",
     "output_type": "error",
     "traceback": [
      "\u001b[0;36m  Cell \u001b[0;32mIn[4], line 1\u001b[0;36m\u001b[0m\n\u001b[0;31m    a, *unwanted, c, *unwanted, g = \"abcdefg\"\u001b[0m\n\u001b[0m    ^\u001b[0m\n\u001b[0;31mSyntaxError\u001b[0m\u001b[0;31m:\u001b[0m multiple starred expressions in assignment\n"
     ]
    }
   ],
   "source": [
    "a, *unwanted, c, *unwanted, g = \"abcdefg\""
   ]
  },
  {
   "cell_type": "markdown",
   "id": "d7448735",
   "metadata": {},
   "source": [
    "### Use cases"
   ]
  },
  {
   "cell_type": "markdown",
   "id": "14a7e71e",
   "metadata": {},
   "source": [
    "Unpacking can be used in the following situations:\n",
    "\n",
    "- `for` loops\n",
    "- permutationw with __no intermediate values__\n",
    "- arguments passed to a function (see hereafter)"
   ]
  },
  {
   "cell_type": "markdown",
   "id": "eb110ab1",
   "metadata": {},
   "source": [
    "`for` loops:"
   ]
  },
  {
   "cell_type": "code",
   "execution_count": 5,
   "id": "e4e710d5",
   "metadata": {},
   "outputs": [
    {
     "name": "stdout",
     "output_type": "stream",
     "text": [
      "1 2\n",
      "4 5\n"
     ]
    }
   ],
   "source": [
    "for a, b, *_ in [(1, 2, 30), \n",
    "                 (4, 5, 60, 42)]:\n",
    "    print(a, b)"
   ]
  },
  {
   "cell_type": "markdown",
   "id": "99138413",
   "metadata": {},
   "source": [
    "Permutations:"
   ]
  },
  {
   "cell_type": "code",
   "execution_count": 6,
   "id": "8e030228",
   "metadata": {},
   "outputs": [
    {
     "name": "stdout",
     "output_type": "stream",
     "text": [
      "6 5\n"
     ]
    }
   ],
   "source": [
    "a = 5\n",
    "b = 6\n",
    "a, b = b, a\n",
    "print(a, b)"
   ]
  },
  {
   "cell_type": "markdown",
   "id": "d624c4b9",
   "metadata": {},
   "source": [
    "## Function signature"
   ]
  },
  {
   "cell_type": "markdown",
   "id": "2a4d67c2",
   "metadata": {},
   "source": [
    "### Simple"
   ]
  },
  {
   "cell_type": "markdown",
   "id": "65c4d23c",
   "metadata": {},
   "source": [
    "A function signature presents the name and expected order of every argument of this function. \n",
    "\n",
    "__In a function call__, these arguments are of two types:\n",
    "\n",
    "- positional: their role is defined by the place they take in the arguments order\n",
    "- named (_keyword arguments_, i.e. `kwargs`)\n",
    "    "
   ]
  },
  {
   "cell_type": "code",
   "execution_count": 7,
   "id": "7da90318",
   "metadata": {},
   "outputs": [
    {
     "name": "stdout",
     "output_type": "stream",
     "text": [
      "`a`: 1        `b`: 2        `c`: 3\n",
      "`a`: 1        `b`: 2        `c`: 5\n",
      "`a`: 1        `b`: 2        `c`: 5\n"
     ]
    }
   ],
   "source": [
    "def f(a, b, c):\n",
    "    print(f\"`a`: {a}        `b`: {b}        `c`: {c}\")\n",
    "    \n",
    "f(1, 2, 3)        # all positional\n",
    "f(1, 2, c=5)      # some positional, some named\n",
    "f(c=5, a=1, b=2)  # all named, order does not matter"
   ]
  },
  {
   "cell_type": "markdown",
   "id": "11929207",
   "metadata": {},
   "source": [
    "Named arguments are always placed __after__ positional arguments."
   ]
  },
  {
   "cell_type": "code",
   "execution_count": 8,
   "id": "bc036555",
   "metadata": {},
   "outputs": [
    {
     "ename": "SyntaxError",
     "evalue": "positional argument follows keyword argument (1803835145.py, line 1)",
     "output_type": "error",
     "traceback": [
      "\u001b[0;36m  Cell \u001b[0;32mIn[8], line 1\u001b[0;36m\u001b[0m\n\u001b[0;31m    f(1, b=2, 3)\u001b[0m\n\u001b[0m               ^\u001b[0m\n\u001b[0;31mSyntaxError\u001b[0m\u001b[0;31m:\u001b[0m positional argument follows keyword argument\n"
     ]
    }
   ],
   "source": [
    "f(1, b=2, 3)"
   ]
  },
  {
   "cell_type": "markdown",
   "id": "5526819b",
   "metadata": {},
   "source": [
    "An argument cannot be specified both as positional and named:"
   ]
  },
  {
   "cell_type": "code",
   "execution_count": 9,
   "id": "e2df03cd",
   "metadata": {
    "scrolled": true
   },
   "outputs": [
    {
     "ename": "TypeError",
     "evalue": "f() got multiple values for argument 'a'",
     "output_type": "error",
     "traceback": [
      "\u001b[0;31m---------------------------------------------------------------------------\u001b[0m",
      "\u001b[0;31mTypeError\u001b[0m                                 Traceback (most recent call last)",
      "Cell \u001b[0;32mIn[9], line 1\u001b[0m\n\u001b[0;32m----> 1\u001b[0m \u001b[43mf\u001b[49m\u001b[43m(\u001b[49m\u001b[38;5;241;43m1\u001b[39;49m\u001b[43m,\u001b[49m\u001b[43m \u001b[49m\u001b[43ma\u001b[49m\u001b[38;5;241;43m=\u001b[39;49m\u001b[38;5;241;43m1\u001b[39;49m\u001b[43m,\u001b[49m\u001b[43m \u001b[49m\u001b[43mb\u001b[49m\u001b[38;5;241;43m=\u001b[39;49m\u001b[38;5;241;43m2\u001b[39;49m\u001b[43m,\u001b[49m\u001b[43m \u001b[49m\u001b[43mc\u001b[49m\u001b[38;5;241;43m=\u001b[39;49m\u001b[38;5;241;43m5\u001b[39;49m\u001b[43m)\u001b[49m\n",
      "\u001b[0;31mTypeError\u001b[0m: f() got multiple values for argument 'a'"
     ]
    }
   ],
   "source": [
    "f(1, a=1, b=2, c=5)"
   ]
  },
  {
   "cell_type": "markdown",
   "id": "46be8787",
   "metadata": {},
   "source": [
    "### Default value"
   ]
  },
  {
   "cell_type": "markdown",
   "id": "1ccb8f71",
   "metadata": {},
   "source": [
    "An argument can be absent from a function call if the function signature defines for this argument a default value. If this argument is given, default value is not taken into account."
   ]
  },
  {
   "cell_type": "code",
   "execution_count": 10,
   "id": "264cf286",
   "metadata": {},
   "outputs": [
    {
     "name": "stdout",
     "output_type": "stream",
     "text": [
      "`a`: 1        `b`: 2        `c`: 3\n",
      "`a`: 1        `b`: 2        `c`: 5\n"
     ]
    }
   ],
   "source": [
    "def f2(a, b, c=3):\n",
    "    print(f\"`a`: {a}        `b`: {b}        `c`: {c}\")\n",
    "    \n",
    "f2(1, 2)\n",
    "f2(1, 2, 5)"
   ]
  },
  {
   "cell_type": "markdown",
   "id": "76d22520",
   "metadata": {},
   "source": [
    "It is common to assign a `None` value to optional arguments. Then the body of the function must contain a special treatment for this argument."
   ]
  },
  {
   "cell_type": "code",
   "execution_count": 11,
   "id": "9eaa1f3d",
   "metadata": {},
   "outputs": [
    {
     "name": "stdout",
     "output_type": "stream",
     "text": [
      "3\n",
      "8\n"
     ]
    }
   ],
   "source": [
    "def f3(a, b, c=None):\n",
    "    if c is None:\n",
    "        c = 0\n",
    "    return a + b + c\n",
    "\n",
    "print(f3(1, 2))\n",
    "print(f3(1, 2, 5))"
   ]
  },
  {
   "cell_type": "markdown",
   "id": "71deeee4",
   "metadata": {},
   "source": [
    "Beware: default argument is defined only once (when the function is defined): if it __mutable, it will be modified from a call to another__"
   ]
  },
  {
   "cell_type": "code",
   "execution_count": 12,
   "id": "e4e4a86e",
   "metadata": {},
   "outputs": [
    {
     "name": "stdout",
     "output_type": "stream",
     "text": [
      "[0, 1]\n",
      "[0, 1, 2]\n",
      "[0, 1, 2, 3]\n"
     ]
    }
   ],
   "source": [
    "def f4(a, c=[0]):\n",
    "    c.append(a)\n",
    "    print(c)\n",
    "\n",
    "f4(1)\n",
    "f4(2)\n",
    "f4(3)"
   ]
  },
  {
   "cell_type": "markdown",
   "id": "7d25bfc8",
   "metadata": {},
   "source": [
    "### Undeterminated positional arguments: `*args`"
   ]
  },
  {
   "cell_type": "markdown",
   "id": "182f3e3c",
   "metadata": {},
   "source": [
    "A function can take an undeterminated number of positional arguments with the syntax `*args`. \n",
    "\n",
    "During a function call, all positional arguments undescribed by the function signature are gathered into a `tuple` and passed to the function using the name `args`. "
   ]
  },
  {
   "cell_type": "code",
   "execution_count": 13,
   "id": "cef34cb3",
   "metadata": {},
   "outputs": [
    {
     "name": "stdout",
     "output_type": "stream",
     "text": [
      "1 2 (3, 4, 5)\n",
      "1 2 ()\n"
     ]
    }
   ],
   "source": [
    "def f5(a, b, *args):\n",
    "    print(a, b, args)\n",
    "    \n",
    "f5(1, 2, 3, 4, 5)\n",
    "f5(1, 2)"
   ]
  },
  {
   "cell_type": "markdown",
   "id": "b80262da",
   "metadata": {},
   "source": [
    "Note that word \"`args`\" is only a convention."
   ]
  },
  {
   "cell_type": "code",
   "execution_count": 14,
   "id": "da49c6f0",
   "metadata": {},
   "outputs": [],
   "source": [
    "def f6(a, b, *other_values):\n",
    "    print(a, b, other_values)"
   ]
  },
  {
   "cell_type": "markdown",
   "id": "4c17b53b",
   "metadata": {},
   "source": [
    "Every argument following `*args` must be __named__."
   ]
  },
  {
   "cell_type": "code",
   "execution_count": 1,
   "id": "f4828211",
   "metadata": {},
   "outputs": [
    {
     "name": "stdout",
     "output_type": "stream",
     "text": [
      "1 2 (3, 4, 5)\n"
     ]
    }
   ],
   "source": [
    "def f7(a, *args, b):\n",
    "    print(a, b, args)\n",
    "    \n",
    "f7(1, 3, 4, 5, b=2)\n",
    "# f7(1, 3, 4, 5, 2)"
   ]
  },
  {
   "cell_type": "markdown",
   "id": "81f23fef",
   "metadata": {},
   "source": [
    "That explains why only `**kwargs` comes after `*args`."
   ]
  },
  {
   "cell_type": "markdown",
   "id": "1b776df2",
   "metadata": {},
   "source": [
    "### Undeterminated keyword arguments: `**kwargs`"
   ]
  },
  {
   "cell_type": "markdown",
   "id": "253a5e64",
   "metadata": {},
   "source": [
    "Similar to `*args`, `**kwargs` contains named arguments that are not defined by the function signature. Beware that the keys of `kwargs` are of type `str` (and the values are the passed variables)."
   ]
  },
  {
   "cell_type": "code",
   "execution_count": 16,
   "id": "22581f48",
   "metadata": {
    "scrolled": true
   },
   "outputs": [
    {
     "name": "stdout",
     "output_type": "stream",
     "text": [
      "1    2   0   0\n",
      "1    2   3   5\n",
      "1    2   0   5\n"
     ]
    }
   ],
   "source": [
    "def f8(a, b, **kwargs):\n",
    "    print(a, \"  \", b, end=\"   \")\n",
    "    print(kwargs.get(\"c\", 0), end=\"   \")    # if no 'c' exists as a dict key, take 0\n",
    "    print(kwargs.get(\"d\", 0))\n",
    "\n",
    "\n",
    "f8(1, 2)\n",
    "f8(1, 2, c=3, d=5)\n",
    "f8(1, 2, d=5)\n"
   ]
  },
  {
   "cell_type": "markdown",
   "id": "e8211cf5",
   "metadata": {},
   "source": [
    "One can also perform unpacking of dict-like variables. \n",
    "\n",
    "In the example below, unpacking is used to deconstruct the dictionary into a group of named arguments, which are once again interprated by the function:\n",
    "\n",
    "- some are explicitely named\n",
    "- other go to the `kwarg` variable"
   ]
  },
  {
   "cell_type": "code",
   "execution_count": 17,
   "id": "9f7b7741",
   "metadata": {},
   "outputs": [
    {
     "name": "stdout",
     "output_type": "stream",
     "text": [
      "1    2   0   0\n",
      "1    9   3   5\n",
      "1    2   0   5\n"
     ]
    }
   ],
   "source": [
    "def f9(a, b, **kwargs):\n",
    "    print(a, \"  \", b, end=\"   \")\n",
    "    print(kwargs.get(\"c\", 0), end=\"   \")\n",
    "    print(kwargs.get(\"d\", 0))\n",
    "    \n",
    "f9(1, 2)\n",
    "f9(1, **{\"b\": 9, \"c\": 3, \"d\": 5})\n",
    "f9(1, 2, **{\"d\": 5})\n"
   ]
  },
  {
   "cell_type": "markdown",
   "id": "2248c57b",
   "metadata": {},
   "source": [
    "### Advanced examples"
   ]
  },
  {
   "cell_type": "code",
   "execution_count": 18,
   "id": "320c0e11",
   "metadata": {},
   "outputs": [
    {
     "name": "stdout",
     "output_type": "stream",
     "text": [
      "3\n",
      "10\n",
      "17\n",
      "3\n"
     ]
    }
   ],
   "source": [
    "def custom_sum(a, b, *args, **kwargs):\n",
    "    weight = kwargs.get(\"weight\", 1)                   # get the value of 'weight' if exists, else 1\n",
    "    print(a + b + sum([arg * weight for arg in args]))\n",
    "\n",
    "custom_sum(1, 2)\n",
    "custom_sum(1, 2, 3, 4)\n",
    "custom_sum(1, 2, 3, 4, weight=2)\n",
    "custom_sum(1, 2, weight=2)"
   ]
  },
  {
   "cell_type": "markdown",
   "id": "fec831c2",
   "metadata": {},
   "source": [
    "Note: a force of `**kwargs` (and `*args`) is that it can be easily passed from a function call to another."
   ]
  },
  {
   "cell_type": "code",
   "execution_count": 19,
   "id": "09c8c5a7",
   "metadata": {},
   "outputs": [
    {
     "name": "stdout",
     "output_type": "stream",
     "text": [
      "10\n",
      "3\n",
      "3\n"
     ]
    }
   ],
   "source": [
    "def advanced_function(a, b, *args, **kwargs):\n",
    "    if kwargs.get(\"advanced\") > 10:\n",
    "        kwargs[\"weight\"] = 1\n",
    "    else:\n",
    "        kwargs[\"weight\"] = 0\n",
    "    custom_sum(a, b, *args, **kwargs)\n",
    "\n",
    "advanced_function(1, 2, 3, 4, advanced=11, useless_kwarg=1000)\n",
    "advanced_function(1, 2, 3, 4, advanced=9, useless_kwarg=1000)\n",
    "advanced_function(*[1, 2, 3, 4], advanced=9, useless_kwarg=1000)"
   ]
  }
 ],
 "metadata": {
  "kernelspec": {
   "display_name": "Python 3 (ipykernel)",
   "language": "python",
   "name": "python3"
  },
  "language_info": {
   "codemirror_mode": {
    "name": "ipython",
    "version": 3
   },
   "file_extension": ".py",
   "mimetype": "text/x-python",
   "name": "python",
   "nbconvert_exporter": "python",
   "pygments_lexer": "ipython3",
   "version": "3.10.12"
  }
 },
 "nbformat": 4,
 "nbformat_minor": 5
}
