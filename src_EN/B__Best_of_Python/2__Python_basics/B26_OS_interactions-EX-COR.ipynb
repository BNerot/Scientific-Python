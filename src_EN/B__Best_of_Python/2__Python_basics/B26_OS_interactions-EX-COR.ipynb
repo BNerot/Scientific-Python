{
 "cells": [
  {
   "cell_type": "code",
   "execution_count": null,
   "id": "84329aa8",
   "metadata": {},
   "outputs": [],
   "source": [
    "s = \\\n",
    "'''Python is a genus of constricting snakes in the Pythonidae family native to the tropics and subtropics of the Eastern Hemisphere.\n",
    "\n",
    "The name python was proposed by François Marie Daudin in 1803 for non-venomous flecked snakes. \n",
    "\n",
    "\n",
    "\n",
    "\n",
    "Currently, 10 python species are recognized as valid taxa.'''\n",
    "with open('a_new_file.txt', 'a') as f:\n",
    "    f.write(s)"
   ]
  }
 ],
 "metadata": {
  "kernelspec": {
   "display_name": "Python 3 (ipykernel)",
   "language": "python",
   "name": "python3"
  },
  "language_info": {
   "codemirror_mode": {
    "name": "ipython",
    "version": 3
   },
   "file_extension": ".py",
   "mimetype": "text/x-python",
   "name": "python",
   "nbconvert_exporter": "python",
   "pygments_lexer": "ipython3",
   "version": "3.10.12"
  }
 },
 "nbformat": 4,
 "nbformat_minor": 5
}
