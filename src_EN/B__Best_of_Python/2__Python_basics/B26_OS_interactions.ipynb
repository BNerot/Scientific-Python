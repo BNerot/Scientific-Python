{
 "cells": [
  {
   "cell_type": "markdown",
   "id": "a1d8e06a",
   "metadata": {
    "editable": true,
    "slideshow": {
     "slide_type": "slide"
    },
    "tags": []
   },
   "source": [
    "## File reading/writing"
   ]
  },
  {
   "cell_type": "markdown",
   "id": "f387c21a",
   "metadata": {},
   "source": [
    "### Examples"
   ]
  },
  {
   "cell_type": "markdown",
   "id": "2a8872e0",
   "metadata": {},
   "source": [
    "Python is able to read and modify text files (and binary files, too) using the `open` function. In the example below, a file 'file.txt' was previously created on disk."
   ]
  },
  {
   "cell_type": "code",
   "execution_count": 1,
   "id": "1887f868",
   "metadata": {
    "editable": true,
    "slideshow": {
     "slide_type": ""
    },
    "tags": []
   },
   "outputs": [
    {
     "name": "stdout",
     "output_type": "stream",
     "text": [
      "A new line\n",
      "Another new line\n",
      "\n"
     ]
    }
   ],
   "source": [
    "with open(\"file.txt\") as f:\n",
    "    line_1 = f.readline()\n",
    "    line_2 = f.readline()\n",
    "\n",
    "print(line_1, line_2, sep=\"\")"
   ]
  },
  {
   "cell_type": "markdown",
   "id": "1cf9a412",
   "metadata": {
    "editable": true,
    "slideshow": {
     "slide_type": "slide"
    },
    "tags": []
   },
   "source": [
    "By default, `open` opens the file:\n",
    "\n",
    "- in __text mode__\n",
    "- in __read only__ mode: modifying the file is not possible"
   ]
  },
  {
   "cell_type": "code",
   "execution_count": 2,
   "id": "deea3b4a",
   "metadata": {},
   "outputs": [
    {
     "ename": "UnsupportedOperation",
     "evalue": "not writable",
     "output_type": "error",
     "traceback": [
      "\u001b[0;31m---------------------------------------------------------------------------\u001b[0m",
      "\u001b[0;31mUnsupportedOperation\u001b[0m                      Traceback (most recent call last)",
      "Cell \u001b[0;32mIn[2], line 2\u001b[0m\n\u001b[1;32m      1\u001b[0m \u001b[38;5;28;01mwith\u001b[39;00m \u001b[38;5;28mopen\u001b[39m(\u001b[38;5;124m\"\u001b[39m\u001b[38;5;124mfile.txt\u001b[39m\u001b[38;5;124m\"\u001b[39m) \u001b[38;5;28;01mas\u001b[39;00m f:\n\u001b[0;32m----> 2\u001b[0m     new_line \u001b[38;5;241m=\u001b[39m \u001b[43mf\u001b[49m\u001b[38;5;241;43m.\u001b[39;49m\u001b[43mwrite\u001b[49m\u001b[43m(\u001b[49m\u001b[38;5;124;43m\"\u001b[39;49m\u001b[38;5;124;43mA new line\u001b[39;49m\u001b[38;5;130;43;01m\\n\u001b[39;49;00m\u001b[38;5;124;43mAnother new line\u001b[39;49m\u001b[38;5;130;43;01m\\n\u001b[39;49;00m\u001b[38;5;124;43m\"\u001b[39;49m\u001b[43m)\u001b[49m\n",
      "\u001b[0;31mUnsupportedOperation\u001b[0m: not writable"
     ]
    }
   ],
   "source": [
    "with open(\"file.txt\") as f:\n",
    "    new_line = f.write(\"A new line\\nAnother new line\\n\")"
   ]
  },
  {
   "cell_type": "markdown",
   "id": "be9ebc49",
   "metadata": {
    "editable": true,
    "slideshow": {
     "slide_type": "slide"
    },
    "tags": []
   },
   "source": [
    "To edit the file, one can use one of the following options:\n",
    "\n",
    "- `'w'`: write to the beginning of the file and existing content is removed!\n",
    "- `'a'`: write at the end of the file, existing content is kept"
   ]
  },
  {
   "cell_type": "code",
   "execution_count": 3,
   "id": "1179d5a1",
   "metadata": {
    "editable": true,
    "slideshow": {
     "slide_type": "slide"
    },
    "tags": []
   },
   "outputs": [
    {
     "name": "stdout",
     "output_type": "stream",
     "text": [
      "Appending to existing file: ['A new line\\n', 'Another new line\\n', 'A new line\\n', 'Another new line\\n']\n",
      "Replacing content of existing file: ['A new line\\n', 'Another new line\\n']\n"
     ]
    }
   ],
   "source": [
    "with open(\"file.txt\", \"a\") as f:\n",
    "    new_line = f.write(\"A new line\\nAnother new line\\n\")\n",
    "    \n",
    "with open(\"file.txt\") as f:\n",
    "    print(\"Appending to existing file: \", end=\"\")\n",
    "    print(f.readlines())\n",
    "    \n",
    "with open(\"file.txt\", \"w\") as f:\n",
    "    new_line = f.write(\"A new line\\nAnother new line\\n\")\n",
    "    \n",
    "with open(\"file.txt\") as f:\n",
    "    print(\"Replacing content of existing file: \", end=\"\")\n",
    "    print(f.readlines())"
   ]
  },
  {
   "cell_type": "markdown",
   "id": "c578b14d",
   "metadata": {},
   "source": [
    "Note the following methods:\n",
    "\n",
    "- `readline`: read a single line of a file. If several calls to `readline` are done, lines are displayed one after another.\n",
    "- `readlines`: read all the lines of the file and store them into a list\n",
    "- `write`: write a string in the file"
   ]
  },
  {
   "cell_type": "markdown",
   "id": "11b9a89c",
   "metadata": {
    "editable": true,
    "slideshow": {
     "slide_type": "slide"
    },
    "tags": []
   },
   "source": [
    "### Notes"
   ]
  },
  {
   "cell_type": "markdown",
   "id": "58a06541",
   "metadata": {},
   "source": [
    "`\\n` is the universal character to describe a line break:"
   ]
  },
  {
   "cell_type": "code",
   "execution_count": 4,
   "id": "11a423d2",
   "metadata": {
    "editable": true,
    "slideshow": {
     "slide_type": ""
    },
    "tags": []
   },
   "outputs": [
    {
     "name": "stdout",
     "output_type": "stream",
     "text": [
      ".\n",
      "A\n"
     ]
    }
   ],
   "source": [
    "s = \"This is a sentence.\\nA\"\n",
    "print(s[-3:])   # the last three caracters are 'A', \n",
    "                # a new line and a dot '.': \n",
    "                # the new line is not made of 2 caracters!"
   ]
  },
  {
   "cell_type": "markdown",
   "id": "f56a1434",
   "metadata": {
    "editable": true,
    "slideshow": {
     "slide_type": "slide"
    },
    "tags": []
   },
   "source": [
    "The `with` bloc is important: it makes sure file is open and closed in a clean way.\n",
    "\n",
    "The other way to manage files is described here after: it is __depreciated__ because  if `f.close()` is never called then the file might be corrupted or damage the operating system."
   ]
  },
  {
   "cell_type": "code",
   "execution_count": 5,
   "id": "c7c4c456",
   "metadata": {
    "scrolled": true
   },
   "outputs": [
    {
     "name": "stdout",
     "output_type": "stream",
     "text": [
      "A new line\n",
      "Another new line\n",
      "\n"
     ]
    }
   ],
   "source": [
    "f = open(\"file.txt\")\n",
    "line_1 = f.readline()\n",
    "line_2 = f.readline()\n",
    "f.close()   # never forget this one!\n",
    "print(line_1, line_2, sep=\"\")"
   ]
  },
  {
   "cell_type": "markdown",
   "id": "eb621845",
   "metadata": {
    "editable": true,
    "slideshow": {
     "slide_type": "slide"
    },
    "tags": []
   },
   "source": [
    "One can create an empty text file:"
   ]
  },
  {
   "cell_type": "code",
   "execution_count": 6,
   "id": "0bbcb502",
   "metadata": {},
   "outputs": [],
   "source": [
    "with open(\"my_empty_file.txt\", \"w\") as f:\n",
    "    pass"
   ]
  },
  {
   "cell_type": "markdown",
   "id": "9b671dab",
   "metadata": {
    "editable": true,
    "slideshow": {
     "slide_type": "slide"
    },
    "tags": []
   },
   "source": [
    "## Files management"
   ]
  },
  {
   "cell_type": "markdown",
   "id": "43e55cd6",
   "metadata": {},
   "source": [
    "### Key ideas"
   ]
  },
  {
   "cell_type": "markdown",
   "id": "c2e8e435",
   "metadata": {},
   "source": [
    "A file path is the adress of a file on the disk. In Python, the preferred way to handle file paths is to use the __`pathlib`__ library (built in). It handles perfectly the differences of separators ('/' or '\\') between different operating systems. `pathlib.Path` instances can handle both files __and__ directories."
   ]
  },
  {
   "cell_type": "code",
   "execution_count": 7,
   "id": "bb86ceb4",
   "metadata": {},
   "outputs": [
    {
     "name": "stdout",
     "output_type": "stream",
     "text": [
      "a_file.txt\n",
      "/this/is/my/path\n",
      ".txt\n"
     ]
    }
   ],
   "source": [
    "from pathlib import Path\n",
    "path = Path(\"/this/is/my/path/a_file.txt\")\n",
    "print(path.name)    # file\n",
    "print(path.parent)  # directory\n",
    "print(path.suffix)  # file extension"
   ]
  },
  {
   "cell_type": "markdown",
   "id": "aab681ff",
   "metadata": {
    "editable": true,
    "slideshow": {
     "slide_type": "slide"
    },
    "tags": []
   },
   "source": [
    "The creation of a `Path` instance does not mean the corresponding path exists:"
   ]
  },
  {
   "cell_type": "code",
   "execution_count": 8,
   "id": "af7402ae",
   "metadata": {},
   "outputs": [
    {
     "data": {
      "text/plain": [
       "False"
      ]
     },
     "execution_count": 8,
     "metadata": {},
     "output_type": "execute_result"
    }
   ],
   "source": [
    "path.exists()"
   ]
  },
  {
   "cell_type": "markdown",
   "id": "8bb09088",
   "metadata": {
    "editable": true,
    "slideshow": {
     "slide_type": "slide"
    },
    "tags": []
   },
   "source": [
    "Yet, it can be used to create it:"
   ]
  },
  {
   "cell_type": "code",
   "execution_count": 9,
   "id": "01f9d3b0",
   "metadata": {},
   "outputs": [],
   "source": [
    "if False:\n",
    "    path.parent.mkdir(\n",
    "                        parents=True,    # if parents do not exist, they are created ('this', 'is', 'my')\n",
    "                        exist_ok=True    # if the path already exists, it does nothing and does not throw an error\n",
    "                        )"
   ]
  },
  {
   "cell_type": "markdown",
   "id": "4a65e5ba",
   "metadata": {
    "editable": true,
    "slideshow": {
     "slide_type": "slide"
    },
    "tags": []
   },
   "source": [
    "### Absolute and relative file paths"
   ]
  },
  {
   "cell_type": "markdown",
   "id": "b6eb4b40",
   "metadata": {},
   "source": [
    "An absolute path is a complete adress of a file (or directory) on the disk. Using Linux, these paths start with '/' (root), using Windows they start with the drive name ('c:/', 'd:/', etc...)."
   ]
  },
  {
   "cell_type": "code",
   "execution_count": 10,
   "id": "ae754098",
   "metadata": {},
   "outputs": [
    {
     "data": {
      "text/plain": [
       "PosixPath('/this/is/my/path/a_file.txt')"
      ]
     },
     "execution_count": 10,
     "metadata": {},
     "output_type": "execute_result"
    }
   ],
   "source": [
    "path"
   ]
  },
  {
   "cell_type": "code",
   "execution_count": 11,
   "id": "f48f577f",
   "metadata": {
    "scrolled": true
   },
   "outputs": [
    {
     "data": {
      "text/plain": [
       "True"
      ]
     },
     "execution_count": 11,
     "metadata": {},
     "output_type": "execute_result"
    }
   ],
   "source": [
    "path.is_absolute()"
   ]
  },
  {
   "cell_type": "code",
   "execution_count": 12,
   "id": "bcfc7419",
   "metadata": {
    "editable": true,
    "scrolled": true,
    "slideshow": {
     "slide_type": "slide"
    },
    "tags": []
   },
   "outputs": [
    {
     "name": "stdout",
     "output_type": "stream",
     "text": [
      "False\n"
     ]
    }
   ],
   "source": [
    "relative_path = Path(\"path/relative/to/current/directory\")\n",
    "print(relative_path.is_absolute())"
   ]
  },
  {
   "cell_type": "markdown",
   "id": "45bc4c29",
   "metadata": {},
   "source": [
    "Conversely, relative paths are path defined starting from the current directory, which can be obtained using `Path.cwd()`. This directory is also called `'.'`. Th e parent of this directory is called '`..`'."
   ]
  },
  {
   "cell_type": "code",
   "execution_count": 13,
   "id": "1774c1e8",
   "metadata": {},
   "outputs": [
    {
     "name": "stdout",
     "output_type": "stream",
     "text": [
      "dir1/dir2/dir3/../..\n",
      "dir1\n"
     ]
    }
   ],
   "source": [
    "path1 = Path(\"./dir1/dir2/dir3/../..\")\n",
    "path2 = Path(\"./dir1/\")\n",
    "print(path1)\n",
    "print(path2)"
   ]
  },
  {
   "cell_type": "markdown",
   "id": "d021acbd",
   "metadata": {
    "editable": true,
    "slideshow": {
     "slide_type": "slide"
    },
    "tags": []
   },
   "source": [
    "Two relative paths cannot be compared. One must first call the `resolve` method that returns an absolute path."
   ]
  },
  {
   "cell_type": "code",
   "execution_count": 14,
   "id": "127948fe",
   "metadata": {},
   "outputs": [
    {
     "name": "stdout",
     "output_type": "stream",
     "text": [
      "False\n",
      "True\n"
     ]
    }
   ],
   "source": [
    "print(path1==path2)\n",
    "print(path1.resolve()==path2.resolve())"
   ]
  },
  {
   "cell_type": "markdown",
   "id": "7a41ef3e",
   "metadata": {},
   "source": [
    "Some libraries do not accept `Path` instances...in this case one must use `str`."
   ]
  },
  {
   "cell_type": "code",
   "execution_count": 15,
   "id": "25bd9baf",
   "metadata": {},
   "outputs": [],
   "source": [
    "if False:\n",
    "    print(str(path1.resolve()))"
   ]
  },
  {
   "cell_type": "markdown",
   "id": "9b00882d",
   "metadata": {
    "editable": true,
    "slideshow": {
     "slide_type": "slide"
    },
    "tags": []
   },
   "source": [
    "### Define complex paths"
   ]
  },
  {
   "cell_type": "markdown",
   "id": "6341633c",
   "metadata": {},
   "source": [
    "The `/` operator creates a single path from two paths. It can be used several times in a row:"
   ]
  },
  {
   "cell_type": "code",
   "execution_count": 16,
   "id": "ba5a5063",
   "metadata": {},
   "outputs": [
    {
     "name": "stdout",
     "output_type": "stream",
     "text": [
      "/my/project/is/in/a/very/deep/dir\n",
      "/my/project/is/in/a/very/deep/dir/data/case_study\n",
      "/my/project/is/in/a/very/deep/dir/src\n",
      "/my/project/is/in/a/very/deep/dir/data/case_study/a_file.txt\n"
     ]
    }
   ],
   "source": [
    "base_path = Path(\"/my/project/is/in/a/very/deep/dir\")\n",
    "data_path = base_path / \"data\" / \"case_study\"\n",
    "src_path = data_path / \"../../src\"\n",
    "file_path = data_path / \"a_file.txt\"\n",
    "print(base_path.resolve())\n",
    "print(data_path.resolve())\n",
    "print(src_path.resolve())\n",
    "print(file_path.resolve())"
   ]
  },
  {
   "cell_type": "markdown",
   "id": "489b8305",
   "metadata": {
    "editable": true,
    "slideshow": {
     "slide_type": "slide"
    },
    "tags": []
   },
   "source": [
    "### Browse your files"
   ]
  },
  {
   "cell_type": "markdown",
   "id": "5b2a43bf",
   "metadata": {},
   "source": [
    "Let's create a fictive files structure:\n",
    "\n",
    "```\n",
    "A/\n",
    "    1/\n",
    "        a/\n",
    "            file_1.txt\n",
    "            file_2.txt\n",
    "        b/\n",
    "            file_1.txt\n",
    "            file_2.txt\n",
    "    2/\n",
    "        a/\n",
    "            file_1.txt\n",
    "            file_2.txt\n",
    "        b/\n",
    "            file_1.txt\n",
    "            file_2.txt\n",
    "    useless_file.txt\n",
    "```"
   ]
  },
  {
   "cell_type": "markdown",
   "id": "0754d016",
   "metadata": {
    "editable": true,
    "slideshow": {
     "slide_type": ""
    },
    "tags": []
   },
   "source": [
    "A list of the files of a specific directory is available using the `iterdir` method of a `Path` instance describing this directory. \n",
    "\n",
    "`iterdir` returns a generator. Below, it is transformed into a list for easier handling:"
   ]
  },
  {
   "cell_type": "code",
   "execution_count": 17,
   "id": "55376416",
   "metadata": {},
   "outputs": [
    {
     "name": "stdout",
     "output_type": "stream",
     "text": [
      "<generator object Path.iterdir at 0x7f3fd41a46d0>\n",
      "[PosixPath('A/2'), PosixPath('A/useless_file.txt'), PosixPath('A/1')]\n"
     ]
    }
   ],
   "source": [
    "p = Path('A')\n",
    "print(p.iterdir())\n",
    "print(list(p.iterdir()))"
   ]
  },
  {
   "cell_type": "markdown",
   "id": "51a46b45",
   "metadata": {
    "editable": true,
    "slideshow": {
     "slide_type": "slide"
    },
    "tags": []
   },
   "source": [
    "One can also browse sub directories using the `walk` function of library __`os`__ (built in)."
   ]
  },
  {
   "cell_type": "code",
   "execution_count": 18,
   "id": "42a24b37",
   "metadata": {
    "editable": true,
    "slideshow": {
     "slide_type": ""
    },
    "tags": []
   },
   "outputs": [
    {
     "name": "stdout",
     "output_type": "stream",
     "text": [
      "A        ['2', '1'] ['useless_file.txt']\n",
      "A/2      ['b', 'a'] []\n",
      "A/2/b    [] ['file_1', 'file_2']\n",
      "A/2/a    [] ['file_1', 'file_2']\n",
      "A/1      ['b', 'a'] []\n",
      "A/1/b    [] ['file_1', 'file_2']\n",
      "A/1/a    [] ['file_1', 'file_2']\n"
     ]
    }
   ],
   "source": [
    "import os\n",
    "for current_dir, subdirs, files in os.walk(p):\n",
    "    print(f\"{current_dir:<8}\", subdirs, files)"
   ]
  },
  {
   "cell_type": "markdown",
   "id": "bdcecc66",
   "metadata": {
    "editable": true,
    "slideshow": {
     "slide_type": ""
    },
    "tags": []
   },
   "source": [
    "Note that:\n",
    "\n",
    "- `os.walk` returns strings\n",
    "- a method `Path.walk` exists for very recent version of python, and should be prefered over `os.walk` if available\n"
   ]
  },
  {
   "cell_type": "markdown",
   "id": "0c34223e",
   "metadata": {
    "editable": true,
    "slideshow": {
     "slide_type": "slide"
    },
    "tags": []
   },
   "source": [
    "### Operations on files\n",
    "#### Removal"
   ]
  },
  {
   "cell_type": "markdown",
   "id": "743bb380",
   "metadata": {},
   "source": [
    "A file can be removed using `Path.unlink`. if it's a directory, then use `Path.rmdir`."
   ]
  },
  {
   "cell_type": "code",
   "execution_count": 19,
   "id": "99d1b790",
   "metadata": {
    "scrolled": true
   },
   "outputs": [],
   "source": [
    "if False:\n",
    "    p = Path('A/useless_file.txt')\n",
    "    print(\"Existing files: \", list(p.parent.iterdir()))\n",
    "    p.unlink()\n",
    "    print(\"A file was removed: \", list(p.parent.iterdir()))"
   ]
  },
  {
   "cell_type": "markdown",
   "id": "681feacd",
   "metadata": {
    "editable": true,
    "slideshow": {
     "slide_type": "slide"
    },
    "tags": []
   },
   "source": [
    "#### Move/copy\n",
    "\n",
    "To move or copy/paste a file, the `shutil` library must be used (built in)."
   ]
  },
  {
   "cell_type": "markdown",
   "id": "72add1da",
   "metadata": {},
   "source": [
    "Below, a file is moved to the same directory, but its name is changed:"
   ]
  },
  {
   "cell_type": "code",
   "execution_count": 20,
   "id": "819f47a0",
   "metadata": {},
   "outputs": [
    {
     "data": {
      "text/plain": [
       "PosixPath('A/useless_file_new_name.txt')"
      ]
     },
     "execution_count": 20,
     "metadata": {},
     "output_type": "execute_result"
    }
   ],
   "source": [
    "import shutil\n",
    "source = Path('A/useless_file.txt')\n",
    "destination = Path('A/useless_file_new_name.txt')\n",
    "\n",
    "shutil.move(source, destination)"
   ]
  },
  {
   "cell_type": "markdown",
   "id": "0bbe06b2",
   "metadata": {
    "editable": true,
    "slideshow": {
     "slide_type": "slide"
    },
    "tags": []
   },
   "source": [
    "Copy/paste:"
   ]
  },
  {
   "cell_type": "code",
   "execution_count": 24,
   "id": "7a402bb3",
   "metadata": {},
   "outputs": [
    {
     "data": {
      "text/plain": [
       "PosixPath('A/useless_file_new_name.txt')"
      ]
     },
     "execution_count": 24,
     "metadata": {},
     "output_type": "execute_result"
    }
   ],
   "source": [
    "shutil.move(destination, source)   \n",
    "source = Path('A/useless_file.txt')\n",
    "destination = Path('A/useless_file_new_name.txt')\n",
    "\n",
    "shutil.copy2(source, destination)   #  source file still exists"
   ]
  },
  {
   "cell_type": "markdown",
   "id": "6de91b45",
   "metadata": {},
   "source": [
    "__Note__: the copy of metadata (owner of the file, permissions, dates, etc...) might fail!"
   ]
  },
  {
   "cell_type": "markdown",
   "id": "b34d013d",
   "metadata": {
    "editable": true,
    "slideshow": {
     "slide_type": "slide"
    },
    "tags": []
   },
   "source": [
    "### Take away"
   ]
  },
  {
   "cell_type": "markdown",
   "id": "5b7f7333",
   "metadata": {},
   "source": [
    "3 libraries can handle files:\n",
    "\n",
    "- browse the disk, delete files and directories: use `pathlib` [(documentation)](https://docs.python.org/3/library/pathlib.html) in priority, else `os` [(documentation)](https://docs.python.org/3/library/os.html).\n",
    "- move, copy files and directories: use `shutil` [(documentation)](https://docs.python.org/3/library/shutil.html)\n",
    "\n"
   ]
  },
  {
   "cell_type": "markdown",
   "id": "99c8350d",
   "metadata": {
    "editable": true,
    "slideshow": {
     "slide_type": "slide"
    },
    "tags": []
   },
   "source": [
    "## Run a system call"
   ]
  },
  {
   "cell_type": "markdown",
   "id": "a9731d4c",
   "metadata": {
    "editable": true,
    "slideshow": {
     "slide_type": ""
    },
    "tags": []
   },
   "source": [
    "### Introduction\n",
    "\n",
    "The call to an external program from Python makes it possible to build complex scripts that involve several different software components.\n",
    "\n",
    "The key idea is to define a command the same way one would define it in a terminal (Linux, OS X) or a _cmd_ command line (Windows).\n",
    "\n"
   ]
  },
  {
   "cell_type": "markdown",
   "id": "29fd608f-39d9-48b5-9484-a738aa4c525c",
   "metadata": {
    "editable": true,
    "slideshow": {
     "slide_type": "slide"
    },
    "tags": []
   },
   "source": [
    "### Example\n",
    "\n",
    " __One must use the `run` function of library `subprocess` (built in).__"
   ]
  },
  {
   "cell_type": "code",
   "execution_count": 22,
   "id": "85e5e27d",
   "metadata": {
    "editable": true,
    "slideshow": {
     "slide_type": ""
    },
    "tags": []
   },
   "outputs": [
    {
     "name": "stdout",
     "output_type": "stream",
     "text": [
      "<class 'subprocess.CompletedProcess'>\n",
      "CompletedProcess(args='mkdir a_new_dir', returncode=0, stdout=b'', stderr=b'')\n"
     ]
    }
   ],
   "source": [
    "import subprocess\n",
    "name = 'something'\n",
    "result = subprocess.run(args=f\"mkdir {name}\",               \n",
    "                        shell=True,                \n",
    "                        capture_output=True,\n",
    "                        check=True)\n",
    "print(type(result))\n",
    "print(result)"
   ]
  },
  {
   "cell_type": "markdown",
   "id": "3ce2ec12",
   "metadata": {
    "editable": true,
    "slideshow": {
     "slide_type": "slide"
    },
    "tags": []
   },
   "source": [
    "Some explanations:\n",
    "\n",
    "- `args` describes the command to run\n",
    "- `shell=True` allows to specify `args` as a `str`. if `shell=False`, then `args` must be set to `['mkdir', 'a_new_dir']`\n",
    "- `capture_output=True` stores the outputs of the command in the attributes `stdout` (standard output) and `stderr` (error output) of the instance returned by `run` (here this instance is `results)\n",
    "- `check=True` makes sure an error is raised if the system command (described by `args`) fails\n",
    "- attribute `returncode` of `results` is 0 when the command __succeeds__"
   ]
  }
 ],
 "metadata": {
  "kernelspec": {
   "display_name": "Python 3 (ipykernel)",
   "language": "python",
   "name": "python3"
  },
  "language_info": {
   "codemirror_mode": {
    "name": "ipython",
    "version": 3
   },
   "file_extension": ".py",
   "mimetype": "text/x-python",
   "name": "python",
   "nbconvert_exporter": "python",
   "pygments_lexer": "ipython3",
   "version": "3.12.3"
  }
 },
 "nbformat": 4,
 "nbformat_minor": 5
}
