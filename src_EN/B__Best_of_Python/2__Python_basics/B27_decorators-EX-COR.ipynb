{
 "cells": [
  {
   "cell_type": "code",
   "execution_count": 1,
   "id": "e5059101",
   "metadata": {},
   "outputs": [
    {
     "name": "stdout",
     "output_type": "stream",
     "text": [
      "Function f is being called with 4 arguments.\n"
     ]
    }
   ],
   "source": [
    "def dec(function):\n",
    "    def new_function(*args, **kwargs):\n",
    "        print(f'Function {function.__name__} is being called with {len(args)+len(kwargs)} arguments.')\n",
    "        result = function(*args, **kwargs)\n",
    "        return result\n",
    "    return new_function\n",
    "\n",
    "@dec\n",
    "def f(*args, **kwargs):\n",
    "    pass\n",
    "\n",
    "f(34, 56, arg3='lij', arg4=98745)"
   ]
  }
 ],
 "metadata": {
  "kernelspec": {
   "display_name": "Python 3 (ipykernel)",
   "language": "python",
   "name": "python3"
  },
  "language_info": {
   "codemirror_mode": {
    "name": "ipython",
    "version": 3
   },
   "file_extension": ".py",
   "mimetype": "text/x-python",
   "name": "python",
   "nbconvert_exporter": "python",
   "pygments_lexer": "ipython3",
   "version": "3.10.12"
  }
 },
 "nbformat": 4,
 "nbformat_minor": 5
}
