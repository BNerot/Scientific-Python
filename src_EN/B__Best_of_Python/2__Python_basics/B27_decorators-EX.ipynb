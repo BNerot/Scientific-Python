{
 "cells": [
  {
   "cell_type": "markdown",
   "id": "7d5f3491",
   "metadata": {},
   "source": [
    "Write a decorator that prints the name of the function being processed and the number of its arguments.\n",
    "\n",
    "Given a generic function `f`, `f(34, 56, arg3='lij', arg4=98745)` must return 'Function f is being called with 4 arguments.'"
   ]
  }
 ],
 "metadata": {
  "kernelspec": {
   "display_name": "Python 3 (ipykernel)",
   "language": "python",
   "name": "python3"
  },
  "language_info": {
   "codemirror_mode": {
    "name": "ipython",
    "version": 3
   },
   "file_extension": ".py",
   "mimetype": "text/x-python",
   "name": "python",
   "nbconvert_exporter": "python",
   "pygments_lexer": "ipython3",
   "version": "3.10.12"
  }
 },
 "nbformat": 4,
 "nbformat_minor": 5
}
