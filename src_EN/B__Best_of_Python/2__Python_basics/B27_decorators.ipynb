{
 "cells": [
  {
   "cell_type": "markdown",
   "id": "83e9972b",
   "metadata": {
    "editable": true,
    "slideshow": {
     "slide_type": "slide"
    },
    "tags": []
   },
   "source": [
    "## Introduction"
   ]
  },
  {
   "cell_type": "markdown",
   "id": "7408ee04",
   "metadata": {},
   "source": [
    "A __decorator__ is a function that takes as input a function and returns a function. Using decorators is done in a generic manner: it can be applied quickly to existing functions to have them behave a bit differently."
   ]
  },
  {
   "cell_type": "markdown",
   "id": "55e4bd11",
   "metadata": {
    "editable": true,
    "slideshow": {
     "slide_type": "slide"
    },
    "tags": []
   },
   "source": [
    "## Simple example\n",
    "\n",
    "### Complete syntax\n",
    "\n",
    "#### Code"
   ]
  },
  {
   "cell_type": "code",
   "execution_count": 1,
   "id": "41a5aad4",
   "metadata": {
    "editable": true,
    "slideshow": {
     "slide_type": ""
    },
    "tags": []
   },
   "outputs": [
    {
     "name": "stdout",
     "output_type": "stream",
     "text": [
      "This message is printed because `basic_function` was decorated using `custom_decorator`.\n",
      "We are in `basic_function`: 3, 4\n"
     ]
    }
   ],
   "source": [
    "def custom_decorator(function):\n",
    "    def new_function(*args, **kwargs):\n",
    "        print(f\"This message is printed because `{function.__name__}` was decorated using `custom_decorator`.\")\n",
    "        result = function(*args, **kwargs)\n",
    "        return result\n",
    "    return new_function\n",
    "\n",
    "def basic_function(a, b):\n",
    "    print(f\"We are in `basic_function`: {a}, {b}\")\n",
    "    \n",
    "\n",
    "new_function = custom_decorator(basic_function)\n",
    "new_function(3, 4)"
   ]
  },
  {
   "cell_type": "markdown",
   "id": "d4913975",
   "metadata": {
    "editable": true,
    "slideshow": {
     "slide_type": "slide"
    },
    "tags": []
   },
   "source": [
    "#### Explanation\n",
    "\n",
    "A new function `new_function` is defined in the body of `custom_decorator`. It achieves some work (`print`) and then call the function passed as an argument (`basic_function`). This new funtion is returned and can be stored in a variable.\n",
    "\n",
    "\n",
    "#### Notes\n",
    "\n",
    "A decorator cannot easily modified what happens __inside__ the function. Yet, it can modify the arguments it takes as input and the output it returns"
   ]
  },
  {
   "cell_type": "markdown",
   "id": "7c627132",
   "metadata": {
    "editable": true,
    "slideshow": {
     "slide_type": "slide"
    },
    "tags": []
   },
   "source": [
    "### Lighter syntax\n",
    "\n",
    "The same can be achievd without using an intermediate `new_function` variable: the instruction `@decorator_name` is placed the line preceding the `def` keywork of a function to decorate."
   ]
  },
  {
   "cell_type": "code",
   "execution_count": 2,
   "id": "9f296e48",
   "metadata": {
    "editable": true,
    "slideshow": {
     "slide_type": ""
    },
    "tags": []
   },
   "outputs": [
    {
     "name": "stdout",
     "output_type": "stream",
     "text": [
      "This message is printed because `basic_function` was decorated using `custom_decorator`.\n",
      "We are in `basic_function`: 3, 4\n"
     ]
    }
   ],
   "source": [
    "@custom_decorator\n",
    "def basic_function(a, b):\n",
    "    print(f\"We are in `basic_function`: {a}, {b}\")\n",
    "    \n",
    "basic_function(3, 4)"
   ]
  },
  {
   "cell_type": "markdown",
   "id": "18f6f9e5",
   "metadata": {
    "editable": true,
    "slideshow": {
     "slide_type": ""
    },
    "tags": []
   },
   "source": [
    "Internally, Python replaces `basic_function` by its decorated version."
   ]
  },
  {
   "cell_type": "markdown",
   "id": "0b91aac1",
   "metadata": {
    "editable": true,
    "slideshow": {
     "slide_type": "slide"
    },
    "tags": []
   },
   "source": [
    "## Fictive use case\n",
    "\n",
    "In the example below, a `prod`, a `sum` and a `pow` functions are defined. They perform the sum/product/iterative power of elements of the iterable they receive."
   ]
  },
  {
   "cell_type": "code",
   "execution_count": 3,
   "id": "6d42837b",
   "metadata": {
    "editable": true,
    "slideshow": {
     "slide_type": "slide"
    },
    "tags": []
   },
   "outputs": [],
   "source": [
    "def sum_(var):\n",
    "    return sum(var)\n",
    "\n",
    "def prod_(var):\n",
    "    p = 1\n",
    "    for e in var:\n",
    "        p *= e\n",
    "    return p\n",
    "\n",
    "def pow_(var):\n",
    "    if var:\n",
    "        p = var[0]\n",
    "        for e in var[1:]:\n",
    "            p = p ** e\n",
    "        return p\n",
    "    else:\n",
    "        return 1"
   ]
  },
  {
   "cell_type": "markdown",
   "id": "895ed651",
   "metadata": {
    "editable": true,
    "slideshow": {
     "slide_type": "slide"
    },
    "tags": []
   },
   "source": [
    "Now, we want these functions to return 0 whenever the result is negative. The common way is to modify these functions directly:"
   ]
  },
  {
   "cell_type": "code",
   "execution_count": 4,
   "id": "b9137355",
   "metadata": {
    "editable": true,
    "slideshow": {
     "slide_type": ""
    },
    "tags": []
   },
   "outputs": [],
   "source": [
    "def sum2_(var):\n",
    "    s = sum(var)\n",
    "    return max(s, 0)\n",
    "\n",
    "def prod2_(var):\n",
    "    p = 1\n",
    "    for e in var:\n",
    "        p *= e\n",
    "    return max(p, 0)\n",
    "\n",
    "def pow2_(var):\n",
    "    if var:\n",
    "        p = var[0]\n",
    "        for e in var[1:]:\n",
    "            p = p ** e\n",
    "        return max(p, 0)\n",
    "    else:\n",
    "        return 1"
   ]
  },
  {
   "cell_type": "markdown",
   "id": "161705d1",
   "metadata": {
    "editable": true,
    "slideshow": {
     "slide_type": ""
    },
    "tags": []
   },
   "source": [
    "But with these modifications, the body of the functions is modified and the functions do not do anymore what they were first intended to do. Instead, one could use an decorator:"
   ]
  },
  {
   "cell_type": "code",
   "execution_count": 5,
   "id": "62394198",
   "metadata": {
    "editable": true,
    "slideshow": {
     "slide_type": ""
    },
    "tags": []
   },
   "outputs": [],
   "source": [
    "def only_positive(func):\n",
    "    def new_func(*args, **kwargs):\n",
    "        result = func(*args, **kwargs)\n",
    "        return max(result, 0)\n",
    "    return new_func\n"
   ]
  },
  {
   "cell_type": "code",
   "execution_count": 6,
   "id": "23a3b3bf-630a-40c9-9d27-c9c0f601b888",
   "metadata": {
    "editable": true,
    "slideshow": {
     "slide_type": ""
    },
    "tags": []
   },
   "outputs": [],
   "source": [
    "@only_positive\n",
    "def sum_p(var):\n",
    "    return sum_(var)\n",
    "\n",
    "@only_positive\n",
    "def prod_p(var):\n",
    "    return prod_(var)\n",
    "\n",
    "@only_positive\n",
    "def pow_p(var):\n",
    "    return pow_(var)"
   ]
  },
  {
   "cell_type": "code",
   "execution_count": 7,
   "id": "2893a001",
   "metadata": {
    "editable": true,
    "slideshow": {
     "slide_type": ""
    },
    "tags": []
   },
   "outputs": [
    {
     "name": "stdout",
     "output_type": "stream",
     "text": [
      "5 -45 -14348907\n",
      "5 0 0\n"
     ]
    }
   ],
   "source": [
    "var = [-3, 5, 3]\n",
    "print(sum_(var), prod_(var), pow_(var))\n",
    "print(sum_p(var), prod_p(var), pow_p(var))"
   ]
  },
  {
   "cell_type": "markdown",
   "id": "3dcd93a4",
   "metadata": {
    "editable": true,
    "slideshow": {
     "slide_type": "slide"
    },
    "tags": []
   },
   "source": [
    "### Advanced\n",
    "\n",
    "This is handy, but the functions are still modified a bit and we have to comment the decorator line to remove the special behavior. \n",
    "\n",
    "Instead, we will define a __decorator with argument__ to decide whether we want this special behavior to apply. To this purpose, `set_only_positive` is a function that returns a decorator, depending on whether we want (`positive=True`) or do not want (`positive=False`) to apply the special behaviour on the to-be-decorated function."
   ]
  },
  {
   "cell_type": "code",
   "execution_count": 14,
   "id": "964276cb",
   "metadata": {
    "editable": true,
    "slideshow": {
     "slide_type": "slide"
    },
    "tags": []
   },
   "outputs": [],
   "source": [
    "def set_only_positive(positive):\n",
    "    if positive: \n",
    "        return only_positive\n",
    "    else:\n",
    "        def no_decorator(func):\n",
    "            return func\n",
    "        return no_decorator\n",
    "        \n",
    "positive_results = True\n",
    "\n",
    "@set_only_positive(positive_results)\n",
    "def sum_p(var):\n",
    "    return sum_(var)\n",
    "\n",
    "@set_only_positive(positive_results)\n",
    "def prod_p(var):\n",
    "    return prod_(var)\n",
    "\n",
    "@set_only_positive(positive_results)\n",
    "def pow_p(var):\n",
    "    return pow_(var)"
   ]
  },
  {
   "cell_type": "code",
   "execution_count": 15,
   "id": "f3ef9234-dd98-4dcf-9ac8-674a07bbf461",
   "metadata": {
    "editable": true,
    "slideshow": {
     "slide_type": "slide"
    },
    "tags": []
   },
   "outputs": [
    {
     "name": "stdout",
     "output_type": "stream",
     "text": [
      "5 -45 -14348907\n",
      "5 0 0\n"
     ]
    }
   ],
   "source": [
    "var = [-3, 5, 3]\n",
    "print(sum_(var), prod_(var), pow_(var))\n",
    "print(sum_p(var), prod_p(var), pow_p(var))"
   ]
  },
  {
   "cell_type": "markdown",
   "id": "9343a18b",
   "metadata": {
    "editable": true,
    "slideshow": {
     "slide_type": "slide"
    },
    "tags": []
   },
   "source": [
    "## Conclusion\n",
    "\n",
    "Decorators are advanced features of the python language. In most cases, it can be replaced by (more ugly) simpler solutions. But they are very common in some common libraries, thus it is important to understand the meaning of the `@decorator` syntax."
   ]
  },
  {
   "cell_type": "code",
   "execution_count": null,
   "id": "a4ec706f-f903-40ae-ba80-264c0e2d4e0f",
   "metadata": {
    "editable": true,
    "slideshow": {
     "slide_type": ""
    },
    "tags": []
   },
   "outputs": [],
   "source": []
  }
 ],
 "metadata": {
  "kernelspec": {
   "display_name": "Python 3 (ipykernel)",
   "language": "python",
   "name": "python3"
  },
  "language_info": {
   "codemirror_mode": {
    "name": "ipython",
    "version": 3
   },
   "file_extension": ".py",
   "mimetype": "text/x-python",
   "name": "python",
   "nbconvert_exporter": "python",
   "pygments_lexer": "ipython3",
   "version": "3.12.3"
  }
 },
 "nbformat": 4,
 "nbformat_minor": 5
}
