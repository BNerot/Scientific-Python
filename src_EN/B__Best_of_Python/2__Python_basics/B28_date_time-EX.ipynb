{
 "cells": [
  {
   "cell_type": "markdown",
   "id": "a28bb8d7",
   "metadata": {},
   "source": [
    "Print the number of days that lie between:\n",
    "\n",
    "- when you will be 10000 days old\n",
    "- 1st September 2100\n"
   ]
  }
 ],
 "metadata": {
  "kernelspec": {
   "display_name": "Python 3 (ipykernel)",
   "language": "python",
   "name": "python3"
  },
  "language_info": {
   "codemirror_mode": {
    "name": "ipython",
    "version": 3
   },
   "file_extension": ".py",
   "mimetype": "text/x-python",
   "name": "python",
   "nbconvert_exporter": "python",
   "pygments_lexer": "ipython3",
   "version": "3.10.12"
  }
 },
 "nbformat": 4,
 "nbformat_minor": 5
}
