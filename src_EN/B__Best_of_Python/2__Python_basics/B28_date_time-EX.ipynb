{
 "cells": [
  {
   "cell_type": "markdown",
   "id": "a28bb8d7",
   "metadata": {},
   "source": [
    "Print the number of days that lie between:\n",
    "\n",
    "- when you will be 10000 days old\n",
    "- 1st September 2100\n"
   ]
  },
  {
   "cell_type": "code",
   "execution_count": 1,
   "id": "4acb8d7b",
   "metadata": {},
   "outputs": [
    {
     "data": {
      "text/plain": [
       "28149"
      ]
     },
     "execution_count": 1,
     "metadata": {},
     "output_type": "execute_result"
    }
   ],
   "source": [
    "from datetime import date, timedelta\n",
    "\n",
    "birth_date = date(1996, 3, 21)\n",
    "birthday_10000 = birth_date + timedelta(days=10000)\n",
    "reference = date(2100, 9, 1)\n",
    "(reference-birthday_10000).days"
   ]
  }
 ],
 "metadata": {
  "kernelspec": {
   "display_name": "Python 3 (ipykernel)",
   "language": "python",
   "name": "python3"
  },
  "language_info": {
   "codemirror_mode": {
    "name": "ipython",
    "version": 3
   },
   "file_extension": ".py",
   "mimetype": "text/x-python",
   "name": "python",
   "nbconvert_exporter": "python",
   "pygments_lexer": "ipython3",
   "version": "3.10.12"
  }
 },
 "nbformat": 4,
 "nbformat_minor": 5
}
