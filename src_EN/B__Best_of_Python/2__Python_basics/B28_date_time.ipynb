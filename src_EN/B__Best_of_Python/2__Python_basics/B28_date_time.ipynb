{
 "cells": [
  {
   "cell_type": "markdown",
   "id": "83e9972b",
   "metadata": {
    "editable": true,
    "slideshow": {
     "slide_type": "slide"
    },
    "tags": []
   },
   "source": [
    "## Introduction"
   ]
  },
  {
   "cell_type": "markdown",
   "id": "7408ee04",
   "metadata": {},
   "source": [
    "Handling date, time and delays can be required in a scientific progress, especially in an experimental work. For instance:\n",
    "\n",
    "- schedule data acquisition\n",
    "- handle experimental databases\n",
    "\n",
    "_Python_ comes with the `datetime` library to address these issues. Scientific oriented libraries such as `numpy` and `pandas` have a different, __but compatible__, implementation of date/time management."
   ]
  },
  {
   "cell_type": "markdown",
   "id": "9ba5ae12",
   "metadata": {
    "editable": true,
    "slideshow": {
     "slide_type": "slide"
    },
    "tags": []
   },
   "source": [
    "\n",
    "## Timestamp\n",
    "\n",
    "A timestamp is an accurate description of a moment in time. \n"
   ]
  },
  {
   "cell_type": "markdown",
   "id": "c21e9b2e",
   "metadata": {
    "editable": true,
    "slideshow": {
     "slide_type": "slide"
    },
    "tags": []
   },
   "source": [
    "\n",
    "### `date`\n",
    "\n",
    "The `date` library (built in) is used to describe accurately a date: year, month, day of month."
   ]
  },
  {
   "cell_type": "code",
   "execution_count": 1,
   "id": "b3b73cef",
   "metadata": {
    "editable": true,
    "slideshow": {
     "slide_type": ""
    },
    "tags": []
   },
   "outputs": [
    {
     "name": "stdout",
     "output_type": "stream",
     "text": [
      "1 3 2023\n"
     ]
    }
   ],
   "source": [
    "from datetime import date\n",
    "d1 = date(2023, 3, 1)\n",
    "print(d1.day, d1.month, d1.year)"
   ]
  },
  {
   "cell_type": "markdown",
   "id": "ff1c1eb8",
   "metadata": {},
   "source": [
    "The current date is obtained using `date.today()`."
   ]
  },
  {
   "cell_type": "code",
   "execution_count": 2,
   "id": "855abdd2",
   "metadata": {
    "scrolled": true
   },
   "outputs": [
    {
     "name": "stdout",
     "output_type": "stream",
     "text": [
      "21 2 2024\n"
     ]
    }
   ],
   "source": [
    "d2 = date.today()\n",
    "print(d2.day, d2.month, d2.year)"
   ]
  },
  {
   "cell_type": "markdown",
   "id": "968cef6d",
   "metadata": {
    "editable": true,
    "slideshow": {
     "slide_type": "slide"
    },
    "tags": []
   },
   "source": [
    "As many Python objects, dates can be __compared__:"
   ]
  },
  {
   "cell_type": "code",
   "execution_count": 3,
   "id": "a1118e37",
   "metadata": {},
   "outputs": [
    {
     "name": "stdout",
     "output_type": "stream",
     "text": [
      "2023-03-01 is anterior of 2024-02-21\n"
     ]
    }
   ],
   "source": [
    "if d1 < d2:\n",
    "    print(f\"{d1} is anterior of {d2}\")\n",
    "else:    \n",
    "    print(f\"{d1} is posterior of {d2}\")"
   ]
  },
  {
   "cell_type": "markdown",
   "id": "5cb34b2d",
   "metadata": {},
   "source": [
    "Yet, there is no meaning to do the sum of two dates:"
   ]
  },
  {
   "cell_type": "code",
   "execution_count": 4,
   "id": "e467acae",
   "metadata": {},
   "outputs": [
    {
     "ename": "TypeError",
     "evalue": "unsupported operand type(s) for +: 'datetime.date' and 'datetime.date'",
     "output_type": "error",
     "traceback": [
      "\u001b[0;31m---------------------------------------------------------------------------\u001b[0m",
      "\u001b[0;31mTypeError\u001b[0m                                 Traceback (most recent call last)",
      "Cell \u001b[0;32mIn[4], line 1\u001b[0m\n\u001b[0;32m----> 1\u001b[0m \u001b[43md1\u001b[49m\u001b[43m \u001b[49m\u001b[38;5;241;43m+\u001b[39;49m\u001b[43m \u001b[49m\u001b[43md2\u001b[49m\n",
      "\u001b[0;31mTypeError\u001b[0m: unsupported operand type(s) for +: 'datetime.date' and 'datetime.date'"
     ]
    }
   ],
   "source": [
    "d1 + d2"
   ]
  },
  {
   "cell_type": "markdown",
   "id": "0ad9a045",
   "metadata": {
    "editable": true,
    "slideshow": {
     "slide_type": "slide"
    },
    "tags": []
   },
   "source": [
    "A `datetime` instance comes with its own representation:"
   ]
  },
  {
   "cell_type": "code",
   "execution_count": 5,
   "id": "2b6eae3c",
   "metadata": {},
   "outputs": [
    {
     "data": {
      "text/plain": [
       "datetime.date(2023, 3, 1)"
      ]
     },
     "execution_count": 5,
     "metadata": {},
     "output_type": "execute_result"
    }
   ],
   "source": [
    "d1"
   ]
  },
  {
   "cell_type": "markdown",
   "id": "2b85ba24",
   "metadata": {},
   "source": [
    "To get a string representation, one must use `date.strftime`, i.e. 'string from time'. This method takes as an argument the wanted __format__. This format must be specified following the special characters [described here](https://docs.python.org/3/library/datetime.html#strftime-and-strptime-format-codes). "
   ]
  },
  {
   "cell_type": "code",
   "execution_count": 6,
   "id": "ac4790e2",
   "metadata": {},
   "outputs": [
    {
     "name": "stdout",
     "output_type": "stream",
     "text": [
      "01 March, 2023 (Wednesday)\n",
      "03/01/23\n"
     ]
    }
   ],
   "source": [
    "print(d1.strftime(\"%d %B, %Y (%A)\"))     # custom representation\n",
    "print(d1.strftime(\"%x\"))                # official representation for your country"
   ]
  },
  {
   "cell_type": "markdown",
   "id": "eb62a763",
   "metadata": {
    "editable": true,
    "slideshow": {
     "slide_type": "slide"
    },
    "tags": []
   },
   "source": [
    "Without using `strftime`, the previously introduced formatting methods (using `f'{var}'`) can be used: "
   ]
  },
  {
   "cell_type": "code",
   "execution_count": 7,
   "id": "cd96e8bc",
   "metadata": {},
   "outputs": [
    {
     "name": "stdout",
     "output_type": "stream",
     "text": [
      "The event happened on the 01th of March 2023.\n"
     ]
    }
   ],
   "source": [
    "print(f\"The event happened on the {d1:%d}th of {d1:%B} {d1:%Y}.\")"
   ]
  },
  {
   "cell_type": "markdown",
   "id": "ee9c9072",
   "metadata": {
    "editable": true,
    "slideshow": {
     "slide_type": "slide"
    },
    "tags": []
   },
   "source": [
    "### `time`"
   ]
  },
  {
   "cell_type": "markdown",
   "id": "10eacc41",
   "metadata": {},
   "source": [
    "Following the same idea, python can describe an exact hour: from hour to microseconds:"
   ]
  },
  {
   "cell_type": "code",
   "execution_count": 8,
   "id": "aa6c69dd",
   "metadata": {},
   "outputs": [
    {
     "name": "stdout",
     "output_type": "stream",
     "text": [
      "13:34:28.156545\n",
      "28\n"
     ]
    }
   ],
   "source": [
    "from datetime import time\n",
    "t1 = time(13, 34, 28, microsecond=156545)\n",
    "print(t1)\n",
    "print(t1.second)"
   ]
  },
  {
   "cell_type": "markdown",
   "id": "10e6bede",
   "metadata": {
    "editable": true,
    "slideshow": {
     "slide_type": "slide"
    },
    "tags": []
   },
   "source": [
    "Comparison of `time` instances is also possible:"
   ]
  },
  {
   "cell_type": "code",
   "execution_count": 9,
   "id": "94a10933",
   "metadata": {},
   "outputs": [
    {
     "name": "stdout",
     "output_type": "stream",
     "text": [
      "0\n",
      "True\n"
     ]
    }
   ],
   "source": [
    "t2 = time(11, 14, 54)\n",
    "print(t2.microsecond)\n",
    "print(t2 < t1)"
   ]
  },
  {
   "cell_type": "markdown",
   "id": "153c454c",
   "metadata": {
    "editable": true,
    "slideshow": {
     "slide_type": ""
    },
    "tags": []
   },
   "source": [
    "But won't work between date and time instances:"
   ]
  },
  {
   "cell_type": "code",
   "execution_count": 10,
   "id": "7ac5c881",
   "metadata": {},
   "outputs": [
    {
     "ename": "TypeError",
     "evalue": "'<' not supported between instances of 'datetime.date' and 'datetime.time'",
     "output_type": "error",
     "traceback": [
      "\u001b[0;31m---------------------------------------------------------------------------\u001b[0m",
      "\u001b[0;31mTypeError\u001b[0m                                 Traceback (most recent call last)",
      "Cell \u001b[0;32mIn[10], line 1\u001b[0m\n\u001b[0;32m----> 1\u001b[0m \u001b[43md1\u001b[49m\u001b[43m \u001b[49m\u001b[38;5;241;43m<\u001b[39;49m\u001b[43m \u001b[49m\u001b[43mt2\u001b[49m\n",
      "\u001b[0;31mTypeError\u001b[0m: '<' not supported between instances of 'datetime.date' and 'datetime.time'"
     ]
    }
   ],
   "source": [
    "d1 < t2"
   ]
  },
  {
   "cell_type": "markdown",
   "id": "a4dc2f5d",
   "metadata": {
    "editable": true,
    "slideshow": {
     "slide_type": "slide"
    },
    "tags": []
   },
   "source": [
    "Formatting is possible too:"
   ]
  },
  {
   "cell_type": "code",
   "execution_count": 11,
   "id": "0697b3a4",
   "metadata": {
    "scrolled": true
   },
   "outputs": [
    {
     "name": "stdout",
     "output_type": "stream",
     "text": [
      "11:14 AM, 54 seconds\n",
      "It is currently 11:14 AM (and 54 seconds)\n"
     ]
    }
   ],
   "source": [
    "print(t2.strftime('%I:%M %p, %S seconds'))\n",
    "print(f'It is currently {t2:%I}:{t2:%M} {t2:%p} (and {t2:%S} seconds)')"
   ]
  },
  {
   "cell_type": "markdown",
   "id": "fcfcafb4",
   "metadata": {
    "editable": true,
    "slideshow": {
     "slide_type": "slide"
    },
    "tags": []
   },
   "source": [
    "### `datetime`"
   ]
  },
  {
   "cell_type": "markdown",
   "id": "5da94419",
   "metadata": {
    "editable": true,
    "slideshow": {
     "slide_type": ""
    },
    "tags": []
   },
   "source": [
    "`datetime` objects bring together the functionalities of both `date` and `time` objects (still with a microsecond resolution). Beware of not mistaking the `datetime` module (the one of `date` and `time`) and its submodule `datetime` (siblings of `date` and `time`)."
   ]
  },
  {
   "cell_type": "code",
   "execution_count": 1,
   "id": "a30d0fd4",
   "metadata": {},
   "outputs": [
    {
     "name": "stdout",
     "output_type": "stream",
     "text": [
      "16:44:10:142280 in February 2024\n"
     ]
    }
   ],
   "source": [
    "from datetime import datetime\n",
    "\n",
    "now = datetime.now()\n",
    "print(now.strftime(\"%H:%M:%S:%f in %B %Y\"))"
   ]
  },
  {
   "cell_type": "markdown",
   "id": "c1de5d0c",
   "metadata": {
    "editable": true,
    "slideshow": {
     "slide_type": "slide"
    },
    "tags": []
   },
   "source": [
    "Feature: a datetime instance can be built from a `str` using the `strptime` function (which is __not__ `strftime`):"
   ]
  },
  {
   "cell_type": "code",
   "execution_count": 13,
   "id": "c14b9671",
   "metadata": {
    "editable": true,
    "slideshow": {
     "slide_type": ""
    },
    "tags": []
   },
   "outputs": [
    {
     "data": {
      "text/plain": [
       "datetime.datetime(2029, 1, 1, 16, 50, 24, 194724)"
      ]
     },
     "execution_count": 13,
     "metadata": {},
     "output_type": "execute_result"
    }
   ],
   "source": [
    "var = datetime.strptime(\"16:50:24:194724 in January 2029\", \"%H:%M:%S:%f in %B %Y\")\n",
    "var"
   ]
  },
  {
   "cell_type": "markdown",
   "id": "9598defb",
   "metadata": {
    "editable": true,
    "slideshow": {
     "slide_type": "slide"
    },
    "tags": []
   },
   "source": [
    "Note that there are some limits to the creation of dates:"
   ]
  },
  {
   "cell_type": "code",
   "execution_count": 14,
   "id": "2f82cdb9",
   "metadata": {},
   "outputs": [
    {
     "name": "stdout",
     "output_type": "stream",
     "text": [
      "1 9999\n"
     ]
    }
   ],
   "source": [
    "from datetime import MINYEAR, MAXYEAR\n",
    "print(MINYEAR, MAXYEAR)"
   ]
  },
  {
   "cell_type": "markdown",
   "id": "c4a3373f",
   "metadata": {
    "editable": true,
    "slideshow": {
     "slide_type": ""
    },
    "tags": []
   },
   "source": [
    "**Thus, be careful when your experimental data acquisition may last longer than 8000 years.**"
   ]
  },
  {
   "cell_type": "markdown",
   "id": "70c934f8",
   "metadata": {
    "editable": true,
    "slideshow": {
     "slide_type": "slide"
    },
    "tags": []
   },
   "source": [
    "## Time periods: `timedelta`"
   ]
  },
  {
   "cell_type": "markdown",
   "id": "0d499680",
   "metadata": {},
   "source": [
    "A time period describes the temporal length of an event. It can be represented by objects of type `timedelta`:"
   ]
  },
  {
   "cell_type": "code",
   "execution_count": 15,
   "id": "b3d3822e",
   "metadata": {},
   "outputs": [
    {
     "data": {
      "text/plain": [
       "datetime.timedelta(days=50, seconds=21902, microseconds=4003)"
      ]
     },
     "execution_count": 15,
     "metadata": {},
     "output_type": "execute_result"
    }
   ],
   "source": [
    "from datetime import timedelta\n",
    "dt = timedelta(days=1, seconds=2, microseconds=3, milliseconds=4, minutes=5, hours=6, weeks=7)\n",
    "dt"
   ]
  },
  {
   "cell_type": "code",
   "execution_count": 16,
   "id": "b59b33ce",
   "metadata": {},
   "outputs": [
    {
     "name": "stdout",
     "output_type": "stream",
     "text": [
      "Total number of seconds:  4341902.004003\n"
     ]
    }
   ],
   "source": [
    "print('Total number of seconds: ', dt.total_seconds())"
   ]
  },
  {
   "cell_type": "markdown",
   "id": "87ce5527",
   "metadata": {
    "editable": true,
    "slideshow": {
     "slide_type": "slide"
    },
    "tags": []
   },
   "source": [
    "Parameters can be __negative__. In the example below, a duration of 55 minutes is equal to a duration of 1 hour minus 5 minutes."
   ]
  },
  {
   "cell_type": "code",
   "execution_count": 17,
   "id": "47b7a4ba",
   "metadata": {},
   "outputs": [
    {
     "data": {
      "text/plain": [
       "True"
      ]
     },
     "execution_count": 17,
     "metadata": {},
     "output_type": "execute_result"
    }
   ],
   "source": [
    "dt1 = timedelta(minutes=55)\n",
    "dt2 = timedelta(hours=1, minutes=-5)\n",
    "dt1 == dt2"
   ]
  },
  {
   "cell_type": "markdown",
   "id": "aad00b32",
   "metadata": {
    "editable": true,
    "slideshow": {
     "slide_type": "slide"
    },
    "tags": []
   },
   "source": [
    "One can substract, sum and even divide these instances:"
   ]
  },
  {
   "cell_type": "code",
   "execution_count": 18,
   "id": "d775385c",
   "metadata": {},
   "outputs": [
    {
     "name": "stdout",
     "output_type": "stream",
     "text": [
      "Sum:         140 days, 13:00:27.045126\n",
      "Difference:  -41 days, 23:09:36.962880\n",
      "Division:    1.80 (<class 'float'>)\n"
     ]
    }
   ],
   "source": [
    "dt1 = timedelta(days=1, seconds=2, microseconds=3, milliseconds=4, minutes=5, hours=6, weeks=7)\n",
    "dt2 = timedelta(days=41, seconds=265, microseconds=123, milliseconds=41, minutes=51, hours=6, weeks=7)\n",
    "print('Sum:        ', dt1 + dt2)\n",
    "print('Difference: ', dt1 - dt2)\n",
    "ratio = dt2 / dt1\n",
    "print(f'Division:    {ratio:.2f} ({type(ratio)})')"
   ]
  },
  {
   "cell_type": "markdown",
   "id": "a2da4075",
   "metadata": {
    "editable": true,
    "slideshow": {
     "slide_type": "slide"
    },
    "tags": []
   },
   "source": [
    "Important: a `date` (or `datetime`) instance can be added to a `timedelta` instance to get a new `date` (or `datetime`)."
   ]
  },
  {
   "cell_type": "code",
   "execution_count": 19,
   "id": "9043a259",
   "metadata": {},
   "outputs": [
    {
     "name": "stdout",
     "output_type": "stream",
     "text": [
      "2023-03-01\n",
      "50 days, 6:05:02.004003\n",
      "2023-01-10\n",
      "<class 'datetime.date'>\n"
     ]
    }
   ],
   "source": [
    "print(d1, dt1, d1 - dt1, type(d1 - dt1), sep=\"\\n\")"
   ]
  },
  {
   "cell_type": "code",
   "execution_count": 20,
   "id": "1dee09e9",
   "metadata": {},
   "outputs": [
    {
     "name": "stdout",
     "output_type": "stream",
     "text": [
      "2029-01-01 16:50:24.194724\n",
      "50 days, 6:05:02.004003\n",
      "2029-02-20 22:55:26.198727\n",
      "<class 'datetime.datetime'>\n"
     ]
    }
   ],
   "source": [
    "print(var, dt1, var + dt1, type(var + dt1), sep=\"\\n\")"
   ]
  }
 ],
 "metadata": {
  "kernelspec": {
   "display_name": "Python 3 (ipykernel)",
   "language": "python",
   "name": "python3"
  },
  "language_info": {
   "codemirror_mode": {
    "name": "ipython",
    "version": 3
   },
   "file_extension": ".py",
   "mimetype": "text/x-python",
   "name": "python",
   "nbconvert_exporter": "python",
   "pygments_lexer": "ipython3",
   "version": "3.12.3"
  }
 },
 "nbformat": 4,
 "nbformat_minor": 5
}
