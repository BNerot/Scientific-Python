{
 "cells": [
  {
   "cell_type": "markdown",
   "id": "e2480bb6",
   "metadata": {},
   "source": [
    "## Introduction"
   ]
  },
  {
   "cell_type": "markdown",
   "id": "1ae08034",
   "metadata": {},
   "source": [
    "Some run time errors can be anticipated. They must be dealt with using dedicated code instructions: that is called __exceptions handling__.\n",
    "\n",
    "An exception is a Python object that tells the user about an error occuring at a specific instruction. These exceptions are of several types since they describe several different problems: type errors (`TypeError`), index errors (`IndexError`), ..."
   ]
  },
  {
   "cell_type": "code",
   "execution_count": 3,
   "id": "226ed3e9",
   "metadata": {},
   "outputs": [
    {
     "ename": "TypeError",
     "evalue": "unsupported operand type(s) for /: 'str' and 'int'",
     "output_type": "error",
     "traceback": [
      "\u001b[0;31m---------------------------------------------------------------------------\u001b[0m",
      "\u001b[0;31mTypeError\u001b[0m                                 Traceback (most recent call last)",
      "Cell \u001b[0;32mIn[3], line 2\u001b[0m\n\u001b[1;32m      1\u001b[0m s \u001b[38;5;241m=\u001b[39m \u001b[38;5;124m\"\u001b[39m\u001b[38;5;124ma string\u001b[39m\u001b[38;5;124m\"\u001b[39m\n\u001b[0;32m----> 2\u001b[0m \u001b[43ms\u001b[49m\u001b[43m \u001b[49m\u001b[38;5;241;43m/\u001b[39;49m\u001b[43m \u001b[49m\u001b[38;5;241;43m5\u001b[39;49m\n",
      "\u001b[0;31mTypeError\u001b[0m: unsupported operand type(s) for /: 'str' and 'int'"
     ]
    }
   ],
   "source": [
    "s = \"a string\"\n",
    "s / 5"
   ]
  },
  {
   "cell_type": "code",
   "execution_count": 4,
   "id": "d5e7bbc7",
   "metadata": {},
   "outputs": [
    {
     "ename": "IndexError",
     "evalue": "list index out of range",
     "output_type": "error",
     "traceback": [
      "\u001b[0;31m---------------------------------------------------------------------------\u001b[0m",
      "\u001b[0;31mIndexError\u001b[0m                                Traceback (most recent call last)",
      "Cell \u001b[0;32mIn[4], line 2\u001b[0m\n\u001b[1;32m      1\u001b[0m var \u001b[38;5;241m=\u001b[39m [\u001b[38;5;241m0\u001b[39m, \u001b[38;5;241m1\u001b[39m, \u001b[38;5;241m2\u001b[39m, \u001b[38;5;241m3\u001b[39m]\n\u001b[0;32m----> 2\u001b[0m \u001b[43mvar\u001b[49m\u001b[43m[\u001b[49m\u001b[38;5;241;43m4\u001b[39;49m\u001b[43m]\u001b[49m\n",
      "\u001b[0;31mIndexError\u001b[0m: list index out of range"
     ]
    }
   ],
   "source": [
    "var = [0, 1, 2, 3]\n",
    "var[4]"
   ]
  },
  {
   "cell_type": "markdown",
   "id": "c55aeada",
   "metadata": {},
   "source": [
    "A message exhibits the problematic instruction in what is called a `Traceback`. A `Traceback` is a list of code instructions concerned by the exception, going from most recent call to a function (the problematic one) to oldest call."
   ]
  },
  {
   "cell_type": "code",
   "execution_count": 5,
   "id": "bbce5cd0",
   "metadata": {},
   "outputs": [
    {
     "ename": "ZeroDivisionError",
     "evalue": "division by zero",
     "output_type": "error",
     "traceback": [
      "\u001b[0;31m---------------------------------------------------------------------------\u001b[0m",
      "\u001b[0;31mZeroDivisionError\u001b[0m                         Traceback (most recent call last)",
      "Cell \u001b[0;32mIn[5], line 10\u001b[0m\n\u001b[1;32m      7\u001b[0m \u001b[38;5;28;01mdef\u001b[39;00m \u001b[38;5;21mf3\u001b[39m(a, b):\n\u001b[1;32m      8\u001b[0m     f2(a, b)\n\u001b[0;32m---> 10\u001b[0m \u001b[43mf3\u001b[49m\u001b[43m(\u001b[49m\u001b[38;5;241;43m1\u001b[39;49m\u001b[43m,\u001b[49m\u001b[43m \u001b[49m\u001b[38;5;241;43m0\u001b[39;49m\u001b[43m)\u001b[49m\n\u001b[1;32m     11\u001b[0m \u001b[38;5;28mprint\u001b[39m(\u001b[38;5;124m\"\u001b[39m\u001b[38;5;124mNot executed\u001b[39m\u001b[38;5;124m\"\u001b[39m)\n",
      "Cell \u001b[0;32mIn[5], line 8\u001b[0m, in \u001b[0;36mf3\u001b[0;34m(a, b)\u001b[0m\n\u001b[1;32m      7\u001b[0m \u001b[38;5;28;01mdef\u001b[39;00m \u001b[38;5;21mf3\u001b[39m(a, b):\n\u001b[0;32m----> 8\u001b[0m     \u001b[43mf2\u001b[49m\u001b[43m(\u001b[49m\u001b[43ma\u001b[49m\u001b[43m,\u001b[49m\u001b[43m \u001b[49m\u001b[43mb\u001b[49m\u001b[43m)\u001b[49m\n",
      "Cell \u001b[0;32mIn[5], line 5\u001b[0m, in \u001b[0;36mf2\u001b[0;34m(a, b)\u001b[0m\n\u001b[1;32m      4\u001b[0m \u001b[38;5;28;01mdef\u001b[39;00m \u001b[38;5;21mf2\u001b[39m(a, b):\n\u001b[0;32m----> 5\u001b[0m     \u001b[43mf1\u001b[49m\u001b[43m(\u001b[49m\u001b[43ma\u001b[49m\u001b[43m,\u001b[49m\u001b[43m \u001b[49m\u001b[43mb\u001b[49m\u001b[43m)\u001b[49m\n",
      "Cell \u001b[0;32mIn[5], line 2\u001b[0m, in \u001b[0;36mf1\u001b[0;34m(a, b)\u001b[0m\n\u001b[1;32m      1\u001b[0m \u001b[38;5;28;01mdef\u001b[39;00m \u001b[38;5;21mf1\u001b[39m(a, b):\n\u001b[0;32m----> 2\u001b[0m     \u001b[38;5;28;01mreturn\u001b[39;00m \u001b[43ma\u001b[49m\u001b[43m \u001b[49m\u001b[38;5;241;43m/\u001b[39;49m\u001b[43m \u001b[49m\u001b[43mb\u001b[49m\n",
      "\u001b[0;31mZeroDivisionError\u001b[0m: division by zero"
     ]
    }
   ],
   "source": [
    "def f1(a, b):\n",
    "    return a / b\n",
    "\n",
    "def f2(a, b):\n",
    "    f1(a, b)\n",
    "    \n",
    "def f3(a, b):\n",
    "    f2(a, b)\n",
    "\n",
    "f3(1, 0)\n",
    "print(\"Not executed\")"
   ]
  },
  {
   "cell_type": "markdown",
   "id": "3cce8e2a",
   "metadata": {},
   "source": [
    "## Handle an exception"
   ]
  },
  {
   "cell_type": "markdown",
   "id": "e50f6493",
   "metadata": {},
   "source": [
    "If nothing particular is done, an exception is __blocking__ for the running code and the process is terminated. To prevent this termination, one must use a `try` code block:\n",
    "\n",
    "If an instruction fails in `try`,  an exception is raised (as usual) but is not blocking: the content of `except` is ran instead:"
   ]
  },
  {
   "cell_type": "code",
   "execution_count": 6,
   "id": "d296740f",
   "metadata": {},
   "outputs": [
    {
     "name": "stdout",
     "output_type": "stream",
     "text": [
      "`b` was 0, met the following exception:  division by zero\n",
      "Executed\n"
     ]
    }
   ],
   "source": [
    "def f1(a, b):\n",
    "    try:\n",
    "        return a / b\n",
    "    except ZeroDivisionError as e:\n",
    "        print(\"`b` was 0, met the following exception: \", e)\n",
    "        \n",
    "        \n",
    "def f2(a, b):\n",
    "    f1(a, b)\n",
    "    \n",
    "def f3(a, b):\n",
    "    f2(a, b)\n",
    "\n",
    "f3(1, 0)\n",
    "print(\"Executed\")"
   ]
  },
  {
   "cell_type": "markdown",
   "id": "9b19015a",
   "metadata": {},
   "source": [
    "Notes:\n",
    "\n",
    "- __Whenever it's possible__, one must specify the type of exception to __'catch'__ (here `ZeroDivisionError`). Yet, it is also possible to only write `except:` in order to catch all types of exceptions.\n",
    "- The syntax `as e` store the exception instance (an instance of type `ZeroDivisionError`) in variable `e`. \n",
    "- Several `except` can follow each other to catch different types of exceptions or define several exceptions types in one `except` (see examples below).\n"
   ]
  },
  {
   "cell_type": "code",
   "execution_count": 7,
   "id": "6d292eb1",
   "metadata": {
    "scrolled": true
   },
   "outputs": [
    {
     "name": "stdout",
     "output_type": "stream",
     "text": [
      "`b` was 0, met the following exception:  division by zero\n",
      "`b` was of type <class 'int'>, met the following exception:  'int' object is not subscriptable\n"
     ]
    }
   ],
   "source": [
    "def f1(a, b):\n",
    "    try:\n",
    "        a / b\n",
    "        b[5]\n",
    "    except ZeroDivisionError as e:\n",
    "        print(\"`b` was 0, met the following exception: \", e)\n",
    "    except TypeError as e:\n",
    "        print(f\"`b` was of type {type(b)}, met the following exception: \", e)\n",
    "        \n",
    "        \n",
    "def f2(a, b):\n",
    "    f1(a, b)\n",
    "    \n",
    "def f3(a, b):\n",
    "    f2(a, b)\n",
    "\n",
    "f3(1, 0)\n",
    "f3(0, 1)"
   ]
  },
  {
   "cell_type": "code",
   "execution_count": 8,
   "id": "3d038625",
   "metadata": {},
   "outputs": [
    {
     "name": "stdout",
     "output_type": "stream",
     "text": [
      "'int' object is not subscriptable\n"
     ]
    }
   ],
   "source": [
    "def f1(a, b):\n",
    "    try:\n",
    "        a / b\n",
    "        b[5]\n",
    "    except (ZeroDivisionError, TypeError) as e:\n",
    "        print(e)\n",
    "f1(0, 1)"
   ]
  },
  {
   "cell_type": "markdown",
   "id": "5f149e73",
   "metadata": {},
   "source": [
    "__The `try` code section must include as few instructions as possible__ (so that unpredicted errors won't be covered by `except`). \n",
    "\n",
    "Thus, the `else` section is used: instructions in `else` are executed if risky code in `try` runs with no exception. Put differently: `else` is not ran if `except` is ran."
   ]
  },
  {
   "cell_type": "code",
   "execution_count": 9,
   "id": "14298122",
   "metadata": {
    "scrolled": true
   },
   "outputs": [
    {
     "data": {
      "text/plain": [
       "10.0"
      ]
     },
     "execution_count": 9,
     "metadata": {},
     "output_type": "execute_result"
    }
   ],
   "source": [
    "def f1(a, b):\n",
    "    try:\n",
    "        x = a / b\n",
    "    except (ZeroDivisionError, TypeError) as e:\n",
    "        print(e)\n",
    "    else:\n",
    "        y = 2 * x + 5\n",
    "        return y\n",
    "f1(5, 2)"
   ]
  },
  {
   "cell_type": "markdown",
   "id": "93640fea",
   "metadata": {},
   "source": [
    "Note: another clause exists: `finally`. Instructions in `finally` will be executed just before `try` terminates (i.e. before an exception is raised within `try`, or after the very last instruction of `try`). It is useful for some advanced cases."
   ]
  },
  {
   "cell_type": "markdown",
   "id": "986a9614",
   "metadata": {},
   "source": [
    "## Raise an exception"
   ]
  },
  {
   "cell_type": "markdown",
   "id": "2783203f",
   "metadata": {},
   "source": [
    "It is possible to create a code interruption depending on certain conditions. In this case, with use the `raise` statement. In the example below, a `ValueError` is raised whenever the acquired value is negative. This error is catched in using a dedicated `except`."
   ]
  },
  {
   "cell_type": "code",
   "execution_count": 7,
   "id": "dcd4d847",
   "metadata": {
    "scrolled": true
   },
   "outputs": [
    {
     "name": "stdout",
     "output_type": "stream",
     "text": [
      "Time step 10:  Sensor default, got negative value -1.\n",
      "Time step 15:  Sensor default, got negative value -1.\n"
     ]
    },
    {
     "data": {
      "text/plain": [
       "[9, 10, 0, 10, 2, 5, 9, 3, 7, 1, 0, 5, 10, 7, 9, 0, 1, 10, 2, 10]"
      ]
     },
     "execution_count": 7,
     "metadata": {},
     "output_type": "execute_result"
    }
   ],
   "source": [
    "from random import randint\n",
    "\n",
    "\n",
    "def sensor_reading(only_valid_data=True):\n",
    "    # fake real-time data acquisition \n",
    "    new_value = randint(-1, 10)\n",
    "    if new_value < 0 and only_valid_data:\n",
    "        raise ValueError(f\"Sensor default, got negative value {new_value}.\")\n",
    "    return new_value\n",
    "\n",
    " \n",
    "def data_acquisition(replacement_value):\n",
    "    data = []\n",
    "    for k in range(20):\n",
    "        try:\n",
    "            new_value = sensor_reading()\n",
    "        except ValueError as e:\n",
    "            print(f\"Time step {k}: \", e)\n",
    "            new_value = replacement_value\n",
    "        data.append(new_value)\n",
    "    return data\n",
    "        \n",
    "\n",
    "    \n",
    "data_acquisition(0)"
   ]
  },
  {
   "cell_type": "markdown",
   "id": "4e66c2a6",
   "metadata": {},
   "source": [
    "## Conclusion\n",
    "\n",
    "`try`/`except` is a powerful way to handle expected errors, i.e. errors that will likely happen and that need a special treatment. "
   ]
  }
 ],
 "metadata": {
  "kernelspec": {
   "display_name": "Python 3 (ipykernel)",
   "language": "python",
   "name": "python3"
  },
  "language_info": {
   "codemirror_mode": {
    "name": "ipython",
    "version": 3
   },
   "file_extension": ".py",
   "mimetype": "text/x-python",
   "name": "python",
   "nbconvert_exporter": "python",
   "pygments_lexer": "ipython3",
   "version": "3.10.12"
  }
 },
 "nbformat": 4,
 "nbformat_minor": 5
}
