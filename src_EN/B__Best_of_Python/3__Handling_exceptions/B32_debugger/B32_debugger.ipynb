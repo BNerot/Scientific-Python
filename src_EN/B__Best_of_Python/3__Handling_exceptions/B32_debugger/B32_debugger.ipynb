{
 "cells": [
  {
   "cell_type": "markdown",
   "id": "1f86b69f",
   "metadata": {},
   "source": [
    "## Introduction"
   ]
  },
  {
   "cell_type": "markdown",
   "id": "fb8af116",
   "metadata": {},
   "source": [
    "### Key idea\n",
    "\n",
    "In a development process, the developper can uncounter some unpredictable and unwanted errors. These can be:\n",
    "\n",
    "- classical Python exceptions, as introduced previously\n",
    "- inconsistent scientific results that sugget a code error\n",
    "\n",
    "The *__debugger__* is a tool that makes solving these problems an easier task. Using the debugger, one can pause running code at some given instructions, called *__breakpoints__*. Whenever a breakpoint is encountered, the user can:\n",
    "\n",
    "- observe the some variable values (local or global variables)\n",
    "- evaluate some new expressions using these variables\n",
    "- enter the details of the breakpoint and run these instructions one after another\n",
    "- resume the execution until a new breakpoint is met\n",
    "\n",
    "Execution is __always__ paused __before__ the breakpoint, as if breakpoint occured at the end of the previous instruction.\n",
    "\n",
    "\n",
    "\n",
    "### Howto\n",
    "\n",
    "The native debugger of Python is a library called `pdb`. Whenever the `set_trace` method is used to declare breakpoints, execution falls back to debug mode. \n",
    "\n",
    "Yet, `pdb` is not handy, and a much better debugger integration is done within recent IDE. In this part, the debugger of _Visual Studio Code_ is introduced."
   ]
  },
  {
   "cell_type": "markdown",
   "id": "7e913f75",
   "metadata": {},
   "source": [
    "## Debugging using VSCode\n",
    "\n",
    "### Set some _breakpoints_"
   ]
  },
  {
   "cell_type": "markdown",
   "id": "289e79e6",
   "metadata": {},
   "source": [
    "Let's focus on the following code:\n",
    "\n",
    "![code_to_debug](figures/code_to_debug.png)"
   ]
  },
  {
   "cell_type": "markdown",
   "id": "50bdddec",
   "metadata": {},
   "source": [
    "By a left clic in the margin, 4 breakpoints were defined (red dots). At lines 4, 9 and 19 are normal breakpoints. Line 20 is a conditional breakpoint: a breakpoint that is activated is and only if `e>50`."
   ]
  },
  {
   "cell_type": "markdown",
   "id": "01ff9a90",
   "metadata": {},
   "source": [
    "![cond_breakpoint](figures/cond_breakpoint.png)"
   ]
  },
  {
   "cell_type": "markdown",
   "id": "620c3b2d",
   "metadata": {},
   "source": [
    "### Launch the debugger"
   ]
  },
  {
   "cell_type": "markdown",
   "id": "71e52079",
   "metadata": {},
   "source": [
    "Unfold the menu at the right hand side of the page and clic on 'Debug Python file':\n",
    "\n",
    "![launch_debug](figures/launch_debug.png)"
   ]
  },
  {
   "cell_type": "markdown",
   "id": "57289e34",
   "metadata": {},
   "source": [
    "A new toolbar is printed at the top:\n",
    "\n",
    "![debug_toolbar](figures/debug_toolbar.png)\n",
    "\n",
    "From left to right:\n",
    "\n",
    "- _Continue_: resume execution until next breakpoint\n",
    "- _Step over_: run one instruction after another. If the instruction is a function call, execution is paused only at breakpoints of the called function.\n",
    "- _Step into_: run one instruction after another. If the instruction is a function call, execution is paused at every instruction of this call, no matter the presence of breakpoints or not. \n",
    "- _Step out_: get out of a previously issued _step into_ by executing every instruction without pausing, until the end of the function\n",
    "- _Stop_: exit debug mode"
   ]
  },
  {
   "cell_type": "markdown",
   "id": "8d52b08b",
   "metadata": {},
   "source": [
    "### Debug tools"
   ]
  },
  {
   "cell_type": "markdown",
   "id": "b6f76da6",
   "metadata": {},
   "source": [
    "At every moment, local __variables__ (for instance, the variables defined in the function currently inspected)  are showed in a pannel on the left hand side. Their value change in real time as execution goes on. \n",
    "\n",
    "Similar to panel __variables__ is panel __watch__: one can define custom Python expressions involving variables. These expressions are also updated as the execution goes on."
   ]
  },
  {
   "cell_type": "markdown",
   "id": "1f6a306d",
   "metadata": {},
   "source": [
    "![debug_tools](figures/debug_tools.png)"
   ]
  },
  {
   "cell_type": "markdown",
   "id": "61bc388b",
   "metadata": {},
   "source": [
    "A right clic on a variable shows options to:\n",
    "\n",
    "- copy the variable value\n",
    "- explicitely set this value\n",
    "\n",
    "Yet, these options are more accessible in the __DEBUG CONSOLE__, at the bottom of the window:\n",
    "\n",
    "![debug_console.png](figures/debug_console.png)"
   ]
  },
  {
   "cell_type": "markdown",
   "id": "8f7914c2",
   "metadata": {},
   "source": [
    "### Execution"
   ]
  },
  {
   "cell_type": "markdown",
   "id": "2d91be70",
   "metadata": {},
   "source": [
    "As usual, outputs of the execution are visible in the __TERMINAL__ tab, next to __DEBUG CONSOLE__.\n",
    "![usual_output](figures/usual_output.png)"
   ]
  },
  {
   "cell_type": "markdown",
   "id": "8d67d2ec",
   "metadata": {},
   "source": [
    "### Important notes"
   ]
  },
  {
   "cell_type": "markdown",
   "id": "ac24e743",
   "metadata": {},
   "source": [
    "__There is not return trip in debug mode: the execution of an instruction cannot be undone.__  \n",
    "\n",
    "For this reason, breakpoints must be carefully placed __before__ the problematic section. Usually, setting less than 5 breakpoints is enough to debug, as functions _Step over_ and _Step into_ are pretty powerful."
   ]
  }
 ],
 "metadata": {
  "kernelspec": {
   "display_name": "Python 3 (ipykernel)",
   "language": "python",
   "name": "python3"
  },
  "language_info": {
   "codemirror_mode": {
    "name": "ipython",
    "version": 3
   },
   "file_extension": ".py",
   "mimetype": "text/x-python",
   "name": "python",
   "nbconvert_exporter": "python",
   "pygments_lexer": "ipython3",
   "version": "3.10.12"
  }
 },
 "nbformat": 4,
 "nbformat_minor": 5
}
