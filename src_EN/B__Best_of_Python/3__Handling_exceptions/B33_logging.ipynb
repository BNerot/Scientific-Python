{
 "cells": [
  {
   "cell_type": "markdown",
   "id": "e2480bb6",
   "metadata": {},
   "source": [
    "## About this notebook\n",
    "\n",
    "Avoid running again the cells of this notebook.\n",
    "\n",
    "\n",
    "\n",
    "## Introduction"
   ]
  },
  {
   "cell_type": "markdown",
   "id": "1ae08034",
   "metadata": {},
   "source": [
    "A running code can be monitored using carefully placed `print` statements. Yet, this solution does not allow to choose:\n",
    "\n",
    "- Whether or not the messages must be printed during an execution. To do this, one must comment out or uncomment the `print` statements.\n",
    "- Where are the messages printed: standard output (terminal) and/or files(s) on disk.\n",
    "\n",
    "The `logging` library solves these problems."
   ]
  },
  {
   "cell_type": "markdown",
   "id": "54106420",
   "metadata": {},
   "source": [
    "## Exemple"
   ]
  },
  {
   "cell_type": "markdown",
   "id": "d64c71c4",
   "metadata": {},
   "source": [
    "### Setting up a logger"
   ]
  },
  {
   "cell_type": "code",
   "execution_count": 1,
   "id": "d9ce49b7",
   "metadata": {},
   "outputs": [],
   "source": [
    "import logging\n",
    "\n",
    "\n",
    "def define_logger(base_level):\n",
    "    logger = logging.getLogger()\n",
    "    logger.setLevel(base_level)\n",
    "\n",
    "    overview_handler = logging.StreamHandler()\n",
    "    overview_handler.setLevel(logging.INFO)\n",
    "    logger.addHandler(overview_handler)\n",
    "\n",
    "    problem_handler = logging.StreamHandler()\n",
    "    problem_handler.setLevel(logging.WARNING)\n",
    "    logger.addHandler(problem_handler)\n",
    "\n",
    "    return logger\n",
    "\n",
    "logger = define_logger(base_level=logging.INFO)"
   ]
  },
  {
   "cell_type": "markdown",
   "id": "f7ea90df",
   "metadata": {},
   "source": [
    "The `logger` is the base object used to write messages. When it receives a message whose level is higher than `base_level`, the `logger` shares it with its `handler` instances. here, 2 handlers are defined:\n",
    "\n",
    "- `overview_handler` will write messages whose level is at least `INFO`. `INFO` messages describe simply what is going on in the code. \n",
    "- `problem_handler` will write messages whose level is at least `WARNING`. `WARNING` messages tell the user about a small problem.\n",
    "\n",
    "Both these handlers publish their messages in the output console (\"`StreamHandler`\").\n",
    "\n",
    "Then, what is the levels hierarchy? It is given in [the documentation page of the logging library](https://docs.python.org/3/library/logging.html#logging-levels):\n",
    "\n",
    "![logging_levels](logging_levels.png)\n",
    "\n",
    "These levels are internally represented as integers, but one must use the syntax `logging.[...]` instead."
   ]
  },
  {
   "cell_type": "markdown",
   "id": "7df64665",
   "metadata": {},
   "source": [
    "### Using a logger\n",
    "\n",
    "Using the previous example regarding data acquisition:"
   ]
  },
  {
   "cell_type": "code",
   "execution_count": 2,
   "id": "665c1098",
   "metadata": {},
   "outputs": [],
   "source": [
    "from random import randint\n",
    "from time import sleep\n",
    "\n",
    "def sensor_reading(only_valid_data=True):\n",
    "    # fake real-time data acquisition \n",
    "    sleep(1)\n",
    "    new_value = randint(-10, 10)\n",
    "    if new_value < 0 and only_valid_data:\n",
    "        raise ValueError(f\"Sensor default, got negative value {new_value}.\")\n",
    "    return new_value\n",
    "\n",
    " \n",
    "def data_acquisition(logger, replacement_value=0):\n",
    "    data = []\n",
    "    for k in range(5):\n",
    "        try:\n",
    "            new_value = sensor_reading()\n",
    "            logger.info(f\"Time step {k}: good value: {new_value}\")\n",
    "\n",
    "        except ValueError as e:\n",
    "            new_value = replacement_value\n",
    "            logger.warning(f\"Time step {k}: bad value was replaced with {replacement_value}\")\n",
    "\n",
    "        data.append(new_value)\n",
    "    return data"
   ]
  },
  {
   "cell_type": "code",
   "execution_count": 3,
   "id": "26fc70ee",
   "metadata": {},
   "outputs": [
    {
     "name": "stderr",
     "output_type": "stream",
     "text": [
      "Time step 0: good value: 9\n",
      "Time step 1: bad value was replaced with 0\n",
      "Time step 1: bad value was replaced with 0\n",
      "Time step 2: good value: 1\n",
      "Time step 3: good value: 5\n",
      "Time step 4: good value: 4\n"
     ]
    },
    {
     "data": {
      "text/plain": [
       "[9, 0, 1, 5, 4]"
      ]
     },
     "execution_count": 3,
     "metadata": {},
     "output_type": "execute_result"
    }
   ],
   "source": [
    "data_acquisition(logger, 0)"
   ]
  },
  {
   "cell_type": "markdown",
   "id": "36ef947b",
   "metadata": {},
   "source": [
    "In the output console ('_Stream_'), we can notice two different behaviours:\n",
    "\n",
    "- whenever acquisition succeeds (`value`>=0), a message with level `logging.INFO` is printed. Among the two defined handlers, only `overview_handler` prints this message since the level of `problem_handler` (`logging.WARNING`) is higher than `logging.INFO`.\n",
    "- whenever acquisition fails, both handlers print the failure message because it is published with a level `logging.WARNING`. Thus this message is printed two times."
   ]
  },
  {
   "cell_type": "markdown",
   "id": "ec079d9b",
   "metadata": {},
   "source": [
    "### Advanced features\n",
    "\n",
    "Defining two handlers having the same output is not that interesting. hereafter, the `overview_handler` is modified so that its messages are written to a file. \n",
    "\n",
    "Moreover, some information are added to the logged messages. This is done using a `__Formatter__` object:\n",
    "\n",
    "- The time stamp of message production \n",
    "- The level of the message\n",
    "\n",
    "The information that can be added to each message are described in the [documentation](https://docs.python.org/3/library/logging.html#logrecord-attributes). Note that the `style` argument tells that the formatting syntax is `{}` (see `fmt` argument)."
   ]
  },
  {
   "cell_type": "code",
   "execution_count": 2,
   "id": "75711de5",
   "metadata": {},
   "outputs": [],
   "source": [
    "import logging\n",
    "\n",
    "\n",
    "def define_logger2(base_level):\n",
    "    logger = logging.getLogger()\n",
    "    logger.setLevel(base_level)\n",
    "    formatter = logging.Formatter(fmt='{asctime} :: {levelname} :: {message}',\n",
    "                                  datefmt='%H:%M',\n",
    "                                  style='{')                                    \n",
    "\n",
    "    overview_handler = logging.FileHandler(\"overview_log.txt\", mode=\"w\")\n",
    "    overview_handler.setLevel(logging.INFO)\n",
    "    overview_handler.setFormatter(formatter)\n",
    "    logger.addHandler(overview_handler)\n",
    "\n",
    "    problem_handler = logging.StreamHandler()    \n",
    "    problem_handler.setLevel(logging.WARNING)\n",
    "    problem_handler.setFormatter(formatter)\n",
    "    logger.addHandler(problem_handler)\n",
    "\n",
    "    return logger\n",
    "\n",
    "logger2 = define_logger2(base_level=logging.INFO)"
   ]
  },
  {
   "cell_type": "code",
   "execution_count": 3,
   "id": "689492ba",
   "metadata": {
    "scrolled": true
   },
   "outputs": [
    {
     "name": "stderr",
     "output_type": "stream",
     "text": [
      "19:38 :: WARNING :: Time step 0: bad value was replaced with 0\n"
     ]
    },
    {
     "data": {
      "text/plain": [
       "[0, 1, 2, 6, 8]"
      ]
     },
     "execution_count": 3,
     "metadata": {},
     "output_type": "execute_result"
    }
   ],
   "source": [
    "data_acquisition(logger2, 0)"
   ]
  },
  {
   "cell_type": "code",
   "execution_count": 6,
   "id": "085b979f",
   "metadata": {},
   "outputs": [
    {
     "name": "stdout",
     "output_type": "stream",
     "text": [
      "19:38 :: WARNING :: Time step 0: bad value was replaced with 0\n",
      "19:38 :: INFO :: Time step 1: good value: 1\n",
      "19:38 :: INFO :: Time step 2: good value: 2\n",
      "19:38 :: INFO :: Time step 3: good value: 6\n",
      "19:38 :: INFO :: Time step 4: good value: 8\n",
      "\n"
     ]
    }
   ],
   "source": [
    "with open(\"overview_log.txt\", \"r\") as file:\n",
    "    content = file.read()\n",
    "    print(content)"
   ]
  },
  {
   "cell_type": "markdown",
   "id": "f21168ad",
   "metadata": {},
   "source": [
    "We can notice that:\n",
    "\n",
    "- The console output is limited to messages having a level `logging.WARNING`.\n",
    "- The file *overview_log.txt* contains both levels of messages.\n"
   ]
  }
 ],
 "metadata": {
  "kernelspec": {
   "display_name": "Python 3 (ipykernel)",
   "language": "python",
   "name": "python3"
  },
  "language_info": {
   "codemirror_mode": {
    "name": "ipython",
    "version": 3
   },
   "file_extension": ".py",
   "mimetype": "text/x-python",
   "name": "python",
   "nbconvert_exporter": "python",
   "pygments_lexer": "ipython3",
   "version": "3.10.12"
  }
 },
 "nbformat": 4,
 "nbformat_minor": 5
}
