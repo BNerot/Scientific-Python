{
 "cells": [
  {
   "cell_type": "markdown",
   "id": "e2480bb6",
   "metadata": {},
   "source": [
    "## Introduction\n",
    "\n",
    "The code of large Python projects is spread among several files. One must be able to use within a file the software components stored in another file.\n",
    "\n",
    "Python handles imports by replacing the idea of file by the idea of __module__. A set of modules constitutes a __package__. "
   ]
  },
  {
   "cell_type": "markdown",
   "id": "5314b513",
   "metadata": {},
   "source": [
    "In this part, the `numpy` package is used to demonstrate the various import methods."
   ]
  },
  {
   "cell_type": "markdown",
   "id": "2c44faad",
   "metadata": {},
   "source": [
    "## Full import"
   ]
  },
  {
   "cell_type": "markdown",
   "id": "b8e6a389",
   "metadata": {},
   "source": [
    "With the keywork `import`, a package (group of subpackages and modules) or a module is placed into the local memory space.  \n",
    "\n",
    "We can make use of the module. For instance, list its attributes using the `dir` function."
   ]
  },
  {
   "cell_type": "code",
   "execution_count": 1,
   "id": "8f5776ce",
   "metadata": {
    "scrolled": true
   },
   "outputs": [
    {
     "data": {
      "text/plain": [
       "['ALLOW_THREADS',\n",
       " 'AxisError',\n",
       " 'BUFSIZE',\n",
       " 'CLIP',\n",
       " 'ComplexWarning',\n",
       " 'DataSource',\n",
       " 'ERR_CALL',\n",
       " 'ERR_DEFAULT',\n",
       " 'ERR_IGNORE',\n",
       " 'ERR_LOG']"
      ]
     },
     "execution_count": 1,
     "metadata": {},
     "output_type": "execute_result"
    }
   ],
   "source": [
    "import numpy\n",
    "dir(numpy)[:10]"
   ]
  },
  {
   "cell_type": "markdown",
   "id": "ac556d74",
   "metadata": {},
   "source": [
    "It is handy to associate a shorter name to the imported module: this is called an __alias__."
   ]
  },
  {
   "cell_type": "code",
   "execution_count": 2,
   "id": "f096ba2e",
   "metadata": {},
   "outputs": [
    {
     "data": {
      "text/plain": [
       "['ALLOW_THREADS',\n",
       " 'AxisError',\n",
       " 'BUFSIZE',\n",
       " 'CLIP',\n",
       " 'ComplexWarning',\n",
       " 'DataSource',\n",
       " 'ERR_CALL',\n",
       " 'ERR_DEFAULT',\n",
       " 'ERR_IGNORE',\n",
       " 'ERR_LOG']"
      ]
     },
     "execution_count": 2,
     "metadata": {},
     "output_type": "execute_result"
    }
   ],
   "source": [
    "import numpy as np\n",
    "dir(np)[:10]"
   ]
  },
  {
   "cell_type": "markdown",
   "id": "0281bf7f",
   "metadata": {},
   "source": [
    "The components that can be imported are available as a hierarchy from the root package (here: `numpy`):"
   ]
  },
  {
   "cell_type": "code",
   "execution_count": 7,
   "id": "bb28b3b5",
   "metadata": {
    "scrolled": false
   },
   "outputs": [
    {
     "data": {
      "text/plain": [
       "module"
      ]
     },
     "execution_count": 7,
     "metadata": {},
     "output_type": "execute_result"
    }
   ],
   "source": [
    "import numpy.random.bit_generator\n",
    "type(numpy.random.bit_generator)"
   ]
  },
  {
   "cell_type": "markdown",
   "id": "89adaa02",
   "metadata": {},
   "source": [
    "## Relative import"
   ]
  },
  {
   "cell_type": "markdown",
   "id": "ec898c9a",
   "metadata": {},
   "source": [
    "Using `from ... import ...`, some specific components are placed to the local memory space. These components can be:\n",
    "\n",
    "- variables\n",
    "- classes\n",
    "- functions\n",
    "- modules\n"
   ]
  },
  {
   "cell_type": "code",
   "execution_count": 2,
   "id": "1862694a",
   "metadata": {},
   "outputs": [],
   "source": [
    "from numpy.random import randint"
   ]
  },
  {
   "cell_type": "markdown",
   "id": "2a0b9093",
   "metadata": {},
   "source": [
    "## Good practices\n",
    "\n",
    "### Import only the needed content\n",
    "\n",
    "Importing Python objects can be unnecessarily time-consuming. Thus, relative imports mist be preferred over absolute imports so that only needed components are imported."
   ]
  },
  {
   "cell_type": "code",
   "execution_count": 5,
   "id": "39d5c93d",
   "metadata": {},
   "outputs": [],
   "source": [
    "from numpy import log, sqrt\n",
    "from numpy.random import rand"
   ]
  },
  {
   "cell_type": "markdown",
   "id": "e1cbf9e2",
   "metadata": {},
   "source": [
    "### Choose the import name wisely\n",
    "\n",
    "If a chosen alias is also an existing variable name, the variable reference will be lost (shadowing):"
   ]
  },
  {
   "cell_type": "code",
   "execution_count": 6,
   "id": "219242a2",
   "metadata": {},
   "outputs": [
    {
     "name": "stdout",
     "output_type": "stream",
     "text": [
      "5\n",
      "<built-in method randint of numpy.random.mtrand.RandomState object at 0x7f1ea0513b40>\n"
     ]
    }
   ],
   "source": [
    "rd = 5\n",
    "print(rd)\n",
    "from numpy.random import randint as rd\n",
    "print(rd)"
   ]
  },
  {
   "cell_type": "markdown",
   "id": "2f4b574c",
   "metadata": {},
   "source": [
    "### Move all imports to the beginning of the file\n"
   ]
  },
  {
   "cell_type": "markdown",
   "id": "a636b2a3",
   "metadata": {},
   "source": [
    "For clarity purpose, in an ideal world, all imports must be placed at the beginning of the file and be sorted:\n",
    "\n",
    "1. By origin:\n",
    "\n",
    "    1. Built-in packages: `os`, `sys`, `pathlib`, etc...\n",
    "    \n",
    "    2. Third-party packages from internet: `pandas`, `numpy`, `matplotlib`, etc...\n",
    "    \n",
    "    3. Your local packages or modules \n",
    "    \n",
    "2. By alphabetical order\n",
    "\n",
    "n.b.: some IDE order the imports automatically.\n",
    "\n",
    "Example of sorted imports:"
   ]
  },
  {
   "cell_type": "code",
   "execution_count": 7,
   "id": "e53a77f5",
   "metadata": {},
   "outputs": [],
   "source": [
    "from os import getcwd, lstat\n",
    "from time import sleep\n",
    "\n",
    "from pandas import DataFrame, Interval\n",
    "\n",
    "# from mypackage.mymodule import a, b, c"
   ]
  }
 ],
 "metadata": {
  "kernelspec": {
   "display_name": "Python 3 (ipykernel)",
   "language": "python",
   "name": "python3"
  },
  "language_info": {
   "codemirror_mode": {
    "name": "ipython",
    "version": 3
   },
   "file_extension": ".py",
   "mimetype": "text/x-python",
   "name": "python",
   "nbconvert_exporter": "python",
   "pygments_lexer": "ipython3",
   "version": "3.10.12"
  }
 },
 "nbformat": 4,
 "nbformat_minor": 5
}
