{
 "cells": [
  {
   "cell_type": "markdown",
   "id": "640b2cfe",
   "metadata": {
    "editable": true,
    "slideshow": {
     "slide_type": "slide"
    },
    "tags": []
   },
   "source": [
    "## Introduction\n",
    "\n",
    "To import some content, Python must know:\n",
    "\n",
    "- which directory is a package\n",
    "- where to find such directories\n",
    "\n",
    "Hereafter is presented a simple methodology to access some Python code that is stored elsewhere on the disk. "
   ]
  },
  {
   "cell_type": "markdown",
   "id": "e2480bb6",
   "metadata": {
    "editable": true,
    "slideshow": {
     "slide_type": "slide"
    },
    "tags": []
   },
   "source": [
    "\n",
    "## Example\n",
    "\n",
    "![struct_0](figures/struct_0.png)"
   ]
  },
  {
   "cell_type": "markdown",
   "id": "f7fb717f-a85b-430c-866a-a3c02a2a71fa",
   "metadata": {
    "editable": true,
    "slideshow": {
     "slide_type": "slide"
    },
    "tags": []
   },
   "source": [
    "There are two directories sharing the same parent:\n",
    "\n",
    "- `package_parent`: hosts the `src` directory which contains a Python package. \n",
    "\n",
    "   \n",
    "    \n",
    "    In `src`, the first `__init__.py` file tells Python that directory `src` is a __package__. The other `__init__.py` files define a subpackages whose name are the directory they are in (`subpackage_1`, `subpackage_1_A`, etc...). The other `*.py` files are those containing useful code. They are called __modules__. Each of them is filled with:\n",
    "\n",
    "    - a `print` that tells about the file name\n",
    "    - a variable `var`\n",
    "    \n",
    "- `project`: a fictive Python project that contains a Python file\n"
   ]
  },
  {
   "cell_type": "markdown",
   "id": "242c0c6d",
   "metadata": {
    "editable": true,
    "slideshow": {
     "slide_type": "slide"
    },
    "tags": []
   },
   "source": [
    "## Search for packages"
   ]
  },
  {
   "cell_type": "markdown",
   "id": "524adf7a",
   "metadata": {
    "editable": true,
    "slideshow": {
     "slide_type": "slide"
    },
    "tags": []
   },
   "source": [
    "__When importing a package, Python looks for it__:\n",
    "\n",
    "- in the current directory\n",
    "- in files described in the `sys.path` list\n",
    "\n",
    "Thus, the import of `src` from the `project` directory (for instance in `script.py`) will fail as current directory (`project`) is not the one of the package (`package_parent`)."
   ]
  },
  {
   "cell_type": "code",
   "execution_count": 1,
   "id": "6caa54b8",
   "metadata": {
    "editable": true,
    "slideshow": {
     "slide_type": ""
    },
    "tags": []
   },
   "outputs": [
    {
     "ename": "ModuleNotFoundError",
     "evalue": "No module named 'src'",
     "output_type": "error",
     "traceback": [
      "\u001b[0;31m---------------------------------------------------------------------------\u001b[0m",
      "\u001b[0;31mModuleNotFoundError\u001b[0m                       Traceback (most recent call last)",
      "Cell \u001b[0;32mIn[1], line 3\u001b[0m\n\u001b[1;32m      1\u001b[0m \u001b[38;5;28;01mimport\u001b[39;00m \u001b[38;5;21;01mos\u001b[39;00m\n\u001b[1;32m      2\u001b[0m os\u001b[38;5;241m.\u001b[39mchdir(\u001b[38;5;124mr\u001b[39m\u001b[38;5;124m'\u001b[39m\u001b[38;5;124mdir/project\u001b[39m\u001b[38;5;124m'\u001b[39m)\n\u001b[0;32m----> 3\u001b[0m \u001b[38;5;28;01mimport\u001b[39;00m \u001b[38;5;21;01msrc\u001b[39;00m\n",
      "\u001b[0;31mModuleNotFoundError\u001b[0m: No module named 'src'"
     ]
    }
   ],
   "source": [
    "import os\n",
    "os.chdir(r'dir/project')\n",
    "import src"
   ]
  },
  {
   "cell_type": "markdown",
   "id": "84d02d4b",
   "metadata": {
    "editable": true,
    "slideshow": {
     "slide_type": "slide"
    },
    "tags": []
   },
   "source": [
    "Let's move to `package_parent`:"
   ]
  },
  {
   "cell_type": "code",
   "execution_count": 2,
   "id": "b780d1d7",
   "metadata": {
    "editable": true,
    "slideshow": {
     "slide_type": ""
    },
    "tags": []
   },
   "outputs": [
    {
     "name": "stdout",
     "output_type": "stream",
     "text": [
      "I am __init__ of package\n"
     ]
    }
   ],
   "source": [
    "os.chdir(r'../package_parent/')\n",
    "import src"
   ]
  },
  {
   "cell_type": "markdown",
   "id": "21f926c3",
   "metadata": {
    "editable": true,
    "slideshow": {
     "slide_type": ""
    },
    "tags": []
   },
   "source": [
    "Import succeeded."
   ]
  },
  {
   "cell_type": "markdown",
   "id": "f7ab30a2-8589-4477-bec4-32c6723e1ac9",
   "metadata": {
    "editable": true,
    "slideshow": {
     "slide_type": "slide"
    },
    "tags": []
   },
   "source": [
    " Yet, changing current directory is not a good solution to access packages. __The preferred way is to modify the `sys.path` variable__. The path is inserted at first position:"
   ]
  },
  {
   "cell_type": "code",
   "execution_count": 3,
   "id": "bde730fa",
   "metadata": {
    "editable": true,
    "slideshow": {
     "slide_type": ""
    },
    "tags": []
   },
   "outputs": [],
   "source": [
    "os.chdir(r'../project')    # back to a dir different than the one compatbile with import of `src`\n",
    "from sys import path\n",
    "from pathlib import Path\n",
    "path.insert(0, str(Path('../package_parent/').resolve()))"
   ]
  },
  {
   "cell_type": "markdown",
   "id": "f9f4fbb7",
   "metadata": {
    "editable": true,
    "slideshow": {
     "slide_type": ""
    },
    "tags": []
   },
   "source": [
    "Then the import is running smoothly:"
   ]
  },
  {
   "cell_type": "code",
   "execution_count": 4,
   "id": "7af8e4da",
   "metadata": {
    "editable": true,
    "slideshow": {
     "slide_type": ""
    },
    "tags": []
   },
   "outputs": [
    {
     "name": "stdout",
     "output_type": "stream",
     "text": [
      "culling sys module...\n",
      "I am __init__ of package\n"
     ]
    }
   ],
   "source": [
    "%reset -f --aggressive\n",
    "import src"
   ]
  },
  {
   "cell_type": "markdown",
   "id": "52bf6669",
   "metadata": {
    "editable": true,
    "slideshow": {
     "slide_type": "slide"
    },
    "tags": []
   },
   "source": [
    "__Note__: in  Python console, packages/modules are never imported twice. Thus, for explanation purpose, the magic function `reset -f` is used here to erase all the memory content, included imports, so that we can experience a second import. Usually, this is not necessary (and `--agressive` must not be used)."
   ]
  },
  {
   "cell_type": "markdown",
   "id": "4e4a6232",
   "metadata": {
    "editable": true,
    "slideshow": {
     "slide_type": "slide"
    },
    "tags": []
   },
   "source": [
    "## Add some content to \\_\\_init\\_\\_"
   ]
  },
  {
   "cell_type": "markdown",
   "id": "302eae28",
   "metadata": {
    "editable": true,
    "slideshow": {
     "slide_type": "slide"
    },
    "tags": []
   },
   "source": [
    "When importing a module, one can access its components:"
   ]
  },
  {
   "cell_type": "code",
   "execution_count": 5,
   "id": "8bcabc34",
   "metadata": {
    "editable": true,
    "slideshow": {
     "slide_type": ""
    },
    "tags": []
   },
   "outputs": [
    {
     "name": "stdout",
     "output_type": "stream",
     "text": [
      "culling sys module...\n",
      "I am __init__ of package\n",
      "I am __init__ of subpackage_1\n",
      "I am __init__ of subpackage_1_A\n",
      "I am module_1_A_1\n"
     ]
    },
    {
     "data": {
      "text/plain": [
       "1"
      ]
     },
     "execution_count": 5,
     "metadata": {},
     "output_type": "execute_result"
    }
   ],
   "source": [
    "%reset -f --aggressive\n",
    "from src.subpackage_1.subpackage_1_A import module_1_A_1\n",
    "module_1_A_1.var"
   ]
  },
  {
   "cell_type": "markdown",
   "id": "881a9d50",
   "metadata": {
    "editable": true,
    "slideshow": {
     "slide_type": "slide"
    },
    "tags": []
   },
   "source": [
    "Conversely, when importing a package 'my_package', with an empty `__init__.py` file, modules or subpackages that are contained in 'my_package' are not imported. In the code snippet below, access to a module of 'package' ('module_1_B_1') is impossible:"
   ]
  },
  {
   "cell_type": "code",
   "execution_count": 6,
   "id": "f4ff7f3f",
   "metadata": {},
   "outputs": [
    {
     "name": "stdout",
     "output_type": "stream",
     "text": [
      "culling sys module...\n",
      "I am __init__ of package\n",
      "I am __init__ of subpackage_1\n",
      "I am __init__ of subpackage_1_B\n",
      "I am __init__ of subpackage_1_A\n",
      "I am module_1_A_1\n"
     ]
    },
    {
     "ename": "AttributeError",
     "evalue": "module 'src.subpackage_1.subpackage_1_B' has no attribute 'module_1_B_1'",
     "output_type": "error",
     "traceback": [
      "\u001b[0;31m---------------------------------------------------------------------------\u001b[0m",
      "\u001b[0;31mAttributeError\u001b[0m                            Traceback (most recent call last)",
      "Cell \u001b[0;32mIn[6], line 3\u001b[0m\n\u001b[1;32m      1\u001b[0m get_ipython()\u001b[38;5;241m.\u001b[39mrun_line_magic(\u001b[38;5;124m'\u001b[39m\u001b[38;5;124mreset\u001b[39m\u001b[38;5;124m'\u001b[39m, \u001b[38;5;124m'\u001b[39m\u001b[38;5;124m-f --aggressive\u001b[39m\u001b[38;5;124m'\u001b[39m)\n\u001b[1;32m      2\u001b[0m \u001b[38;5;28;01mimport\u001b[39;00m \u001b[38;5;21;01msrc\u001b[39;00m\u001b[38;5;21;01m.\u001b[39;00m\u001b[38;5;21;01msubpackage_1\u001b[39;00m\u001b[38;5;21;01m.\u001b[39;00m\u001b[38;5;21;01msubpackage_1_B\u001b[39;00m \u001b[38;5;28;01mas\u001b[39;00m \u001b[38;5;21;01mpackage\u001b[39;00m\n\u001b[0;32m----> 3\u001b[0m \u001b[43mpackage\u001b[49m\u001b[38;5;241;43m.\u001b[39;49m\u001b[43mmodule_1_B_1\u001b[49m\u001b[38;5;241m.\u001b[39mvar\n",
      "\u001b[0;31mAttributeError\u001b[0m: module 'src.subpackage_1.subpackage_1_B' has no attribute 'module_1_B_1'"
     ]
    }
   ],
   "source": [
    "%reset -f --aggressive\n",
    "import src.subpackage_1.subpackage_1_B as package\n",
    "package.module_1_B_1.var"
   ]
  },
  {
   "cell_type": "markdown",
   "id": "59461e39",
   "metadata": {
    "editable": true,
    "slideshow": {
     "slide_type": "slide"
    },
    "tags": []
   },
   "source": [
    "Suppose we add some additionnal content to `module_1_A_1`:"
   ]
  },
  {
   "cell_type": "markdown",
   "id": "ca31937e",
   "metadata": {},
   "source": [
    "```\n",
    "print(\"I am module_1_A_1\")\n",
    "var = 1\n",
    "\n",
    "def new_func():\n",
    "    print(\"I am `new_func`\")\n",
    "```"
   ]
  },
  {
   "cell_type": "markdown",
   "id": "5b1f965f",
   "metadata": {
    "editable": true,
    "slideshow": {
     "slide_type": ""
    },
    "tags": []
   },
   "source": [
    "To import this content when importing `subpackage_1_A`, the file `src/subpackage_1/subpackage_1_A/__init__.py` is completed with:"
   ]
  },
  {
   "cell_type": "markdown",
   "id": "e0692ca4",
   "metadata": {
    "editable": true,
    "slideshow": {
     "slide_type": ""
    },
    "tags": []
   },
   "source": [
    "```\n",
    "print(\"I am __init__ of subpackage_1_A\")\n",
    "useless_var = 10\n",
    "from .module_1_A_1 import var\n",
    "from .module_1_A_1 import new_func as imported_func\n",
    "```\n",
    "\n",
    "The syntax `.[module_name]` tells Python to search for a module in the current package. \n"
   ]
  },
  {
   "cell_type": "markdown",
   "id": "fd4aea6e",
   "metadata": {
    "editable": true,
    "slideshow": {
     "slide_type": "slide"
    },
    "tags": []
   },
   "source": [
    "Then, back to our project, the import of module content does not fail:"
   ]
  },
  {
   "cell_type": "code",
   "execution_count": 7,
   "id": "505488e3",
   "metadata": {
    "editable": true,
    "slideshow": {
     "slide_type": ""
    },
    "tags": []
   },
   "outputs": [
    {
     "name": "stdout",
     "output_type": "stream",
     "text": [
      "culling sys module...\n",
      "I am __init__ of package\n",
      "I am __init__ of subpackage_1\n",
      "I am __init__ of subpackage_1_A\n",
      "I am module_1_A_1\n",
      "10\n",
      "1\n",
      "I am `new_func`\n"
     ]
    }
   ],
   "source": [
    "%reset -f --aggressive\n",
    "import src.subpackage_1.subpackage_1_A as package\n",
    "print(package.useless_var)\n",
    "print(package.var)\n",
    "package.imported_func()"
   ]
  },
  {
   "cell_type": "markdown",
   "id": "64a5b505-6b2f-43f0-9c38-4f11b2bdfac3",
   "metadata": {
    "editable": true,
    "slideshow": {
     "slide_type": ""
    },
    "tags": []
   },
   "source": [
    "Explanation:  `import src.subpackage_1.subpackage_1_A as package` executed the instructions contained in the `__init__` file of `subpackage_1_A`. These instructions make avilable some content of `module_1_A_1`. "
   ]
  },
  {
   "cell_type": "markdown",
   "id": "8a225241",
   "metadata": {
    "editable": true,
    "slideshow": {
     "slide_type": "slide"
    },
    "tags": []
   },
   "source": [
    "The search is possible in siblings packages or parent packages using the `..` syntax. For instance, let's import the same components but from `module_1_B_1.py` by modifying `src/subpackage_1/subpackage_1_B/__init__.py`:\n",
    "\n",
    "```\n",
    "print(\"I am __init__ of subpackage_1_B\")\n",
    "from ...subpackage_1.subpackage_1_A import imported_func\n",
    "```\n"
   ]
  },
  {
   "cell_type": "code",
   "execution_count": 8,
   "id": "b6822a3f",
   "metadata": {},
   "outputs": [
    {
     "name": "stdout",
     "output_type": "stream",
     "text": [
      "culling sys module...\n",
      "I am __init__ of package\n",
      "I am __init__ of subpackage_1\n",
      "I am __init__ of subpackage_1_B\n",
      "I am __init__ of subpackage_1_A\n",
      "I am module_1_A_1\n",
      "I am `new_func`\n"
     ]
    }
   ],
   "source": [
    "%reset -f --aggressive\n",
    "import src.subpackage_1.subpackage_1_B as package\n",
    "package.imported_func()\n"
   ]
  },
  {
   "cell_type": "markdown",
   "id": "ff488568",
   "metadata": {
    "editable": true,
    "slideshow": {
     "slide_type": "slide"
    },
    "tags": []
   },
   "source": [
    "__Note__: one can also use the `from module import *` syntax to import everything from a module:\n",
    "\n",
    "```\n",
    "print(\"I am __init__ of subpackage_1_B\")\n",
    "from ...subpackage_1.subpackage_1_A import *\n",
    "```\n",
    "\n",
    "Yet, this syntax must be avoided."
   ]
  },
  {
   "cell_type": "markdown",
   "id": "292ed07a",
   "metadata": {
    "editable": true,
    "slideshow": {
     "slide_type": "slide"
    },
    "tags": []
   },
   "source": [
    "## Take away"
   ]
  },
  {
   "cell_type": "markdown",
   "id": "a5a5686a-bd4a-44d8-ad56-f8afc1719073",
   "metadata": {
    "editable": true,
    "slideshow": {
     "slide_type": "slide"
    },
    "tags": []
   },
   "source": [
    "__Never copy/paste package directories to make import easier!__"
   ]
  },
  {
   "cell_type": "markdown",
   "id": "db8295e1-dec9-4fe0-9861-9f0bff86c995",
   "metadata": {
    "editable": true,
    "slideshow": {
     "slide_type": "slide"
    },
    "tags": []
   },
   "source": [
    "### Packages and modules\n",
    "\n",
    "- a module is a `*.py` file within a package\n",
    "- a package is a directory containing an `__init__.py` file\n",
    "- file `__init__.py` is ran when the package is imported\n",
    "- some content to be imported can be added to `__init__.py` files using the `.`, `..`, `...` (etc...) syntax to browse sibling subpackages\n",
    "- a content is never imported twice"
   ]
  },
  {
   "cell_type": "markdown",
   "id": "fd7e1384",
   "metadata": {
    "editable": true,
    "slideshow": {
     "slide_type": "slide"
    },
    "tags": []
   },
   "source": [
    "### `sys.path`\n",
    "\n",
    "- Modifying `sys.path` is a way to access some Python code stored elsewhere on the disk. \n",
    "- One must __never__ copy/paste package directories to make import easier."
   ]
  }
 ],
 "metadata": {
  "kernelspec": {
   "display_name": "Python 3 (ipykernel)",
   "language": "python",
   "name": "python3"
  },
  "language_info": {
   "codemirror_mode": {
    "name": "ipython",
    "version": 3
   },
   "file_extension": ".py",
   "mimetype": "text/x-python",
   "name": "python",
   "nbconvert_exporter": "python",
   "pygments_lexer": "ipython3",
   "version": "3.12.3"
  }
 },
 "nbformat": 4,
 "nbformat_minor": 5
}
