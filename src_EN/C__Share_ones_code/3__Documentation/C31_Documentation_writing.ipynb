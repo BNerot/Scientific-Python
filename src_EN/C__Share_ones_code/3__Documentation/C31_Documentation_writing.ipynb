{
 "cells": [
  {
   "cell_type": "markdown",
   "id": "89ebcb76",
   "metadata": {},
   "source": [
    "## Introduction\n",
    "\n",
    "Documenting a code consists in writing **_docstrings_**. _Docstrings_ are special strings attached to a code section that a have special meaning for the interpreter. They are what is displayed using the `help` function. \n",
    "\n",
    "In this part, the `src` package introduced previsouly is documented using VSCode."
   ]
  },
  {
   "cell_type": "markdown",
   "id": "cb9ca2c5",
   "metadata": {},
   "source": [
    "## Setting up the needed tools\n",
    "\n",
    "A plugin is needed to write proper docstrings: [__autoDocstring__ (Nils Werner)](https://marketplace.visualstudio.com/items?itemName=njpwerner.autodocstring). \n",
    "\n",
    "A docstring contains some important information (attributes, types, explanations) that must be formatted in a consistent way. Several formatting mode exist, but a common one is the `numpy` formatting mode.\n",
    "\n",
    "![doc_format](figures/doc_format.png)\n",
    "\n",
    "This format follows [these rules](https://numpydoc.readthedocs.io/en/latest/format.html). A quick overview is shown here after:"
   ]
  },
  {
   "cell_type": "code",
   "execution_count": 1,
   "id": "c58e97d7",
   "metadata": {},
   "outputs": [],
   "source": [
    "def abc(a: int, c = [1,2]):\n",
    "    \"\"\"_summary_\n",
    "\n",
    "    Parameters\n",
    "    ----------\n",
    "    a : int\n",
    "        _description_\n",
    "    c : list, optional\n",
    "        _description_, by default [1,2]\n",
    "\n",
    "    Returns\n",
    "    -------\n",
    "    _type_\n",
    "        _description_\n",
    "\n",
    "    Raises\n",
    "    ------\n",
    "    AssertionError\n",
    "        _description_\n",
    "    \"\"\"\n",
    "    if a > 10:\n",
    "        raise AssertionError(\"a is more than 10\")\n",
    "\n",
    "    return c"
   ]
  },
  {
   "cell_type": "markdown",
   "id": "d040c13b",
   "metadata": {},
   "source": [
    "## Create a docstring\n",
    "\n",
    "One can create docstrings for __modules, functions, classes and methods__:\n",
    "\n",
    "1. Place the carret immediately after the definition line (ex: `def` or `class`) \n",
    "2. write `\"\"\"`\n",
    "3. press `enter`\n",
    "\n",
    "![function_todoc](figures/function_todoc.png)"
   ]
  },
  {
   "cell_type": "markdown",
   "id": "177c9448",
   "metadata": {},
   "source": [
    "## Add some content to a docstring\n",
    "\n",
    "### Key idea\n",
    "\n",
    "Prioritary information is given first:\n",
    "\n",
    "1. Purpose of the function\n",
    "2. Input parameters\n",
    "3. Returned parameters\n",
    "\n",
    "Some reminders: \n",
    "\n",
    "- functionalities of the code are first described using a software point of view. Then, a scientific explanation is added if needed\n",
    "- imperative mood must be used\n",
    "\n",
    "![function_doc](figures/function_doc.png)\n",
    "\n",
    "Notes: all references to a software element (variable, module, function and classes) must be quoted with __\\`__ _backticks_ __\\`__. \n",
    "\n",
    "### An iterative process\n",
    "\n",
    "It is very common to discover weaknesses in the code while writing docstrings:\n",
    "\n",
    "- possibility of erroneous scientific results\n",
    "- unconsistent code from one component to another\n",
    "- instability risk\n",
    "- ...\n",
    "\n",
    "For these reasons, the preferred way of writing documentation is first documenting all the components without any detail, and then go further when additional information is needed."
   ]
  }
 ],
 "metadata": {
  "kernelspec": {
   "display_name": "Python 3 (ipykernel)",
   "language": "python",
   "name": "python3"
  },
  "language_info": {
   "codemirror_mode": {
    "name": "ipython",
    "version": 3
   },
   "file_extension": ".py",
   "mimetype": "text/x-python",
   "name": "python",
   "nbconvert_exporter": "python",
   "pygments_lexer": "ipython3",
   "version": "3.10.12"
  }
 },
 "nbformat": 4,
 "nbformat_minor": 5
}
