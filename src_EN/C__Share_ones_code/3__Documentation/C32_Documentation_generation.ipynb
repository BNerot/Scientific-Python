{
 "cells": [
  {
   "cell_type": "markdown",
   "id": "2a0b1290-7a1c-49e6-a7a4-0594a7d1f028",
   "metadata": {
    "editable": true,
    "slideshow": {
     "slide_type": "slide"
    },
    "tags": []
   },
   "source": [
    "## Introduction\n"
   ]
  },
  {
   "cell_type": "markdown",
   "id": "9f0f87f6-368d-4e28-97fd-1cb0fc5d886c",
   "metadata": {
    "editable": true,
    "slideshow": {
     "slide_type": "slide"
    },
    "tags": []
   },
   "source": [
    "\n",
    "### What is doc generation for?\n",
    "\n",
    "Once docstrings are written, documentation can be read in two ways:\n",
    "\n",
    "1. In interactive mode using the `help` function.\n",
    "2. In a dedicated document making simpler the large scale diffusion of the code.\n",
    "\n",
    "This part presents the second way. Such a dedicated document is built from the docstrings in `*.py` files.\n"
   ]
  },
  {
   "cell_type": "markdown",
   "id": "1d3e04ff-2f20-45d4-8681-fe1e5d93a553",
   "metadata": {
    "editable": true,
    "slideshow": {
     "slide_type": "slide"
    },
    "tags": []
   },
   "source": [
    "\n",
    "### When to generate documentation?\n",
    "\n",
    "Documentation generation must be done when the code API is stable. Recall that the API is all the functions, classes and methods that makes it possible to use the code without caring about its internal behaviour.\n",
    "\n"
   ]
  },
  {
   "cell_type": "markdown",
   "id": "6f25eec5-ff2f-4486-b89e-30f178bb5318",
   "metadata": {
    "editable": true,
    "slideshow": {
     "slide_type": "slide"
    },
    "tags": []
   },
   "source": [
    "## Overview\n",
    "\n",
    "There are 3 main steps to doc generation.\n",
    "\n",
    "1. Analysis of Python code to extract the docstrings. Conversion of these docstrings in documentation files with extension `rst`. \n",
    "2. Definition of a structure for the final documentation: table of contents, sections, etc...\n",
    "3. Documentation generation in 2 common formats:\n",
    "    \n",
    "    - html\n",
    "    - pdf\n"
   ]
  },
  {
   "cell_type": "markdown",
   "id": "71a9d691-aa8e-41cf-ac17-11242c191ed3",
   "metadata": {
    "editable": true,
    "slideshow": {
     "slide_type": "slide"
    },
    "tags": []
   },
   "source": [
    "## Details"
   ]
  },
  {
   "cell_type": "markdown",
   "id": "338f4882-408d-45b3-83d0-e2a66d703aa6",
   "metadata": {
    "editable": true,
    "slideshow": {
     "slide_type": "slide"
    },
    "tags": []
   },
   "source": [
    "### Setting up the tools\n",
    "\n",
    "All the doc generation process can be done using __`sphinx`__, which is itself a Python package [that can be installed using `conda` or `pip`](https://www.sphinx-doc.org/en/master/usage/installation.html#anaconda). Be careful to install `sphinx` in the environment used by the Python project.\n",
    "\n",
    "Let's document the following package:\n",
    "\n",
    "![package_todoc](figures/package_todoc.png)"
   ]
  },
  {
   "cell_type": "markdown",
   "id": "ef283e80-d0cc-4127-8cdf-dedb289e4b53",
   "metadata": {
    "editable": true,
    "slideshow": {
     "slide_type": "slide"
    },
    "tags": []
   },
   "source": [
    "\n",
    "Here is the documentation environment set up process:\n",
    "\n",
    "1. Open a commond prompt in directory 'package_parent'\n",
    "2. Move to a new 'doc' directory\n",
    "3. Run `sphinx-quickstart`\n",
    "\n",
    "Some files are created in 'doc':\n",
    "\n",
    "- `conf.py`: contains `sphinx` configuration for the project (step 1 et 3 décrites described in part 'Overview'). \n",
    "\n",
    "- `index.rst`: structure of the final documentation (step 2).\n",
    "    \n",
    "   This is a _reStructuredText_ file (_markup language_). \n",
    "   "
   ]
  },
  {
   "cell_type": "markdown",
   "id": "73cdd215-fc82-4665-9e8a-773c2b522630",
   "metadata": {
    "editable": true,
    "slideshow": {
     "slide_type": "slide"
    },
    "tags": []
   },
   "source": [
    "\n",
    "\n",
    "   \n",
    "Working directory is now:\n",
    "\n",
    "![package_withdoc](figures/package_withdoc.png)\n",
    "\n",
    "And 'doc' directory:\n",
    "\n",
    "![doc_content.png](figures/doc_content.png)"
   ]
  },
  {
   "cell_type": "markdown",
   "id": "89ebcb76",
   "metadata": {
    "editable": true,
    "slideshow": {
     "slide_type": "slide"
    },
    "tags": []
   },
   "source": [
    "### Step 1: Converting docstrings\n",
    "\n",
    "To have Sphinx understood the _numpy_ docstring format, the *__napoleon__* plugin is needed. This is configured in `conf.py`:"
   ]
  },
  {
   "cell_type": "code",
   "execution_count": 1,
   "id": "311c1668",
   "metadata": {
    "editable": true,
    "slideshow": {
     "slide_type": "slide"
    },
    "tags": []
   },
   "outputs": [],
   "source": [
    "extensions = ['sphinx.ext.napoleon']"
   ]
  },
  {
   "cell_type": "markdown",
   "id": "0255f76c",
   "metadata": {
    "editable": true,
    "slideshow": {
     "slide_type": "slide"
    },
    "tags": []
   },
   "source": [
    "Then conversion can be done. Let's move to `doc` directory and run:\n",
    "\n",
    "`sphinx-apidoc -o source/ ../src/`\n",
    "\n",
    "What happens: \n",
    "\n",
    "- directory `../src/` is the one that contains our code: the first `__init__.py` telling Sphinx where to look for the package.\n",
    "- directory `source` is created and contains `rst` files.\n",
    "\n",
    "![generated_docsource](figures/generated_docsource.png)\n",
    "\n"
   ]
  },
  {
   "cell_type": "markdown",
   "id": "2eb779e6-ccd1-4c3e-9ff5-1d749e4e57b9",
   "metadata": {
    "editable": true,
    "slideshow": {
     "slide_type": "slide"
    },
    "tags": []
   },
   "source": [
    "### Step 2: Defining a structure\n",
    "\n",
    "Let's order the `rst` file using the `index.rst` file:\n",
    "\n",
    "![index_rst](figures/index_rst.png)\n",
    "\n",
    "__note__: an introduction to `rst` language  [is available here](https://www.sphinx-doc.org/en/master/usage/restructuredtext/basics.html).\n"
   ]
  },
  {
   "cell_type": "markdown",
   "id": "272a973c-51ac-4d2c-8d3e-0ea09c33086d",
   "metadata": {
    "editable": true,
    "slideshow": {
     "slide_type": "slide"
    },
    "tags": []
   },
   "source": [
    "\n",
    "### Step 3: Generating documentation\n",
    "\n",
    "Documentation is generated using the _html_ format (the one that descibes web pages). \n",
    "\n",
    "When generating the documentation, `sphinx` must run the code. Indeed, as stated in the `rst` files of the `source` directory, `sphinx` will look for a package entitled `src`. \n",
    "\n",
    "Thus a modification of `conf.py` is needed:\n",
    "\n",
    "```\n",
    "from sys import path\n",
    "path.insert(0,  r'/absolute/path/to/dir/package_parent')\n",
    "```\n",
    "\n",
    "Then, back to commond prompt in the `doc` directory: \n",
    "\n",
    "`sphinx-build  -M html . _build/`."
   ]
  },
  {
   "cell_type": "markdown",
   "id": "94b1e81a-fb98-4b30-a46b-661f7fbc3029",
   "metadata": {
    "editable": true,
    "slideshow": {
     "slide_type": "slide"
    },
    "tags": []
   },
   "source": [
    "## Result\n",
    "\n",
    "HTML documentation is opened using `doc/_build/html/index.html`."
   ]
  },
  {
   "cell_type": "markdown",
   "id": "9d6c83db-058a-4e19-9de2-f048e5d884cf",
   "metadata": {
    "editable": true,
    "slideshow": {
     "slide_type": "slide"
    },
    "tags": []
   },
   "source": [
    "![doc_html_1](figures/doc_html_1.png)\n"
   ]
  },
  {
   "cell_type": "markdown",
   "id": "07db8364-94c2-4153-af7e-18c45acc1fba",
   "metadata": {
    "editable": true,
    "slideshow": {
     "slide_type": "slide"
    },
    "tags": []
   },
   "source": [
    "![doc_html_2](figures/doc_html_2.png)\n"
   ]
  },
  {
   "cell_type": "markdown",
   "id": "8ae31326-be87-4467-a2e3-5bfe665125ed",
   "metadata": {
    "editable": true,
    "slideshow": {
     "slide_type": "slide"
    },
    "tags": []
   },
   "source": [
    "\n",
    "## Notes"
   ]
  },
  {
   "cell_type": "markdown",
   "id": "d25ca686-6a84-4938-bc19-8a9fcfc170ad",
   "metadata": {
    "editable": true,
    "slideshow": {
     "slide_type": "slide"
    },
    "tags": []
   },
   "source": [
    "### HTML customization\n",
    "\n",
    "HTML documentation can be customized. For instance, one can change the theme by modifying the `conf.py` file:\n",
    "\n",
    "`html_theme = 'nature'`.\n",
    "\n",
    "All customisation options are described [here](https://www.sphinx-doc.org/en/master/usage/configuration.html#options-for-html-output).\n"
   ]
  },
  {
   "cell_type": "markdown",
   "id": "e2bba6e4",
   "metadata": {
    "editable": true,
    "slideshow": {
     "slide_type": "slide"
    },
    "tags": []
   },
   "source": [
    "\n",
    "### PDF production\n",
    "\n",
    "A PDF generation is also possible using `latex`: \n",
    "\n",
    "- `sphinx-build  -M pdf . _build/`\n",
    "- `cd _build/latex/`\n",
    "- `make`\n",
    "\n",
    "That process requires a valid Latex installation."
   ]
  }
 ],
 "metadata": {
  "kernelspec": {
   "display_name": "Python 3 (ipykernel)",
   "language": "python",
   "name": "python3"
  },
  "language_info": {
   "codemirror_mode": {
    "name": "ipython",
    "version": 3
   },
   "file_extension": ".py",
   "mimetype": "text/x-python",
   "name": "python",
   "nbconvert_exporter": "python",
   "pygments_lexer": "ipython3",
   "version": "3.12.3"
  }
 },
 "nbformat": 4,
 "nbformat_minor": 5
}
