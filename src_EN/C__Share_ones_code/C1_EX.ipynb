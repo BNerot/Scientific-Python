{
 "cells": [
  {
   "cell_type": "markdown",
   "id": "86a574c7-9b6f-4f06-84fc-43ca51eed027",
   "metadata": {
    "editable": true,
    "slideshow": {
     "slide_type": "slide"
    },
    "tags": []
   },
   "source": [
    "# Create a new directory with this structure"
   ]
  },
  {
   "cell_type": "markdown",
   "id": "65ed9aad-a5ce-4384-9ed8-32f86d3d45ee",
   "metadata": {
    "editable": true,
    "slideshow": {
     "slide_type": ""
    },
    "tags": []
   },
   "source": [
    "- new_directory\n",
    "\n",
    "  - my_code\n",
    "\n",
    "        - module_1.py\n",
    "        - module_2.py\n",
    "    "
   ]
  },
  {
   "cell_type": "markdown",
   "id": "52ecb86f-d6b9-448c-adc2-25c3c33b70ab",
   "metadata": {
    "editable": true,
    "slideshow": {
     "slide_type": "slide"
    },
    "tags": []
   },
   "source": [
    "# Define content in `module_2.py`\n",
    "\n",
    "1. Create a function `f1` that takes two arguments `a` and `b` and returns the sum of `a` and `b`\n",
    "2. Create a function `f2` that takes two arguments `a` and `b` and returns the `a` divided by `b`."
   ]
  },
  {
   "cell_type": "markdown",
   "id": "3e24538f-2654-4fd7-aaf6-b843307abab5",
   "metadata": {
    "editable": true,
    "slideshow": {
     "slide_type": "slide"
    },
    "tags": []
   },
   "source": [
    "# Define content in `module_1.py`\n",
    "\n",
    "Create a function `f3` that takes 3 arguments:\n",
    "\n",
    "- `a` is a number, possibly 0\n",
    "- `b` is a number possibly 0\n",
    "- `c`:\n",
    "\n",
    "    - If `c` is 'sum', return the sum of `a` and `b` using the function `f1` defined in _module_2.py_.\n",
    "    \n",
    "    - If `c` is 'division', return the devision of `a` and `b` using the function `f2` defined in _module_2.py_. It must handles the error if `b` is 0 and return a friendly error message.\n",
    "    \n",
    "    - If `c` is neither of `sum` or `division`, return a friendly message.\n",
    "\n",
    "    Default value for `c` is 'sum'."
   ]
  },
  {
   "cell_type": "markdown",
   "id": "a430441e-58a7-4d27-84d3-34fd88bdf2d1",
   "metadata": {
    "editable": true,
    "slideshow": {
     "slide_type": "slide"
    },
    "tags": []
   },
   "source": [
    "# Make `my_code` a package\n",
    "\n",
    "1. Define the `__init__.py` file\n",
    "2. Fill this file so that the functions of `module_1` and `module_2` are imported when the package is imported"
   ]
  },
  {
   "cell_type": "markdown",
   "id": "c23ac673-17ed-43da-9816-7d38101d4222",
   "metadata": {
    "editable": true,
    "slideshow": {
     "slide_type": "slide"
    },
    "tags": []
   },
   "source": [
    "# Try to import\n",
    "\n",
    "1. In a new Python shell, move to a very different directory and try to import your package (using `sys.path`). \n",
    "\n",
    "2. Run the function `f3` with:\n",
    "\n",
    "- `a=5`\n",
    "- `b=0`\n",
    "- `c='division'`"
   ]
  },
  {
   "cell_type": "markdown",
   "id": "51921837-dcef-4a42-8697-cc6271a11fd4",
   "metadata": {
    "editable": true,
    "slideshow": {
     "slide_type": "slide"
    },
    "tags": []
   },
   "source": [
    "# Document functions 1 and 2"
   ]
  },
  {
   "cell_type": "markdown",
   "id": "b5102d57-b03e-49b7-b7a4-cb1237b48540",
   "metadata": {
    "editable": true,
    "slideshow": {
     "slide_type": "slide"
    },
    "tags": []
   },
   "source": [
    "# Generate the docstrings in HTML format\n",
    "\n",
    "Useful content of `index.rst` will be replaced with this one:\n",
    "\n",
    "```\n",
    "\n",
    ".. toctree::\n",
    "   :maxdepth: 2\n",
    "   :caption: Contents:\n",
    "    Here is a short description for our doc page.\n",
    "\n",
    "   source/modules.rst\n",
    "   \n",
    "```"
   ]
  },
  {
   "cell_type": "markdown",
   "id": "de5b00e1-3ad4-4e00-859d-3bbc1d886c5b",
   "metadata": {
    "editable": true,
    "slideshow": {
     "slide_type": "slide"
    },
    "tags": []
   },
   "source": [
    "# Browse your documentation using a web browser"
   ]
  }
 ],
 "metadata": {
  "kernelspec": {
   "display_name": "Python 3 (ipykernel)",
   "language": "python",
   "name": "python3"
  },
  "language_info": {
   "codemirror_mode": {
    "name": "ipython",
    "version": 3
   },
   "file_extension": ".py",
   "mimetype": "text/x-python",
   "name": "python",
   "nbconvert_exporter": "python",
   "pygments_lexer": "ipython3",
   "version": "3.12.3"
  }
 },
 "nbformat": 4,
 "nbformat_minor": 5
}
