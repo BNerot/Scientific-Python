{
 "cells": [
  {
   "cell_type": "markdown",
   "id": "e2480bb6",
   "metadata": {
    "editable": true,
    "slideshow": {
     "slide_type": "slide"
    },
    "tags": []
   },
   "source": [
    "# Introduction\n",
    "\n",
    "A _Python_ installation basically consists in:\n",
    "\n",
    "- the _Python_ executable itself: `bin` directory\n",
    "- the default packages included within Python\n",
    "- the third party packages installed by the user: `lib/*/site-packages` directory\n",
    "\n",
    "\n"
   ]
  },
  {
   "cell_type": "markdown",
   "id": "505e31bd-7ec6-442f-b3b9-432c3fecbeb8",
   "metadata": {
    "editable": true,
    "slideshow": {
     "slide_type": "slide"
    },
    "tags": []
   },
   "source": [
    "Whenever one installs a new package, others are updated first and then it is downloaded and installed.\n",
    "\n",
    "Thus, there exists a risk to break the compatibility with previous packages. Moreover, default Python installation is - regarding Linux - a system-wide installation: if some components are modified there exists some instability risks."
   ]
  },
  {
   "cell_type": "markdown",
   "id": "ddc0e33c-7868-4978-81be-c80fa4015cd3",
   "metadata": {
    "editable": true,
    "slideshow": {
     "slide_type": "slide"
    },
    "tags": []
   },
   "source": [
    "For these reasons, the preferred way is to create an environment as soon as a new Python project is started. The simplest way is to use environments managers such as **_Anaconda_**. "
   ]
  },
  {
   "cell_type": "markdown",
   "id": "2816c656",
   "metadata": {
    "editable": true,
    "slideshow": {
     "slide_type": "slide"
    },
    "tags": []
   },
   "source": [
    "# Anaconda"
   ]
  },
  {
   "cell_type": "markdown",
   "id": "28900457",
   "metadata": {
    "editable": true,
    "slideshow": {
     "slide_type": "slide"
    },
    "tags": []
   },
   "source": [
    "## Introduction\n",
    "\n",
    "Anaconda is a software that manages Python environments. The software comes with a graphical interface (Anaconda Navigator) but the preferred way is to use the command line: faster, more stable. The document is [accessible here](https://conda.io/projects/conda/en/latest/user-guide/tasks/manage-environments.html#using-pip-in-an-environment).\n",
    "\n",
    "Hereafter, all commands must be ran in a command line."
   ]
  },
  {
   "cell_type": "markdown",
   "id": "b1e08373",
   "metadata": {
    "editable": true,
    "slideshow": {
     "slide_type": "slide"
    },
    "tags": []
   },
   "source": [
    "## Create an environment\n",
    "\n",
    "the first step is to install Anaconda (or Miniconda, a smaller alternative). Once installed, an environment can be created using a command similar to this one:\n",
    "\n",
    " `conda create -n myenv python=3.11 scipy=0.17.3 astroid babel`\n",
    " \n",
    " We can notice :\n",
    " \n",
    " - the environment name ('myenv')\n",
    " - the Python version (3.11)\n",
    " - packages to be installed, with some specified versions\n",
    " \n",
    " Instead of specifying a name, one can specify a location of the new environment:\n",
    " \n",
    " `conda create --prefix ./envs python=3.11`\n",
    " "
   ]
  },
  {
   "cell_type": "markdown",
   "id": "8411e167-8b25-4021-8aa4-c34171799d8a",
   "metadata": {
    "editable": true,
    "slideshow": {
     "slide_type": "slide"
    },
    "tags": []
   },
   "source": [
    "## Activate an environment\n",
    "\n",
    "Activating an environment is telling the computer that everything that relates to Python must be ran within the environment."
   ]
  },
  {
   "cell_type": "markdown",
   "id": "e7816b74",
   "metadata": {
    "editable": true,
    "slideshow": {
     "slide_type": "slide"
    },
    "tags": []
   },
   "source": [
    "### Using the command line\n",
    "\n",
    "In a command prompt,`conda info --envs` gives a list of available environments. \n",
    "\n",
    "A star `*` shows the currently activated environment. By default, it is the 'base' environment, i.e the one that comes with Anaconda installation. The 'base' environment must __never be used__. "
   ]
  },
  {
   "cell_type": "markdown",
   "id": "6b37b377-d03d-483c-a963-21d3813004f5",
   "metadata": {
    "editable": true,
    "jp-MarkdownHeadingCollapsed": true,
    "slideshow": {
     "slide_type": "slide"
    },
    "tags": []
   },
   "source": [
    "\n",
    "Let's activate `myenv`:\n",
    "\n",
    "```\n",
    "conda activate myenv\n",
    "```\n",
    "\n",
    "'myenv' is showed in parenthesis (instead of 'base'). \n"
   ]
  },
  {
   "cell_type": "markdown",
   "id": "0668ad65-6b06-4a6c-aea3-0778481481ee",
   "metadata": {
    "editable": true,
    "slideshow": {
     "slide_type": "slide"
    },
    "tags": []
   },
   "source": [
    "Once activated, we can manage this environment:\n",
    "\n",
    "- list current packages: `conda list`.\n",
    "- install new packages: `conda install` \n",
    "  ([complete documentation](https://conda.io/projects/conda/en/latest/user-guide/tasks/manage-pkgs.html#installing-packages-from-anaconda-org)). "
   ]
  },
  {
   "cell_type": "markdown",
   "id": "9df92559-655b-44d5-bf30-a6c7ccf0cd22",
   "metadata": {
    "editable": true,
    "jp-MarkdownHeadingCollapsed": true,
    "slideshow": {
     "slide_type": "slide"
    },
    "tags": []
   },
   "source": [
    "We can also:\n",
    "\n",
    "- start a new interactive session: \n",
    "    \n",
    "    - `python` is the standard Python interpreter\n",
    "    - `ipython` if the magic Python interpreter, with extended commands and friendly interface (install needed)\n",
    "    \n",
    "- run a Pyhon file: `python my_program.py`.\n",
    "\n"
   ]
  },
  {
   "cell_type": "markdown",
   "id": "debb8aec-955c-46c5-9c4c-8f53699e3ce1",
   "metadata": {
    "editable": true,
    "slideshow": {
     "slide_type": "slide"
    },
    "tags": []
   },
   "source": [
    "### Using Vscode\n",
    "\n",
    "If the environment is not automatically detected, it can be chosen using the `Select interpreter` interpreter tool (using `Ctrl`+`Maj`+`P`). In this tool, one can specify the executable Python path (`bin` directory of the environment). "
   ]
  },
  {
   "cell_type": "markdown",
   "id": "8033c50e",
   "metadata": {
    "editable": true,
    "slideshow": {
     "slide_type": "slide"
    },
    "tags": []
   },
   "source": [
    "### Duplicate an environment\n",
    "\n",
    "Environment duplication makes it possible to work in the same conditions on several different computers (for instance, a personnal computer and a working station). Yet, it works best when all computers have the same operating system.\n",
    "\n",
    "#### From computer 1 ...\n",
    "\n",
    "Once the environment is activated:\n",
    "\n",
    "```\n",
    "conda list --explicit > spec-file.txt\n",
    "```\n",
    "\n",
    "This command exports to a file (`spec-file.txt`) all the details of the environment.\n",
    "\n",
    "#### ... to computer 2\n",
    "\n",
    "```\n",
    "conda create --name same_env_computer_2 --file spec-file.txt\n",
    "```\n",
    "\n",
    "This command install an environment following specifications of `spec-file.txt`."
   ]
  },
  {
   "cell_type": "markdown",
   "id": "44d44b9a",
   "metadata": {
    "editable": true,
    "slideshow": {
     "slide_type": "slide"
    },
    "tags": []
   },
   "source": [
    "## Notes\n",
    "\n",
    "- Anaconda is not only a Python packages manager: a conda environment can handle other softwares and successfully isolate them from the remaining of the operating system.\n",
    "\n"
   ]
  },
  {
   "cell_type": "markdown",
   "id": "4348ace2-3b9d-402a-b5b1-d100d862d1df",
   "metadata": {
    "editable": true,
    "slideshow": {
     "slide_type": "slide"
    },
    "tags": []
   },
   "source": [
    "- Regarding Python, only some packages can be installed using Anaconda:\n",
    "\n",
    "    1. some packages exist only on the [official Python package repository, called PyPi](https://pypi.org/). Those must be installed using `pip`.\n",
    "\n",
    "        __In a conda environment__, it is strongly unrecommend to mix conda and pip packages (though it's possible). The prefered procedure is:\n",
    "\n",
    "        - whenever it's possible, install the conda version of the package\n",
    "        - install the pip version when there is no other choice\n",
    "        - try to avoid conda packages after some pip packages were installed\n",
    "\n",
    "    2. some packages exist only as source code that can be retrieved from shared plateforms such as GitHub or GitLab \n"
   ]
  },
  {
   "cell_type": "markdown",
   "id": "188e84e7-0221-40c6-8456-bcf1fd74444b",
   "metadata": {
    "editable": true,
    "slideshow": {
     "slide_type": "slide"
    },
    "tags": []
   },
   "source": [
    "\n",
    "- Anaconda is not the only way to handle Python environments. Another way is using the [`venv` module](https://docs.python.org/3/library/venv.html). Pros include:\n",
    "    \n",
    "    - compatible with pip\n",
    "    - lighter than conda\n",
    "    \n",
    "  Yet, managing venv environments is slightly less intuitive than conda environments."
   ]
  }
 ],
 "metadata": {
  "kernelspec": {
   "display_name": "Python 3 (ipykernel)",
   "language": "python",
   "name": "python3"
  },
  "language_info": {
   "codemirror_mode": {
    "name": "ipython",
    "version": 3
   },
   "file_extension": ".py",
   "mimetype": "text/x-python",
   "name": "python",
   "nbconvert_exporter": "python",
   "pygments_lexer": "ipython3",
   "version": "3.12.3"
  }
 },
 "nbformat": 4,
 "nbformat_minor": 5
}
