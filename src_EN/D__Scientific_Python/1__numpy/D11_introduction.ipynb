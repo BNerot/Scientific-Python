{
 "cells": [
  {
   "cell_type": "markdown",
   "id": "46776e72",
   "metadata": {
    "editable": true,
    "jp-MarkdownHeadingCollapsed": true,
    "slideshow": {
     "slide_type": "slide"
    },
    "tags": []
   },
   "source": [
    "## Presentation\n",
    "\n",
    "`numpy` is a Python package used in scientific computing. It handles numerical values with a mathematical approach.\n",
    "\n",
    "`numpy` is __much faster__ than native Python since most of `numpy` code is written in C (10 to 100 times faster).\n",
    "\n",
    "`numpy` is stable, it benefits from a large online community.\n",
    "\n"
   ]
  },
  {
   "cell_type": "markdown",
   "id": "d444b127-1cf5-42f6-84d3-d34c17722fa3",
   "metadata": {
    "editable": true,
    "slideshow": {
     "slide_type": "slide"
    },
    "tags": []
   },
   "source": [
    "\n",
    "## When to use `numpy`?\n",
    "\n",
    "You must use `numpy` for projects relying on large homogeneous data (i.e. same type data) or specific mathematical operations. \n",
    "\n",
    "## What not to do with `numpy`?\n",
    "\n",
    "`numpy` is fast. Yet, one must avoid looping using `numpy`.In this part, some major `numpy` functions are presented, part of them make looping unnecessary."
   ]
  }
 ],
 "metadata": {
  "kernelspec": {
   "display_name": "Python 3 (ipykernel)",
   "language": "python",
   "name": "python3"
  },
  "language_info": {
   "codemirror_mode": {
    "name": "ipython",
    "version": 3
   },
   "file_extension": ".py",
   "mimetype": "text/x-python",
   "name": "python",
   "nbconvert_exporter": "python",
   "pygments_lexer": "ipython3",
   "version": "3.12.3"
  }
 },
 "nbformat": 4,
 "nbformat_minor": 5
}
