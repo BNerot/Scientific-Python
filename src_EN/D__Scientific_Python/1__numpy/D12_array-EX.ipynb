{
 "cells": [
  {
   "cell_type": "markdown",
   "id": "a7e384ef",
   "metadata": {
    "editable": true,
    "slideshow": {
     "slide_type": ""
    },
    "tags": []
   },
   "source": [
    "Define 100 arrays of length 10. The $k^{th}$ array has integers elements that goes from $10k$ to $10(k+1)-1$.\n",
    "For instance:\n",
    "\n",
    "- array 1 ($k=0$): [0, 1, 2, 3, 4, 5, 6, 7, 8, 9]\n",
    "- array 2 ($k=1$): [10, 11, 12, 13, 14, 15, 16, 17, 18, 19]\n",
    "- etc ..."
   ]
  }
 ],
 "metadata": {
  "kernelspec": {
   "display_name": "Python 3 (ipykernel)",
   "language": "python",
   "name": "python3"
  },
  "language_info": {
   "codemirror_mode": {
    "name": "ipython",
    "version": 3
   },
   "file_extension": ".py",
   "mimetype": "text/x-python",
   "name": "python",
   "nbconvert_exporter": "python",
   "pygments_lexer": "ipython3",
   "version": "3.12.3"
  }
 },
 "nbformat": 4,
 "nbformat_minor": 5
}
