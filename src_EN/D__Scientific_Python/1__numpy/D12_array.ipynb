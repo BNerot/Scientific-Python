{
 "cells": [
  {
   "cell_type": "markdown",
   "id": "d41cb320",
   "metadata": {},
   "source": [
    "## Introduction\n",
    "\n",
    "An _array_ is a numpy object (whose type is `numpy.ndarray`). It is similar to Python lists but suited for mathematical operations."
   ]
  },
  {
   "cell_type": "code",
   "execution_count": 1,
   "id": "30a2e730",
   "metadata": {},
   "outputs": [
    {
     "name": "stdout",
     "output_type": "stream",
     "text": [
      "<class 'list'>\n",
      "<class 'numpy.ndarray'>\n"
     ]
    }
   ],
   "source": [
    "import numpy as np\n",
    "var = [1, 2, 3]\n",
    "print(type(var))\n",
    "arr = np.array([1, 2, 3])\n",
    "print(type(arr))"
   ]
  },
  {
   "cell_type": "markdown",
   "id": "29b1c576",
   "metadata": {},
   "source": [
    "## Create an array"
   ]
  },
  {
   "cell_type": "markdown",
   "id": "8081be38",
   "metadata": {},
   "source": [
    "One can create an array from an iterable (ex: list, see above) or use dedicated `numpy` functions:"
   ]
  },
  {
   "cell_type": "code",
   "execution_count": 2,
   "id": "8739cf14",
   "metadata": {},
   "outputs": [
    {
     "name": "stdout",
     "output_type": "stream",
     "text": [
      "[1. 1. 1. 1. 1.]\n",
      "[ 2  7 12 17 22 27 32 37]\n",
      "[0. 0. 0. 0. 0.]\n"
     ]
    }
   ],
   "source": [
    "print(np.ones(5))           \n",
    "print(np.arange(2, 42, 5))      # similar to `range`\n",
    "print(np.zeros(5))"
   ]
  },
  {
   "cell_type": "markdown",
   "id": "fa31d711",
   "metadata": {},
   "source": [
    "Functions `linspace` and `logspace` define regularly spaced values in a linear space or logarthmic space.\n",
    "\n",
    "Using `linspace`: the difference between two consecutive elements is constant:"
   ]
  },
  {
   "cell_type": "code",
   "execution_count": 3,
   "id": "d6c3dc72",
   "metadata": {},
   "outputs": [
    {
     "name": "stdout",
     "output_type": "stream",
     "text": [
      "[ 1.    3.25  5.5   7.75 10.  ]\n",
      "2.25\n",
      "2.25\n"
     ]
    }
   ],
   "source": [
    "arr = np.linspace(1, 10, 5)\n",
    "print(arr)\n",
    "print(arr[1]-arr[0])\n",
    "print(arr[2]-arr[1])"
   ]
  },
  {
   "cell_type": "markdown",
   "id": "5ef817c4",
   "metadata": {},
   "source": [
    "Using `logspace`: the ratio of two consecutive elements is constant:"
   ]
  },
  {
   "cell_type": "code",
   "execution_count": 4,
   "id": "842069ab",
   "metadata": {},
   "outputs": [
    {
     "name": "stdout",
     "output_type": "stream",
     "text": [
      "[1.00000000e+01 1.77827941e+03 3.16227766e+05 5.62341325e+07\n",
      " 1.00000000e+10]\n",
      "177.82794100389228\n",
      "177.82794100389225\n"
     ]
    }
   ],
   "source": [
    "arr = np.logspace(1, 10, 5)\n",
    "print(arr)\n",
    "print(arr[1]/arr[0])\n",
    "print(arr[2]/arr[1])"
   ]
  },
  {
   "cell_type": "markdown",
   "id": "ae4ed05b",
   "metadata": {},
   "source": [
    "## Important ideas: axis and dimension"
   ]
  },
  {
   "cell_type": "markdown",
   "id": "d8aedd6d",
   "metadata": {},
   "source": [
    "### Introduction\n",
    "\n",
    "Usually, the length of an iterable is it's number of elements, given by the length function `len`. For an array, there may be __more than one dimension__. Below is a 2-dimensionnal array:\n",
    "\n",
    "- 2 lines\n",
    "- 3 columns"
   ]
  },
  {
   "cell_type": "code",
   "execution_count": 5,
   "id": "e17fba58",
   "metadata": {
    "scrolled": false
   },
   "outputs": [
    {
     "name": "stdout",
     "output_type": "stream",
     "text": [
      "[[1 2 3]\n",
      " [4 5 6]]\n",
      "2\n"
     ]
    }
   ],
   "source": [
    "arr = np.array([[1, 2, 3], [4, 5, 6]])\n",
    "print(arr)\n",
    "print(arr.ndim)"
   ]
  },
  {
   "cell_type": "markdown",
   "id": "2519b7ec",
   "metadata": {},
   "source": [
    "The shape of this array is (2, 3) because:\n",
    "\n",
    "- it has 2 elements along dimension 1\n",
    "- it has 3 elements along dimension 2"
   ]
  },
  {
   "cell_type": "code",
   "execution_count": 6,
   "id": "ebd83422",
   "metadata": {},
   "outputs": [
    {
     "name": "stdout",
     "output_type": "stream",
     "text": [
      "(2, 3)\n"
     ]
    }
   ],
   "source": [
    "print(arr.shape)"
   ]
  },
  {
   "cell_type": "markdown",
   "id": "0e5ba881",
   "metadata": {},
   "source": [
    "Instead of \"dimension\", `numpy` uses the term __\"axis\"__."
   ]
  },
  {
   "cell_type": "markdown",
   "id": "3fc353ff",
   "metadata": {},
   "source": [
    "### Modify the shape\n",
    "\n",
    "`shape` gives the actual size of an `array`. But one can change this shape using `reshape`:"
   ]
  },
  {
   "cell_type": "code",
   "execution_count": 7,
   "id": "9fd358f1",
   "metadata": {},
   "outputs": [
    {
     "name": "stdout",
     "output_type": "stream",
     "text": [
      "[[1 2]\n",
      " [3 4]\n",
      " [5 6]]\n"
     ]
    }
   ],
   "source": [
    "arr = arr.reshape((3, 2))   # 3 rows, 2 columns: still 6 elements, \n",
    "                            # hence reshape is possible\n",
    "print(arr)"
   ]
  },
  {
   "cell_type": "markdown",
   "id": "79e92180",
   "metadata": {},
   "source": [
    "If you don't want several dimensions, the `flatten` method will return all elements along one dimension."
   ]
  },
  {
   "cell_type": "code",
   "execution_count": 8,
   "id": "e9d9050e",
   "metadata": {},
   "outputs": [
    {
     "name": "stdout",
     "output_type": "stream",
     "text": [
      "[1 2 3 4 5 6]\n"
     ]
    }
   ],
   "source": [
    "arr2 = arr.flatten()\n",
    "print(arr2)             # all values along a single dimension"
   ]
  },
  {
   "cell_type": "markdown",
   "id": "ae4b7ef5",
   "metadata": {},
   "source": [
    "Note that `flatten` returns a copy, hence if `arr2` is modified `arr` will remain the same."
   ]
  },
  {
   "cell_type": "code",
   "execution_count": 9,
   "id": "524eb098",
   "metadata": {},
   "outputs": [
    {
     "name": "stdout",
     "output_type": "stream",
     "text": [
      "[[1 2]\n",
      " [3 4]\n",
      " [5 6]]\n"
     ]
    }
   ],
   "source": [
    "arr2[3] = 100           # resulting array is modified\n",
    "print(arr)              # this does not change original array"
   ]
  },
  {
   "cell_type": "markdown",
   "id": "41c288a8",
   "metadata": {},
   "source": [
    "Conversely, `ravel` performs the same than `flatten` but uses the same underlying data:"
   ]
  },
  {
   "cell_type": "code",
   "execution_count": 10,
   "id": "fdf87ccd",
   "metadata": {
    "scrolled": true
   },
   "outputs": [
    {
     "name": "stdout",
     "output_type": "stream",
     "text": [
      "[1 2 3 4 5 6]\n",
      "[[  1   2]\n",
      " [  3 100]\n",
      " [  5   6]]\n"
     ]
    }
   ],
   "source": [
    "arr2 = arr.ravel()\n",
    "print(arr2)             # all values along a single dimension\n",
    "arr2[3] = 100           # resulting array is modified\n",
    "print(arr)              # this changes the original array because data is shared in memory"
   ]
  },
  {
   "cell_type": "markdown",
   "id": "39fabb71",
   "metadata": {},
   "source": [
    "### Handle axes\n",
    "\n",
    "Axes of a multidimensionnal array start from 0 (and goes to `ndim-1`). One can index an array following a specific axis the same way it is done for lists."
   ]
  },
  {
   "cell_type": "code",
   "execution_count": 11,
   "id": "f2e449f9",
   "metadata": {},
   "outputs": [
    {
     "name": "stdout",
     "output_type": "stream",
     "text": [
      "[[0. 0. 0. 0. 0.]\n",
      " [0. 0. 0. 0. 0.]\n",
      " [0. 0. 0. 0. 0.]\n",
      " [0. 0. 0. 0. 0.]\n",
      " [0. 0. 0. 0. 0.]]\n",
      "[[ 0.  0.  0.  0.  0.]\n",
      " [ 0.  0.  0.  0.  0.]\n",
      " [ 0. 99. 99.  0.  0.]\n",
      " [ 0. 99. 99.  0.  0.]\n",
      " [ 0.  0.  0.  0.  0.]]\n",
      "[[ 0.  0.  0.  0.  0.]\n",
      " [ 0.  0. 34.  0.  0.]\n",
      " [ 0. 99. 35.  0.  0.]\n",
      " [ 0. 99. 99.  0.  0.]\n",
      " [ 0.  0.  0.  0.  0.]]\n"
     ]
    }
   ],
   "source": [
    "arr = np.zeros((5, 5))\n",
    "print(arr)\n",
    "arr[2:4, 1:3] = 99              # same value for some indexes\n",
    "print(arr)\n",
    "arr[1:3, 2:3] = [[34], [35]]  # an iterable of the same shape as the modified subarray (shape (2, 1))\n",
    "print(arr)"
   ]
  },
  {
   "cell_type": "markdown",
   "id": "0f3de3d6",
   "metadata": {},
   "source": [
    "Let's create a 3-dimensionnal array:\n",
    "\n",
    "- `axis` 0 has 4 éléments\n",
    "- `axis` 1 has 3 éléments\n",
    "- `axis` 2 has 2 éléments\n"
   ]
  },
  {
   "cell_type": "code",
   "execution_count": 12,
   "id": "12c0b380",
   "metadata": {
    "scrolled": true
   },
   "outputs": [
    {
     "name": "stdout",
     "output_type": "stream",
     "text": [
      "[[[ 0  1]\n",
      "  [ 2  3]\n",
      "  [ 4  5]]\n",
      "\n",
      " [[ 6  7]\n",
      "  [ 8  9]\n",
      "  [10 11]]\n",
      "\n",
      " [[12 13]\n",
      "  [14 15]\n",
      "  [16 17]]\n",
      "\n",
      " [[18 19]\n",
      "  [20 21]\n",
      "  [22 23]]]\n"
     ]
    }
   ],
   "source": [
    "arr = np.arange(4 * 3 * 2).reshape((4, 3, 2)) \n",
    "print(arr)"
   ]
  },
  {
   "cell_type": "markdown",
   "id": "75edb90a",
   "metadata": {},
   "source": [
    "Let's extract the elements whose coordinates match:\n",
    "\n",
    "- 0, 1 or 3 on first axis\n",
    "- 2 on second axis\n",
    "- whatever on third axis"
   ]
  },
  {
   "cell_type": "code",
   "execution_count": 13,
   "id": "68f04dac",
   "metadata": {},
   "outputs": [
    {
     "data": {
      "text/plain": [
       "array([[ 4,  5],\n",
       "       [10, 11],\n",
       "       [22, 23]])"
      ]
     },
     "execution_count": 13,
     "metadata": {},
     "output_type": "execute_result"
    }
   ],
   "source": [
    "arr[[0, 1, 3], 2, :]"
   ]
  },
  {
   "cell_type": "markdown",
   "id": "01c3d9f5",
   "metadata": {},
   "source": [
    "__Many `numpy` methods__ take an optional argument `axis` to specify where the mathematical operation must be performed.\n",
    "\n",
    "For instance, let's compute a mean over axis 1."
   ]
  },
  {
   "cell_type": "code",
   "execution_count": 16,
   "id": "225f40ef",
   "metadata": {},
   "outputs": [
    {
     "data": {
      "text/plain": [
       "array([[[ 0,  1],\n",
       "        [ 2,  3],\n",
       "        [ 4,  5]],\n",
       "\n",
       "       [[ 6,  7],\n",
       "        [ 8,  9],\n",
       "        [10, 11]],\n",
       "\n",
       "       [[12, 13],\n",
       "        [14, 15],\n",
       "        [16, 17]],\n",
       "\n",
       "       [[18, 19],\n",
       "        [20, 21],\n",
       "        [22, 23]]])"
      ]
     },
     "execution_count": 16,
     "metadata": {},
     "output_type": "execute_result"
    }
   ],
   "source": [
    "arr"
   ]
  },
  {
   "cell_type": "code",
   "execution_count": 15,
   "id": "4fcba299",
   "metadata": {},
   "outputs": [
    {
     "data": {
      "text/plain": [
       "array([[ 2.,  3.],\n",
       "       [ 8.,  9.],\n",
       "       [14., 15.],\n",
       "       [20., 21.]])"
      ]
     },
     "execution_count": 15,
     "metadata": {},
     "output_type": "execute_result"
    }
   ],
   "source": [
    "result = arr.mean(axis=1)\n",
    "result"
   ]
  },
  {
   "cell_type": "code",
   "execution_count": 13,
   "id": "16c86a1f",
   "metadata": {},
   "outputs": [
    {
     "data": {
      "text/plain": [
       "array([[[ 0,  1],\n",
       "        [ 2,  3],\n",
       "        [ 4,  5]],\n",
       "\n",
       "       [[ 6,  7],\n",
       "        [ 8,  9],\n",
       "        [10, 11]],\n",
       "\n",
       "       [[12, 13],\n",
       "        [14, 15],\n",
       "        [16, 17]],\n",
       "\n",
       "       [[18, 19],\n",
       "        [20, 21],\n",
       "        [22, 23]]])"
      ]
     },
     "execution_count": 13,
     "metadata": {},
     "output_type": "execute_result"
    }
   ],
   "source": [
    "arr"
   ]
  },
  {
   "cell_type": "markdown",
   "id": "b4ded195",
   "metadata": {},
   "source": [
    "Above, __using `axis=1`, `numpy` takes the mean of all elements whose coordinates are all equal, except for axis 1__.\n",
    "\n",
    "Hence, `result[2, 1]` (3rdrow, 1st column) is the mean of:\n",
    "\n",
    "- `arr[2, 0, 1]` (13)\n",
    "- `arr[2, 1, 1]` (15)\n",
    "- `arr[2, 2, 1]` (17)\n"
   ]
  },
  {
   "cell_type": "markdown",
   "id": "cd1669d4",
   "metadata": {},
   "source": [
    "### Concatenate some arrays"
   ]
  },
  {
   "cell_type": "markdown",
   "id": "d4a04641",
   "metadata": {},
   "source": [
    "`np.concatenate` gather different arrays into a single instance. Their dimensions must be compatible:"
   ]
  },
  {
   "cell_type": "code",
   "execution_count": 14,
   "id": "41f44391",
   "metadata": {},
   "outputs": [
    {
     "name": "stdout",
     "output_type": "stream",
     "text": [
      "[[ 0  1  2  3  4  5  6  7]\n",
      " [ 8  9 10 11 12 13 14 15]]\n",
      "[[16 17 18 19 20 21 22 23]\n",
      " [24 25 26 27 28 29 30 31]]\n"
     ]
    }
   ],
   "source": [
    "arr1 = np.arange(16).reshape((2, 8))\n",
    "arr2 = np.arange(16, 32).reshape((2, 8))\n",
    "print(arr1)\n",
    "print(arr2)"
   ]
  },
  {
   "cell_type": "code",
   "execution_count": 15,
   "id": "5526667f",
   "metadata": {
    "scrolled": true
   },
   "outputs": [
    {
     "name": "stdout",
     "output_type": "stream",
     "text": [
      "[[ 0  1  2  3  4  5  6  7]\n",
      " [ 8  9 10 11 12 13 14 15]\n",
      " [16 17 18 19 20 21 22 23]\n",
      " [24 25 26 27 28 29 30 31]]\n"
     ]
    }
   ],
   "source": [
    "print(np.concatenate([arr1, arr2], axis=0))    # shape of axis 0 is increased (i.e: more elements)"
   ]
  },
  {
   "cell_type": "code",
   "execution_count": 16,
   "id": "ae0b9c9d",
   "metadata": {},
   "outputs": [
    {
     "name": "stdout",
     "output_type": "stream",
     "text": [
      "[[ 0  1  2  3  4  5  6  7 16 17 18 19 20 21 22 23]\n",
      " [ 8  9 10 11 12 13 14 15 24 25 26 27 28 29 30 31]]\n"
     ]
    }
   ],
   "source": [
    "print(np.concatenate([arr1, arr2], axis=1))    # shape of axis 1 is increased (i.e: more elements)"
   ]
  },
  {
   "cell_type": "markdown",
   "id": "bc179dd2",
   "metadata": {},
   "source": [
    "One can also gather arrays along a new dimension, using `np.stack`."
   ]
  },
  {
   "cell_type": "code",
   "execution_count": 14,
   "id": "e2538da0",
   "metadata": {},
   "outputs": [
    {
     "name": "stdout",
     "output_type": "stream",
     "text": [
      "[ 0  1  2  3  4  5  6  7  8  9 10 11 12 13 14 15]\n",
      "[16 17 18 19 20 21 22 23 24 25 26 27 28 29 30 31]\n"
     ]
    }
   ],
   "source": [
    "arr1 = np.arange(16)\n",
    "arr2 = np.arange(16, 32)\n",
    "print(arr1)\n",
    "print(arr2)"
   ]
  },
  {
   "cell_type": "code",
   "execution_count": 15,
   "id": "eab78a1c",
   "metadata": {
    "scrolled": true
   },
   "outputs": [
    {
     "name": "stdout",
     "output_type": "stream",
     "text": [
      "[[ 0  1  2  3  4  5  6  7  8  9 10 11 12 13 14 15]\n",
      " [16 17 18 19 20 21 22 23 24 25 26 27 28 29 30 31]]\n"
     ]
    }
   ],
   "source": [
    "print(np.stack([arr1, arr2], axis=0))        # `arr1` and `arr2` can be accessed along axis 0"
   ]
  },
  {
   "cell_type": "code",
   "execution_count": 16,
   "id": "e5ebf2dc",
   "metadata": {
    "scrolled": true
   },
   "outputs": [
    {
     "name": "stdout",
     "output_type": "stream",
     "text": [
      "[[ 0 16]\n",
      " [ 1 17]\n",
      " [ 2 18]\n",
      " [ 3 19]\n",
      " [ 4 20]\n",
      " [ 5 21]\n",
      " [ 6 22]\n",
      " [ 7 23]\n",
      " [ 8 24]\n",
      " [ 9 25]\n",
      " [10 26]\n",
      " [11 27]\n",
      " [12 28]\n",
      " [13 29]\n",
      " [14 30]\n",
      " [15 31]]\n"
     ]
    }
   ],
   "source": [
    "print(np.stack([arr1, arr2], axis=1))        # `arr1` and `arr2` can be accessed along axis 1"
   ]
  },
  {
   "cell_type": "markdown",
   "id": "33dc25a3",
   "metadata": {},
   "source": [
    "### Split some arrays"
   ]
  },
  {
   "cell_type": "markdown",
   "id": "16e5d987",
   "metadata": {},
   "source": [
    "You want to define different variables for som parts of an array? Use `np.split`. "
   ]
  },
  {
   "cell_type": "code",
   "execution_count": 22,
   "id": "fae0c6f5",
   "metadata": {},
   "outputs": [
    {
     "name": "stdout",
     "output_type": "stream",
     "text": [
      "[[ 0  1  2  3  4  5  6  7]\n",
      " [ 8  9 10 11 12 13 14 15]]\n"
     ]
    }
   ],
   "source": [
    "arr = np.arange(16).reshape((2, 8))\n",
    "print(arr)"
   ]
  },
  {
   "cell_type": "markdown",
   "id": "b0a24b94",
   "metadata": {},
   "source": [
    "Let's split `arr` along axis 1. `np.split` takes a list of indexes to specify where to split. By giving `[2, 4, 5]`, 4 sub arrays are defined, having these coordinates along axis 1:\n",
    "\n",
    "- [0, 2[\n",
    "- [2, 4[\n",
    "- [4, 5[\n",
    "- [5, 8["
   ]
  },
  {
   "cell_type": "code",
   "execution_count": 29,
   "id": "533a2457",
   "metadata": {},
   "outputs": [
    {
     "name": "stdout",
     "output_type": "stream",
     "text": [
      "[[0 1]\n",
      " [8 9]]\n",
      "[[ 2  3]\n",
      " [10 11]]\n",
      "[[ 4]\n",
      " [12]]\n",
      "[[ 5  6  7]\n",
      " [13 14 15]]\n"
     ]
    }
   ],
   "source": [
    "sub1, sub2, sub3, sub4  = np.split(arr, [2, 4, 5], axis=1)\n",
    "print(sub1, sub2, sub3, sub4, sep='\\n')"
   ]
  },
  {
   "cell_type": "markdown",
   "id": "9dc77394",
   "metadata": {},
   "source": [
    "A different way is to ask for a fixed number of sub arrays, for instance 4."
   ]
  },
  {
   "cell_type": "code",
   "execution_count": 30,
   "id": "32a9c1d9",
   "metadata": {},
   "outputs": [
    {
     "name": "stdout",
     "output_type": "stream",
     "text": [
      "[[0 1]\n",
      " [8 9]]\n",
      "[[ 2  3]\n",
      " [10 11]]\n",
      "[[ 4  5]\n",
      " [12 13]]\n",
      "[[ 6  7]\n",
      " [14 15]]\n"
     ]
    }
   ],
   "source": [
    "sub1, sub2, sub3, sub4  = np.split(arr, 4, axis=1)\n",
    "print(sub1, sub2, sub3, sub4, sep='\\n')"
   ]
  },
  {
   "cell_type": "markdown",
   "id": "1422fb85",
   "metadata": {},
   "source": [
    "### Modify dimensions\n",
    "\n",
    "It may happen that an array has only one element along a specific axis. One can delete this dimensions using `np.squeeze`."
   ]
  },
  {
   "cell_type": "code",
   "execution_count": 21,
   "id": "fb1441db",
   "metadata": {},
   "outputs": [
    {
     "name": "stdout",
     "output_type": "stream",
     "text": [
      "[[[ 0  1  2  3]]\n",
      "\n",
      " [[ 4  5  6  7]]\n",
      "\n",
      " [[ 8  9 10 11]]\n",
      "\n",
      " [[12 13 14 15]]\n",
      "\n",
      " [[16 17 18 19]]\n",
      "\n",
      " [[20 21 22 23]]]\n",
      "(6, 1, 4)\n",
      "[[ 0  1  2  3]\n",
      " [ 4  5  6  7]\n",
      " [ 8  9 10 11]\n",
      " [12 13 14 15]\n",
      " [16 17 18 19]\n",
      " [20 21 22 23]]\n",
      "(6, 4)\n"
     ]
    }
   ],
   "source": [
    "arr = np.arange(24).reshape((6, 1, 4))\n",
    "print(arr)\n",
    "print(arr.shape)\n",
    "\n",
    "arr = np.squeeze(arr, axis=1)\n",
    "print(arr)\n",
    "print(arr.shape)"
   ]
  },
  {
   "cell_type": "markdown",
   "id": "57b16e81",
   "metadata": {},
   "source": [
    "Conversely, one can add dimensions using `np.expand_dims`."
   ]
  },
  {
   "cell_type": "code",
   "execution_count": 7,
   "id": "db7dc22b",
   "metadata": {},
   "outputs": [
    {
     "name": "stdout",
     "output_type": "stream",
     "text": [
      "[[ 0  1  2  3]\n",
      " [ 4  5  6  7]\n",
      " [ 8  9 10 11]\n",
      " [12 13 14 15]\n",
      " [16 17 18 19]\n",
      " [20 21 22 23]]\n",
      "(6, 4)\n",
      "[[[ 0  1  2  3]]\n",
      "\n",
      " [[ 4  5  6  7]]\n",
      "\n",
      " [[ 8  9 10 11]]\n",
      "\n",
      " [[12 13 14 15]]\n",
      "\n",
      " [[16 17 18 19]]\n",
      "\n",
      " [[20 21 22 23]]]\n",
      "(6, 1, 4)\n"
     ]
    }
   ],
   "source": [
    "arr = np.arange(24).reshape((6, 4))\n",
    "print(arr)\n",
    "print(arr.shape)\n",
    "\n",
    "arr = np.expand_dims(arr, axis=1)\n",
    "print(arr)\n",
    "print(arr.shape)"
   ]
  },
  {
   "cell_type": "markdown",
   "id": "576fcb77",
   "metadata": {},
   "source": [
    "## Common operations\n",
    "\n",
    "Contrary to lists, numpy arrays handle mathematical operations in a simple way."
   ]
  },
  {
   "cell_type": "code",
   "execution_count": 18,
   "id": "8c3a6e10",
   "metadata": {},
   "outputs": [],
   "source": [
    "arr = np.arange(5)"
   ]
  },
  {
   "cell_type": "code",
   "execution_count": 19,
   "id": "97cc8ef7",
   "metadata": {},
   "outputs": [
    {
     "data": {
      "text/plain": [
       "array([0, 2, 4, 6, 8])"
      ]
     },
     "execution_count": 19,
     "metadata": {},
     "output_type": "execute_result"
    }
   ],
   "source": [
    "arr + arr"
   ]
  },
  {
   "cell_type": "markdown",
   "id": "4f294e25",
   "metadata": {},
   "source": [
    "Operations on arrays are done __*element wise*__."
   ]
  },
  {
   "cell_type": "code",
   "execution_count": 13,
   "id": "c8f0ac02",
   "metadata": {},
   "outputs": [
    {
     "name": "stdout",
     "output_type": "stream",
     "text": [
      "[1 4 9]\n",
      "[1 4 9]\n",
      "[ 2.71828183  7.3890561  20.08553692]\n",
      "[ 0  5 10]\n",
      "[ True  True False]\n"
     ]
    }
   ],
   "source": [
    "print(arr * arr)        # product\n",
    "print(arr ** 2)         # power\n",
    "print(np.exp(arr))      # some function\n",
    "print((5*arr+9) % 14)   # modulo"
   ]
  },
  {
   "cell_type": "markdown",
   "id": "69efaf80",
   "metadata": {},
   "source": [
    "Note that you can perform matric multiplication using `@`"
   ]
  },
  {
   "cell_type": "code",
   "execution_count": 22,
   "id": "bf3bae47",
   "metadata": {},
   "outputs": [
    {
     "data": {
      "text/plain": [
       "array([[ 43,  49,  55,  61],\n",
       "       [103, 118, 133, 148]])"
      ]
     },
     "execution_count": 22,
     "metadata": {},
     "output_type": "execute_result"
    }
   ],
   "source": [
    "arr = np.array([[1, 2, 3], [4, 5, 6]])                              # shape is (2, 3)\n",
    "arr2 = np.array([[5, 6, 7, 8], [7, 8, 9, 10], [8, 9, 10, 11]])      # shape is (3, 4)\n",
    "arr @ arr2                                                          # shape is (2, 4)"
   ]
  }
 ],
 "metadata": {
  "kernelspec": {
   "display_name": "Python 3 (ipykernel)",
   "language": "python",
   "name": "python3"
  },
  "language_info": {
   "codemirror_mode": {
    "name": "ipython",
    "version": 3
   },
   "file_extension": ".py",
   "mimetype": "text/x-python",
   "name": "python",
   "nbconvert_exporter": "python",
   "pygments_lexer": "ipython3",
   "version": "3.10.12"
  }
 },
 "nbformat": 4,
 "nbformat_minor": 5
}
