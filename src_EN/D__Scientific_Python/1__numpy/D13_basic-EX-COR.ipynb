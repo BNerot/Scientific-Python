{
 "cells": [
  {
   "cell_type": "markdown",
   "id": "bfc580ba",
   "metadata": {},
   "source": [
    "1. Define an array containing the first 100 integers\n",
    "2. Replace all odd values by their double value. Example:\n",
    "\n",
    "    - 3 : 6\n",
    "    - 5 : 10\n",
    "    - etc ..."
   ]
  },
  {
   "cell_type": "code",
   "execution_count": 3,
   "id": "a8196ca4",
   "metadata": {
    "scrolled": true
   },
   "outputs": [
    {
     "data": {
      "text/plain": [
       "array([  0,   2,   2,   6,   4,  10,   6,  14,   8,  18,  10,  22,  12,\n",
       "        26,  14,  30,  16,  34,  18,  38,  20,  42,  22,  46,  24,  50,\n",
       "        26,  54,  28,  58,  30,  62,  32,  66,  34,  70,  36,  74,  38,\n",
       "        78,  40,  82,  42,  86,  44,  90,  46,  94,  48,  98,  50, 102,\n",
       "        52, 106,  54, 110,  56, 114,  58, 118,  60, 122,  62, 126,  64,\n",
       "       130,  66, 134,  68, 138,  70, 142,  72, 146,  74, 150,  76, 154,\n",
       "        78, 158,  80, 162,  82, 166,  84, 170,  86, 174,  88, 178,  90,\n",
       "       182,  92, 186,  94, 190,  96, 194,  98, 198])"
      ]
     },
     "execution_count": 3,
     "metadata": {},
     "output_type": "execute_result"
    }
   ],
   "source": [
    "import numpy as np\n",
    "\n",
    "arr = np.arange(100)\n",
    "arr2 = np.where(arr%2, 2*arr, arr)\n",
    "arr2"
   ]
  }
 ],
 "metadata": {
  "kernelspec": {
   "display_name": "Python 3 (ipykernel)",
   "language": "python",
   "name": "python3"
  },
  "language_info": {
   "codemirror_mode": {
    "name": "ipython",
    "version": 3
   },
   "file_extension": ".py",
   "mimetype": "text/x-python",
   "name": "python",
   "nbconvert_exporter": "python",
   "pygments_lexer": "ipython3",
   "version": "3.10.12"
  }
 },
 "nbformat": 4,
 "nbformat_minor": 5
}
