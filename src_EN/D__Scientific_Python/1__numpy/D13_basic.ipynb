{
 "cells": [
  {
   "cell_type": "markdown",
   "id": "82ce5758",
   "metadata": {},
   "source": [
    "## Conditions\n",
    "\n",
    "Numpy arrays can be created according to a (boolean) condition.\n",
    "\n",
    "For instance, let's define a set of temperature values (°C).\n"
   ]
  },
  {
   "cell_type": "code",
   "execution_count": 3,
   "id": "4c7fb5f5",
   "metadata": {},
   "outputs": [],
   "source": [
    "import numpy as np\n",
    "T = np.array([25, 27, 29, 24, 26, 18, 32])"
   ]
  },
  {
   "cell_type": "markdown",
   "id": "f26dc83f",
   "metadata": {},
   "source": [
    "Let's extract temperatures above 25°C:"
   ]
  },
  {
   "cell_type": "code",
   "execution_count": 4,
   "id": "1b18efba",
   "metadata": {},
   "outputs": [
    {
     "name": "stdout",
     "output_type": "stream",
     "text": [
      "[False  True  True False  True False  True]\n",
      "[27 29 26 32]\n"
     ]
    }
   ],
   "source": [
    "print(T > 25)\n",
    "print(T[T > 25])"
   ]
  },
  {
   "cell_type": "markdown",
   "id": "c1281e33",
   "metadata": {},
   "source": [
    "One can replace these values using `np.where`:\n",
    "\n",
    "- whenever the condition holds True, replace the value with 30\n",
    "- whenever the condition holds False, keep the value"
   ]
  },
  {
   "cell_type": "code",
   "execution_count": 5,
   "id": "237a0cfc",
   "metadata": {},
   "outputs": [
    {
     "data": {
      "text/plain": [
       "array([25, 30, 30, 24, 30, 18, 30])"
      ]
     },
     "execution_count": 5,
     "metadata": {},
     "output_type": "execute_result"
    }
   ],
   "source": [
    "np.where(T>25, 30, T)"
   ]
  },
  {
   "cell_type": "markdown",
   "id": "5e179542",
   "metadata": {},
   "source": [
    "Advanced: note that `np.where` returns a copy of the object"
   ]
  },
  {
   "cell_type": "markdown",
   "id": "93b6ffd8",
   "metadata": {},
   "source": [
    "Let's suppose now there are several temperature series:"
   ]
  },
  {
   "cell_type": "code",
   "execution_count": 6,
   "id": "1cd36792",
   "metadata": {
    "scrolled": true
   },
   "outputs": [
    {
     "data": {
      "text/plain": [
       "array([[25, 27, 29, 24, 26, 18, 32],\n",
       "       [26, 28, 30, 25, 27, 19, 33],\n",
       "       [22, 24, 26, 21, 23, 15, 29]])"
      ]
     },
     "execution_count": 6,
     "metadata": {},
     "output_type": "execute_result"
    }
   ],
   "source": [
    "T = np.stack([T, T+1, T-3])\n",
    "T"
   ]
  },
  {
   "cell_type": "markdown",
   "id": "ca277cd1",
   "metadata": {},
   "source": [
    "Let's replace the values of each serie for which the maximum is not 33°C. Hence, maximum of `T` along axis 1 is calculated (since series are stacked along axis 0)."
   ]
  },
  {
   "cell_type": "code",
   "execution_count": 7,
   "id": "8b3169df",
   "metadata": {},
   "outputs": [
    {
     "name": "stdout",
     "output_type": "stream",
     "text": [
      "[32 33 29]\n"
     ]
    }
   ],
   "source": [
    "max_ = T.max(axis=1)\n",
    "print(max_)"
   ]
  },
  {
   "cell_type": "markdown",
   "id": "bba82c3c",
   "metadata": {},
   "source": [
    "Then the condition is defined:"
   ]
  },
  {
   "cell_type": "code",
   "execution_count": 8,
   "id": "cc2d2f17",
   "metadata": {},
   "outputs": [
    {
     "name": "stdout",
     "output_type": "stream",
     "text": [
      "[False  True False]\n"
     ]
    }
   ],
   "source": [
    "cond = max_ == 33\n",
    "print(cond)"
   ]
  },
  {
   "cell_type": "markdown",
   "id": "19657f99",
   "metadata": {},
   "source": [
    "And it is used in `np.where`."
   ]
  },
  {
   "cell_type": "code",
   "execution_count": 37,
   "id": "490cdcba",
   "metadata": {},
   "outputs": [
    {
     "ename": "ValueError",
     "evalue": "operands could not be broadcast together with shapes (3,) (3,7) () ",
     "output_type": "error",
     "traceback": [
      "\u001b[0;31m---------------------------------------------------------------------------\u001b[0m",
      "\u001b[0;31mValueError\u001b[0m                                Traceback (most recent call last)",
      "Cell \u001b[0;32mIn[37], line 1\u001b[0m\n\u001b[0;32m----> 1\u001b[0m \u001b[43mnp\u001b[49m\u001b[38;5;241;43m.\u001b[39;49m\u001b[43mwhere\u001b[49m\u001b[43m(\u001b[49m\u001b[43mcond\u001b[49m\u001b[43m,\u001b[49m\u001b[43m \u001b[49m\u001b[43mT\u001b[49m\u001b[43m,\u001b[49m\u001b[43m \u001b[49m\u001b[38;5;241;43m0\u001b[39;49m\u001b[43m)\u001b[49m\n",
      "File \u001b[0;32m<__array_function__ internals>:200\u001b[0m, in \u001b[0;36mwhere\u001b[0;34m(*args, **kwargs)\u001b[0m\n",
      "\u001b[0;31mValueError\u001b[0m: operands could not be broadcast together with shapes (3,) (3,7) () "
     ]
    }
   ],
   "source": [
    "np.where(cond, T, 0)"
   ]
  },
  {
   "cell_type": "markdown",
   "id": "89f7d19c",
   "metadata": {},
   "source": [
    "__Error! The condition `cond` does not have the same shape than replacing values (`T` and `0`)__ Hence `numpy` cannot handle the condition.\n",
    "\n",
    "This is because the maximum calculation removed one dimension. But this can be prevented using `keepdims=True`:"
   ]
  },
  {
   "cell_type": "code",
   "execution_count": 9,
   "id": "5ac80117",
   "metadata": {
    "scrolled": true
   },
   "outputs": [
    {
     "name": "stdout",
     "output_type": "stream",
     "text": [
      "[[32]\n",
      " [33]\n",
      " [29]]\n"
     ]
    }
   ],
   "source": [
    "max_ = T.max(axis=1, keepdims=True)\n",
    "print(max_)                           # shape of dimension 1 is 1 instead of 7 (because max value is kept),\n",
    "                                      # but at least this dimension is kept"
   ]
  },
  {
   "cell_type": "code",
   "execution_count": 10,
   "id": "6f82affe",
   "metadata": {},
   "outputs": [
    {
     "data": {
      "text/plain": [
       "array([[ 0,  0,  0,  0,  0,  0,  0],\n",
       "       [26, 28, 30, 25, 27, 19, 33],\n",
       "       [ 0,  0,  0,  0,  0,  0,  0]])"
      ]
     },
     "execution_count": 10,
     "metadata": {},
     "output_type": "execute_result"
    }
   ],
   "source": [
    "cond = max_ == 33\n",
    "np.where(cond, T, 0)"
   ]
  },
  {
   "cell_type": "markdown",
   "id": "03eeedd6",
   "metadata": {},
   "source": [
    "Similarly: using `np.any`, one can look for series for which __at least one__ value meets a criterium:"
   ]
  },
  {
   "cell_type": "code",
   "execution_count": 11,
   "id": "8ed58491",
   "metadata": {
    "scrolled": true
   },
   "outputs": [
    {
     "data": {
      "text/plain": [
       "array([[25, 27, 29, 24, 26, 18, 32],\n",
       "       [26, 28, 30, 25, 27, 19, 33],\n",
       "       [ 0,  0,  0,  0,  0,  0,  0]])"
      ]
     },
     "execution_count": 11,
     "metadata": {},
     "output_type": "execute_result"
    }
   ],
   "source": [
    "cond = (T >= 32).any(axis=1, keepdims=True)\n",
    "np.where(cond, T, 0)"
   ]
  },
  {
   "cell_type": "markdown",
   "id": "49d1a77e",
   "metadata": {},
   "source": [
    "With `np.all`, all values must satisfy the criterium:"
   ]
  },
  {
   "cell_type": "code",
   "execution_count": 55,
   "id": "62dadc58",
   "metadata": {},
   "outputs": [
    {
     "data": {
      "text/plain": [
       "array([[ 0,  0,  0,  0,  0,  0,  0],\n",
       "       [ 0,  0,  0,  0,  0,  0,  0],\n",
       "       [22, 24, 26, 21, 23, 15, 29]])"
      ]
     },
     "execution_count": 55,
     "metadata": {},
     "output_type": "execute_result"
    }
   ],
   "source": [
    "cond = (T < 32).all(axis=1, keepdims=True)\n",
    "np.where(cond, T, 0)"
   ]
  },
  {
   "cell_type": "markdown",
   "id": "866b6c13",
   "metadata": {},
   "source": [
    "## Find out duplicate values\n",
    "\n",
    "`np.unique` eliminates values that occur several times:"
   ]
  },
  {
   "cell_type": "code",
   "execution_count": 12,
   "id": "db9d9578",
   "metadata": {
    "scrolled": true
   },
   "outputs": [
    {
     "data": {
      "text/plain": [
       "array([[0, 1, 1],\n",
       "       [0, 0, 1],\n",
       "       [0, 1, 0],\n",
       "       [0, 1, 1],\n",
       "       [1, 1, 1],\n",
       "       [1, 1, 0],\n",
       "       [1, 0, 1],\n",
       "       [0, 0, 1],\n",
       "       [1, 1, 0],\n",
       "       [1, 1, 0],\n",
       "       [0, 0, 0],\n",
       "       [1, 1, 0]])"
      ]
     },
     "execution_count": 12,
     "metadata": {},
     "output_type": "execute_result"
    }
   ],
   "source": [
    "rng = np.random.default_rng(42)                 \n",
    "arr = rng.integers(0, 2, (12, 3))\n",
    "arr"
   ]
  },
  {
   "cell_type": "code",
   "execution_count": 13,
   "id": "588934e2",
   "metadata": {
    "scrolled": true
   },
   "outputs": [
    {
     "data": {
      "text/plain": [
       "array([[0, 0, 0],\n",
       "       [0, 0, 1],\n",
       "       [0, 1, 0],\n",
       "       [0, 1, 1],\n",
       "       [1, 0, 1],\n",
       "       [1, 1, 0],\n",
       "       [1, 1, 1]])"
      ]
     },
     "execution_count": 13,
     "metadata": {},
     "output_type": "execute_result"
    }
   ],
   "source": [
    "np.unique(arr, axis=0)      # there exists duplicated values along axis 0"
   ]
  },
  {
   "cell_type": "code",
   "execution_count": 14,
   "id": "e93a2c74",
   "metadata": {
    "scrolled": true
   },
   "outputs": [
    {
     "data": {
      "text/plain": [
       "array([[0, 1, 1],\n",
       "       [0, 0, 1],\n",
       "       [0, 1, 0],\n",
       "       [0, 1, 1],\n",
       "       [1, 1, 1],\n",
       "       [1, 1, 0],\n",
       "       [1, 0, 1],\n",
       "       [0, 0, 1],\n",
       "       [1, 1, 0],\n",
       "       [1, 1, 0],\n",
       "       [0, 0, 0],\n",
       "       [1, 1, 0]])"
      ]
     },
     "execution_count": 14,
     "metadata": {},
     "output_type": "execute_result"
    }
   ],
   "source": [
    "np.unique(arr, axis=1)      # no duplicated values along axis 1"
   ]
  },
  {
   "cell_type": "code",
   "execution_count": 88,
   "id": "95c57623",
   "metadata": {
    "scrolled": true
   },
   "outputs": [
    {
     "data": {
      "text/plain": [
       "array([0, 1])"
      ]
     },
     "execution_count": 88,
     "metadata": {},
     "output_type": "execute_result"
    }
   ],
   "source": [
    "np.unique(arr)               # no other values than 0 and 1 in the array"
   ]
  },
  {
   "cell_type": "markdown",
   "id": "25c0ae37",
   "metadata": {},
   "source": [
    "## Element-wise maximum"
   ]
  },
  {
   "cell_type": "markdown",
   "id": "0f5925b4",
   "metadata": {},
   "source": [
    "`np.maximum` can calculate the maximum of several arrays __element-wise__. This is very different from `np.max` that takes the maximum value of a single array."
   ]
  },
  {
   "cell_type": "code",
   "execution_count": 15,
   "id": "1265097d",
   "metadata": {},
   "outputs": [],
   "source": [
    "v1 = np.array([1, 2, 3, 4])\n",
    "v2 = np.array([3, 2, 1, 0])"
   ]
  },
  {
   "cell_type": "code",
   "execution_count": 16,
   "id": "6418e910",
   "metadata": {},
   "outputs": [
    {
     "name": "stdout",
     "output_type": "stream",
     "text": [
      "[3 2 3 4]\n"
     ]
    }
   ],
   "source": [
    "_ = np.maximum(v1, v2)              # a new array is created to store the result\n",
    "print(_)"
   ]
  },
  {
   "cell_type": "markdown",
   "id": "506dc8db",
   "metadata": {},
   "source": [
    "__Advanced__: `np.maximum` is one of the `numpy` function that can allocate memory in an already-defined variable. This is done using parameter `out`. This is useful to modify the content of a variable that has already been passed to several different functions."
   ]
  },
  {
   "cell_type": "code",
   "execution_count": 18,
   "id": "5954867f",
   "metadata": {},
   "outputs": [
    {
     "data": {
      "text/plain": [
       "array([1000, 1000, 1000, 1000])"
      ]
     },
     "execution_count": 18,
     "metadata": {},
     "output_type": "execute_result"
    }
   ],
   "source": [
    "out = np.full(4, 1000)       # an array of shape (4,) with constant value 1000\n",
    "out"
   ]
  },
  {
   "cell_type": "code",
   "execution_count": 19,
   "id": "86bb3b63",
   "metadata": {
    "scrolled": true
   },
   "outputs": [
    {
     "name": "stdout",
     "output_type": "stream",
     "text": [
      "True\n"
     ]
    },
    {
     "data": {
      "text/plain": [
       "array([3, 2, 3, 4])"
      ]
     },
     "execution_count": 19,
     "metadata": {},
     "output_type": "execute_result"
    }
   ],
   "source": [
    "_ = np.maximum(v1, v2, out=out)\n",
    "print(_ is out)                      # the result of np.maximum is stored in the already defined `out`\n",
    "out"
   ]
  },
  {
   "cell_type": "markdown",
   "id": "93db805f",
   "metadata": {},
   "source": [
    "## Index of maximum\n",
    "\n",
    "Let's suppose `T` is an array with 1000 values. One can determine the index of the maximum value of `T` using `np.argmax`."
   ]
  },
  {
   "cell_type": "code",
   "execution_count": 20,
   "id": "02009a38",
   "metadata": {},
   "outputs": [],
   "source": [
    "T = np.sin(np.linspace(0, np.pi, 1000)) * 10"
   ]
  },
  {
   "cell_type": "markdown",
   "id": "251c49b6",
   "metadata": {},
   "source": [
    "On peut trouver le pas de temps pour lequels la température est maximale."
   ]
  },
  {
   "cell_type": "code",
   "execution_count": 21,
   "id": "5a7afe99",
   "metadata": {},
   "outputs": [
    {
     "data": {
      "text/plain": [
       "499"
      ]
     },
     "execution_count": 21,
     "metadata": {},
     "output_type": "execute_result"
    }
   ],
   "source": [
    "np.argmax(T)"
   ]
  },
  {
   "cell_type": "markdown",
   "id": "50a29201",
   "metadata": {},
   "source": [
    "## Vectorization of Python functions\n",
    "\n",
    "Some Python operations have no meaning for `numpy`.\n",
    "\n",
    "For instance, the function below is running fine for usual Python scalars:"
   ]
  },
  {
   "cell_type": "code",
   "execution_count": 23,
   "id": "11f2d896",
   "metadata": {},
   "outputs": [
    {
     "data": {
      "text/plain": [
       "8"
      ]
     },
     "execution_count": 23,
     "metadata": {},
     "output_type": "execute_result"
    }
   ],
   "source": [
    "def f(a, b):\n",
    "    if a < b:\n",
    "        return a + b\n",
    "    else:\n",
    "        return a * b  \n",
    "    \n",
    "f(3, 5)"
   ]
  },
  {
   "cell_type": "markdown",
   "id": "d1a9b7a2",
   "metadata": {},
   "source": [
    "But it does not work with `numpy` arrays as comparison of 2 arrays using `<` is unclear for `numpy`: it does not know if the condition must be met for all elements (`numpy.all`) or at least one (`numpy.any`):"
   ]
  },
  {
   "cell_type": "code",
   "execution_count": 24,
   "id": "b03c8c23",
   "metadata": {},
   "outputs": [
    {
     "name": "stdout",
     "output_type": "stream",
     "text": [
      "[3 2 3 2 4 3 3 2]\n",
      "[2 3 3 3 2 3 2 2]\n"
     ]
    },
    {
     "ename": "ValueError",
     "evalue": "The truth value of an array with more than one element is ambiguous. Use a.any() or a.all()",
     "output_type": "error",
     "traceback": [
      "\u001b[0;31m---------------------------------------------------------------------------\u001b[0m",
      "\u001b[0;31mValueError\u001b[0m                                Traceback (most recent call last)",
      "Cell \u001b[0;32mIn[24], line 4\u001b[0m\n\u001b[1;32m      2\u001b[0m \u001b[38;5;28mprint\u001b[39m(arr1)\n\u001b[1;32m      3\u001b[0m \u001b[38;5;28mprint\u001b[39m(arr2)\n\u001b[0;32m----> 4\u001b[0m \u001b[43mf\u001b[49m\u001b[43m(\u001b[49m\u001b[43marr1\u001b[49m\u001b[43m,\u001b[49m\u001b[43m \u001b[49m\u001b[43marr2\u001b[49m\u001b[43m)\u001b[49m\n",
      "Cell \u001b[0;32mIn[23], line 2\u001b[0m, in \u001b[0;36mf\u001b[0;34m(a, b)\u001b[0m\n\u001b[1;32m      1\u001b[0m \u001b[38;5;28;01mdef\u001b[39;00m \u001b[38;5;21mf\u001b[39m(a, b):\n\u001b[0;32m----> 2\u001b[0m     \u001b[38;5;28;01mif\u001b[39;00m a \u001b[38;5;241m<\u001b[39m b:\n\u001b[1;32m      3\u001b[0m         \u001b[38;5;28;01mreturn\u001b[39;00m a \u001b[38;5;241m+\u001b[39m b\n\u001b[1;32m      4\u001b[0m     \u001b[38;5;28;01melse\u001b[39;00m:\n",
      "\u001b[0;31mValueError\u001b[0m: The truth value of an array with more than one element is ambiguous. Use a.any() or a.all()"
     ]
    }
   ],
   "source": [
    "arr1, arr2 = np.split(np.random.randint(1, 5, 16), 2)\n",
    "print(arr1)\n",
    "print(arr2)\n",
    "f(arr1, arr2)"
   ]
  },
  {
   "cell_type": "markdown",
   "id": "93fb5dee",
   "metadata": {},
   "source": [
    "In this case, we want `f` to be applied element-wise. Thus best choice is to use `np.where`:"
   ]
  },
  {
   "cell_type": "code",
   "execution_count": 26,
   "id": "92d7eaae",
   "metadata": {},
   "outputs": [
    {
     "data": {
      "text/plain": [
       "array([6, 5, 9, 5, 8, 9, 6, 4])"
      ]
     },
     "execution_count": 26,
     "metadata": {},
     "output_type": "execute_result"
    }
   ],
   "source": [
    "np.where(arr1 < arr2, arr1 + arr2 , arr1 * arr2)"
   ]
  },
  {
   "cell_type": "markdown",
   "id": "66b57c95",
   "metadata": {},
   "source": [
    "Another way is to use the `np.vectorize` function that make `f` element-wise for `numpy` arrays:"
   ]
  },
  {
   "cell_type": "code",
   "execution_count": 27,
   "id": "34487b19",
   "metadata": {},
   "outputs": [
    {
     "data": {
      "text/plain": [
       "array([6, 5, 9, 5, 8, 9, 6, 4])"
      ]
     },
     "execution_count": 27,
     "metadata": {},
     "output_type": "execute_result"
    }
   ],
   "source": [
    "vectorized_f = np.vectorize(f)\n",
    "vectorized_f(arr1, arr2)"
   ]
  },
  {
   "cell_type": "markdown",
   "id": "4a67247d",
   "metadata": {},
   "source": [
    "__Advanced__: beware, `np.vectorize`:\n",
    "\n",
    "- is a bad choice for performance\n",
    "- define a function that makes hypotheses regarding data type on the first call\n"
   ]
  },
  {
   "cell_type": "markdown",
   "id": "aa4e9b07",
   "metadata": {},
   "source": [
    "## Multi-variables functions"
   ]
  },
  {
   "cell_type": "markdown",
   "id": "85e452d1",
   "metadata": {},
   "source": [
    "Let's define a 3-variables function."
   ]
  },
  {
   "cell_type": "code",
   "execution_count": 39,
   "id": "462d70fb",
   "metadata": {},
   "outputs": [
    {
     "data": {
      "text/plain": [
       "625"
      ]
     },
     "execution_count": 39,
     "metadata": {},
     "output_type": "execute_result"
    }
   ],
   "source": [
    "def f(a, b, c):\n",
    "    return (a + b) ** c\n",
    "\n",
    "f(2, 3, 4)"
   ]
  },
  {
   "cell_type": "markdown",
   "id": "33d336fe",
   "metadata": {},
   "source": [
    "The function must be evaluated on the following values:"
   ]
  },
  {
   "cell_type": "code",
   "execution_count": 40,
   "id": "c0f93c4c",
   "metadata": {},
   "outputs": [],
   "source": [
    "A = (2, 3, 4)\n",
    "B = (4, 5)\n",
    "C = (5, 6)"
   ]
  },
  {
   "cell_type": "markdown",
   "id": "95126792",
   "metadata": {},
   "source": [
    "### Method 1\n",
    "\n",
    "First choice is define several loops:"
   ]
  },
  {
   "cell_type": "code",
   "execution_count": 41,
   "id": "ff8edafb",
   "metadata": {
    "scrolled": true
   },
   "outputs": [
    {
     "name": "stdout",
     "output_type": "stream",
     "text": [
      "{(2, 4, 5): 7776, (2, 4, 6): 46656, (2, 5, 5): 16807, (2, 5, 6): 117649, (3, 4, 5): 16807, (3, 4, 6): 117649, (3, 5, 5): 32768, (3, 5, 6): 262144, (4, 4, 5): 32768, (4, 4, 6): 262144, (4, 5, 5): 59049, (4, 5, 6): 531441}\n"
     ]
    }
   ],
   "source": [
    "results = {}\n",
    "for a in A:\n",
    "    for b in B:\n",
    "        for c in C:\n",
    "            results[(a, b, c)] = f(a, b, c)\n",
    "print(results)"
   ]
  },
  {
   "cell_type": "markdown",
   "id": "89ce0894",
   "metadata": {},
   "source": [
    "This solution is __very slow__. \n",
    "\n",
    "### Method 2\n",
    "\n",
    "Instead, let's use `np.meshgrid` to create some evaluation grid:"
   ]
  },
  {
   "cell_type": "code",
   "execution_count": 42,
   "id": "9b0774ea",
   "metadata": {
    "scrolled": true
   },
   "outputs": [],
   "source": [
    "aa, bb, cc = np.meshgrid(A, B, C)"
   ]
  },
  {
   "cell_type": "markdown",
   "id": "ceadca70",
   "metadata": {},
   "source": [
    "Then vectorize the `f` function and apply the vectorized version on the grid:"
   ]
  },
  {
   "cell_type": "code",
   "execution_count": 43,
   "id": "2f70226a",
   "metadata": {},
   "outputs": [
    {
     "name": "stdout",
     "output_type": "stream",
     "text": [
      "[[[  7776  46656]\n",
      "  [ 16807 117649]\n",
      "  [ 32768 262144]]\n",
      "\n",
      " [[ 16807 117649]\n",
      "  [ 32768 262144]\n",
      "  [ 59049 531441]]]\n"
     ]
    }
   ],
   "source": [
    "vectorized_f = np.vectorize(f)\n",
    "results = vectorized_f(aa, bb, cc)\n",
    "print(results)"
   ]
  },
  {
   "cell_type": "markdown",
   "id": "4ac5accf",
   "metadata": {},
   "source": [
    "Results are the same as with method 1 but presented in a different way:\n",
    "\n",
    "- along axis 2 (`axis=2`), values change according to `C`, with `a` and `b` being constant\n",
    "- along axis 1 (`axis=1`), values change according to `B`, with `a` and `c` being constant\n",
    "- along axis 0 (`axis=0`), values change according to `A`, with `b` and `c` being constant\n"
   ]
  },
  {
   "cell_type": "markdown",
   "id": "f896e773",
   "metadata": {},
   "source": [
    "Let's understand what is performed by `np.meshgrid` using a simpler 2D example:"
   ]
  },
  {
   "cell_type": "code",
   "execution_count": 47,
   "id": "8c13fc1b",
   "metadata": {},
   "outputs": [
    {
     "name": "stdout",
     "output_type": "stream",
     "text": [
      "[[2 3 4]\n",
      " [2 3 4]]\n",
      "[[4 4 4]\n",
      " [5 5 5]]\n"
     ]
    }
   ],
   "source": [
    "aa, bb = np.meshgrid(A, B)\n",
    "print(aa)\n",
    "print(bb)"
   ]
  },
  {
   "cell_type": "markdown",
   "id": "219c69ff",
   "metadata": {},
   "source": [
    "`aa` and `bb` are two arrays of shape (`len(B)`, `len(A)`). `aa` contains the values of `A`, repeated as many times as needed (`len(B)` times). Same for `bb`. \n",
    "\n",
    "Using values of both `aa` and `bb` gives an exhaustive grid to evaluate a 2D function."
   ]
  },
  {
   "cell_type": "code",
   "execution_count": 48,
   "id": "7ab27a0a",
   "metadata": {},
   "outputs": [
    {
     "data": {
      "text/plain": [
       "array([[[2, 4],\n",
       "        [3, 4],\n",
       "        [4, 4]],\n",
       "\n",
       "       [[2, 5],\n",
       "        [3, 5],\n",
       "        [4, 5]]])"
      ]
     },
     "execution_count": 48,
     "metadata": {},
     "output_type": "execute_result"
    }
   ],
   "source": [
    "np.stack([aa, bb], axis=-1)"
   ]
  }
 ],
 "metadata": {
  "kernelspec": {
   "display_name": "Python 3 (ipykernel)",
   "language": "python",
   "name": "python3"
  },
  "language_info": {
   "codemirror_mode": {
    "name": "ipython",
    "version": 3
   },
   "file_extension": ".py",
   "mimetype": "text/x-python",
   "name": "python",
   "nbconvert_exporter": "python",
   "pygments_lexer": "ipython3",
   "version": "3.10.12"
  }
 },
 "nbformat": 4,
 "nbformat_minor": 5
}
