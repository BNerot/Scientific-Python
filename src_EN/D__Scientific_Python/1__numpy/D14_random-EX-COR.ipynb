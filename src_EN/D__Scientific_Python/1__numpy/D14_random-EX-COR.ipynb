{
 "cells": [
  {
   "cell_type": "markdown",
   "id": "cfd53e40",
   "metadata": {},
   "source": [
    "Generate an array:\n",
    "\n",
    "- of shape (10, 20, 5)\n",
    "- filled with uniformely randomly distributed values between 42 and 101 (float values)\n",
    "- given an initial state 10"
   ]
  },
  {
   "cell_type": "code",
   "execution_count": null,
   "id": "619b8b99",
   "metadata": {},
   "outputs": [],
   "source": [
    "import numpy.random as npr\n",
    "\n",
    "rng = npr.default_rng(10)                 \n",
    "arr = 42 + rng.random((10, 20, 5)) * (101-42)\n",
    "arr"
   ]
  }
 ],
 "metadata": {
  "kernelspec": {
   "display_name": "Python 3 (ipykernel)",
   "language": "python",
   "name": "python3"
  },
  "language_info": {
   "codemirror_mode": {
    "name": "ipython",
    "version": 3
   },
   "file_extension": ".py",
   "mimetype": "text/x-python",
   "name": "python",
   "nbconvert_exporter": "python",
   "pygments_lexer": "ipython3",
   "version": "3.10.12"
  }
 },
 "nbformat": 4,
 "nbformat_minor": 5
}
