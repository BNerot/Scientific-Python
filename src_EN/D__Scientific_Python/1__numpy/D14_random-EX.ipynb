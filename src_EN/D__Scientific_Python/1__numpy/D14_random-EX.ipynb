{
 "cells": [
  {
   "cell_type": "markdown",
   "id": "6e635eff",
   "metadata": {
    "editable": true,
    "slideshow": {
     "slide_type": ""
    },
    "tags": []
   },
   "source": [
    "Generate an array:\n",
    "\n",
    "- of shape (10, 20, 5)\n",
    "- filled with uniformely randomly distributed values between 42 and 101 (float values)\n",
    "- given an initial state 10"
   ]
  }
 ],
 "metadata": {
  "kernelspec": {
   "display_name": "Python 3 (ipykernel)",
   "language": "python",
   "name": "python3"
  },
  "language_info": {
   "codemirror_mode": {
    "name": "ipython",
    "version": 3
   },
   "file_extension": ".py",
   "mimetype": "text/x-python",
   "name": "python",
   "nbconvert_exporter": "python",
   "pygments_lexer": "ipython3",
   "version": "3.12.3"
  }
 },
 "nbformat": 4,
 "nbformat_minor": 5
}
