{
 "cells": [
  {
   "cell_type": "markdown",
   "id": "46dd156a",
   "metadata": {},
   "source": [
    "## Create random numbers\n",
    "\n",
    "The `random` subpackage of `numpy` can be used to generate random numbers:\n",
    "\n",
    "- float values in $[0, 1[$\n",
    "- integers\n"
   ]
  },
  {
   "cell_type": "code",
   "execution_count": 2,
   "id": "38bc29db",
   "metadata": {},
   "outputs": [],
   "source": [
    "import numpy.random as npr"
   ]
  },
  {
   "cell_type": "code",
   "execution_count": 6,
   "id": "4cf5694f",
   "metadata": {},
   "outputs": [
    {
     "data": {
      "text/plain": [
       "array([[0.81766694, 0.14319621, 0.24420405, 0.79485374, 0.36446199],\n",
       "       [0.62801431, 0.16768836, 0.31869047, 0.91741838, 0.48900763]])"
      ]
     },
     "execution_count": 6,
     "metadata": {},
     "output_type": "execute_result"
    }
   ],
   "source": [
    "npr.random((2, 5))       "
   ]
  },
  {
   "cell_type": "code",
   "execution_count": 7,
   "id": "ae1e7a5c",
   "metadata": {},
   "outputs": [
    {
     "data": {
      "text/plain": [
       "array([[2, 1, 8],\n",
       "       [4, 8, 4],\n",
       "       [2, 6, 2],\n",
       "       [1, 9, 2],\n",
       "       [7, 7, 9],\n",
       "       [1, 1, 8],\n",
       "       [9, 9, 1],\n",
       "       [4, 4, 2]])"
      ]
     },
     "execution_count": 7,
     "metadata": {},
     "output_type": "execute_result"
    }
   ],
   "source": [
    "npr.randint(1, 10, (8, 3))   # (8, 3) integers in [1, 10[ (10 excluded)"
   ]
  },
  {
   "cell_type": "markdown",
   "id": "934ff0aa",
   "metadata": {},
   "source": [
    "Random numbers can also be generated following specific statistical distribution:"
   ]
  },
  {
   "cell_type": "code",
   "execution_count": 8,
   "id": "5d77ae87",
   "metadata": {},
   "outputs": [
    {
     "name": "stdout",
     "output_type": "stream",
     "text": [
      "[[1.99681708 2.79904736 2.17633328 1.49729344]\n",
      " [4.11716777 4.92349861 0.21887788 0.75476233]\n",
      " [2.885842   1.27164751 3.66103527 1.56154697]]\n",
      "[[ 7.26234311 -4.04165132 -0.50045676  1.06735817]\n",
      " [-3.21492431  0.59875201  4.56122662 -5.31195884]\n",
      " [-1.54579796 -5.27946634  4.55081793  1.30889338]]\n"
     ]
    }
   ],
   "source": [
    "print(npr.uniform(0, 5, (3, 4)))                 # uniform probability of a number in [0, 5], \n",
    "                                                 # with shape (3, 4)\n",
    "print(npr.normal(loc=0, scale=5, size=(3, 4)))   # normal probability with mu=0 and std=5,\n",
    "                                                 # with shape=(3, 4)"
   ]
  },
  {
   "cell_type": "markdown",
   "id": "2a16d190",
   "metadata": {},
   "source": [
    "## Create deterministic random\n",
    "\n",
    "The scientific approach needs reproducible computation steps. Whenever these steps imply random number generation, this can leads to problems: values differ from one execution to another."
   ]
  },
  {
   "cell_type": "code",
   "execution_count": 9,
   "id": "5f8b5ce4",
   "metadata": {},
   "outputs": [
    {
     "name": "stdout",
     "output_type": "stream",
     "text": [
      "[0.49496843 0.075648   0.99441966 0.66990802]\n"
     ]
    }
   ],
   "source": [
    "my_physical_variable = npr.random(4)\n",
    "print(my_physical_variable)"
   ]
  },
  {
   "cell_type": "code",
   "execution_count": 10,
   "id": "4cae24d0",
   "metadata": {},
   "outputs": [
    {
     "name": "stdout",
     "output_type": "stream",
     "text": [
      "[0.44128815 0.48055089 0.03025358 0.06241068]\n"
     ]
    }
   ],
   "source": [
    "my_physical_variable = npr.random(4)\n",
    "print(my_physical_variable)"
   ]
  },
  {
   "cell_type": "markdown",
   "id": "858c936f",
   "metadata": {},
   "source": [
    "Fortunately, __one can create reproducible random__, i.e. a way to get the same random values whenever the code is ran.\n",
    "\n",
    "To this purpose, one must define a random number generator and __initialize it__ with the same initial _state_ for all executions:"
   ]
  },
  {
   "cell_type": "code",
   "execution_count": 11,
   "id": "ab2e3211",
   "metadata": {},
   "outputs": [
    {
     "name": "stdout",
     "output_type": "stream",
     "text": [
      "[0.77395605 0.43887844 0.85859792 0.69736803]\n"
     ]
    }
   ],
   "source": [
    "rng = npr.default_rng(42)                 \n",
    "my_physical_variable = rng.random(4)\n",
    "print(my_physical_variable)"
   ]
  },
  {
   "cell_type": "code",
   "execution_count": 12,
   "id": "18cd72fc",
   "metadata": {},
   "outputs": [
    {
     "name": "stdout",
     "output_type": "stream",
     "text": [
      "[0.77395605 0.43887844 0.85859792 0.69736803]\n"
     ]
    }
   ],
   "source": [
    "rng_new = npr.default_rng(42)\n",
    "my_physical_variable = rng_new.random(4)\n",
    "print(my_physical_variable)"
   ]
  },
  {
   "cell_type": "code",
   "execution_count": 66,
   "id": "d0dba862",
   "metadata": {},
   "outputs": [
    {
     "name": "stdout",
     "output_type": "stream",
     "text": [
      "[0.04739149 0.51822218 0.37485856 0.22867852]\n"
     ]
    }
   ],
   "source": [
    "rng_new = npr.default_rng(65)      # different seed\n",
    "my_physical_variable = rng_new.random(4)\n",
    "print(my_physical_variable)"
   ]
  },
  {
   "cell_type": "markdown",
   "id": "ddd21ef8",
   "metadata": {},
   "source": [
    "Note that:\n",
    "\n",
    "- defining the initial state returns a new instance that must be used to generate random numbers\n",
    "- using this instance provides reproducible random numbers generation\n",
    "- a different initial state gives different random numbers"
   ]
  }
 ],
 "metadata": {
  "kernelspec": {
   "display_name": "Python 3 (ipykernel)",
   "language": "python",
   "name": "python3"
  },
  "language_info": {
   "codemirror_mode": {
    "name": "ipython",
    "version": 3
   },
   "file_extension": ".py",
   "mimetype": "text/x-python",
   "name": "python",
   "nbconvert_exporter": "python",
   "pygments_lexer": "ipython3",
   "version": "3.10.12"
  }
 },
 "nbformat": 4,
 "nbformat_minor": 5
}
