{
 "cells": [
  {
   "cell_type": "markdown",
   "id": "83928e99",
   "metadata": {},
   "source": [
    "## Data types"
   ]
  },
  {
   "cell_type": "markdown",
   "id": "82149634",
   "metadata": {},
   "source": [
    "### What is a data type\n",
    "\n",
    "The data type of an array gives `numpy` some information on how to deal with this array. Most common data types are:\n",
    "\n",
    "- `int_`\n",
    "- `float_`\n",
    "- `str_`\n",
    "- `bool_`\n",
    "\n",
    "These types are a bit different from the ones of Python. They can be accessed using the `dtype` attribute (whereas Python type is given by `type(...)`) A numpy array is always of type `numpy.ndarray`, but the dtype depends on its content:"
   ]
  },
  {
   "cell_type": "code",
   "execution_count": 2,
   "id": "94f82029",
   "metadata": {},
   "outputs": [
    {
     "name": "stdout",
     "output_type": "stream",
     "text": [
      "<class 'numpy.ndarray'>\n",
      "int64\n"
     ]
    }
   ],
   "source": [
    "import numpy as np\n",
    "arr = np.array([1, 2, 3])\n",
    "print(type(arr))\n",
    "print(arr.dtype)"
   ]
  },
  {
   "cell_type": "markdown",
   "id": "7b3d2e73",
   "metadata": {},
   "source": [
    "\n",
    "### Use data types\n",
    "\n",
    "#### Automatically assigned data type\n",
    "\n",
    "In most cases, numpy will choose a dtype automatically. The chosen dtype is the one compatible with all the elements of the array."
   ]
  },
  {
   "cell_type": "code",
   "execution_count": 3,
   "id": "6e03756f",
   "metadata": {},
   "outputs": [
    {
     "data": {
      "text/plain": [
       "dtype('int64')"
      ]
     },
     "execution_count": 3,
     "metadata": {},
     "output_type": "execute_result"
    }
   ],
   "source": [
    "np.array([1, 2, 3]).dtype"
   ]
  },
  {
   "cell_type": "markdown",
   "id": "a650d4f2",
   "metadata": {},
   "source": [
    "If one of the integer has a '.', Python thinks it's a float (even though decimal part is 0):"
   ]
  },
  {
   "cell_type": "code",
   "execution_count": 4,
   "id": "7e41f674",
   "metadata": {
    "scrolled": true
   },
   "outputs": [
    {
     "data": {
      "text/plain": [
       "dtype('float64')"
      ]
     },
     "execution_count": 4,
     "metadata": {},
     "output_type": "execute_result"
    }
   ],
   "source": [
    "np.array([1, 2, 3.]).dtype      "
   ]
  },
  {
   "cell_type": "markdown",
   "id": "45b7fbe7",
   "metadata": {},
   "source": [
    "If some non-numeric values exist, the dtype is non-numeric and mathematical operations are impossible:"
   ]
  },
  {
   "cell_type": "code",
   "execution_count": 5,
   "id": "71e3db7c",
   "metadata": {
    "scrolled": false
   },
   "outputs": [
    {
     "name": "stdout",
     "output_type": "stream",
     "text": [
      "<U21\n"
     ]
    },
    {
     "ename": "UFuncTypeError",
     "evalue": "ufunc 'add' did not contain a loop with signature matching types (dtype('<U21'), dtype('<U21')) -> None",
     "output_type": "error",
     "traceback": [
      "\u001b[0;31m---------------------------------------------------------------------------\u001b[0m",
      "\u001b[0;31mUFuncTypeError\u001b[0m                            Traceback (most recent call last)",
      "Cell \u001b[0;32mIn[5], line 3\u001b[0m\n\u001b[1;32m      1\u001b[0m arr \u001b[38;5;241m=\u001b[39m np\u001b[38;5;241m.\u001b[39marray([\u001b[38;5;124m'\u001b[39m\u001b[38;5;124mazerty\u001b[39m\u001b[38;5;124m'\u001b[39m, \u001b[38;5;241m45\u001b[39m, \u001b[38;5;241m98\u001b[39m])\n\u001b[1;32m      2\u001b[0m \u001b[38;5;28mprint\u001b[39m(arr\u001b[38;5;241m.\u001b[39mdtype)\n\u001b[0;32m----> 3\u001b[0m \u001b[43marr\u001b[49m\u001b[38;5;241;43m.\u001b[39;49m\u001b[43msum\u001b[49m\u001b[43m(\u001b[49m\u001b[43m)\u001b[49m\n",
      "File \u001b[0;32m~/Documents/5-Donnees_techniques/Python/310_base/lib/python3.10/site-packages/numpy/core/_methods.py:49\u001b[0m, in \u001b[0;36m_sum\u001b[0;34m(a, axis, dtype, out, keepdims, initial, where)\u001b[0m\n\u001b[1;32m     47\u001b[0m \u001b[38;5;28;01mdef\u001b[39;00m \u001b[38;5;21m_sum\u001b[39m(a, axis\u001b[38;5;241m=\u001b[39m\u001b[38;5;28;01mNone\u001b[39;00m, dtype\u001b[38;5;241m=\u001b[39m\u001b[38;5;28;01mNone\u001b[39;00m, out\u001b[38;5;241m=\u001b[39m\u001b[38;5;28;01mNone\u001b[39;00m, keepdims\u001b[38;5;241m=\u001b[39m\u001b[38;5;28;01mFalse\u001b[39;00m,\n\u001b[1;32m     48\u001b[0m          initial\u001b[38;5;241m=\u001b[39m_NoValue, where\u001b[38;5;241m=\u001b[39m\u001b[38;5;28;01mTrue\u001b[39;00m):\n\u001b[0;32m---> 49\u001b[0m     \u001b[38;5;28;01mreturn\u001b[39;00m \u001b[43mumr_sum\u001b[49m\u001b[43m(\u001b[49m\u001b[43ma\u001b[49m\u001b[43m,\u001b[49m\u001b[43m \u001b[49m\u001b[43maxis\u001b[49m\u001b[43m,\u001b[49m\u001b[43m \u001b[49m\u001b[43mdtype\u001b[49m\u001b[43m,\u001b[49m\u001b[43m \u001b[49m\u001b[43mout\u001b[49m\u001b[43m,\u001b[49m\u001b[43m \u001b[49m\u001b[43mkeepdims\u001b[49m\u001b[43m,\u001b[49m\u001b[43m \u001b[49m\u001b[43minitial\u001b[49m\u001b[43m,\u001b[49m\u001b[43m \u001b[49m\u001b[43mwhere\u001b[49m\u001b[43m)\u001b[49m\n",
      "\u001b[0;31mUFuncTypeError\u001b[0m: ufunc 'add' did not contain a loop with signature matching types (dtype('<U21'), dtype('<U21')) -> None"
     ]
    }
   ],
   "source": [
    "arr = np.array(['azerty', 45, 98])\n",
    "print(arr.dtype)\n",
    "arr.sum()"
   ]
  },
  {
   "cell_type": "markdown",
   "id": "9529fc5a",
   "metadata": {},
   "source": [
    "#### Change data type\n",
    "\n",
    "One can change the data type using `astype`, by specifying one of these:\n",
    "\n",
    "- a numpy dtype: object or string\n",
    "- a Python type for which equivalent dtype exists in `numpy`\n"
   ]
  },
  {
   "cell_type": "code",
   "execution_count": 12,
   "id": "05146011",
   "metadata": {
    "scrolled": true
   },
   "outputs": [
    {
     "name": "stdout",
     "output_type": "stream",
     "text": [
      "int64\n",
      "float64\n"
     ]
    }
   ],
   "source": [
    "arr = np.array([1, 2, 3])\n",
    "print(arr.dtype)\n",
    "arr = arr.astype(np.float_)   # numpy dtype, specified as an object\n",
    "print(arr.dtype)"
   ]
  },
  {
   "cell_type": "code",
   "execution_count": 11,
   "id": "b4b7df21",
   "metadata": {},
   "outputs": [
    {
     "name": "stdout",
     "output_type": "stream",
     "text": [
      "int64\n",
      "complex128\n"
     ]
    }
   ],
   "source": [
    "arr = arr.astype(int)         # python type\n",
    "print(arr.dtype)"
   ]
  },
  {
   "cell_type": "code",
   "execution_count": 13,
   "id": "49a72326",
   "metadata": {},
   "outputs": [
    {
     "name": "stdout",
     "output_type": "stream",
     "text": [
      "complex128\n"
     ]
    }
   ],
   "source": [
    "arr = arr.astype('complex')   # numpy dtype, specified as a string\n",
    "print(arr.dtype)"
   ]
  },
  {
   "cell_type": "markdown",
   "id": "7ab8caa4",
   "metadata": {},
   "source": [
    "Modifying the _dtype_ can change the data:"
   ]
  },
  {
   "cell_type": "code",
   "execution_count": 6,
   "id": "c1620fd5",
   "metadata": {},
   "outputs": [
    {
     "data": {
      "text/plain": [
       "array([1, 2, 3])"
      ]
     },
     "execution_count": 6,
     "metadata": {},
     "output_type": "execute_result"
    }
   ],
   "source": [
    "np.array([1, 2, 3.65]).astype(int)"
   ]
  },
  {
   "cell_type": "markdown",
   "id": "55cb7871",
   "metadata": {},
   "source": [
    "_casting_ is sometimes possible, for instance regarding boolean values:"
   ]
  },
  {
   "cell_type": "code",
   "execution_count": 18,
   "id": "efaafa67",
   "metadata": {},
   "outputs": [
    {
     "data": {
      "text/plain": [
       "array([ True,  True, False])"
      ]
     },
     "execution_count": 18,
     "metadata": {},
     "output_type": "execute_result"
    }
   ],
   "source": [
    "np.array([1, 2, 0]).astype(bool)"
   ]
  },
  {
   "cell_type": "markdown",
   "id": "c3b5ec55",
   "metadata": {},
   "source": [
    "## Working with `nan`\n",
    "\n",
    "### Definition\n",
    "\n",
    "`nan` means 'not a number'. A `nan` value (`np.nan`) is used to describe:\n",
    "\n",
    "- a missing or unknown value\n",
    "- the result of an impossible mathematical operation\n",
    "\n",
    "You must never deal with `np.nan` using equality tests (==): the preferred way is to use dedicated functions of `numpy`.\n",
    "\n",
    "### `nan` propagation\n",
    "\n",
    "As `np.inf` (infinite), `nan` values propagate in mathematical operations:"
   ]
  },
  {
   "cell_type": "code",
   "execution_count": 7,
   "id": "aec45e09",
   "metadata": {},
   "outputs": [
    {
     "data": {
      "text/plain": [
       "array([[ 0.,  1.,  2.,  3.],\n",
       "       [ 4.,  5., nan,  7.],\n",
       "       [ 8.,  9., 10., 11.],\n",
       "       [12., 13., 14., 15.]])"
      ]
     },
     "execution_count": 7,
     "metadata": {},
     "output_type": "execute_result"
    }
   ],
   "source": [
    "arr = np.arange(16).reshape((4,4)).astype(float)\n",
    "arr[1, 2] = np.nan\n",
    "arr"
   ]
  },
  {
   "cell_type": "code",
   "execution_count": 8,
   "id": "a18458b6",
   "metadata": {},
   "outputs": [
    {
     "data": {
      "text/plain": [
       "array([ 6., nan, 38., 54.])"
      ]
     },
     "execution_count": 8,
     "metadata": {},
     "output_type": "execute_result"
    }
   ],
   "source": [
    "arr.sum(axis=1)"
   ]
  },
  {
   "cell_type": "markdown",
   "id": "c7aa35ef",
   "metadata": {},
   "source": [
    "`numpy.isnan()` returns a boolean describing which value is a nan. With `numpy.where` replacement is possible:"
   ]
  },
  {
   "cell_type": "code",
   "execution_count": 9,
   "id": "bcb9e164",
   "metadata": {
    "scrolled": false
   },
   "outputs": [
    {
     "data": {
      "text/plain": [
       "array([ 6., 16., 38., 54.])"
      ]
     },
     "execution_count": 9,
     "metadata": {},
     "output_type": "execute_result"
    }
   ],
   "source": [
    "cond = np.isnan(arr)\n",
    "arr[cond] = 0\n",
    "arr.sum(axis=1)"
   ]
  }
 ],
 "metadata": {
  "kernelspec": {
   "display_name": "Python 3 (ipykernel)",
   "language": "python",
   "name": "python3"
  },
  "language_info": {
   "codemirror_mode": {
    "name": "ipython",
    "version": 3
   },
   "file_extension": ".py",
   "mimetype": "text/x-python",
   "name": "python",
   "nbconvert_exporter": "python",
   "pygments_lexer": "ipython3",
   "version": "3.10.12"
  }
 },
 "nbformat": 4,
 "nbformat_minor": 5
}
