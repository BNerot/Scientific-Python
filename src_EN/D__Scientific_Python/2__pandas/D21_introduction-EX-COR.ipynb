{
 "cells": [
  {
   "cell_type": "markdown",
   "id": "ff2f72a5",
   "metadata": {},
   "source": [
    "1. Create a DataFrame containing one row for you and one row for the colleague sitting next to you. There are 2 columns:\n",
    "\n",
    "- your size\n",
    "- your birth date\n",
    "\n",
    "    The name (of you or your colleague) is the index. \n",
    "    \n",
    "2. Check the data types. Are they ok?\n",
    "\n",
    "3. Access the birth date of the colleague using `loc`"
   ]
  },
  {
   "cell_type": "code",
   "execution_count": 19,
   "id": "292a50dc",
   "metadata": {},
   "outputs": [],
   "source": [
    "import pandas as pd\n",
    "\n",
    "df = pd.DataFrame(index=['me', 'colleague'], data={'size': [170, 190], 'birth date': ['03/09/2010', '04/01/2120']})"
   ]
  },
  {
   "cell_type": "code",
   "execution_count": 20,
   "id": "6a278a17",
   "metadata": {},
   "outputs": [
    {
     "data": {
      "text/plain": [
       "size           int64\n",
       "birth date    object\n",
       "dtype: object"
      ]
     },
     "execution_count": 20,
     "metadata": {},
     "output_type": "execute_result"
    }
   ],
   "source": [
    "df.dtypes"
   ]
  },
  {
   "cell_type": "code",
   "execution_count": 21,
   "id": "366cbda0",
   "metadata": {},
   "outputs": [],
   "source": [
    "df['birth date'] = pd.to_datetime(df['birth date'], dayfirst=True)"
   ]
  },
  {
   "cell_type": "code",
   "execution_count": 25,
   "id": "b01a53e9",
   "metadata": {},
   "outputs": [
    {
     "data": {
      "text/plain": [
       "Timestamp('2120-01-04 00:00:00')"
      ]
     },
     "execution_count": 25,
     "metadata": {},
     "output_type": "execute_result"
    }
   ],
   "source": [
    "df.loc['colleague', 'birth date']"
   ]
  }
 ],
 "metadata": {
  "kernelspec": {
   "display_name": "Python 3 (ipykernel)",
   "language": "python",
   "name": "python3"
  },
  "language_info": {
   "codemirror_mode": {
    "name": "ipython",
    "version": 3
   },
   "file_extension": ".py",
   "mimetype": "text/x-python",
   "name": "python",
   "nbconvert_exporter": "python",
   "pygments_lexer": "ipython3",
   "version": "3.10.12"
  }
 },
 "nbformat": 4,
 "nbformat_minor": 5
}
