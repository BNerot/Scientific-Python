{
 "cells": [
  {
   "cell_type": "markdown",
   "id": "ff2f72a5",
   "metadata": {},
   "source": [
    "1. Create a DataFrame containing one row for you and one row for the colleague sitting next to you. There are 2 columns:\n",
    "\n",
    "- your size\n",
    "- your birth date\n",
    "\n",
    "    The name (of you or your colleague) is the index. \n",
    "    \n",
    "2. Check the data types. Are they ok?\n",
    "\n",
    "3. Access the birth date of the colleague using `loc`"
   ]
  }
 ],
 "metadata": {
  "kernelspec": {
   "display_name": "Python 3 (ipykernel)",
   "language": "python",
   "name": "python3"
  },
  "language_info": {
   "codemirror_mode": {
    "name": "ipython",
    "version": 3
   },
   "file_extension": ".py",
   "mimetype": "text/x-python",
   "name": "python",
   "nbconvert_exporter": "python",
   "pygments_lexer": "ipython3",
   "version": "3.10.12"
  }
 },
 "nbformat": 4,
 "nbformat_minor": 5
}
