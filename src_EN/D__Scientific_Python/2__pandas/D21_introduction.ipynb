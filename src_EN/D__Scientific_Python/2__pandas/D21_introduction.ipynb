{
 "cells": [
  {
   "cell_type": "markdown",
   "id": "5c99f739",
   "metadata": {},
   "source": [
    "## Introduction\n",
    "\n",
    "### `numpy` limitations\n",
    "\n",
    "`numpy` does not allow to:\n",
    "\n",
    "- assign custom labels to data\n",
    "- perform common database-like operations\n",
    "- import/export easily data from the disk\n",
    "\n",
    "### About `pandas`\n",
    "\n",
    "`pandas` is a \"data analysis and manipulation tool\". In the backend, `pandas` relies on `numpy`, which makes it fast for many operations.\n",
    "\n",
    "`pandas` presents 2 different data containers:\n",
    "\n",
    "- `DataFrame`: similar to a 2D numpy array with:\n",
    "    \n",
    "    - rows and columns labels\n",
    "    - possibly heterogeneous data\n",
    "    \n",
    "- `Series`: similar to a 1D numpy array\n",
    "\n",
    "### `pandas` and notebooks\n",
    "\n",
    "`pandas` objets have a pretty representation in notebooks: instead of printing them, just call them as the last statement of the cell."
   ]
  },
  {
   "cell_type": "markdown",
   "id": "4cbfe34f",
   "metadata": {},
   "source": [
    "## Dataframe"
   ]
  },
  {
   "cell_type": "code",
   "execution_count": 1,
   "id": "938328dd",
   "metadata": {},
   "outputs": [],
   "source": [
    "import pandas as pd\n",
    "import numpy as np"
   ]
  },
  {
   "cell_type": "markdown",
   "id": "b546e93d",
   "metadata": {},
   "source": [
    "Dataframes can be built in several ways. For instance, using a dictionary:"
   ]
  },
  {
   "cell_type": "code",
   "execution_count": 2,
   "id": "d56ad21a",
   "metadata": {},
   "outputs": [
    {
     "data": {
      "text/html": [
       "<div>\n",
       "<style scoped>\n",
       "    .dataframe tbody tr th:only-of-type {\n",
       "        vertical-align: middle;\n",
       "    }\n",
       "\n",
       "    .dataframe tbody tr th {\n",
       "        vertical-align: top;\n",
       "    }\n",
       "\n",
       "    .dataframe thead th {\n",
       "        text-align: right;\n",
       "    }\n",
       "</style>\n",
       "<table border=\"1\" class=\"dataframe\">\n",
       "  <thead>\n",
       "    <tr style=\"text-align: right;\">\n",
       "      <th></th>\n",
       "      <th>Some integers</th>\n",
       "      <th>Some booleans</th>\n",
       "      <th>Some strings</th>\n",
       "    </tr>\n",
       "  </thead>\n",
       "  <tbody>\n",
       "    <tr>\n",
       "      <th>0</th>\n",
       "      <td>1</td>\n",
       "      <td>True</td>\n",
       "      <td>a</td>\n",
       "    </tr>\n",
       "    <tr>\n",
       "      <th>1</th>\n",
       "      <td>2</td>\n",
       "      <td>False</td>\n",
       "      <td>b</td>\n",
       "    </tr>\n",
       "    <tr>\n",
       "      <th>2</th>\n",
       "      <td>3</td>\n",
       "      <td>True</td>\n",
       "      <td>c</td>\n",
       "    </tr>\n",
       "  </tbody>\n",
       "</table>\n",
       "</div>"
      ],
      "text/plain": [
       "   Some integers  Some booleans Some strings\n",
       "0              1           True            a\n",
       "1              2          False            b\n",
       "2              3           True            c"
      ]
     },
     "execution_count": 2,
     "metadata": {},
     "output_type": "execute_result"
    }
   ],
   "source": [
    "data = {'Some integers': (1, 2, 3), 'Some booleans': (True, False, True), 'Some strings': ('a', 'b', 'c')}\n",
    "pd.DataFrame(data=data)"
   ]
  },
  {
   "cell_type": "markdown",
   "id": "de6bc000",
   "metadata": {},
   "source": [
    "Or an iterable:"
   ]
  },
  {
   "cell_type": "code",
   "execution_count": 3,
   "id": "596930ea",
   "metadata": {},
   "outputs": [
    {
     "data": {
      "text/html": [
       "<div>\n",
       "<style scoped>\n",
       "    .dataframe tbody tr th:only-of-type {\n",
       "        vertical-align: middle;\n",
       "    }\n",
       "\n",
       "    .dataframe tbody tr th {\n",
       "        vertical-align: top;\n",
       "    }\n",
       "\n",
       "    .dataframe thead th {\n",
       "        text-align: right;\n",
       "    }\n",
       "</style>\n",
       "<table border=\"1\" class=\"dataframe\">\n",
       "  <thead>\n",
       "    <tr style=\"text-align: right;\">\n",
       "      <th></th>\n",
       "      <th>Some integers</th>\n",
       "      <th>Some booleans</th>\n",
       "      <th>Some strings</th>\n",
       "    </tr>\n",
       "  </thead>\n",
       "  <tbody>\n",
       "    <tr>\n",
       "      <th>0</th>\n",
       "      <td>1</td>\n",
       "      <td>True</td>\n",
       "      <td>a</td>\n",
       "    </tr>\n",
       "    <tr>\n",
       "      <th>1</th>\n",
       "      <td>2</td>\n",
       "      <td>False</td>\n",
       "      <td>c</td>\n",
       "    </tr>\n",
       "    <tr>\n",
       "      <th>2</th>\n",
       "      <td>3</td>\n",
       "      <td>True</td>\n",
       "      <td>c</td>\n",
       "    </tr>\n",
       "  </tbody>\n",
       "</table>\n",
       "</div>"
      ],
      "text/plain": [
       "   Some integers  Some booleans Some strings\n",
       "0              1           True            a\n",
       "1              2          False            c\n",
       "2              3           True            c"
      ]
     },
     "execution_count": 3,
     "metadata": {},
     "output_type": "execute_result"
    }
   ],
   "source": [
    "data = ((1, True, 'a'), (2, False, 'c'), (3, True, 'c'))\n",
    "columns = ('Some integers', 'Some booleans', 'Some strings')\n",
    "pd.DataFrame(data=data, columns=columns)"
   ]
  },
  {
   "cell_type": "markdown",
   "id": "523ca743",
   "metadata": {},
   "source": [
    "One can notice an additional columns on the left side: this is __the index along axis 0__, or more simply \"index\". Index along axis 1 is also called \"columns\".\n",
    "\n",
    "One can specify the index values:"
   ]
  },
  {
   "cell_type": "code",
   "execution_count": 4,
   "id": "094617a7",
   "metadata": {},
   "outputs": [
    {
     "data": {
      "text/html": [
       "<div>\n",
       "<style scoped>\n",
       "    .dataframe tbody tr th:only-of-type {\n",
       "        vertical-align: middle;\n",
       "    }\n",
       "\n",
       "    .dataframe tbody tr th {\n",
       "        vertical-align: top;\n",
       "    }\n",
       "\n",
       "    .dataframe thead th {\n",
       "        text-align: right;\n",
       "    }\n",
       "</style>\n",
       "<table border=\"1\" class=\"dataframe\">\n",
       "  <thead>\n",
       "    <tr style=\"text-align: right;\">\n",
       "      <th></th>\n",
       "      <th>Some integers</th>\n",
       "      <th>Some booleans</th>\n",
       "      <th>Some strings</th>\n",
       "    </tr>\n",
       "  </thead>\n",
       "  <tbody>\n",
       "    <tr>\n",
       "      <th>first row</th>\n",
       "      <td>1</td>\n",
       "      <td>True</td>\n",
       "      <td>a</td>\n",
       "    </tr>\n",
       "    <tr>\n",
       "      <th>second row</th>\n",
       "      <td>2</td>\n",
       "      <td>False</td>\n",
       "      <td>b</td>\n",
       "    </tr>\n",
       "    <tr>\n",
       "      <th>third row</th>\n",
       "      <td>3</td>\n",
       "      <td>True</td>\n",
       "      <td>c</td>\n",
       "    </tr>\n",
       "  </tbody>\n",
       "</table>\n",
       "</div>"
      ],
      "text/plain": [
       "            Some integers  Some booleans Some strings\n",
       "first row               1           True            a\n",
       "second row              2          False            b\n",
       "third row               3           True            c"
      ]
     },
     "execution_count": 4,
     "metadata": {},
     "output_type": "execute_result"
    }
   ],
   "source": [
    "data = ((1, True, 'a'), (2, False, 'b'), (3, True, 'c'))\n",
    "columns = ('Some integers', 'Some booleans', 'Some strings')\n",
    "index = ('first row', 'second row', 'third row')\n",
    "df = pd.DataFrame(data=data, columns=columns, index=index)\n",
    "df"
   ]
  },
  {
   "cell_type": "markdown",
   "id": "6dae7362",
   "metadata": {},
   "source": [
    "## Series\n",
    "\n",
    "A `Series` object is similar to a `DataFrame` with one column. Instead of having 'columns', a `Series` has a `name` attribute."
   ]
  },
  {
   "cell_type": "code",
   "execution_count": 5,
   "id": "b81a2dd4",
   "metadata": {},
   "outputs": [
    {
     "data": {
      "text/plain": [
       "first row      True\n",
       "second row    False\n",
       "third row      True\n",
       "Name: Some booleans, dtype: bool"
      ]
     },
     "execution_count": 5,
     "metadata": {},
     "output_type": "execute_result"
    }
   ],
   "source": [
    "data = (True, False, True)\n",
    "pd.Series(data=data, name='Some booleans', index=index)"
   ]
  },
  {
   "cell_type": "markdown",
   "id": "145d2ca4",
   "metadata": {},
   "source": [
    "## Access data\n",
    "\n",
    "_note: explanations below are for `DataFrame`, but similar behaviour is observed for `Series`._\n",
    "\n",
    "One can access data in a `DataFrame` in 2 ways:\n",
    "\n",
    "- indexing: the same way one would do with a numpy array\n",
    "- using labels\n",
    "\n",
    "### Using indexing\n",
    "\n",
    "The important method is __`iloc`__, which is used using brackets `[]`:\n",
    "\n",
    "- first value selects along axis 0\n",
    "- second value selects along axis 1\n"
   ]
  },
  {
   "cell_type": "code",
   "execution_count": 6,
   "id": "e86cd9f7",
   "metadata": {},
   "outputs": [
    {
     "data": {
      "text/html": [
       "<div>\n",
       "<style scoped>\n",
       "    .dataframe tbody tr th:only-of-type {\n",
       "        vertical-align: middle;\n",
       "    }\n",
       "\n",
       "    .dataframe tbody tr th {\n",
       "        vertical-align: top;\n",
       "    }\n",
       "\n",
       "    .dataframe thead th {\n",
       "        text-align: right;\n",
       "    }\n",
       "</style>\n",
       "<table border=\"1\" class=\"dataframe\">\n",
       "  <thead>\n",
       "    <tr style=\"text-align: right;\">\n",
       "      <th></th>\n",
       "      <th>Some integers</th>\n",
       "      <th>Some booleans</th>\n",
       "      <th>Some strings</th>\n",
       "    </tr>\n",
       "  </thead>\n",
       "  <tbody>\n",
       "    <tr>\n",
       "      <th>first row</th>\n",
       "      <td>1</td>\n",
       "      <td>True</td>\n",
       "      <td>a</td>\n",
       "    </tr>\n",
       "    <tr>\n",
       "      <th>second row</th>\n",
       "      <td>2</td>\n",
       "      <td>False</td>\n",
       "      <td>b</td>\n",
       "    </tr>\n",
       "    <tr>\n",
       "      <th>third row</th>\n",
       "      <td>3</td>\n",
       "      <td>True</td>\n",
       "      <td>c</td>\n",
       "    </tr>\n",
       "  </tbody>\n",
       "</table>\n",
       "</div>"
      ],
      "text/plain": [
       "            Some integers  Some booleans Some strings\n",
       "first row               1           True            a\n",
       "second row              2          False            b\n",
       "third row               3           True            c"
      ]
     },
     "execution_count": 6,
     "metadata": {},
     "output_type": "execute_result"
    }
   ],
   "source": [
    "df"
   ]
  },
  {
   "cell_type": "code",
   "execution_count": 7,
   "id": "ba817b73",
   "metadata": {},
   "outputs": [
    {
     "data": {
      "text/plain": [
       "'b'"
      ]
     },
     "execution_count": 7,
     "metadata": {},
     "output_type": "execute_result"
    }
   ],
   "source": [
    "df.iloc[1, 2]"
   ]
  },
  {
   "cell_type": "markdown",
   "id": "484079d8",
   "metadata": {},
   "source": [
    "_slicing_ is also possible. Let's extract:\n",
    "\n",
    "- One row out of two from 0 to 3\n",
    "- The last two columns"
   ]
  },
  {
   "cell_type": "code",
   "execution_count": 8,
   "id": "7badb175",
   "metadata": {
    "scrolled": true
   },
   "outputs": [
    {
     "data": {
      "text/html": [
       "<div>\n",
       "<style scoped>\n",
       "    .dataframe tbody tr th:only-of-type {\n",
       "        vertical-align: middle;\n",
       "    }\n",
       "\n",
       "    .dataframe tbody tr th {\n",
       "        vertical-align: top;\n",
       "    }\n",
       "\n",
       "    .dataframe thead th {\n",
       "        text-align: right;\n",
       "    }\n",
       "</style>\n",
       "<table border=\"1\" class=\"dataframe\">\n",
       "  <thead>\n",
       "    <tr style=\"text-align: right;\">\n",
       "      <th></th>\n",
       "      <th>Some booleans</th>\n",
       "      <th>Some strings</th>\n",
       "    </tr>\n",
       "  </thead>\n",
       "  <tbody>\n",
       "    <tr>\n",
       "      <th>first row</th>\n",
       "      <td>True</td>\n",
       "      <td>a</td>\n",
       "    </tr>\n",
       "    <tr>\n",
       "      <th>third row</th>\n",
       "      <td>True</td>\n",
       "      <td>c</td>\n",
       "    </tr>\n",
       "  </tbody>\n",
       "</table>\n",
       "</div>"
      ],
      "text/plain": [
       "           Some booleans Some strings\n",
       "first row           True            a\n",
       "third row           True            c"
      ]
     },
     "execution_count": 8,
     "metadata": {},
     "output_type": "execute_result"
    }
   ],
   "source": [
    "df.iloc[0:3:2, -2:]"
   ]
  },
  {
   "cell_type": "markdown",
   "id": "5664fcd8",
   "metadata": {},
   "source": [
    "Another way is to specify directly a __list__ of indexes:"
   ]
  },
  {
   "cell_type": "code",
   "execution_count": 9,
   "id": "f730f575",
   "metadata": {},
   "outputs": [
    {
     "data": {
      "text/html": [
       "<div>\n",
       "<style scoped>\n",
       "    .dataframe tbody tr th:only-of-type {\n",
       "        vertical-align: middle;\n",
       "    }\n",
       "\n",
       "    .dataframe tbody tr th {\n",
       "        vertical-align: top;\n",
       "    }\n",
       "\n",
       "    .dataframe thead th {\n",
       "        text-align: right;\n",
       "    }\n",
       "</style>\n",
       "<table border=\"1\" class=\"dataframe\">\n",
       "  <thead>\n",
       "    <tr style=\"text-align: right;\">\n",
       "      <th></th>\n",
       "      <th>Some booleans</th>\n",
       "      <th>Some strings</th>\n",
       "    </tr>\n",
       "  </thead>\n",
       "  <tbody>\n",
       "    <tr>\n",
       "      <th>first row</th>\n",
       "      <td>True</td>\n",
       "      <td>a</td>\n",
       "    </tr>\n",
       "    <tr>\n",
       "      <th>third row</th>\n",
       "      <td>True</td>\n",
       "      <td>c</td>\n",
       "    </tr>\n",
       "  </tbody>\n",
       "</table>\n",
       "</div>"
      ],
      "text/plain": [
       "           Some booleans Some strings\n",
       "first row           True            a\n",
       "third row           True            c"
      ]
     },
     "execution_count": 9,
     "metadata": {},
     "output_type": "execute_result"
    }
   ],
   "source": [
    "df.iloc[[0, 2], [-2, -1]]"
   ]
  },
  {
   "cell_type": "markdown",
   "id": "5452d534",
   "metadata": {},
   "source": [
    "Or a boolean indexer:"
   ]
  },
  {
   "cell_type": "code",
   "execution_count": 10,
   "id": "98c4a4de",
   "metadata": {},
   "outputs": [
    {
     "data": {
      "text/html": [
       "<div>\n",
       "<style scoped>\n",
       "    .dataframe tbody tr th:only-of-type {\n",
       "        vertical-align: middle;\n",
       "    }\n",
       "\n",
       "    .dataframe tbody tr th {\n",
       "        vertical-align: top;\n",
       "    }\n",
       "\n",
       "    .dataframe thead th {\n",
       "        text-align: right;\n",
       "    }\n",
       "</style>\n",
       "<table border=\"1\" class=\"dataframe\">\n",
       "  <thead>\n",
       "    <tr style=\"text-align: right;\">\n",
       "      <th></th>\n",
       "      <th>Some booleans</th>\n",
       "      <th>Some strings</th>\n",
       "    </tr>\n",
       "  </thead>\n",
       "  <tbody>\n",
       "    <tr>\n",
       "      <th>first row</th>\n",
       "      <td>True</td>\n",
       "      <td>a</td>\n",
       "    </tr>\n",
       "    <tr>\n",
       "      <th>third row</th>\n",
       "      <td>True</td>\n",
       "      <td>c</td>\n",
       "    </tr>\n",
       "  </tbody>\n",
       "</table>\n",
       "</div>"
      ],
      "text/plain": [
       "           Some booleans Some strings\n",
       "first row           True            a\n",
       "third row           True            c"
      ]
     },
     "execution_count": 10,
     "metadata": {},
     "output_type": "execute_result"
    }
   ],
   "source": [
    "df.iloc[[True, False, True], [False, True, True]]"
   ]
  },
  {
   "cell_type": "markdown",
   "id": "89d09c1a",
   "metadata": {},
   "source": [
    "Beware! The type of returned object depend on the way indexing is done:"
   ]
  },
  {
   "cell_type": "code",
   "execution_count": 11,
   "id": "7a380a5c",
   "metadata": {},
   "outputs": [
    {
     "name": "stdout",
     "output_type": "stream",
     "text": [
      "<class 'pandas.core.frame.DataFrame'>\n"
     ]
    }
   ],
   "source": [
    "print(type(df.iloc[0:3:2, -1:]))    # every column from -1 to the end --> DataFrame"
   ]
  },
  {
   "cell_type": "code",
   "execution_count": 12,
   "id": "57d6bb91",
   "metadata": {},
   "outputs": [
    {
     "name": "stdout",
     "output_type": "stream",
     "text": [
      "<class 'pandas.core.series.Series'>\n"
     ]
    }
   ],
   "source": [
    "print(type(df.iloc[0:3:2, -1]))    # specifically the last column --> Series"
   ]
  },
  {
   "cell_type": "code",
   "execution_count": 13,
   "id": "9bd9dd38",
   "metadata": {},
   "outputs": [
    {
     "name": "stdout",
     "output_type": "stream",
     "text": [
      "<class 'pandas.core.frame.DataFrame'>\n"
     ]
    }
   ],
   "source": [
    "print(type(df.iloc[0:3:2, [-1]]))    # the columns specified by one-element list --> DataFrame"
   ]
  },
  {
   "cell_type": "markdown",
   "id": "782fa08f",
   "metadata": {},
   "source": [
    "As with `numpy`, `:` is used to get all the data along a specific axis:"
   ]
  },
  {
   "cell_type": "code",
   "execution_count": 14,
   "id": "c68af1e4",
   "metadata": {},
   "outputs": [
    {
     "data": {
      "text/html": [
       "<div>\n",
       "<style scoped>\n",
       "    .dataframe tbody tr th:only-of-type {\n",
       "        vertical-align: middle;\n",
       "    }\n",
       "\n",
       "    .dataframe tbody tr th {\n",
       "        vertical-align: top;\n",
       "    }\n",
       "\n",
       "    .dataframe thead th {\n",
       "        text-align: right;\n",
       "    }\n",
       "</style>\n",
       "<table border=\"1\" class=\"dataframe\">\n",
       "  <thead>\n",
       "    <tr style=\"text-align: right;\">\n",
       "      <th></th>\n",
       "      <th>Some booleans</th>\n",
       "      <th>Some strings</th>\n",
       "    </tr>\n",
       "  </thead>\n",
       "  <tbody>\n",
       "    <tr>\n",
       "      <th>first row</th>\n",
       "      <td>True</td>\n",
       "      <td>a</td>\n",
       "    </tr>\n",
       "    <tr>\n",
       "      <th>second row</th>\n",
       "      <td>False</td>\n",
       "      <td>b</td>\n",
       "    </tr>\n",
       "    <tr>\n",
       "      <th>third row</th>\n",
       "      <td>True</td>\n",
       "      <td>c</td>\n",
       "    </tr>\n",
       "  </tbody>\n",
       "</table>\n",
       "</div>"
      ],
      "text/plain": [
       "            Some booleans Some strings\n",
       "first row            True            a\n",
       "second row          False            b\n",
       "third row            True            c"
      ]
     },
     "execution_count": 14,
     "metadata": {},
     "output_type": "execute_result"
    }
   ],
   "source": [
    "df.iloc[:, [-2, -1]]"
   ]
  },
  {
   "cell_type": "markdown",
   "id": "7312d023",
   "metadata": {},
   "source": [
    "For columns (axis 1), one can also undefine the index in order to get all data."
   ]
  },
  {
   "cell_type": "code",
   "execution_count": 15,
   "id": "40e8f2b9",
   "metadata": {},
   "outputs": [
    {
     "data": {
      "text/html": [
       "<div>\n",
       "<style scoped>\n",
       "    .dataframe tbody tr th:only-of-type {\n",
       "        vertical-align: middle;\n",
       "    }\n",
       "\n",
       "    .dataframe tbody tr th {\n",
       "        vertical-align: top;\n",
       "    }\n",
       "\n",
       "    .dataframe thead th {\n",
       "        text-align: right;\n",
       "    }\n",
       "</style>\n",
       "<table border=\"1\" class=\"dataframe\">\n",
       "  <thead>\n",
       "    <tr style=\"text-align: right;\">\n",
       "      <th></th>\n",
       "      <th>Some integers</th>\n",
       "      <th>Some booleans</th>\n",
       "      <th>Some strings</th>\n",
       "    </tr>\n",
       "  </thead>\n",
       "  <tbody>\n",
       "    <tr>\n",
       "      <th>first row</th>\n",
       "      <td>1</td>\n",
       "      <td>True</td>\n",
       "      <td>a</td>\n",
       "    </tr>\n",
       "    <tr>\n",
       "      <th>third row</th>\n",
       "      <td>3</td>\n",
       "      <td>True</td>\n",
       "      <td>c</td>\n",
       "    </tr>\n",
       "  </tbody>\n",
       "</table>\n",
       "</div>"
      ],
      "text/plain": [
       "           Some integers  Some booleans Some strings\n",
       "first row              1           True            a\n",
       "third row              3           True            c"
      ]
     },
     "execution_count": 15,
     "metadata": {},
     "output_type": "execute_result"
    }
   ],
   "source": [
    "df.iloc[[0, 2]]"
   ]
  },
  {
   "cell_type": "markdown",
   "id": "c9674c84",
   "metadata": {},
   "source": [
    "### Using labels"
   ]
  },
  {
   "cell_type": "markdown",
   "id": "1b9f30d7",
   "metadata": {},
   "source": [
    "Similarly to `iloc`, `loc` allows to access elements using their labels:"
   ]
  },
  {
   "cell_type": "code",
   "execution_count": 16,
   "id": "7884335f",
   "metadata": {},
   "outputs": [
    {
     "data": {
      "text/html": [
       "<div>\n",
       "<style scoped>\n",
       "    .dataframe tbody tr th:only-of-type {\n",
       "        vertical-align: middle;\n",
       "    }\n",
       "\n",
       "    .dataframe tbody tr th {\n",
       "        vertical-align: top;\n",
       "    }\n",
       "\n",
       "    .dataframe thead th {\n",
       "        text-align: right;\n",
       "    }\n",
       "</style>\n",
       "<table border=\"1\" class=\"dataframe\">\n",
       "  <thead>\n",
       "    <tr style=\"text-align: right;\">\n",
       "      <th></th>\n",
       "      <th>Some integers</th>\n",
       "      <th>Some booleans</th>\n",
       "      <th>Some strings</th>\n",
       "    </tr>\n",
       "  </thead>\n",
       "  <tbody>\n",
       "    <tr>\n",
       "      <th>first row</th>\n",
       "      <td>1</td>\n",
       "      <td>True</td>\n",
       "      <td>a</td>\n",
       "    </tr>\n",
       "    <tr>\n",
       "      <th>second row</th>\n",
       "      <td>2</td>\n",
       "      <td>False</td>\n",
       "      <td>b</td>\n",
       "    </tr>\n",
       "    <tr>\n",
       "      <th>third row</th>\n",
       "      <td>3</td>\n",
       "      <td>True</td>\n",
       "      <td>c</td>\n",
       "    </tr>\n",
       "  </tbody>\n",
       "</table>\n",
       "</div>"
      ],
      "text/plain": [
       "            Some integers  Some booleans Some strings\n",
       "first row               1           True            a\n",
       "second row              2          False            b\n",
       "third row               3           True            c"
      ]
     },
     "execution_count": 16,
     "metadata": {},
     "output_type": "execute_result"
    }
   ],
   "source": [
    "df"
   ]
  },
  {
   "cell_type": "code",
   "execution_count": 17,
   "id": "e53ab716",
   "metadata": {},
   "outputs": [
    {
     "data": {
      "text/plain": [
       "'a'"
      ]
     },
     "execution_count": 17,
     "metadata": {},
     "output_type": "execute_result"
    }
   ],
   "source": [
    "df.loc['first row', 'Some strings']"
   ]
  },
  {
   "cell_type": "code",
   "execution_count": 18,
   "id": "dbbcc3b7",
   "metadata": {
    "scrolled": true
   },
   "outputs": [
    {
     "data": {
      "text/plain": [
       "first row    a\n",
       "third row    c\n",
       "Name: Some strings, dtype: object"
      ]
     },
     "execution_count": 18,
     "metadata": {},
     "output_type": "execute_result"
    }
   ],
   "source": [
    "df.loc[['first row', 'third row'], 'Some strings']"
   ]
  },
  {
   "cell_type": "markdown",
   "id": "98f3511c",
   "metadata": {},
   "source": [
    "If axis=0 does not matter, simple brackets `[]` can be used to access columns. \n",
    "\n",
    "Hereafter, the two solutions are equivalent:"
   ]
  },
  {
   "cell_type": "code",
   "execution_count": 19,
   "id": "b48db4ea",
   "metadata": {
    "scrolled": true
   },
   "outputs": [
    {
     "data": {
      "text/html": [
       "<div>\n",
       "<style scoped>\n",
       "    .dataframe tbody tr th:only-of-type {\n",
       "        vertical-align: middle;\n",
       "    }\n",
       "\n",
       "    .dataframe tbody tr th {\n",
       "        vertical-align: top;\n",
       "    }\n",
       "\n",
       "    .dataframe thead th {\n",
       "        text-align: right;\n",
       "    }\n",
       "</style>\n",
       "<table border=\"1\" class=\"dataframe\">\n",
       "  <thead>\n",
       "    <tr style=\"text-align: right;\">\n",
       "      <th></th>\n",
       "      <th>Some booleans</th>\n",
       "      <th>Some strings</th>\n",
       "    </tr>\n",
       "  </thead>\n",
       "  <tbody>\n",
       "    <tr>\n",
       "      <th>first row</th>\n",
       "      <td>True</td>\n",
       "      <td>a</td>\n",
       "    </tr>\n",
       "    <tr>\n",
       "      <th>second row</th>\n",
       "      <td>False</td>\n",
       "      <td>b</td>\n",
       "    </tr>\n",
       "    <tr>\n",
       "      <th>third row</th>\n",
       "      <td>True</td>\n",
       "      <td>c</td>\n",
       "    </tr>\n",
       "  </tbody>\n",
       "</table>\n",
       "</div>"
      ],
      "text/plain": [
       "            Some booleans Some strings\n",
       "first row            True            a\n",
       "second row          False            b\n",
       "third row            True            c"
      ]
     },
     "execution_count": 19,
     "metadata": {},
     "output_type": "execute_result"
    }
   ],
   "source": [
    "df.loc[:, ['Some booleans', 'Some strings']]\n",
    "df[['Some booleans', 'Some strings']]"
   ]
  },
  {
   "cell_type": "markdown",
   "id": "6f614d7a",
   "metadata": {},
   "source": [
    "Note: to modify a value, one must __always__ :\n",
    "\n",
    "- use `loc` or `iloc` \n",
    "- specify the 2 coordinates in a single call.\n",
    "\n",
    "    Else, a _warning_ is raised."
   ]
  },
  {
   "cell_type": "code",
   "execution_count": 20,
   "id": "c6e8babb",
   "metadata": {},
   "outputs": [
    {
     "data": {
      "text/html": [
       "<div>\n",
       "<style scoped>\n",
       "    .dataframe tbody tr th:only-of-type {\n",
       "        vertical-align: middle;\n",
       "    }\n",
       "\n",
       "    .dataframe tbody tr th {\n",
       "        vertical-align: top;\n",
       "    }\n",
       "\n",
       "    .dataframe thead th {\n",
       "        text-align: right;\n",
       "    }\n",
       "</style>\n",
       "<table border=\"1\" class=\"dataframe\">\n",
       "  <thead>\n",
       "    <tr style=\"text-align: right;\">\n",
       "      <th></th>\n",
       "      <th>Some integers</th>\n",
       "      <th>Some booleans</th>\n",
       "      <th>Some strings</th>\n",
       "    </tr>\n",
       "  </thead>\n",
       "  <tbody>\n",
       "    <tr>\n",
       "      <th>first row</th>\n",
       "      <td>42</td>\n",
       "      <td>True</td>\n",
       "      <td>a</td>\n",
       "    </tr>\n",
       "    <tr>\n",
       "      <th>second row</th>\n",
       "      <td>2</td>\n",
       "      <td>False</td>\n",
       "      <td>b</td>\n",
       "    </tr>\n",
       "    <tr>\n",
       "      <th>third row</th>\n",
       "      <td>3</td>\n",
       "      <td>True</td>\n",
       "      <td>c</td>\n",
       "    </tr>\n",
       "  </tbody>\n",
       "</table>\n",
       "</div>"
      ],
      "text/plain": [
       "            Some integers  Some booleans Some strings\n",
       "first row              42           True            a\n",
       "second row              2          False            b\n",
       "third row               3           True            c"
      ]
     },
     "execution_count": 20,
     "metadata": {},
     "output_type": "execute_result"
    }
   ],
   "source": [
    "df.loc['first row', 'Some integers'] = 42\n",
    "df"
   ]
  },
  {
   "cell_type": "code",
   "execution_count": 21,
   "id": "0490cd62",
   "metadata": {},
   "outputs": [
    {
     "name": "stderr",
     "output_type": "stream",
     "text": [
      "/tmp/ipykernel_73600/3522855576.py:1: SettingWithCopyWarning: \n",
      "A value is trying to be set on a copy of a slice from a DataFrame\n",
      "\n",
      "See the caveats in the documentation: https://pandas.pydata.org/pandas-docs/stable/user_guide/indexing.html#returning-a-view-versus-a-copy\n",
      "  df.loc['third row'].iloc[2] = 'new_string'   # warning is raised\n"
     ]
    },
    {
     "data": {
      "text/html": [
       "<div>\n",
       "<style scoped>\n",
       "    .dataframe tbody tr th:only-of-type {\n",
       "        vertical-align: middle;\n",
       "    }\n",
       "\n",
       "    .dataframe tbody tr th {\n",
       "        vertical-align: top;\n",
       "    }\n",
       "\n",
       "    .dataframe thead th {\n",
       "        text-align: right;\n",
       "    }\n",
       "</style>\n",
       "<table border=\"1\" class=\"dataframe\">\n",
       "  <thead>\n",
       "    <tr style=\"text-align: right;\">\n",
       "      <th></th>\n",
       "      <th>Some integers</th>\n",
       "      <th>Some booleans</th>\n",
       "      <th>Some strings</th>\n",
       "    </tr>\n",
       "  </thead>\n",
       "  <tbody>\n",
       "    <tr>\n",
       "      <th>first row</th>\n",
       "      <td>42</td>\n",
       "      <td>True</td>\n",
       "      <td>a</td>\n",
       "    </tr>\n",
       "    <tr>\n",
       "      <th>second row</th>\n",
       "      <td>2</td>\n",
       "      <td>False</td>\n",
       "      <td>b</td>\n",
       "    </tr>\n",
       "    <tr>\n",
       "      <th>third row</th>\n",
       "      <td>3</td>\n",
       "      <td>True</td>\n",
       "      <td>c</td>\n",
       "    </tr>\n",
       "  </tbody>\n",
       "</table>\n",
       "</div>"
      ],
      "text/plain": [
       "            Some integers  Some booleans Some strings\n",
       "first row              42           True            a\n",
       "second row              2          False            b\n",
       "third row               3           True            c"
      ]
     },
     "execution_count": 21,
     "metadata": {},
     "output_type": "execute_result"
    }
   ],
   "source": [
    "df.loc['third row'].iloc[2] = 'new_string'   # warning is raised\n",
    "df"
   ]
  },
  {
   "cell_type": "markdown",
   "id": "c1c2bf01",
   "metadata": {},
   "source": [
    "## Modify index\n",
    "\n",
    "\n",
    "### From existing data\n",
    "\n",
    "`set_index` method replaces the current index with a columns of the DataFrame and then:\n",
    "    \n",
    "- deletes the column if `drop` = True (defaut)\n",
    "- keeps the column if `drop` = False\n",
    "    "
   ]
  },
  {
   "cell_type": "code",
   "execution_count": 22,
   "id": "dbafe01f",
   "metadata": {
    "scrolled": true
   },
   "outputs": [
    {
     "data": {
      "text/html": [
       "<div>\n",
       "<style scoped>\n",
       "    .dataframe tbody tr th:only-of-type {\n",
       "        vertical-align: middle;\n",
       "    }\n",
       "\n",
       "    .dataframe tbody tr th {\n",
       "        vertical-align: top;\n",
       "    }\n",
       "\n",
       "    .dataframe thead th {\n",
       "        text-align: right;\n",
       "    }\n",
       "</style>\n",
       "<table border=\"1\" class=\"dataframe\">\n",
       "  <thead>\n",
       "    <tr style=\"text-align: right;\">\n",
       "      <th></th>\n",
       "      <th>Some integers</th>\n",
       "      <th>Some booleans</th>\n",
       "      <th>Some strings</th>\n",
       "    </tr>\n",
       "  </thead>\n",
       "  <tbody>\n",
       "    <tr>\n",
       "      <th>first row</th>\n",
       "      <td>42</td>\n",
       "      <td>True</td>\n",
       "      <td>a</td>\n",
       "    </tr>\n",
       "    <tr>\n",
       "      <th>second row</th>\n",
       "      <td>2</td>\n",
       "      <td>False</td>\n",
       "      <td>b</td>\n",
       "    </tr>\n",
       "    <tr>\n",
       "      <th>third row</th>\n",
       "      <td>3</td>\n",
       "      <td>True</td>\n",
       "      <td>c</td>\n",
       "    </tr>\n",
       "  </tbody>\n",
       "</table>\n",
       "</div>"
      ],
      "text/plain": [
       "            Some integers  Some booleans Some strings\n",
       "first row              42           True            a\n",
       "second row              2          False            b\n",
       "third row               3           True            c"
      ]
     },
     "execution_count": 22,
     "metadata": {},
     "output_type": "execute_result"
    }
   ],
   "source": [
    "df"
   ]
  },
  {
   "cell_type": "code",
   "execution_count": 23,
   "id": "3cc84609",
   "metadata": {},
   "outputs": [
    {
     "data": {
      "text/html": [
       "<div>\n",
       "<style scoped>\n",
       "    .dataframe tbody tr th:only-of-type {\n",
       "        vertical-align: middle;\n",
       "    }\n",
       "\n",
       "    .dataframe tbody tr th {\n",
       "        vertical-align: top;\n",
       "    }\n",
       "\n",
       "    .dataframe thead th {\n",
       "        text-align: right;\n",
       "    }\n",
       "</style>\n",
       "<table border=\"1\" class=\"dataframe\">\n",
       "  <thead>\n",
       "    <tr style=\"text-align: right;\">\n",
       "      <th></th>\n",
       "      <th>Some integers</th>\n",
       "      <th>Some booleans</th>\n",
       "      <th>Some strings</th>\n",
       "    </tr>\n",
       "    <tr>\n",
       "      <th>Some booleans</th>\n",
       "      <th></th>\n",
       "      <th></th>\n",
       "      <th></th>\n",
       "    </tr>\n",
       "  </thead>\n",
       "  <tbody>\n",
       "    <tr>\n",
       "      <th>True</th>\n",
       "      <td>42</td>\n",
       "      <td>True</td>\n",
       "      <td>a</td>\n",
       "    </tr>\n",
       "    <tr>\n",
       "      <th>False</th>\n",
       "      <td>2</td>\n",
       "      <td>False</td>\n",
       "      <td>b</td>\n",
       "    </tr>\n",
       "    <tr>\n",
       "      <th>True</th>\n",
       "      <td>3</td>\n",
       "      <td>True</td>\n",
       "      <td>c</td>\n",
       "    </tr>\n",
       "  </tbody>\n",
       "</table>\n",
       "</div>"
      ],
      "text/plain": [
       "               Some integers  Some booleans Some strings\n",
       "Some booleans                                           \n",
       "True                      42           True            a\n",
       "False                      2          False            b\n",
       "True                       3           True            c"
      ]
     },
     "execution_count": 23,
     "metadata": {},
     "output_type": "execute_result"
    }
   ],
   "source": [
    "df.set_index('Some booleans', drop=False)"
   ]
  },
  {
   "cell_type": "code",
   "execution_count": 24,
   "id": "c65fd271",
   "metadata": {
    "scrolled": true
   },
   "outputs": [
    {
     "data": {
      "text/html": [
       "<div>\n",
       "<style scoped>\n",
       "    .dataframe tbody tr th:only-of-type {\n",
       "        vertical-align: middle;\n",
       "    }\n",
       "\n",
       "    .dataframe tbody tr th {\n",
       "        vertical-align: top;\n",
       "    }\n",
       "\n",
       "    .dataframe thead th {\n",
       "        text-align: right;\n",
       "    }\n",
       "</style>\n",
       "<table border=\"1\" class=\"dataframe\">\n",
       "  <thead>\n",
       "    <tr style=\"text-align: right;\">\n",
       "      <th></th>\n",
       "      <th>Some integers</th>\n",
       "      <th>Some strings</th>\n",
       "    </tr>\n",
       "    <tr>\n",
       "      <th>Some booleans</th>\n",
       "      <th></th>\n",
       "      <th></th>\n",
       "    </tr>\n",
       "  </thead>\n",
       "  <tbody>\n",
       "    <tr>\n",
       "      <th>True</th>\n",
       "      <td>42</td>\n",
       "      <td>a</td>\n",
       "    </tr>\n",
       "    <tr>\n",
       "      <th>False</th>\n",
       "      <td>2</td>\n",
       "      <td>b</td>\n",
       "    </tr>\n",
       "    <tr>\n",
       "      <th>True</th>\n",
       "      <td>3</td>\n",
       "      <td>c</td>\n",
       "    </tr>\n",
       "  </tbody>\n",
       "</table>\n",
       "</div>"
      ],
      "text/plain": [
       "               Some integers Some strings\n",
       "Some booleans                            \n",
       "True                      42            a\n",
       "False                      2            b\n",
       "True                       3            c"
      ]
     },
     "execution_count": 24,
     "metadata": {},
     "output_type": "execute_result"
    }
   ],
   "source": [
    "df.set_index('Some booleans')"
   ]
  },
  {
   "cell_type": "markdown",
   "id": "f5706437",
   "metadata": {},
   "source": [
    "### Using integers\n",
    "\n",
    "`reset_index` method replaces the current index by integers. It:\n",
    "\n",
    "- deletes the current index if `drop` = True (defaut)\n",
    "- keeps the current index as a column if `drop` = False"
   ]
  },
  {
   "cell_type": "code",
   "execution_count": 25,
   "id": "803e3c17",
   "metadata": {},
   "outputs": [
    {
     "data": {
      "text/html": [
       "<div>\n",
       "<style scoped>\n",
       "    .dataframe tbody tr th:only-of-type {\n",
       "        vertical-align: middle;\n",
       "    }\n",
       "\n",
       "    .dataframe tbody tr th {\n",
       "        vertical-align: top;\n",
       "    }\n",
       "\n",
       "    .dataframe thead th {\n",
       "        text-align: right;\n",
       "    }\n",
       "</style>\n",
       "<table border=\"1\" class=\"dataframe\">\n",
       "  <thead>\n",
       "    <tr style=\"text-align: right;\">\n",
       "      <th></th>\n",
       "      <th>index</th>\n",
       "      <th>Some integers</th>\n",
       "      <th>Some booleans</th>\n",
       "      <th>Some strings</th>\n",
       "    </tr>\n",
       "  </thead>\n",
       "  <tbody>\n",
       "    <tr>\n",
       "      <th>0</th>\n",
       "      <td>first row</td>\n",
       "      <td>42</td>\n",
       "      <td>True</td>\n",
       "      <td>a</td>\n",
       "    </tr>\n",
       "    <tr>\n",
       "      <th>1</th>\n",
       "      <td>second row</td>\n",
       "      <td>2</td>\n",
       "      <td>False</td>\n",
       "      <td>b</td>\n",
       "    </tr>\n",
       "    <tr>\n",
       "      <th>2</th>\n",
       "      <td>third row</td>\n",
       "      <td>3</td>\n",
       "      <td>True</td>\n",
       "      <td>c</td>\n",
       "    </tr>\n",
       "  </tbody>\n",
       "</table>\n",
       "</div>"
      ],
      "text/plain": [
       "        index  Some integers  Some booleans Some strings\n",
       "0   first row             42           True            a\n",
       "1  second row              2          False            b\n",
       "2   third row              3           True            c"
      ]
     },
     "execution_count": 25,
     "metadata": {},
     "output_type": "execute_result"
    }
   ],
   "source": [
    "df.reset_index(drop=False)"
   ]
  },
  {
   "cell_type": "markdown",
   "id": "c50962a3",
   "metadata": {},
   "source": [
    "Si l'index avait un nom, la colonne résultante porte son nom."
   ]
  },
  {
   "cell_type": "code",
   "execution_count": 26,
   "id": "7f5c7dae",
   "metadata": {},
   "outputs": [
    {
     "data": {
      "text/html": [
       "<div>\n",
       "<style scoped>\n",
       "    .dataframe tbody tr th:only-of-type {\n",
       "        vertical-align: middle;\n",
       "    }\n",
       "\n",
       "    .dataframe tbody tr th {\n",
       "        vertical-align: top;\n",
       "    }\n",
       "\n",
       "    .dataframe thead th {\n",
       "        text-align: right;\n",
       "    }\n",
       "</style>\n",
       "<table border=\"1\" class=\"dataframe\">\n",
       "  <thead>\n",
       "    <tr style=\"text-align: right;\">\n",
       "      <th></th>\n",
       "      <th>my_index</th>\n",
       "      <th>Some integers</th>\n",
       "      <th>Some booleans</th>\n",
       "      <th>Some strings</th>\n",
       "    </tr>\n",
       "  </thead>\n",
       "  <tbody>\n",
       "    <tr>\n",
       "      <th>0</th>\n",
       "      <td>first row</td>\n",
       "      <td>42</td>\n",
       "      <td>True</td>\n",
       "      <td>a</td>\n",
       "    </tr>\n",
       "    <tr>\n",
       "      <th>1</th>\n",
       "      <td>second row</td>\n",
       "      <td>2</td>\n",
       "      <td>False</td>\n",
       "      <td>b</td>\n",
       "    </tr>\n",
       "    <tr>\n",
       "      <th>2</th>\n",
       "      <td>third row</td>\n",
       "      <td>3</td>\n",
       "      <td>True</td>\n",
       "      <td>c</td>\n",
       "    </tr>\n",
       "  </tbody>\n",
       "</table>\n",
       "</div>"
      ],
      "text/plain": [
       "     my_index  Some integers  Some booleans Some strings\n",
       "0   first row             42           True            a\n",
       "1  second row              2          False            b\n",
       "2   third row              3           True            c"
      ]
     },
     "execution_count": 26,
     "metadata": {},
     "output_type": "execute_result"
    }
   ],
   "source": [
    "df.index.name = 'my_index'\n",
    "df.reset_index(drop=False)"
   ]
  },
  {
   "cell_type": "markdown",
   "id": "c5ce9915",
   "metadata": {},
   "source": [
    "## Iteration\n",
    "\n",
    "Iteration over a dataframe is pretty slow but still made possible using dedicated methods:\n",
    "\n",
    "### Over rows\n",
    "\n",
    "The `iterrows` method is used to iterate over rows, including index."
   ]
  },
  {
   "cell_type": "code",
   "execution_count": 27,
   "id": "3b8342b4",
   "metadata": {},
   "outputs": [
    {
     "name": "stdout",
     "output_type": "stream",
     "text": [
      "first row 42 a\n",
      "second row 2 b\n",
      "third row 3 c\n"
     ]
    }
   ],
   "source": [
    "for index_value, (integer, string) in df[['Some integers', 'Some strings']].iterrows():\n",
    "    print(index_value, integer, string)"
   ]
  },
  {
   "cell_type": "markdown",
   "id": "a090bcaf",
   "metadata": {},
   "source": [
    "### Over columns\n",
    "\n",
    "Let's use `itertuples`.At each iteration, this method returns:\n",
    "\n",
    "- the column name\n",
    "- the column data as a `Series` instance \n",
    "\n"
   ]
  },
  {
   "cell_type": "code",
   "execution_count": 28,
   "id": "a91b1e8f",
   "metadata": {},
   "outputs": [
    {
     "name": "stdout",
     "output_type": "stream",
     "text": [
      "Some integers \n",
      "\n",
      " my_index\n",
      "first row     42\n",
      "second row     2\n",
      "third row      3\n",
      "Name: Some integers, dtype: int64\n",
      "Some strings \n",
      "\n",
      " my_index\n",
      "first row     a\n",
      "second row    b\n",
      "third row     c\n",
      "Name: Some strings, dtype: object\n"
     ]
    }
   ],
   "source": [
    "for column_name, column in df[['Some integers', 'Some strings']].items():\n",
    "    print(column_name, '\\n\\n', column)"
   ]
  },
  {
   "cell_type": "markdown",
   "id": "31a3175d",
   "metadata": {},
   "source": [
    "## Basic operations\n"
   ]
  },
  {
   "cell_type": "markdown",
   "id": "098c1b49",
   "metadata": {},
   "source": [
    "### Similar to `numpy`\n",
    "\n",
    "__Many `numpy` operations are similar with `pandas`.__ "
   ]
  },
  {
   "cell_type": "code",
   "execution_count": 29,
   "id": "90ad8bb6",
   "metadata": {},
   "outputs": [
    {
     "data": {
      "text/html": [
       "<div>\n",
       "<style scoped>\n",
       "    .dataframe tbody tr th:only-of-type {\n",
       "        vertical-align: middle;\n",
       "    }\n",
       "\n",
       "    .dataframe tbody tr th {\n",
       "        vertical-align: top;\n",
       "    }\n",
       "\n",
       "    .dataframe thead th {\n",
       "        text-align: right;\n",
       "    }\n",
       "</style>\n",
       "<table border=\"1\" class=\"dataframe\">\n",
       "  <thead>\n",
       "    <tr style=\"text-align: right;\">\n",
       "      <th></th>\n",
       "      <th>A</th>\n",
       "      <th>B</th>\n",
       "      <th>C</th>\n",
       "      <th>D</th>\n",
       "    </tr>\n",
       "  </thead>\n",
       "  <tbody>\n",
       "    <tr>\n",
       "      <th>0</th>\n",
       "      <td>0</td>\n",
       "      <td>1</td>\n",
       "      <td>2</td>\n",
       "      <td>3</td>\n",
       "    </tr>\n",
       "    <tr>\n",
       "      <th>1</th>\n",
       "      <td>4</td>\n",
       "      <td>5</td>\n",
       "      <td>6</td>\n",
       "      <td>7</td>\n",
       "    </tr>\n",
       "    <tr>\n",
       "      <th>2</th>\n",
       "      <td>8</td>\n",
       "      <td>9</td>\n",
       "      <td>10</td>\n",
       "      <td>11</td>\n",
       "    </tr>\n",
       "    <tr>\n",
       "      <th>3</th>\n",
       "      <td>12</td>\n",
       "      <td>13</td>\n",
       "      <td>14</td>\n",
       "      <td>15</td>\n",
       "    </tr>\n",
       "  </tbody>\n",
       "</table>\n",
       "</div>"
      ],
      "text/plain": [
       "    A   B   C   D\n",
       "0   0   1   2   3\n",
       "1   4   5   6   7\n",
       "2   8   9  10  11\n",
       "3  12  13  14  15"
      ]
     },
     "execution_count": 29,
     "metadata": {},
     "output_type": "execute_result"
    }
   ],
   "source": [
    "data = np.arange(16).reshape((4, 4))\n",
    "df = pd.DataFrame(data=data, columns=['A', 'B', 'C', 'D'])\n",
    "df"
   ]
  },
  {
   "cell_type": "code",
   "execution_count": 30,
   "id": "017877dd",
   "metadata": {},
   "outputs": [
    {
     "data": {
      "text/plain": [
       "0     6\n",
       "1    22\n",
       "2    38\n",
       "3    54\n",
       "dtype: int64"
      ]
     },
     "execution_count": 30,
     "metadata": {},
     "output_type": "execute_result"
    }
   ],
   "source": [
    "df.sum(axis=1)  # sum of the first 4 columns"
   ]
  },
  {
   "cell_type": "markdown",
   "id": "177147f3",
   "metadata": {},
   "source": [
    "The `agg` method perform element-wise operations:"
   ]
  },
  {
   "cell_type": "code",
   "execution_count": 31,
   "id": "cec7900d",
   "metadata": {},
   "outputs": [
    {
     "data": {
      "text/html": [
       "<div>\n",
       "<style scoped>\n",
       "    .dataframe tbody tr th:only-of-type {\n",
       "        vertical-align: middle;\n",
       "    }\n",
       "\n",
       "    .dataframe tbody tr th {\n",
       "        vertical-align: top;\n",
       "    }\n",
       "\n",
       "    .dataframe thead th {\n",
       "        text-align: right;\n",
       "    }\n",
       "</style>\n",
       "<table border=\"1\" class=\"dataframe\">\n",
       "  <thead>\n",
       "    <tr style=\"text-align: right;\">\n",
       "      <th></th>\n",
       "      <th>A</th>\n",
       "      <th>B</th>\n",
       "      <th>C</th>\n",
       "      <th>D</th>\n",
       "      <th>E</th>\n",
       "    </tr>\n",
       "  </thead>\n",
       "  <tbody>\n",
       "    <tr>\n",
       "      <th>0</th>\n",
       "      <td>0</td>\n",
       "      <td>1</td>\n",
       "      <td>2</td>\n",
       "      <td>3</td>\n",
       "      <td>42</td>\n",
       "    </tr>\n",
       "    <tr>\n",
       "      <th>1</th>\n",
       "      <td>4</td>\n",
       "      <td>5</td>\n",
       "      <td>6</td>\n",
       "      <td>7</td>\n",
       "      <td>5</td>\n",
       "    </tr>\n",
       "    <tr>\n",
       "      <th>2</th>\n",
       "      <td>8</td>\n",
       "      <td>9</td>\n",
       "      <td>10</td>\n",
       "      <td>11</td>\n",
       "      <td>42</td>\n",
       "    </tr>\n",
       "    <tr>\n",
       "      <th>3</th>\n",
       "      <td>12</td>\n",
       "      <td>13</td>\n",
       "      <td>14</td>\n",
       "      <td>15</td>\n",
       "      <td>42</td>\n",
       "    </tr>\n",
       "  </tbody>\n",
       "</table>\n",
       "</div>"
      ],
      "text/plain": [
       "    A   B   C   D   E\n",
       "0   0   1   2   3  42\n",
       "1   4   5   6   7   5\n",
       "2   8   9  10  11  42\n",
       "3  12  13  14  15  42"
      ]
     },
     "execution_count": 31,
     "metadata": {},
     "output_type": "execute_result"
    }
   ],
   "source": [
    "df['E'] = df['B'].agg(lambda x: x if x%5==0 else 42)\n",
    "df"
   ]
  },
  {
   "cell_type": "markdown",
   "id": "7faf67a3",
   "metadata": {},
   "source": [
    "Yet, the same result could be achieved using `where`."
   ]
  },
  {
   "cell_type": "code",
   "execution_count": 32,
   "id": "12df1044",
   "metadata": {
    "scrolled": true
   },
   "outputs": [
    {
     "data": {
      "text/html": [
       "<div>\n",
       "<style scoped>\n",
       "    .dataframe tbody tr th:only-of-type {\n",
       "        vertical-align: middle;\n",
       "    }\n",
       "\n",
       "    .dataframe tbody tr th {\n",
       "        vertical-align: top;\n",
       "    }\n",
       "\n",
       "    .dataframe thead th {\n",
       "        text-align: right;\n",
       "    }\n",
       "</style>\n",
       "<table border=\"1\" class=\"dataframe\">\n",
       "  <thead>\n",
       "    <tr style=\"text-align: right;\">\n",
       "      <th></th>\n",
       "      <th>A</th>\n",
       "      <th>B</th>\n",
       "      <th>C</th>\n",
       "      <th>D</th>\n",
       "      <th>E</th>\n",
       "    </tr>\n",
       "  </thead>\n",
       "  <tbody>\n",
       "    <tr>\n",
       "      <th>0</th>\n",
       "      <td>0</td>\n",
       "      <td>1</td>\n",
       "      <td>2</td>\n",
       "      <td>3</td>\n",
       "      <td>42</td>\n",
       "    </tr>\n",
       "    <tr>\n",
       "      <th>1</th>\n",
       "      <td>4</td>\n",
       "      <td>5</td>\n",
       "      <td>6</td>\n",
       "      <td>7</td>\n",
       "      <td>5</td>\n",
       "    </tr>\n",
       "    <tr>\n",
       "      <th>2</th>\n",
       "      <td>8</td>\n",
       "      <td>9</td>\n",
       "      <td>10</td>\n",
       "      <td>11</td>\n",
       "      <td>42</td>\n",
       "    </tr>\n",
       "    <tr>\n",
       "      <th>3</th>\n",
       "      <td>12</td>\n",
       "      <td>13</td>\n",
       "      <td>14</td>\n",
       "      <td>15</td>\n",
       "      <td>42</td>\n",
       "    </tr>\n",
       "  </tbody>\n",
       "</table>\n",
       "</div>"
      ],
      "text/plain": [
       "    A   B   C   D   E\n",
       "0   0   1   2   3  42\n",
       "1   4   5   6   7   5\n",
       "2   8   9  10  11  42\n",
       "3  12  13  14  15  42"
      ]
     },
     "execution_count": 32,
     "metadata": {},
     "output_type": "execute_result"
    }
   ],
   "source": [
    "cond = df['B']%5==0\n",
    "df['E'] = df['B']                  # values of B if cond is True\n",
    "df['E'] = df['E'].where(cond, 42)  # 42 if cond is False \n",
    "                                   # (opposite to numpy where \n",
    "                                   # first arg corresponds to positive cond)\n",
    "df"
   ]
  },
  {
   "cell_type": "markdown",
   "id": "a0281ad2",
   "metadata": {},
   "source": [
    "### Sorting data\n",
    "\n",
    "\n",
    "One can use the `sort_values` and `sort_index` methods:"
   ]
  },
  {
   "cell_type": "code",
   "execution_count": 33,
   "id": "12521ddf",
   "metadata": {},
   "outputs": [
    {
     "data": {
      "text/html": [
       "<div>\n",
       "<style scoped>\n",
       "    .dataframe tbody tr th:only-of-type {\n",
       "        vertical-align: middle;\n",
       "    }\n",
       "\n",
       "    .dataframe tbody tr th {\n",
       "        vertical-align: top;\n",
       "    }\n",
       "\n",
       "    .dataframe thead th {\n",
       "        text-align: right;\n",
       "    }\n",
       "</style>\n",
       "<table border=\"1\" class=\"dataframe\">\n",
       "  <thead>\n",
       "    <tr style=\"text-align: right;\">\n",
       "      <th></th>\n",
       "      <th>c1</th>\n",
       "      <th>c2</th>\n",
       "      <th>c3</th>\n",
       "      <th>c4</th>\n",
       "      <th>c5</th>\n",
       "    </tr>\n",
       "  </thead>\n",
       "  <tbody>\n",
       "    <tr>\n",
       "      <th>e</th>\n",
       "      <td>6</td>\n",
       "      <td>5</td>\n",
       "      <td>4</td>\n",
       "      <td>3</td>\n",
       "      <td>8</td>\n",
       "    </tr>\n",
       "    <tr>\n",
       "      <th>b</th>\n",
       "      <td>6</td>\n",
       "      <td>1</td>\n",
       "      <td>8</td>\n",
       "      <td>8</td>\n",
       "      <td>9</td>\n",
       "    </tr>\n",
       "    <tr>\n",
       "      <th>c</th>\n",
       "      <td>3</td>\n",
       "      <td>2</td>\n",
       "      <td>4</td>\n",
       "      <td>0</td>\n",
       "      <td>9</td>\n",
       "    </tr>\n",
       "    <tr>\n",
       "      <th>a</th>\n",
       "      <td>9</td>\n",
       "      <td>7</td>\n",
       "      <td>2</td>\n",
       "      <td>4</td>\n",
       "      <td>4</td>\n",
       "    </tr>\n",
       "    <tr>\n",
       "      <th>d</th>\n",
       "      <td>9</td>\n",
       "      <td>9</td>\n",
       "      <td>8</td>\n",
       "      <td>0</td>\n",
       "      <td>5</td>\n",
       "    </tr>\n",
       "  </tbody>\n",
       "</table>\n",
       "</div>"
      ],
      "text/plain": [
       "   c1  c2  c3  c4  c5\n",
       "e   6   5   4   3   8\n",
       "b   6   1   8   8   9\n",
       "c   3   2   4   0   9\n",
       "a   9   7   2   4   4\n",
       "d   9   9   8   0   5"
      ]
     },
     "execution_count": 33,
     "metadata": {},
     "output_type": "execute_result"
    }
   ],
   "source": [
    "data = np.random.randint(0, 10, (5, 5))\n",
    "df = pd.DataFrame(data=data, columns=('c1', 'c2', 'c3', 'c4', 'c5'), index=('e', 'b', 'c', 'a', 'd'))\n",
    "df"
   ]
  },
  {
   "cell_type": "code",
   "execution_count": 34,
   "id": "d746bbfd",
   "metadata": {},
   "outputs": [
    {
     "data": {
      "text/html": [
       "<div>\n",
       "<style scoped>\n",
       "    .dataframe tbody tr th:only-of-type {\n",
       "        vertical-align: middle;\n",
       "    }\n",
       "\n",
       "    .dataframe tbody tr th {\n",
       "        vertical-align: top;\n",
       "    }\n",
       "\n",
       "    .dataframe thead th {\n",
       "        text-align: right;\n",
       "    }\n",
       "</style>\n",
       "<table border=\"1\" class=\"dataframe\">\n",
       "  <thead>\n",
       "    <tr style=\"text-align: right;\">\n",
       "      <th></th>\n",
       "      <th>c1</th>\n",
       "      <th>c2</th>\n",
       "      <th>c3</th>\n",
       "      <th>c4</th>\n",
       "      <th>c5</th>\n",
       "    </tr>\n",
       "  </thead>\n",
       "  <tbody>\n",
       "    <tr>\n",
       "      <th>a</th>\n",
       "      <td>9</td>\n",
       "      <td>7</td>\n",
       "      <td>2</td>\n",
       "      <td>4</td>\n",
       "      <td>4</td>\n",
       "    </tr>\n",
       "    <tr>\n",
       "      <th>b</th>\n",
       "      <td>6</td>\n",
       "      <td>1</td>\n",
       "      <td>8</td>\n",
       "      <td>8</td>\n",
       "      <td>9</td>\n",
       "    </tr>\n",
       "    <tr>\n",
       "      <th>c</th>\n",
       "      <td>3</td>\n",
       "      <td>2</td>\n",
       "      <td>4</td>\n",
       "      <td>0</td>\n",
       "      <td>9</td>\n",
       "    </tr>\n",
       "    <tr>\n",
       "      <th>d</th>\n",
       "      <td>9</td>\n",
       "      <td>9</td>\n",
       "      <td>8</td>\n",
       "      <td>0</td>\n",
       "      <td>5</td>\n",
       "    </tr>\n",
       "    <tr>\n",
       "      <th>e</th>\n",
       "      <td>6</td>\n",
       "      <td>5</td>\n",
       "      <td>4</td>\n",
       "      <td>3</td>\n",
       "      <td>8</td>\n",
       "    </tr>\n",
       "  </tbody>\n",
       "</table>\n",
       "</div>"
      ],
      "text/plain": [
       "   c1  c2  c3  c4  c5\n",
       "a   9   7   2   4   4\n",
       "b   6   1   8   8   9\n",
       "c   3   2   4   0   9\n",
       "d   9   9   8   0   5\n",
       "e   6   5   4   3   8"
      ]
     },
     "execution_count": 34,
     "metadata": {},
     "output_type": "execute_result"
    }
   ],
   "source": [
    "df.sort_index()"
   ]
  },
  {
   "cell_type": "markdown",
   "id": "9cc42f27",
   "metadata": {},
   "source": [
    "Let's sort `df` according to:\n",
    "\n",
    "- column `c2`\n",
    "- descending order"
   ]
  },
  {
   "cell_type": "code",
   "execution_count": 35,
   "id": "5eb07aba",
   "metadata": {
    "scrolled": true
   },
   "outputs": [
    {
     "data": {
      "text/html": [
       "<div>\n",
       "<style scoped>\n",
       "    .dataframe tbody tr th:only-of-type {\n",
       "        vertical-align: middle;\n",
       "    }\n",
       "\n",
       "    .dataframe tbody tr th {\n",
       "        vertical-align: top;\n",
       "    }\n",
       "\n",
       "    .dataframe thead th {\n",
       "        text-align: right;\n",
       "    }\n",
       "</style>\n",
       "<table border=\"1\" class=\"dataframe\">\n",
       "  <thead>\n",
       "    <tr style=\"text-align: right;\">\n",
       "      <th></th>\n",
       "      <th>c1</th>\n",
       "      <th>c2</th>\n",
       "      <th>c3</th>\n",
       "      <th>c4</th>\n",
       "      <th>c5</th>\n",
       "    </tr>\n",
       "  </thead>\n",
       "  <tbody>\n",
       "    <tr>\n",
       "      <th>d</th>\n",
       "      <td>9</td>\n",
       "      <td>9</td>\n",
       "      <td>8</td>\n",
       "      <td>0</td>\n",
       "      <td>5</td>\n",
       "    </tr>\n",
       "    <tr>\n",
       "      <th>a</th>\n",
       "      <td>9</td>\n",
       "      <td>7</td>\n",
       "      <td>2</td>\n",
       "      <td>4</td>\n",
       "      <td>4</td>\n",
       "    </tr>\n",
       "    <tr>\n",
       "      <th>e</th>\n",
       "      <td>6</td>\n",
       "      <td>5</td>\n",
       "      <td>4</td>\n",
       "      <td>3</td>\n",
       "      <td>8</td>\n",
       "    </tr>\n",
       "    <tr>\n",
       "      <th>c</th>\n",
       "      <td>3</td>\n",
       "      <td>2</td>\n",
       "      <td>4</td>\n",
       "      <td>0</td>\n",
       "      <td>9</td>\n",
       "    </tr>\n",
       "    <tr>\n",
       "      <th>b</th>\n",
       "      <td>6</td>\n",
       "      <td>1</td>\n",
       "      <td>8</td>\n",
       "      <td>8</td>\n",
       "      <td>9</td>\n",
       "    </tr>\n",
       "  </tbody>\n",
       "</table>\n",
       "</div>"
      ],
      "text/plain": [
       "   c1  c2  c3  c4  c5\n",
       "d   9   9   8   0   5\n",
       "a   9   7   2   4   4\n",
       "e   6   5   4   3   8\n",
       "c   3   2   4   0   9\n",
       "b   6   1   8   8   9"
      ]
     },
     "execution_count": 35,
     "metadata": {},
     "output_type": "execute_result"
    }
   ],
   "source": [
    "df.sort_values(by='c2', ascending=False)"
   ]
  },
  {
   "cell_type": "markdown",
   "id": "d1a4892a",
   "metadata": {},
   "source": [
    "Let's sort following axis 1!\n",
    "\n",
    "- row `b`\n",
    "- custom key\n"
   ]
  },
  {
   "cell_type": "code",
   "execution_count": 36,
   "id": "954cc41c",
   "metadata": {
    "scrolled": true
   },
   "outputs": [
    {
     "data": {
      "text/html": [
       "<div>\n",
       "<style scoped>\n",
       "    .dataframe tbody tr th:only-of-type {\n",
       "        vertical-align: middle;\n",
       "    }\n",
       "\n",
       "    .dataframe tbody tr th {\n",
       "        vertical-align: top;\n",
       "    }\n",
       "\n",
       "    .dataframe thead th {\n",
       "        text-align: right;\n",
       "    }\n",
       "</style>\n",
       "<table border=\"1\" class=\"dataframe\">\n",
       "  <thead>\n",
       "    <tr style=\"text-align: right;\">\n",
       "      <th></th>\n",
       "      <th>c1</th>\n",
       "      <th>c3</th>\n",
       "      <th>c4</th>\n",
       "      <th>c2</th>\n",
       "      <th>c5</th>\n",
       "    </tr>\n",
       "  </thead>\n",
       "  <tbody>\n",
       "    <tr>\n",
       "      <th>e</th>\n",
       "      <td>6</td>\n",
       "      <td>4</td>\n",
       "      <td>3</td>\n",
       "      <td>5</td>\n",
       "      <td>8</td>\n",
       "    </tr>\n",
       "    <tr>\n",
       "      <th>b</th>\n",
       "      <td>6</td>\n",
       "      <td>8</td>\n",
       "      <td>8</td>\n",
       "      <td>1</td>\n",
       "      <td>9</td>\n",
       "    </tr>\n",
       "    <tr>\n",
       "      <th>c</th>\n",
       "      <td>3</td>\n",
       "      <td>4</td>\n",
       "      <td>0</td>\n",
       "      <td>2</td>\n",
       "      <td>9</td>\n",
       "    </tr>\n",
       "    <tr>\n",
       "      <th>a</th>\n",
       "      <td>9</td>\n",
       "      <td>2</td>\n",
       "      <td>4</td>\n",
       "      <td>7</td>\n",
       "      <td>4</td>\n",
       "    </tr>\n",
       "    <tr>\n",
       "      <th>d</th>\n",
       "      <td>9</td>\n",
       "      <td>8</td>\n",
       "      <td>0</td>\n",
       "      <td>9</td>\n",
       "      <td>5</td>\n",
       "    </tr>\n",
       "  </tbody>\n",
       "</table>\n",
       "</div>"
      ],
      "text/plain": [
       "   c1  c3  c4  c2  c5\n",
       "e   6   4   3   5   8\n",
       "b   6   8   8   1   9\n",
       "c   3   4   0   2   9\n",
       "a   9   2   4   7   4\n",
       "d   9   8   0   9   5"
      ]
     },
     "execution_count": 36,
     "metadata": {},
     "output_type": "execute_result"
    }
   ],
   "source": [
    "# using `key`, the closest the values are to 5 the sooner \n",
    "# they come in the DataFrame\n",
    "df.sort_values(by='b', axis=1, key=lambda x: abs(x-5))"
   ]
  },
  {
   "cell_type": "markdown",
   "id": "21ae8708",
   "metadata": {},
   "source": [
    "## Manage _dtype_"
   ]
  },
  {
   "cell_type": "markdown",
   "id": "ce55f4fa",
   "metadata": {},
   "source": [
    "You must __always__ check that the data type is the expected one, because it defines the possible operations. The `astype` method makes it possible to change the data type of a column:"
   ]
  },
  {
   "cell_type": "code",
   "execution_count": 37,
   "id": "f2ea2f0d",
   "metadata": {
    "scrolled": true
   },
   "outputs": [
    {
     "name": "stdout",
     "output_type": "stream",
     "text": [
      "Some integers    object\n",
      "Some booleans      bool\n",
      "Some strings     object\n",
      "dtype: object\n"
     ]
    },
    {
     "data": {
      "text/html": [
       "<div>\n",
       "<style scoped>\n",
       "    .dataframe tbody tr th:only-of-type {\n",
       "        vertical-align: middle;\n",
       "    }\n",
       "\n",
       "    .dataframe tbody tr th {\n",
       "        vertical-align: top;\n",
       "    }\n",
       "\n",
       "    .dataframe thead th {\n",
       "        text-align: right;\n",
       "    }\n",
       "</style>\n",
       "<table border=\"1\" class=\"dataframe\">\n",
       "  <thead>\n",
       "    <tr style=\"text-align: right;\">\n",
       "      <th></th>\n",
       "      <th>Some integers</th>\n",
       "      <th>Some booleans</th>\n",
       "      <th>Some strings</th>\n",
       "    </tr>\n",
       "  </thead>\n",
       "  <tbody>\n",
       "    <tr>\n",
       "      <th>first row</th>\n",
       "      <td>01</td>\n",
       "      <td>True</td>\n",
       "      <td>a</td>\n",
       "    </tr>\n",
       "    <tr>\n",
       "      <th>second row</th>\n",
       "      <td>02</td>\n",
       "      <td>False</td>\n",
       "      <td>c</td>\n",
       "    </tr>\n",
       "    <tr>\n",
       "      <th>third row</th>\n",
       "      <td>03</td>\n",
       "      <td>True</td>\n",
       "      <td>c</td>\n",
       "    </tr>\n",
       "  </tbody>\n",
       "</table>\n",
       "</div>"
      ],
      "text/plain": [
       "           Some integers  Some booleans Some strings\n",
       "first row             01           True            a\n",
       "second row            02          False            c\n",
       "third row             03           True            c"
      ]
     },
     "execution_count": 37,
     "metadata": {},
     "output_type": "execute_result"
    }
   ],
   "source": [
    "data = (('01', True, 'a'), ('02', False, 'c'), ('03', True, 'c'))\n",
    "columns = ('Some integers', 'Some booleans', 'Some strings')\n",
    "df = pd.DataFrame(data=data, columns=columns, index=('first row', 'second row', 'third row'))\n",
    "print(df.dtypes)\n",
    "df"
   ]
  },
  {
   "cell_type": "code",
   "execution_count": 38,
   "id": "42850181",
   "metadata": {
    "scrolled": true
   },
   "outputs": [
    {
     "name": "stdout",
     "output_type": "stream",
     "text": [
      "Some integers     int64\n",
      "Some booleans      bool\n",
      "Some strings     object\n",
      "dtype: object\n"
     ]
    },
    {
     "data": {
      "text/html": [
       "<div>\n",
       "<style scoped>\n",
       "    .dataframe tbody tr th:only-of-type {\n",
       "        vertical-align: middle;\n",
       "    }\n",
       "\n",
       "    .dataframe tbody tr th {\n",
       "        vertical-align: top;\n",
       "    }\n",
       "\n",
       "    .dataframe thead th {\n",
       "        text-align: right;\n",
       "    }\n",
       "</style>\n",
       "<table border=\"1\" class=\"dataframe\">\n",
       "  <thead>\n",
       "    <tr style=\"text-align: right;\">\n",
       "      <th></th>\n",
       "      <th>Some integers</th>\n",
       "      <th>Some booleans</th>\n",
       "      <th>Some strings</th>\n",
       "    </tr>\n",
       "  </thead>\n",
       "  <tbody>\n",
       "    <tr>\n",
       "      <th>first row</th>\n",
       "      <td>1</td>\n",
       "      <td>True</td>\n",
       "      <td>a</td>\n",
       "    </tr>\n",
       "    <tr>\n",
       "      <th>second row</th>\n",
       "      <td>2</td>\n",
       "      <td>False</td>\n",
       "      <td>c</td>\n",
       "    </tr>\n",
       "    <tr>\n",
       "      <th>third row</th>\n",
       "      <td>3</td>\n",
       "      <td>True</td>\n",
       "      <td>c</td>\n",
       "    </tr>\n",
       "  </tbody>\n",
       "</table>\n",
       "</div>"
      ],
      "text/plain": [
       "            Some integers  Some booleans Some strings\n",
       "first row               1           True            a\n",
       "second row              2          False            c\n",
       "third row               3           True            c"
      ]
     },
     "execution_count": 38,
     "metadata": {},
     "output_type": "execute_result"
    }
   ],
   "source": [
    "df['Some integers'] = df['Some integers'].astype(int)\n",
    "print(df.dtypes)\n",
    "df"
   ]
  }
 ],
 "metadata": {
  "kernelspec": {
   "display_name": "Python 3 (ipykernel)",
   "language": "python",
   "name": "python3"
  },
  "language_info": {
   "codemirror_mode": {
    "name": "ipython",
    "version": 3
   },
   "file_extension": ".py",
   "mimetype": "text/x-python",
   "name": "python",
   "nbconvert_exporter": "python",
   "pygments_lexer": "ipython3",
   "version": "3.10.12"
  }
 },
 "nbformat": 4,
 "nbformat_minor": 5
}
