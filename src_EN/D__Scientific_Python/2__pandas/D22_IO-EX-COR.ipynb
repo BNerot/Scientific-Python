{
 "cells": [
  {
   "cell_type": "markdown",
   "id": "c39ec172",
   "metadata": {
    "editable": true,
    "slideshow": {
     "slide_type": ""
    },
    "tags": []
   },
   "source": [
    "Export the DataFrame of the last exercice  to a csv file using '@' as a separator"
   ]
  },
  {
   "cell_type": "code",
   "execution_count": 1,
   "id": "675b75be",
   "metadata": {
    "editable": true,
    "slideshow": {
     "slide_type": ""
    },
    "tags": []
   },
   "outputs": [],
   "source": [
    "import pandas as pd\n",
    "\n",
    "df = pd.DataFrame(index=['me', 'colleague'], \n",
    "                  data={'size': [170, 190], \n",
    "                        'birth date': ['03/09/2010', '04/01/2120']})\n",
    "df['birth date'] = pd.to_datetime(df['birth date'], dayfirst=True)\n",
    "df.to_csv('my_ex.csv', sep='@')"
   ]
  }
 ],
 "metadata": {
  "kernelspec": {
   "display_name": "Python 3 (ipykernel)",
   "language": "python",
   "name": "python3"
  },
  "language_info": {
   "codemirror_mode": {
    "name": "ipython",
    "version": 3
   },
   "file_extension": ".py",
   "mimetype": "text/x-python",
   "name": "python",
   "nbconvert_exporter": "python",
   "pygments_lexer": "ipython3",
   "version": "3.12.3"
  }
 },
 "nbformat": 4,
 "nbformat_minor": 5
}
