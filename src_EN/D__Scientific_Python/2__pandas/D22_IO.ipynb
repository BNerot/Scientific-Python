{
 "cells": [
  {
   "cell_type": "markdown",
   "id": "5866a678",
   "metadata": {
    "editable": true,
    "slideshow": {
     "slide_type": "slide"
    },
    "tags": []
   },
   "source": [
    "## Introduction\n",
    "\n",
    "`pandas` can write and read data files from the disk. \n",
    "\n",
    "A very common file format is CSV.  A CSV file is a text file whose columns are separated by `,`. Sometimes, this is not a comma but another character: `;`, `/`, etc...\n",
    "\n",
    "When reading a file, `pandas` try to guess the data types."
   ]
  },
  {
   "cell_type": "markdown",
   "id": "f35c0221",
   "metadata": {
    "editable": true,
    "slideshow": {
     "slide_type": "slide"
    },
    "tags": []
   },
   "source": [
    "## Read a CSV file\n",
    "\n",
    "Let's define a CSV file `data.csv` and use the `read_csv` function:\n",
    "\n",
    "```\n",
    "Integer;Some value;Another column;Date\n",
    "1;3.45;True;21/02/2026 12:56:54\n",
    "5;2.75;False;21/02/2026 14:25:08\n",
    "2;4.15;False;21/02/2026 16:56:41\n",
    "\n",
    "```"
   ]
  },
  {
   "cell_type": "code",
   "execution_count": 7,
   "id": "020c4f3e",
   "metadata": {
    "editable": true,
    "slideshow": {
     "slide_type": ""
    },
    "tags": []
   },
   "outputs": [
    {
     "data": {
      "text/html": [
       "<div>\n",
       "<style scoped>\n",
       "    .dataframe tbody tr th:only-of-type {\n",
       "        vertical-align: middle;\n",
       "    }\n",
       "\n",
       "    .dataframe tbody tr th {\n",
       "        vertical-align: top;\n",
       "    }\n",
       "\n",
       "    .dataframe thead th {\n",
       "        text-align: right;\n",
       "    }\n",
       "</style>\n",
       "<table border=\"1\" class=\"dataframe\">\n",
       "  <thead>\n",
       "    <tr style=\"text-align: right;\">\n",
       "      <th></th>\n",
       "      <th>Some value</th>\n",
       "      <th>Another column</th>\n",
       "      <th>Date</th>\n",
       "    </tr>\n",
       "    <tr>\n",
       "      <th>Integer</th>\n",
       "      <th></th>\n",
       "      <th></th>\n",
       "      <th></th>\n",
       "    </tr>\n",
       "  </thead>\n",
       "  <tbody>\n",
       "    <tr>\n",
       "      <th>1</th>\n",
       "      <td>3.45</td>\n",
       "      <td>True</td>\n",
       "      <td>21/02/2026 12:56:54</td>\n",
       "    </tr>\n",
       "    <tr>\n",
       "      <th>5</th>\n",
       "      <td>2.75</td>\n",
       "      <td>False</td>\n",
       "      <td>21/02/2026 14:25:08</td>\n",
       "    </tr>\n",
       "    <tr>\n",
       "      <th>2</th>\n",
       "      <td>4.15</td>\n",
       "      <td>False</td>\n",
       "      <td>21/02/2026 16:56:41</td>\n",
       "    </tr>\n",
       "  </tbody>\n",
       "</table>\n",
       "</div>"
      ],
      "text/plain": [
       "         Some value  Another column                 Date\n",
       "Integer                                                 \n",
       "1              3.45            True  21/02/2026 12:56:54\n",
       "5              2.75           False  21/02/2026 14:25:08\n",
       "2              4.15           False  21/02/2026 16:56:41"
      ]
     },
     "execution_count": 7,
     "metadata": {},
     "output_type": "execute_result"
    }
   ],
   "source": [
    "import pandas as pd\n",
    "df = pd.read_csv('data.csv', index_col=0, sep=';')\n",
    "df"
   ]
  },
  {
   "cell_type": "markdown",
   "id": "16a843b1",
   "metadata": {
    "editable": true,
    "slideshow": {
     "slide_type": "slide"
    },
    "tags": []
   },
   "source": [
    "A quick dtype check:"
   ]
  },
  {
   "cell_type": "code",
   "execution_count": 8,
   "id": "6fefc3cc",
   "metadata": {
    "editable": true,
    "slideshow": {
     "slide_type": ""
    },
    "tags": []
   },
   "outputs": [
    {
     "data": {
      "text/plain": [
       "Some value        float64\n",
       "Another column       bool\n",
       "Date               object\n",
       "dtype: object"
      ]
     },
     "execution_count": 8,
     "metadata": {},
     "output_type": "execute_result"
    }
   ],
   "source": [
    "df.dtypes"
   ]
  },
  {
   "cell_type": "markdown",
   "id": "caebf342",
   "metadata": {
    "editable": true,
    "slideshow": {
     "slide_type": ""
    },
    "tags": []
   },
   "source": [
    "The dates have not been interprated as dates but as strings. "
   ]
  },
  {
   "cell_type": "markdown",
   "id": "c22a52b5-a414-4576-be0d-ce4cd917bdaa",
   "metadata": {
    "editable": true,
    "slideshow": {
     "slide_type": "slide"
    },
    "tags": []
   },
   "source": [
    "We need an additional argument in `read_csv` to specify the date format:"
   ]
  },
  {
   "cell_type": "code",
   "execution_count": 17,
   "id": "b5a0542a",
   "metadata": {},
   "outputs": [
    {
     "data": {
      "text/html": [
       "<div>\n",
       "<style scoped>\n",
       "    .dataframe tbody tr th:only-of-type {\n",
       "        vertical-align: middle;\n",
       "    }\n",
       "\n",
       "    .dataframe tbody tr th {\n",
       "        vertical-align: top;\n",
       "    }\n",
       "\n",
       "    .dataframe thead th {\n",
       "        text-align: right;\n",
       "    }\n",
       "</style>\n",
       "<table border=\"1\" class=\"dataframe\">\n",
       "  <thead>\n",
       "    <tr style=\"text-align: right;\">\n",
       "      <th></th>\n",
       "      <th>Some value</th>\n",
       "      <th>Another column</th>\n",
       "      <th>Date</th>\n",
       "    </tr>\n",
       "    <tr>\n",
       "      <th>Integer</th>\n",
       "      <th></th>\n",
       "      <th></th>\n",
       "      <th></th>\n",
       "    </tr>\n",
       "  </thead>\n",
       "  <tbody>\n",
       "    <tr>\n",
       "      <th>1</th>\n",
       "      <td>3.45</td>\n",
       "      <td>True</td>\n",
       "      <td>2026-02-21 12:56:54</td>\n",
       "    </tr>\n",
       "    <tr>\n",
       "      <th>5</th>\n",
       "      <td>2.75</td>\n",
       "      <td>False</td>\n",
       "      <td>2026-02-21 14:25:08</td>\n",
       "    </tr>\n",
       "    <tr>\n",
       "      <th>2</th>\n",
       "      <td>4.15</td>\n",
       "      <td>False</td>\n",
       "      <td>2026-02-21 16:56:41</td>\n",
       "    </tr>\n",
       "  </tbody>\n",
       "</table>\n",
       "</div>"
      ],
      "text/plain": [
       "         Some value  Another column                Date\n",
       "Integer                                                \n",
       "1              3.45            True 2026-02-21 12:56:54\n",
       "5              2.75           False 2026-02-21 14:25:08\n",
       "2              4.15           False 2026-02-21 16:56:41"
      ]
     },
     "execution_count": 17,
     "metadata": {},
     "output_type": "execute_result"
    }
   ],
   "source": [
    "df['Date'] = pd.to_datetime(df['Date'], format='%d/%m/%Y %H:%M:%S')\n",
    "df"
   ]
  },
  {
   "cell_type": "code",
   "execution_count": 19,
   "id": "40719681",
   "metadata": {},
   "outputs": [
    {
     "data": {
      "text/plain": [
       "Some value               float64\n",
       "Another column              bool\n",
       "Date              datetime64[ns]\n",
       "dtype: object"
      ]
     },
     "execution_count": 19,
     "metadata": {},
     "output_type": "execute_result"
    }
   ],
   "source": [
    "df.dtypes"
   ]
  },
  {
   "cell_type": "markdown",
   "id": "7c3b8fc4",
   "metadata": {
    "editable": true,
    "slideshow": {
     "slide_type": "slide"
    },
    "tags": []
   },
   "source": [
    "Many other arguments exist for `read_csv`:\n",
    "\n",
    "- `names`: define new names for the columns, instead of those of the file\n",
    "- `index_col`: select the column to use as index (axis 0)\n",
    "- `comment`: tell pandas no to care about rows starting with a specific character: these are not data\n",
    "- `skiprows`, `skipfooter`, `nrows`: read only specific rows\n"
   ]
  },
  {
   "cell_type": "markdown",
   "id": "76db27e4",
   "metadata": {
    "editable": true,
    "slideshow": {
     "slide_type": "slide"
    },
    "tags": []
   },
   "source": [
    "## Write a CSV file\n",
    "\n",
    "The `to_csv` method of `DataFrame` and `Serie` is used hereafter. "
   ]
  },
  {
   "cell_type": "code",
   "execution_count": 24,
   "id": "375f5693",
   "metadata": {},
   "outputs": [],
   "source": [
    "df['Last column'] = df['Some value'] / 8\n",
    "df.to_csv('data_write.csv', sep=',', \n",
    "          index=False) # do not write index"
   ]
  },
  {
   "cell_type": "markdown",
   "id": "b8aba8eb",
   "metadata": {},
   "source": [
    "Result:\n",
    "    \n",
    "```\n",
    "Some value,Another column,Date,Last column\n",
    "3.45,True,2026-02-21 12:56:54,0.43125\n",
    "2.75,False,2026-02-21 14:25:08,0.34375\n",
    "4.15,False,2026-02-21 16:56:41,0.51875\n",
    "```"
   ]
  },
  {
   "cell_type": "markdown",
   "id": "41960671",
   "metadata": {
    "editable": true,
    "slideshow": {
     "slide_type": "slide"
    },
    "tags": []
   },
   "source": [
    "## Other file formats\n",
    "\n",
    "`pandas` handle a lot of IO file formats: Excel, json, html, hdf, etc...\n",
    "\n",
    "The dedicated methods are called `read_[...]` (data import) and `to_[...]` (data export)."
   ]
  }
 ],
 "metadata": {
  "kernelspec": {
   "display_name": "Python 3 (ipykernel)",
   "language": "python",
   "name": "python3"
  },
  "language_info": {
   "codemirror_mode": {
    "name": "ipython",
    "version": 3
   },
   "file_extension": ".py",
   "mimetype": "text/x-python",
   "name": "python",
   "nbconvert_exporter": "python",
   "pygments_lexer": "ipython3",
   "version": "3.12.3"
  }
 },
 "nbformat": 4,
 "nbformat_minor": 5
}
