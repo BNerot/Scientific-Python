{
 "cells": [
  {
   "cell_type": "markdown",
   "id": "90563c50",
   "metadata": {},
   "source": [
    "- Create a 100 dates every 4 days, starting from 1st February 2032\n",
    "- Create a DataFrame with an integer column 'Integers' : from 0 to 99\n",
    "- Add to the dataframe the date values in a column 'Date'\n",
    "- Extract the name of the day of the week of the 'Date' column and set it as a new column 'Day name'"
   ]
  }
 ],
 "metadata": {
  "kernelspec": {
   "display_name": "Python 3 (ipykernel)",
   "language": "python",
   "name": "python3"
  },
  "language_info": {
   "codemirror_mode": {
    "name": "ipython",
    "version": 3
   },
   "file_extension": ".py",
   "mimetype": "text/x-python",
   "name": "python",
   "nbconvert_exporter": "python",
   "pygments_lexer": "ipython3",
   "version": "3.10.12"
  }
 },
 "nbformat": 4,
 "nbformat_minor": 5
}
