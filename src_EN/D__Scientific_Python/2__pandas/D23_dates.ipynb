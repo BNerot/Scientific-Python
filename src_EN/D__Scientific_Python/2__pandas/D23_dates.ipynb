{
 "cells": [
  {
   "cell_type": "markdown",
   "id": "bd4a0c13",
   "metadata": {
    "editable": true,
    "slideshow": {
     "slide_type": "slide"
    },
    "tags": []
   },
   "source": [
    "## Introduction\n",
    "\n",
    "`pandas` can handle dates in several ways:\n",
    "\n",
    "- comparison\n",
    "- extraction of day, hour, etc...\n",
    "- addition of delays\n",
    "- etc...\n",
    "\n",
    "Date objects in `pandas` are the one of `numpy`, which differ a bit from those of native Python but are nonetheless compatible with them."
   ]
  },
  {
   "cell_type": "markdown",
   "id": "58f9a43e",
   "metadata": {
    "editable": true,
    "slideshow": {
     "slide_type": "slide"
    },
    "tags": []
   },
   "source": [
    "## Useful functions\n",
    "\n",
    "###  Create a dates series\n",
    "\n",
    "`pd.date_range` expects 3 out of 4 of the following parameters to be specified:\n",
    "\n",
    "- `start`: (date) first date\n",
    "- `end`: (date) last date\n",
    "- `periods` (integer): number of values\n",
    "- `freq`: elapsed time between 2 consecutive dates. Accepted values [are given here](https://pandas.pydata.org/docs/user_guide/timeseries.html#offset-aliases).\n",
    "\n"
   ]
  },
  {
   "cell_type": "code",
   "execution_count": 1,
   "id": "29c14376",
   "metadata": {
    "editable": true,
    "scrolled": true,
    "slideshow": {
     "slide_type": "slide"
    },
    "tags": []
   },
   "outputs": [
    {
     "data": {
      "text/plain": [
       "DatetimeIndex(['2023-01-21 00:00:30', '2023-01-21 02:00:30',\n",
       "               '2023-01-21 04:00:30', '2023-01-21 06:00:30',\n",
       "               '2023-01-21 08:00:30', '2023-01-21 10:00:30',\n",
       "               '2023-01-21 12:00:30'],\n",
       "              dtype='datetime64[ns]', freq='2H')"
      ]
     },
     "execution_count": 1,
     "metadata": {},
     "output_type": "execute_result"
    }
   ],
   "source": [
    "import pandas as pd\n",
    "# 7 values, once every 2 hours, from 21st of January 2023 at 30s past midnight\n",
    "pd.date_range(start='21/01/2023 00:00:30', freq='2h', periods=7)"
   ]
  },
  {
   "cell_type": "code",
   "execution_count": 2,
   "id": "76cb2926",
   "metadata": {
    "editable": true,
    "slideshow": {
     "slide_type": "slide"
    },
    "tags": []
   },
   "outputs": [
    {
     "data": {
      "text/plain": [
       "DatetimeIndex(['2023-01-21', '2023-01-24', '2023-01-27', '2023-01-30',\n",
       "               '2023-02-02', '2023-02-05', '2023-02-08', '2023-02-11',\n",
       "               '2023-02-14', '2023-02-17', '2023-02-20', '2023-02-23',\n",
       "               '2023-02-26', '2023-03-01', '2023-03-04', '2023-03-07',\n",
       "               '2023-03-10', '2023-03-13', '2023-03-16', '2023-03-19',\n",
       "               '2023-03-22', '2023-03-25', '2023-03-28', '2023-03-31'],\n",
       "              dtype='datetime64[ns]', freq='3D')"
      ]
     },
     "execution_count": 2,
     "metadata": {},
     "output_type": "execute_result"
    }
   ],
   "source": [
    "# a value every 3 days, from 21st of January 2023 to 4 of February\n",
    "pd.date_range(start='21/01/2023 00:00:00', end='04/02/2023 00:00:00', freq='3D')"
   ]
  },
  {
   "cell_type": "code",
   "execution_count": 3,
   "id": "71fed89f",
   "metadata": {
    "editable": true,
    "slideshow": {
     "slide_type": "slide"
    },
    "tags": []
   },
   "outputs": [
    {
     "data": {
      "text/plain": [
       "DatetimeIndex(['2023-01-21', '2023-01-28', '2023-02-04'], dtype='datetime64[ns]', freq=None)"
      ]
     },
     "execution_count": 3,
     "metadata": {},
     "output_type": "execute_result"
    }
   ],
   "source": [
    "# 3 values from 21st of January 2023 to 4 of February\n",
    "from datetime import datetime, timedelta\n",
    "start = datetime(day=21, month=1, year=2023)\n",
    "end = datetime(day=4, month=2, year=2023)\n",
    "pd.date_range(start=start, end=end, periods=3)"
   ]
  },
  {
   "cell_type": "markdown",
   "id": "4da789a7-169a-4da1-8713-ad09a3a1298e",
   "metadata": {
    "editable": true,
    "slideshow": {
     "slide_type": "slide"
    },
    "tags": []
   },
   "source": [
    "With `pandas`, one can specify dates in 3 different ways:\n",
    "\n",
    "- A string\n",
    "\n",
    "  Very handy but beware of bad interpreation done by `pandas`. In particular, the English way of processing date is to write the month before the day (ex: 21th june --> 06/21).\n",
    "- Python date-like objects: `datetime.datetime`, `datetime.timedelta`\n",
    "- `numpy` date-like objects\n",
    "- `pandas` date-like objects: `pd.TimeStamp`, `pd.TimeDelta`"
   ]
  },
  {
   "cell_type": "markdown",
   "id": "e0fa2820",
   "metadata": {
    "editable": true,
    "slideshow": {
     "slide_type": "slide"
    },
    "tags": []
   },
   "source": [
    "### Resample temporal data\n",
    "\n",
    "Whenever temporal data comes with a too high or too low frequency, the `pd.resample` functions can modify this frequency to ease processing. There exists two cases:\n",
    "\n",
    "- _upsampling_: additional values are added between current values, hence frequency is increased\n",
    "- _downsampling_: existing values are aggragated following a specific rule, hence frequency is decreased\n",
    "\n",
    "\n"
   ]
  },
  {
   "cell_type": "markdown",
   "id": "316a83e8-2259-4386-8e76-49a80bb3ad1d",
   "metadata": {
    "editable": true,
    "slideshow": {
     "slide_type": "slide"
    },
    "tags": []
   },
   "source": [
    "#### Upsampling\n",
    "\n",
    "Here after, a DataFrame that has a datetime index: six values, one every 2 hours, from 15th of August."
   ]
  },
  {
   "cell_type": "code",
   "execution_count": 4,
   "id": "f246bb53",
   "metadata": {},
   "outputs": [
    {
     "data": {
      "text/html": [
       "<div>\n",
       "<style scoped>\n",
       "    .dataframe tbody tr th:only-of-type {\n",
       "        vertical-align: middle;\n",
       "    }\n",
       "\n",
       "    .dataframe tbody tr th {\n",
       "        vertical-align: top;\n",
       "    }\n",
       "\n",
       "    .dataframe thead th {\n",
       "        text-align: right;\n",
       "    }\n",
       "</style>\n",
       "<table border=\"1\" class=\"dataframe\">\n",
       "  <thead>\n",
       "    <tr style=\"text-align: right;\">\n",
       "      <th></th>\n",
       "      <th>A</th>\n",
       "      <th>B</th>\n",
       "    </tr>\n",
       "  </thead>\n",
       "  <tbody>\n",
       "    <tr>\n",
       "      <th>2024-08-15 00:00:00</th>\n",
       "      <td>0</td>\n",
       "      <td>6</td>\n",
       "    </tr>\n",
       "    <tr>\n",
       "      <th>2024-08-15 02:00:00</th>\n",
       "      <td>1</td>\n",
       "      <td>7</td>\n",
       "    </tr>\n",
       "    <tr>\n",
       "      <th>2024-08-15 04:00:00</th>\n",
       "      <td>2</td>\n",
       "      <td>8</td>\n",
       "    </tr>\n",
       "    <tr>\n",
       "      <th>2024-08-15 06:00:00</th>\n",
       "      <td>3</td>\n",
       "      <td>9</td>\n",
       "    </tr>\n",
       "    <tr>\n",
       "      <th>2024-08-15 08:00:00</th>\n",
       "      <td>4</td>\n",
       "      <td>10</td>\n",
       "    </tr>\n",
       "    <tr>\n",
       "      <th>2024-08-15 10:00:00</th>\n",
       "      <td>5</td>\n",
       "      <td>11</td>\n",
       "    </tr>\n",
       "  </tbody>\n",
       "</table>\n",
       "</div>"
      ],
      "text/plain": [
       "                     A   B\n",
       "2024-08-15 00:00:00  0   6\n",
       "2024-08-15 02:00:00  1   7\n",
       "2024-08-15 04:00:00  2   8\n",
       "2024-08-15 06:00:00  3   9\n",
       "2024-08-15 08:00:00  4  10\n",
       "2024-08-15 10:00:00  5  11"
      ]
     },
     "execution_count": 4,
     "metadata": {},
     "output_type": "execute_result"
    }
   ],
   "source": [
    "df = pd.DataFrame({'A': range(6), 'B': range(6, 12)}, \n",
    "                  index=pd.date_range(start='15/08/2024 00:00:00', freq='2h', periods=6))\n",
    "df"
   ]
  },
  {
   "cell_type": "markdown",
   "id": "f11b3981",
   "metadata": {
    "editable": true,
    "slideshow": {
     "slide_type": "slide"
    },
    "tags": []
   },
   "source": [
    "Let's resample the DataFrame with one value every 50 min:"
   ]
  },
  {
   "cell_type": "code",
   "execution_count": 5,
   "id": "05205059",
   "metadata": {},
   "outputs": [],
   "source": [
    "rs = df.resample('50min')"
   ]
  },
  {
   "cell_type": "markdown",
   "id": "8037303b",
   "metadata": {},
   "source": [
    "`rs` is an instance of type `Resampler`. It must be used with a rule  qui doit être appelé avec une règle that defines what to do with unexistant data. For instance `ffill`, for _'forward fill'_, fill missing values with the previous existing value."
   ]
  },
  {
   "cell_type": "code",
   "execution_count": 6,
   "id": "384eb6c3",
   "metadata": {
    "scrolled": true
   },
   "outputs": [
    {
     "data": {
      "text/html": [
       "<div>\n",
       "<style scoped>\n",
       "    .dataframe tbody tr th:only-of-type {\n",
       "        vertical-align: middle;\n",
       "    }\n",
       "\n",
       "    .dataframe tbody tr th {\n",
       "        vertical-align: top;\n",
       "    }\n",
       "\n",
       "    .dataframe thead th {\n",
       "        text-align: right;\n",
       "    }\n",
       "</style>\n",
       "<table border=\"1\" class=\"dataframe\">\n",
       "  <thead>\n",
       "    <tr style=\"text-align: right;\">\n",
       "      <th></th>\n",
       "      <th>A</th>\n",
       "      <th>B</th>\n",
       "    </tr>\n",
       "  </thead>\n",
       "  <tbody>\n",
       "    <tr>\n",
       "      <th>2024-08-15 00:00:00</th>\n",
       "      <td>0</td>\n",
       "      <td>6</td>\n",
       "    </tr>\n",
       "    <tr>\n",
       "      <th>2024-08-15 00:50:00</th>\n",
       "      <td>0</td>\n",
       "      <td>6</td>\n",
       "    </tr>\n",
       "    <tr>\n",
       "      <th>2024-08-15 01:40:00</th>\n",
       "      <td>0</td>\n",
       "      <td>6</td>\n",
       "    </tr>\n",
       "    <tr>\n",
       "      <th>2024-08-15 02:30:00</th>\n",
       "      <td>1</td>\n",
       "      <td>7</td>\n",
       "    </tr>\n",
       "    <tr>\n",
       "      <th>2024-08-15 03:20:00</th>\n",
       "      <td>1</td>\n",
       "      <td>7</td>\n",
       "    </tr>\n",
       "    <tr>\n",
       "      <th>2024-08-15 04:10:00</th>\n",
       "      <td>2</td>\n",
       "      <td>8</td>\n",
       "    </tr>\n",
       "    <tr>\n",
       "      <th>2024-08-15 05:00:00</th>\n",
       "      <td>2</td>\n",
       "      <td>8</td>\n",
       "    </tr>\n",
       "    <tr>\n",
       "      <th>2024-08-15 05:50:00</th>\n",
       "      <td>2</td>\n",
       "      <td>8</td>\n",
       "    </tr>\n",
       "    <tr>\n",
       "      <th>2024-08-15 06:40:00</th>\n",
       "      <td>3</td>\n",
       "      <td>9</td>\n",
       "    </tr>\n",
       "    <tr>\n",
       "      <th>2024-08-15 07:30:00</th>\n",
       "      <td>3</td>\n",
       "      <td>9</td>\n",
       "    </tr>\n",
       "    <tr>\n",
       "      <th>2024-08-15 08:20:00</th>\n",
       "      <td>4</td>\n",
       "      <td>10</td>\n",
       "    </tr>\n",
       "    <tr>\n",
       "      <th>2024-08-15 09:10:00</th>\n",
       "      <td>4</td>\n",
       "      <td>10</td>\n",
       "    </tr>\n",
       "    <tr>\n",
       "      <th>2024-08-15 10:00:00</th>\n",
       "      <td>5</td>\n",
       "      <td>11</td>\n",
       "    </tr>\n",
       "  </tbody>\n",
       "</table>\n",
       "</div>"
      ],
      "text/plain": [
       "                     A   B\n",
       "2024-08-15 00:00:00  0   6\n",
       "2024-08-15 00:50:00  0   6\n",
       "2024-08-15 01:40:00  0   6\n",
       "2024-08-15 02:30:00  1   7\n",
       "2024-08-15 03:20:00  1   7\n",
       "2024-08-15 04:10:00  2   8\n",
       "2024-08-15 05:00:00  2   8\n",
       "2024-08-15 05:50:00  2   8\n",
       "2024-08-15 06:40:00  3   9\n",
       "2024-08-15 07:30:00  3   9\n",
       "2024-08-15 08:20:00  4  10\n",
       "2024-08-15 09:10:00  4  10\n",
       "2024-08-15 10:00:00  5  11"
      ]
     },
     "execution_count": 6,
     "metadata": {},
     "output_type": "execute_result"
    }
   ],
   "source": [
    "rs.ffill()"
   ]
  },
  {
   "cell_type": "markdown",
   "id": "33690f69",
   "metadata": {
    "editable": true,
    "slideshow": {
     "slide_type": "slide"
    },
    "tags": []
   },
   "source": [
    "#### Downsampling\n",
    "\n",
    "Let's reduce the frequency from 2h to 4h. Values are averaged."
   ]
  },
  {
   "cell_type": "code",
   "execution_count": 8,
   "id": "a11316c1",
   "metadata": {},
   "outputs": [
    {
     "data": {
      "text/html": [
       "<div>\n",
       "<style scoped>\n",
       "    .dataframe tbody tr th:only-of-type {\n",
       "        vertical-align: middle;\n",
       "    }\n",
       "\n",
       "    .dataframe tbody tr th {\n",
       "        vertical-align: top;\n",
       "    }\n",
       "\n",
       "    .dataframe thead th {\n",
       "        text-align: right;\n",
       "    }\n",
       "</style>\n",
       "<table border=\"1\" class=\"dataframe\">\n",
       "  <thead>\n",
       "    <tr style=\"text-align: right;\">\n",
       "      <th></th>\n",
       "      <th>A</th>\n",
       "      <th>B</th>\n",
       "    </tr>\n",
       "  </thead>\n",
       "  <tbody>\n",
       "    <tr>\n",
       "      <th>2024-08-15 00:00:00</th>\n",
       "      <td>0.5</td>\n",
       "      <td>6.5</td>\n",
       "    </tr>\n",
       "    <tr>\n",
       "      <th>2024-08-15 04:00:00</th>\n",
       "      <td>2.5</td>\n",
       "      <td>8.5</td>\n",
       "    </tr>\n",
       "    <tr>\n",
       "      <th>2024-08-15 08:00:00</th>\n",
       "      <td>4.5</td>\n",
       "      <td>10.5</td>\n",
       "    </tr>\n",
       "  </tbody>\n",
       "</table>\n",
       "</div>"
      ],
      "text/plain": [
       "                       A     B\n",
       "2024-08-15 00:00:00  0.5   6.5\n",
       "2024-08-15 04:00:00  2.5   8.5\n",
       "2024-08-15 08:00:00  4.5  10.5"
      ]
     },
     "execution_count": 8,
     "metadata": {},
     "output_type": "execute_result"
    }
   ],
   "source": [
    "rs = df.resample('4h')\n",
    "rs.mean()"
   ]
  },
  {
   "cell_type": "markdown",
   "id": "febf0490",
   "metadata": {
    "editable": true,
    "slideshow": {
     "slide_type": "slide"
    },
    "tags": []
   },
   "source": [
    "## Indexing\n",
    "\n",
    "With a temporal index, one can use slicing methods but with date-like instances:"
   ]
  },
  {
   "cell_type": "code",
   "execution_count": 7,
   "id": "91abe163",
   "metadata": {},
   "outputs": [
    {
     "name": "stdout",
     "output_type": "stream",
     "text": [
      "2024-08-15 03:00:00\n",
      "2024-08-15 08:00:00\n"
     ]
    }
   ],
   "source": [
    "start = datetime(day=15, month=8, year=2024, hour=3)\n",
    "end = start + timedelta(hours=5)\n",
    "print(start, end, sep='\\n')"
   ]
  },
  {
   "cell_type": "code",
   "execution_count": 10,
   "id": "ac739ca9",
   "metadata": {},
   "outputs": [
    {
     "data": {
      "text/html": [
       "<div>\n",
       "<style scoped>\n",
       "    .dataframe tbody tr th:only-of-type {\n",
       "        vertical-align: middle;\n",
       "    }\n",
       "\n",
       "    .dataframe tbody tr th {\n",
       "        vertical-align: top;\n",
       "    }\n",
       "\n",
       "    .dataframe thead th {\n",
       "        text-align: right;\n",
       "    }\n",
       "</style>\n",
       "<table border=\"1\" class=\"dataframe\">\n",
       "  <thead>\n",
       "    <tr style=\"text-align: right;\">\n",
       "      <th></th>\n",
       "      <th>A</th>\n",
       "      <th>B</th>\n",
       "    </tr>\n",
       "  </thead>\n",
       "  <tbody>\n",
       "    <tr>\n",
       "      <th>2024-08-15 04:00:00</th>\n",
       "      <td>2</td>\n",
       "      <td>8</td>\n",
       "    </tr>\n",
       "    <tr>\n",
       "      <th>2024-08-15 06:00:00</th>\n",
       "      <td>3</td>\n",
       "      <td>9</td>\n",
       "    </tr>\n",
       "    <tr>\n",
       "      <th>2024-08-15 08:00:00</th>\n",
       "      <td>4</td>\n",
       "      <td>10</td>\n",
       "    </tr>\n",
       "  </tbody>\n",
       "</table>\n",
       "</div>"
      ],
      "text/plain": [
       "                     A   B\n",
       "2024-08-15 04:00:00  2   8\n",
       "2024-08-15 06:00:00  3   9\n",
       "2024-08-15 08:00:00  4  10"
      ]
     },
     "execution_count": 10,
     "metadata": {},
     "output_type": "execute_result"
    }
   ],
   "source": [
    "df.loc[start:end]   # everything from start to end\n",
    "                    # both are included since `loc` is label-based"
   ]
  },
  {
   "cell_type": "markdown",
   "id": "59428f11",
   "metadata": {
    "editable": true,
    "slideshow": {
     "slide_type": "slide"
    },
    "tags": []
   },
   "source": [
    "## `dt` accessor\n",
    "\n",
    "When temporal data is stored in a column, the __`dt` accessor__ provides date-specific methods:"
   ]
  },
  {
   "cell_type": "code",
   "execution_count": 8,
   "id": "3452c664",
   "metadata": {
    "scrolled": true
   },
   "outputs": [
    {
     "data": {
      "text/html": [
       "<div>\n",
       "<style scoped>\n",
       "    .dataframe tbody tr th:only-of-type {\n",
       "        vertical-align: middle;\n",
       "    }\n",
       "\n",
       "    .dataframe tbody tr th {\n",
       "        vertical-align: top;\n",
       "    }\n",
       "\n",
       "    .dataframe thead th {\n",
       "        text-align: right;\n",
       "    }\n",
       "</style>\n",
       "<table border=\"1\" class=\"dataframe\">\n",
       "  <thead>\n",
       "    <tr style=\"text-align: right;\">\n",
       "      <th></th>\n",
       "      <th>date</th>\n",
       "      <th>A</th>\n",
       "      <th>B</th>\n",
       "    </tr>\n",
       "  </thead>\n",
       "  <tbody>\n",
       "    <tr>\n",
       "      <th>0</th>\n",
       "      <td>2024-08-15 00:00:00</td>\n",
       "      <td>0</td>\n",
       "      <td>6</td>\n",
       "    </tr>\n",
       "    <tr>\n",
       "      <th>1</th>\n",
       "      <td>2024-08-15 02:00:00</td>\n",
       "      <td>1</td>\n",
       "      <td>7</td>\n",
       "    </tr>\n",
       "    <tr>\n",
       "      <th>2</th>\n",
       "      <td>2024-08-15 04:00:00</td>\n",
       "      <td>2</td>\n",
       "      <td>8</td>\n",
       "    </tr>\n",
       "    <tr>\n",
       "      <th>3</th>\n",
       "      <td>2024-08-15 06:00:00</td>\n",
       "      <td>3</td>\n",
       "      <td>9</td>\n",
       "    </tr>\n",
       "    <tr>\n",
       "      <th>4</th>\n",
       "      <td>2024-08-15 08:00:00</td>\n",
       "      <td>4</td>\n",
       "      <td>10</td>\n",
       "    </tr>\n",
       "    <tr>\n",
       "      <th>5</th>\n",
       "      <td>2024-08-15 10:00:00</td>\n",
       "      <td>5</td>\n",
       "      <td>11</td>\n",
       "    </tr>\n",
       "  </tbody>\n",
       "</table>\n",
       "</div>"
      ],
      "text/plain": [
       "                 date  A   B\n",
       "0 2024-08-15 00:00:00  0   6\n",
       "1 2024-08-15 02:00:00  1   7\n",
       "2 2024-08-15 04:00:00  2   8\n",
       "3 2024-08-15 06:00:00  3   9\n",
       "4 2024-08-15 08:00:00  4  10\n",
       "5 2024-08-15 10:00:00  5  11"
      ]
     },
     "execution_count": 8,
     "metadata": {},
     "output_type": "execute_result"
    }
   ],
   "source": [
    "df.index.name = 'date'\n",
    "df = df.reset_index()\n",
    "df"
   ]
  },
  {
   "cell_type": "markdown",
   "id": "cae6414c",
   "metadata": {
    "editable": true,
    "slideshow": {
     "slide_type": "slide"
    },
    "tags": []
   },
   "source": [
    "Let's have a look to all the methods and attributes of the `dt` object:"
   ]
  },
  {
   "cell_type": "code",
   "execution_count": 12,
   "id": "3c4daa41",
   "metadata": {},
   "outputs": [
    {
     "name": "stdout",
     "output_type": "stream",
     "text": [
      "ceil / date / day / day_name / day_of_week / day_of_year / dayofweek / dayofyear / days_in_month / daysinmonth / floor / freq / hour / is_leap_year / is_month_end / is_month_start / is_quarter_end / is_quarter_start / is_year_end / is_year_start / isocalendar / microsecond / minute / month / month_name / nanosecond / normalize / quarter / round / second / strftime / time / timetz / to_period / to_pydatetime / tz / tz_convert / tz_localize / week / weekday / weekofyear / year / "
     ]
    }
   ],
   "source": [
    "# listing of attributes and methods of object dt\n",
    "for attr in dir(df['date'].dt):\n",
    "    if not attr.startswith('_'):\n",
    "        print(attr, end=' / ')"
   ]
  },
  {
   "cell_type": "markdown",
   "id": "0b8f66fc",
   "metadata": {
    "editable": true,
    "slideshow": {
     "slide_type": "slide"
    },
    "tags": []
   },
   "source": [
    "For instance, one can get the hour of the day of a date-like column:"
   ]
  },
  {
   "cell_type": "code",
   "execution_count": 13,
   "id": "c3b44f96",
   "metadata": {
    "scrolled": true
   },
   "outputs": [
    {
     "data": {
      "text/html": [
       "<div>\n",
       "<style scoped>\n",
       "    .dataframe tbody tr th:only-of-type {\n",
       "        vertical-align: middle;\n",
       "    }\n",
       "\n",
       "    .dataframe tbody tr th {\n",
       "        vertical-align: top;\n",
       "    }\n",
       "\n",
       "    .dataframe thead th {\n",
       "        text-align: right;\n",
       "    }\n",
       "</style>\n",
       "<table border=\"1\" class=\"dataframe\">\n",
       "  <thead>\n",
       "    <tr style=\"text-align: right;\">\n",
       "      <th></th>\n",
       "      <th>date</th>\n",
       "      <th>A</th>\n",
       "      <th>B</th>\n",
       "      <th>Hour</th>\n",
       "    </tr>\n",
       "  </thead>\n",
       "  <tbody>\n",
       "    <tr>\n",
       "      <th>0</th>\n",
       "      <td>2024-08-15 00:00:00</td>\n",
       "      <td>0</td>\n",
       "      <td>6</td>\n",
       "      <td>0</td>\n",
       "    </tr>\n",
       "    <tr>\n",
       "      <th>1</th>\n",
       "      <td>2024-08-15 02:00:00</td>\n",
       "      <td>1</td>\n",
       "      <td>7</td>\n",
       "      <td>2</td>\n",
       "    </tr>\n",
       "    <tr>\n",
       "      <th>2</th>\n",
       "      <td>2024-08-15 04:00:00</td>\n",
       "      <td>2</td>\n",
       "      <td>8</td>\n",
       "      <td>4</td>\n",
       "    </tr>\n",
       "    <tr>\n",
       "      <th>3</th>\n",
       "      <td>2024-08-15 06:00:00</td>\n",
       "      <td>3</td>\n",
       "      <td>9</td>\n",
       "      <td>6</td>\n",
       "    </tr>\n",
       "    <tr>\n",
       "      <th>4</th>\n",
       "      <td>2024-08-15 08:00:00</td>\n",
       "      <td>4</td>\n",
       "      <td>10</td>\n",
       "      <td>8</td>\n",
       "    </tr>\n",
       "    <tr>\n",
       "      <th>5</th>\n",
       "      <td>2024-08-15 10:00:00</td>\n",
       "      <td>5</td>\n",
       "      <td>11</td>\n",
       "      <td>10</td>\n",
       "    </tr>\n",
       "  </tbody>\n",
       "</table>\n",
       "</div>"
      ],
      "text/plain": [
       "                 date  A   B  Hour\n",
       "0 2024-08-15 00:00:00  0   6     0\n",
       "1 2024-08-15 02:00:00  1   7     2\n",
       "2 2024-08-15 04:00:00  2   8     4\n",
       "3 2024-08-15 06:00:00  3   9     6\n",
       "4 2024-08-15 08:00:00  4  10     8\n",
       "5 2024-08-15 10:00:00  5  11    10"
      ]
     },
     "execution_count": 13,
     "metadata": {},
     "output_type": "execute_result"
    }
   ],
   "source": [
    "df['Hour'] = df['date'].dt.hour\n",
    "df"
   ]
  },
  {
   "cell_type": "markdown",
   "id": "ea3443c7",
   "metadata": {
    "editable": true,
    "slideshow": {
     "slide_type": "slide"
    },
    "tags": []
   },
   "source": [
    "## TimeDelta\n",
    "\n",
    "`pandas` can also handle date differences. \n",
    "\n",
    "Hereafter, the first date is substracted from the other. This operation returns the durations from this initial date, for all elements of `df['date']` (because `df['date']` is chronologically sorted)."
   ]
  },
  {
   "cell_type": "code",
   "execution_count": 9,
   "id": "07bdd738",
   "metadata": {},
   "outputs": [
    {
     "data": {
      "text/plain": [
       "0   0 days 00:00:00\n",
       "1   0 days 02:00:00\n",
       "2   0 days 04:00:00\n",
       "3   0 days 06:00:00\n",
       "4   0 days 08:00:00\n",
       "5   0 days 10:00:00\n",
       "Name: date, dtype: timedelta64[ns]"
      ]
     },
     "execution_count": 9,
     "metadata": {},
     "output_type": "execute_result"
    }
   ],
   "source": [
    "df['date'] - df.loc[0, 'date']"
   ]
  }
 ],
 "metadata": {
  "kernelspec": {
   "display_name": "Python 3 (ipykernel)",
   "language": "python",
   "name": "python3"
  },
  "language_info": {
   "codemirror_mode": {
    "name": "ipython",
    "version": 3
   },
   "file_extension": ".py",
   "mimetype": "text/x-python",
   "name": "python",
   "nbconvert_exporter": "python",
   "pygments_lexer": "ipython3",
   "version": "3.12.3"
  }
 },
 "nbformat": 4,
 "nbformat_minor": 5
}
