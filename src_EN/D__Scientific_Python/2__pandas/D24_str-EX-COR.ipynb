{
 "cells": [
  {
   "cell_type": "markdown",
   "id": "2fc10f35",
   "metadata": {},
   "source": [
    "Using the variable `sr` defined below, extract all the strings that are upper case."
   ]
  },
  {
   "cell_type": "code",
   "execution_count": 2,
   "id": "3cb460f5",
   "metadata": {},
   "outputs": [],
   "source": [
    "import pandas as pd\n",
    "from string import ascii_lowercase, ascii_uppercase\n",
    "import numpy as np\n",
    "\n",
    "ref = np.array(list(ascii_lowercase + ascii_uppercase))\n",
    "np.random.shuffle(ref)\n",
    "\n",
    "data = [f'{c1}{c2}' for c1 in ref[10:] for c2 in ref[:15]]\n",
    "sr = pd.Series(data)"
   ]
  },
  {
   "cell_type": "code",
   "execution_count": 3,
   "id": "ee709b45",
   "metadata": {},
   "outputs": [
    {
     "data": {
      "text/plain": [
       "17     FS\n",
       "18     FX\n",
       "19     FY\n",
       "26     FF\n",
       "27     FN\n",
       "       ..\n",
       "619    IY\n",
       "626    IF\n",
       "627    IN\n",
       "628    IC\n",
       "629    IU\n",
       "Length: 161, dtype: object"
      ]
     },
     "execution_count": 3,
     "metadata": {},
     "output_type": "execute_result"
    }
   ],
   "source": [
    "sr[sr.str.isupper()]"
   ]
  },
  {
   "cell_type": "markdown",
   "id": "8567a7f8",
   "metadata": {},
   "source": [
    "__Advanced__: extract all the strings whose first character is lower case and second character is upper case."
   ]
  },
  {
   "cell_type": "code",
   "execution_count": 4,
   "id": "835ec57b",
   "metadata": {},
   "outputs": [],
   "source": [
    "cond1 = sr.str[0].str.islower()\n",
    "cond2 = sr.str[1].str.isupper()\n"
   ]
  },
  {
   "cell_type": "code",
   "execution_count": 5,
   "id": "4f53c573",
   "metadata": {},
   "outputs": [
    {
     "data": {
      "text/plain": [
       "0       True\n",
       "1       True\n",
       "2       True\n",
       "3       True\n",
       "4       True\n",
       "       ...  \n",
       "625    False\n",
       "626    False\n",
       "627    False\n",
       "628    False\n",
       "629    False\n",
       "Length: 630, dtype: bool"
      ]
     },
     "execution_count": 5,
     "metadata": {},
     "output_type": "execute_result"
    }
   ],
   "source": [
    "cond1"
   ]
  },
  {
   "cell_type": "code",
   "execution_count": 6,
   "id": "f6d11286",
   "metadata": {},
   "outputs": [
    {
     "data": {
      "text/plain": [
       "0      False\n",
       "1      False\n",
       "2       True\n",
       "3       True\n",
       "4       True\n",
       "       ...  \n",
       "625    False\n",
       "626     True\n",
       "627     True\n",
       "628     True\n",
       "629     True\n",
       "Length: 630, dtype: bool"
      ]
     },
     "execution_count": 6,
     "metadata": {},
     "output_type": "execute_result"
    }
   ],
   "source": [
    "cond2"
   ]
  },
  {
   "cell_type": "code",
   "execution_count": 7,
   "id": "0d25c3c7",
   "metadata": {},
   "outputs": [
    {
     "data": {
      "text/plain": [
       "0      False\n",
       "1      False\n",
       "2       True\n",
       "3       True\n",
       "4       True\n",
       "       ...  \n",
       "625    False\n",
       "626    False\n",
       "627    False\n",
       "628    False\n",
       "629    False\n",
       "Length: 630, dtype: bool"
      ]
     },
     "execution_count": 7,
     "metadata": {},
     "output_type": "execute_result"
    }
   ],
   "source": [
    "cond1&cond2"
   ]
  },
  {
   "cell_type": "code",
   "execution_count": 8,
   "id": "d5351235",
   "metadata": {},
   "outputs": [
    {
     "data": {
      "text/plain": [
       "2      fS\n",
       "3      fX\n",
       "4      fY\n",
       "11     fF\n",
       "12     fN\n",
       "       ..\n",
       "574    sY\n",
       "581    sF\n",
       "582    sN\n",
       "583    sC\n",
       "584    sU\n",
       "Length: 133, dtype: object"
      ]
     },
     "execution_count": 8,
     "metadata": {},
     "output_type": "execute_result"
    }
   ],
   "source": [
    "sr[cond1 & cond2]"
   ]
  }
 ],
 "metadata": {
  "kernelspec": {
   "display_name": "Python 3 (ipykernel)",
   "language": "python",
   "name": "python3"
  },
  "language_info": {
   "codemirror_mode": {
    "name": "ipython",
    "version": 3
   },
   "file_extension": ".py",
   "mimetype": "text/x-python",
   "name": "python",
   "nbconvert_exporter": "python",
   "pygments_lexer": "ipython3",
   "version": "3.10.12"
  }
 },
 "nbformat": 4,
 "nbformat_minor": 5
}
