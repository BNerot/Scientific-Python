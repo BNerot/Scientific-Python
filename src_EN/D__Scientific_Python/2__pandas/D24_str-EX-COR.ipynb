{
 "cells": [
  {
   "cell_type": "markdown",
   "id": "2fc10f35",
   "metadata": {},
   "source": [
    "Using the variable `sr` defined below, extract all the strings that are upper case."
   ]
  },
  {
   "cell_type": "code",
   "execution_count": 27,
   "id": "3cb460f5",
   "metadata": {},
   "outputs": [],
   "source": [
    "import pandas as pd\n",
    "from string import ascii_lowercase, ascii_uppercase\n",
    "from numpy.random import choice\n",
    "\n",
    "ref = np.array(list(ascii_lowercase + ascii_uppercase))\n",
    "np.random.shuffle(ref)\n",
    "\n",
    "data = [f'{c1}{c2}' for c1 in ref[10:] for c2 in ref[:15]]\n",
    "sr = pd.Series(data)"
   ]
  },
  {
   "cell_type": "code",
   "execution_count": 31,
   "id": "ee709b45",
   "metadata": {},
   "outputs": [
    {
     "data": {
      "text/plain": [
       "32     FP\n",
       "33     FX\n",
       "34     FM\n",
       "35     FU\n",
       "36     FS\n",
       "       ..\n",
       "620    VU\n",
       "621    VS\n",
       "623    VW\n",
       "627    VF\n",
       "628    VL\n",
       "Length: 160, dtype: object"
      ]
     },
     "execution_count": 31,
     "metadata": {},
     "output_type": "execute_result"
    }
   ],
   "source": [
    "sr[sr.str.isupper()]"
   ]
  },
  {
   "cell_type": "markdown",
   "id": "8567a7f8",
   "metadata": {},
   "source": [
    "__Advanced__: extract all the strings whose first character is lower case and second character is upper case."
   ]
  },
  {
   "cell_type": "code",
   "execution_count": 37,
   "id": "835ec57b",
   "metadata": {},
   "outputs": [
    {
     "data": {
      "text/plain": [
       "2      fP\n",
       "3      fX\n",
       "4      fM\n",
       "5      fU\n",
       "6      fS\n",
       "       ..\n",
       "605    kU\n",
       "606    kS\n",
       "608    kW\n",
       "612    kF\n",
       "613    kL\n",
       "Length: 176, dtype: object"
      ]
     },
     "execution_count": 37,
     "metadata": {},
     "output_type": "execute_result"
    }
   ],
   "source": [
    "sr[sr.str[0].str.islower() & sr.str[1].str.isupper()]"
   ]
  }
 ],
 "metadata": {
  "kernelspec": {
   "display_name": "Python 3 (ipykernel)",
   "language": "python",
   "name": "python3"
  },
  "language_info": {
   "codemirror_mode": {
    "name": "ipython",
    "version": 3
   },
   "file_extension": ".py",
   "mimetype": "text/x-python",
   "name": "python",
   "nbconvert_exporter": "python",
   "pygments_lexer": "ipython3",
   "version": "3.10.12"
  }
 },
 "nbformat": 4,
 "nbformat_minor": 5
}
