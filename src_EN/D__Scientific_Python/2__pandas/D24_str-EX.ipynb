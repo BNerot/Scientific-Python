{
 "cells": [
  {
   "cell_type": "markdown",
   "id": "c7996dc4",
   "metadata": {},
   "source": [
    "Using the variable `sr` defined below, extract all the strings that are upper case."
   ]
  },
  {
   "cell_type": "code",
   "execution_count": 3,
   "id": "34e6e772",
   "metadata": {},
   "outputs": [
    {
     "data": {
      "text/plain": [
       "0      bs\n",
       "1      bh\n",
       "2      bl\n",
       "3      by\n",
       "4      ba\n",
       "       ..\n",
       "625    Pb\n",
       "626    PK\n",
       "627    PH\n",
       "628    Pe\n",
       "629    Pc\n",
       "Length: 630, dtype: object"
      ]
     },
     "execution_count": 3,
     "metadata": {},
     "output_type": "execute_result"
    }
   ],
   "source": [
    "import pandas as pd\n",
    "from string import ascii_lowercase, ascii_uppercase\n",
    "import numpy as np\n",
    "\n",
    "ref = np.array(list(ascii_lowercase + ascii_uppercase))\n",
    "np.random.shuffle(ref)\n",
    "\n",
    "data = [f'{c1}{c2}' for c1 in ref[10:] for c2 in ref[:15]]\n",
    "sr = pd.Series(data)\n",
    "sr"
   ]
  },
  {
   "cell_type": "markdown",
   "id": "716f3a52",
   "metadata": {},
   "source": [
    "__Advanced__: extract all the strings whose first character is lower case and second character is upper case."
   ]
  }
 ],
 "metadata": {
  "kernelspec": {
   "display_name": "Python 3 (ipykernel)",
   "language": "python",
   "name": "python3"
  },
  "language_info": {
   "codemirror_mode": {
    "name": "ipython",
    "version": 3
   },
   "file_extension": ".py",
   "mimetype": "text/x-python",
   "name": "python",
   "nbconvert_exporter": "python",
   "pygments_lexer": "ipython3",
   "version": "3.10.12"
  }
 },
 "nbformat": 4,
 "nbformat_minor": 5
}
