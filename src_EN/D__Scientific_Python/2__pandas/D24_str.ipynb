{
 "cells": [
  {
   "cell_type": "markdown",
   "id": "bd4a0c13",
   "metadata": {},
   "source": [
    "## Introduction\n",
    "\n",
    "Similarly to the `dt` accessor that can handle dates, a `Series` containing strings can be managed using the `str` accessor."
   ]
  },
  {
   "cell_type": "code",
   "execution_count": 1,
   "id": "fa48066d",
   "metadata": {
    "scrolled": true
   },
   "outputs": [
    {
     "data": {
      "text/html": [
       "<div>\n",
       "<style scoped>\n",
       "    .dataframe tbody tr th:only-of-type {\n",
       "        vertical-align: middle;\n",
       "    }\n",
       "\n",
       "    .dataframe tbody tr th {\n",
       "        vertical-align: top;\n",
       "    }\n",
       "\n",
       "    .dataframe thead th {\n",
       "        text-align: right;\n",
       "    }\n",
       "</style>\n",
       "<table border=\"1\" class=\"dataframe\">\n",
       "  <thead>\n",
       "    <tr style=\"text-align: right;\">\n",
       "      <th></th>\n",
       "      <th>text</th>\n",
       "      <th>other column</th>\n",
       "    </tr>\n",
       "  </thead>\n",
       "  <tbody>\n",
       "    <tr>\n",
       "      <th>0</th>\n",
       "      <td>aCag</td>\n",
       "      <td>0</td>\n",
       "    </tr>\n",
       "    <tr>\n",
       "      <th>1</th>\n",
       "      <td>53Bc^</td>\n",
       "      <td>1</td>\n",
       "    </tr>\n",
       "    <tr>\n",
       "      <th>2</th>\n",
       "      <td>cc</td>\n",
       "      <td>2</td>\n",
       "    </tr>\n",
       "    <tr>\n",
       "      <th>3</th>\n",
       "      <td>/c_8cd45</td>\n",
       "      <td>3</td>\n",
       "    </tr>\n",
       "    <tr>\n",
       "      <th>4</th>\n",
       "      <td>F98</td>\n",
       "      <td>4</td>\n",
       "    </tr>\n",
       "    <tr>\n",
       "      <th>5</th>\n",
       "      <td>__m</td>\n",
       "      <td>5</td>\n",
       "    </tr>\n",
       "  </tbody>\n",
       "</table>\n",
       "</div>"
      ],
      "text/plain": [
       "       text  other column\n",
       "0      aCag             0\n",
       "1     53Bc^             1\n",
       "2        cc             2\n",
       "3  /c_8cd45             3\n",
       "4       F98             4\n",
       "5       __m             5"
      ]
     },
     "execution_count": 1,
     "metadata": {},
     "output_type": "execute_result"
    }
   ],
   "source": [
    "import pandas as pd\n",
    "df = pd.DataFrame({'text': ['aCag', '53Bc^', 'cc', '/c_8cd45', 'F98', '__m'], 'other column': range(6)})\n",
    "df"
   ]
  },
  {
   "cell_type": "markdown",
   "id": "cb0ee195",
   "metadata": {},
   "source": [
    "## Existing methods\n",
    "\n",
    "Below are presented methods and attributes of the `str` accessor"
   ]
  },
  {
   "cell_type": "code",
   "execution_count": 2,
   "id": "b5842260",
   "metadata": {},
   "outputs": [
    {
     "name": "stdout",
     "output_type": "stream",
     "text": [
      "capitalize / casefold / cat / center / contains / count / decode / encode / endswith / extract / extractall / find / findall / fullmatch / get / get_dummies / index / isalnum / isalpha / isdecimal / isdigit / islower / isnumeric / isspace / istitle / isupper / join / len / ljust / lower / lstrip / match / normalize / pad / partition / removeprefix / removesuffix / repeat / replace / rfind / rindex / rjust / rpartition / rsplit / rstrip / slice / slice_replace / split / startswith / strip / swapcase / title / translate / upper / wrap / zfill / "
     ]
    }
   ],
   "source": [
    "# listing of attributes and methods of object dt\n",
    "for attr in dir(df['text'].str):\n",
    "    if not attr.startswith('_'):\n",
    "        print(attr, end=' / ')"
   ]
  },
  {
   "cell_type": "markdown",
   "id": "a0edbffd",
   "metadata": {},
   "source": [
    "Many of them also exist with the native Python `str` type. In other words, what you can do with a Python string can be done at large scale on a `pandas` Series containing strings:"
   ]
  },
  {
   "cell_type": "code",
   "execution_count": 3,
   "id": "6e3f49ca",
   "metadata": {
    "scrolled": true
   },
   "outputs": [
    {
     "name": "stdout",
     "output_type": "stream",
     "text": [
      "capitalize / casefold / center / count / encode / endswith / expandtabs / find / format / format_map / index / isalnum / isalpha / isascii / isdecimal / isdigit / isidentifier / islower / isnumeric / isprintable / isspace / istitle / isupper / join / ljust / lower / lstrip / maketrans / partition / removeprefix / removesuffix / replace / rfind / rindex / rjust / rpartition / rsplit / rstrip / split / splitlines / startswith / strip / swapcase / title / translate / upper / zfill\n"
     ]
    }
   ],
   "source": [
    "print(*[attr for attr in dir(str) if not attr.startswith('_')], sep=' / ')"
   ]
  },
  {
   "cell_type": "markdown",
   "id": "fef60e51",
   "metadata": {},
   "source": [
    "## Simple examples"
   ]
  },
  {
   "cell_type": "code",
   "execution_count": 4,
   "id": "3fa7e14e",
   "metadata": {
    "scrolled": true
   },
   "outputs": [
    {
     "data": {
      "text/plain": [
       "0        acag\n",
       "1       53bc^\n",
       "2          cc\n",
       "3    /c_8cd45\n",
       "4         f98\n",
       "5         __m\n",
       "Name: text, dtype: object"
      ]
     },
     "execution_count": 4,
     "metadata": {},
     "output_type": "execute_result"
    }
   ],
   "source": [
    "df['text'].str.lower()   # lower case"
   ]
  },
  {
   "cell_type": "code",
   "execution_count": 5,
   "id": "00dfdb6c",
   "metadata": {
    "scrolled": false
   },
   "outputs": [
    {
     "data": {
      "text/plain": [
       "0    4\n",
       "1    5\n",
       "2    2\n",
       "3    8\n",
       "4    3\n",
       "5    3\n",
       "Name: text, dtype: int64"
      ]
     },
     "execution_count": 5,
     "metadata": {},
     "output_type": "execute_result"
    }
   ],
   "source": [
    "df['text'].str.len()   # length"
   ]
  },
  {
   "cell_type": "markdown",
   "id": "64321dc4",
   "metadata": {},
   "source": [
    "### Indexing"
   ]
  },
  {
   "cell_type": "code",
   "execution_count": 6,
   "id": "1e4b7d5a",
   "metadata": {},
   "outputs": [
    {
     "data": {
      "text/plain": [
       "0    ag\n",
       "1    Bc\n",
       "2      \n",
       "3    _8\n",
       "4     8\n",
       "5     m\n",
       "Name: text, dtype: object"
      ]
     },
     "execution_count": 6,
     "metadata": {},
     "output_type": "execute_result"
    }
   ],
   "source": [
    "df['text'].str[2:4]"
   ]
  },
  {
   "cell_type": "markdown",
   "id": "8872b5eb",
   "metadata": {},
   "source": [
    "### Splitting\n",
    "\n",
    "Splitting means building different strings by cutting the original one at the location of a special character. Below, the splitting operation results in the substrings being stored in a list, for each row of the Series."
   ]
  },
  {
   "cell_type": "code",
   "execution_count": 7,
   "id": "2b3be9f6",
   "metadata": {},
   "outputs": [
    {
     "data": {
      "text/plain": [
       "0          [aCag]\n",
       "1        [53B, ^]\n",
       "2          [, , ]\n",
       "3    [/, _8, d45]\n",
       "4           [F98]\n",
       "5           [__m]\n",
       "Name: text, dtype: object"
      ]
     },
     "execution_count": 7,
     "metadata": {},
     "output_type": "execute_result"
    }
   ],
   "source": [
    "df['text'].str.split('c')"
   ]
  },
  {
   "cell_type": "markdown",
   "id": "d8641122",
   "metadata": {},
   "source": [
    "The `expand` argument makes it possible to get distinct columns."
   ]
  },
  {
   "cell_type": "code",
   "execution_count": 8,
   "id": "ee3d1520",
   "metadata": {},
   "outputs": [
    {
     "data": {
      "text/html": [
       "<div>\n",
       "<style scoped>\n",
       "    .dataframe tbody tr th:only-of-type {\n",
       "        vertical-align: middle;\n",
       "    }\n",
       "\n",
       "    .dataframe tbody tr th {\n",
       "        vertical-align: top;\n",
       "    }\n",
       "\n",
       "    .dataframe thead th {\n",
       "        text-align: right;\n",
       "    }\n",
       "</style>\n",
       "<table border=\"1\" class=\"dataframe\">\n",
       "  <thead>\n",
       "    <tr style=\"text-align: right;\">\n",
       "      <th></th>\n",
       "      <th>0</th>\n",
       "      <th>1</th>\n",
       "      <th>2</th>\n",
       "    </tr>\n",
       "  </thead>\n",
       "  <tbody>\n",
       "    <tr>\n",
       "      <th>0</th>\n",
       "      <td>aCag</td>\n",
       "      <td>None</td>\n",
       "      <td>None</td>\n",
       "    </tr>\n",
       "    <tr>\n",
       "      <th>1</th>\n",
       "      <td>53B</td>\n",
       "      <td>^</td>\n",
       "      <td>None</td>\n",
       "    </tr>\n",
       "    <tr>\n",
       "      <th>2</th>\n",
       "      <td></td>\n",
       "      <td></td>\n",
       "      <td></td>\n",
       "    </tr>\n",
       "    <tr>\n",
       "      <th>3</th>\n",
       "      <td>/</td>\n",
       "      <td>_8</td>\n",
       "      <td>d45</td>\n",
       "    </tr>\n",
       "    <tr>\n",
       "      <th>4</th>\n",
       "      <td>F98</td>\n",
       "      <td>None</td>\n",
       "      <td>None</td>\n",
       "    </tr>\n",
       "    <tr>\n",
       "      <th>5</th>\n",
       "      <td>__m</td>\n",
       "      <td>None</td>\n",
       "      <td>None</td>\n",
       "    </tr>\n",
       "  </tbody>\n",
       "</table>\n",
       "</div>"
      ],
      "text/plain": [
       "      0     1     2\n",
       "0  aCag  None  None\n",
       "1   53B     ^  None\n",
       "2                  \n",
       "3     /    _8   d45\n",
       "4   F98  None  None\n",
       "5   __m  None  None"
      ]
     },
     "execution_count": 8,
     "metadata": {},
     "output_type": "execute_result"
    }
   ],
   "source": [
    "df['text'].str.split('c', expand=True)"
   ]
  },
  {
   "cell_type": "markdown",
   "id": "5cc21d98",
   "metadata": {},
   "source": [
    "### Suffixes and prefixes"
   ]
  },
  {
   "cell_type": "code",
   "execution_count": 9,
   "id": "4f584ced",
   "metadata": {},
   "outputs": [
    {
     "data": {
      "text/plain": [
       "0    False\n",
       "1     True\n",
       "2    False\n",
       "3    False\n",
       "4    False\n",
       "5    False\n",
       "Name: text, dtype: bool"
      ]
     },
     "execution_count": 9,
     "metadata": {},
     "output_type": "execute_result"
    }
   ],
   "source": [
    "df['text'].str.startswith('53')"
   ]
  },
  {
   "cell_type": "code",
   "execution_count": 10,
   "id": "d84c92c0",
   "metadata": {},
   "outputs": [
    {
     "data": {
      "text/plain": [
       "0    False\n",
       "1    False\n",
       "2    False\n",
       "3    False\n",
       "4    False\n",
       "5     True\n",
       "Name: text, dtype: bool"
      ]
     },
     "execution_count": 10,
     "metadata": {},
     "output_type": "execute_result"
    }
   ],
   "source": [
    "df['text'].str.endswith('m')"
   ]
  },
  {
   "cell_type": "markdown",
   "id": "23001120",
   "metadata": {},
   "source": [
    "## Advanced: _regex_\n",
    "\n",
    "### Introduction\n",
    "\n",
    "The **_regex_** word means _regular expression_. A regex is a group of characters built in a very specific order in order to describe a generic type of strings.\n",
    "\n",
    "Regex can be used on very large amount of data to detect some strings with a particular meaning.\n",
    "\n",
    "Documentation of the [Python version of regex is accessible here](https://docs.python.org/3/library/re.html).\n",
    "\n",
    "__Regex is a difficult notion of computer engineering__. A very simple case is presented here after.\n",
    "\n",
    "### Case study definition\n",
    "\n",
    "Let's suppose one has some experimental values coming from different sensors."
   ]
  },
  {
   "cell_type": "code",
   "execution_count": 11,
   "id": "2e9d0d0a",
   "metadata": {},
   "outputs": [
    {
     "data": {
      "text/html": [
       "<div>\n",
       "<style scoped>\n",
       "    .dataframe tbody tr th:only-of-type {\n",
       "        vertical-align: middle;\n",
       "    }\n",
       "\n",
       "    .dataframe tbody tr th {\n",
       "        vertical-align: top;\n",
       "    }\n",
       "\n",
       "    .dataframe thead th {\n",
       "        text-align: right;\n",
       "    }\n",
       "</style>\n",
       "<table border=\"1\" class=\"dataframe\">\n",
       "  <thead>\n",
       "    <tr style=\"text-align: right;\">\n",
       "      <th></th>\n",
       "      <th>sensors</th>\n",
       "      <th>values</th>\n",
       "    </tr>\n",
       "  </thead>\n",
       "  <tbody>\n",
       "    <tr>\n",
       "      <th>0</th>\n",
       "      <td>AB-45-PL</td>\n",
       "      <td>0</td>\n",
       "    </tr>\n",
       "    <tr>\n",
       "      <th>1</th>\n",
       "      <td>ZB-76-PM</td>\n",
       "      <td>1</td>\n",
       "    </tr>\n",
       "    <tr>\n",
       "      <th>2</th>\n",
       "      <td>AB-48-KL</td>\n",
       "      <td>2</td>\n",
       "    </tr>\n",
       "    <tr>\n",
       "      <th>3</th>\n",
       "      <td>AB-47-KL</td>\n",
       "      <td>3</td>\n",
       "    </tr>\n",
       "    <tr>\n",
       "      <th>4</th>\n",
       "      <td>AB-47-KL</td>\n",
       "      <td>4</td>\n",
       "    </tr>\n",
       "    <tr>\n",
       "      <th>5</th>\n",
       "      <td>87-PA-98</td>\n",
       "      <td>5</td>\n",
       "    </tr>\n",
       "    <tr>\n",
       "      <th>6</th>\n",
       "      <td>AB-45-PL</td>\n",
       "      <td>6</td>\n",
       "    </tr>\n",
       "    <tr>\n",
       "      <th>7</th>\n",
       "      <td>ZB-76-PM</td>\n",
       "      <td>7</td>\n",
       "    </tr>\n",
       "    <tr>\n",
       "      <th>8</th>\n",
       "      <td>AB-46-KL</td>\n",
       "      <td>8</td>\n",
       "    </tr>\n",
       "    <tr>\n",
       "      <th>9</th>\n",
       "      <td>AB-45-PL</td>\n",
       "      <td>9</td>\n",
       "    </tr>\n",
       "  </tbody>\n",
       "</table>\n",
       "</div>"
      ],
      "text/plain": [
       "    sensors  values\n",
       "0  AB-45-PL       0\n",
       "1  ZB-76-PM       1\n",
       "2  AB-48-KL       2\n",
       "3  AB-47-KL       3\n",
       "4  AB-47-KL       4\n",
       "5  87-PA-98       5\n",
       "6  AB-45-PL       6\n",
       "7  ZB-76-PM       7\n",
       "8  AB-46-KL       8\n",
       "9  AB-45-PL       9"
      ]
     },
     "execution_count": 11,
     "metadata": {},
     "output_type": "execute_result"
    }
   ],
   "source": [
    "import numpy as np\n",
    "npr = np.random.default_rng(42)\n",
    "# `npr.choice` randomly takes 10 values from a certain iterable\n",
    "sensors = npr.choice(('AB-45-PL', 'AB-46-KL', 'AB-47-KL', 'AB-48-KL', 'ZB-76-PM', '87-PA-98'), 10)\n",
    "values = range(len(sensors))\n",
    "df = pd.DataFrame({'sensors': sensors, 'values': values})\n",
    "df"
   ]
  },
  {
   "cell_type": "markdown",
   "id": "04ff1aa3",
   "metadata": {},
   "source": [
    "#### Question 1\n",
    "\n",
    "How to access all sensors whose name contains both an 'A' and a '7'?"
   ]
  },
  {
   "cell_type": "markdown",
   "id": "8d3f0868",
   "metadata": {},
   "source": [
    "#### Solution 1\n",
    "\n",
    "Let's use the `str.contains` method, 2 times. We use the `&` (and) operator to assemble the two conditions."
   ]
  },
  {
   "cell_type": "code",
   "execution_count": 12,
   "id": "f861e487",
   "metadata": {},
   "outputs": [
    {
     "data": {
      "text/html": [
       "<div>\n",
       "<style scoped>\n",
       "    .dataframe tbody tr th:only-of-type {\n",
       "        vertical-align: middle;\n",
       "    }\n",
       "\n",
       "    .dataframe tbody tr th {\n",
       "        vertical-align: top;\n",
       "    }\n",
       "\n",
       "    .dataframe thead th {\n",
       "        text-align: right;\n",
       "    }\n",
       "</style>\n",
       "<table border=\"1\" class=\"dataframe\">\n",
       "  <thead>\n",
       "    <tr style=\"text-align: right;\">\n",
       "      <th></th>\n",
       "      <th>sensors</th>\n",
       "      <th>values</th>\n",
       "    </tr>\n",
       "  </thead>\n",
       "  <tbody>\n",
       "    <tr>\n",
       "      <th>3</th>\n",
       "      <td>AB-47-KL</td>\n",
       "      <td>3</td>\n",
       "    </tr>\n",
       "    <tr>\n",
       "      <th>4</th>\n",
       "      <td>AB-47-KL</td>\n",
       "      <td>4</td>\n",
       "    </tr>\n",
       "    <tr>\n",
       "      <th>5</th>\n",
       "      <td>87-PA-98</td>\n",
       "      <td>5</td>\n",
       "    </tr>\n",
       "  </tbody>\n",
       "</table>\n",
       "</div>"
      ],
      "text/plain": [
       "    sensors  values\n",
       "3  AB-47-KL       3\n",
       "4  AB-47-KL       4\n",
       "5  87-PA-98       5"
      ]
     },
     "execution_count": 12,
     "metadata": {},
     "output_type": "execute_result"
    }
   ],
   "source": [
    "cond1 = df['sensors'].str.contains('A', regex=False)\n",
    "cond2 = df['sensors'].str.contains('7', regex=False)\n",
    "df[cond1 & cond2]"
   ]
  },
  {
   "cell_type": "markdown",
   "id": "18fe2e63",
   "metadata": {},
   "source": [
    "#### Question 2\n",
    "\n",
    "How to get all sensors whose name contains:\n",
    "\n",
    "- either 'A' or 'Z'\n",
    "- then '7'\n",
    "\n",
    "\n",
    "#### Solution 2\n",
    "\n",
    "It would be pretty difficult with `str.contains` without regex. Thus, let's build a regex pattern:"
   ]
  },
  {
   "cell_type": "code",
   "execution_count": 13,
   "id": "c7e444a5",
   "metadata": {},
   "outputs": [
    {
     "name": "stderr",
     "output_type": "stream",
     "text": [
      "/tmp/ipykernel_116620/2985439971.py:2: UserWarning: This pattern is interpreted as a regular expression, and has match groups. To actually get the groups, use str.extract.\n",
      "  df[df['sensors'].str.contains(pattern, regex=True)]\n"
     ]
    },
    {
     "data": {
      "text/html": [
       "<div>\n",
       "<style scoped>\n",
       "    .dataframe tbody tr th:only-of-type {\n",
       "        vertical-align: middle;\n",
       "    }\n",
       "\n",
       "    .dataframe tbody tr th {\n",
       "        vertical-align: top;\n",
       "    }\n",
       "\n",
       "    .dataframe thead th {\n",
       "        text-align: right;\n",
       "    }\n",
       "</style>\n",
       "<table border=\"1\" class=\"dataframe\">\n",
       "  <thead>\n",
       "    <tr style=\"text-align: right;\">\n",
       "      <th></th>\n",
       "      <th>sensors</th>\n",
       "      <th>values</th>\n",
       "    </tr>\n",
       "  </thead>\n",
       "  <tbody>\n",
       "    <tr>\n",
       "      <th>1</th>\n",
       "      <td>ZB-76-PM</td>\n",
       "      <td>1</td>\n",
       "    </tr>\n",
       "    <tr>\n",
       "      <th>3</th>\n",
       "      <td>AB-47-KL</td>\n",
       "      <td>3</td>\n",
       "    </tr>\n",
       "    <tr>\n",
       "      <th>4</th>\n",
       "      <td>AB-47-KL</td>\n",
       "      <td>4</td>\n",
       "    </tr>\n",
       "    <tr>\n",
       "      <th>7</th>\n",
       "      <td>ZB-76-PM</td>\n",
       "      <td>7</td>\n",
       "    </tr>\n",
       "  </tbody>\n",
       "</table>\n",
       "</div>"
      ],
      "text/plain": [
       "    sensors  values\n",
       "1  ZB-76-PM       1\n",
       "3  AB-47-KL       3\n",
       "4  AB-47-KL       4\n",
       "7  ZB-76-PM       7"
      ]
     },
     "execution_count": 13,
     "metadata": {},
     "output_type": "execute_result"
    }
   ],
   "source": [
    "pattern = '.*(A|Z).*7.*'\n",
    "df[df['sensors'].str.contains(pattern, regex=True)]"
   ]
  },
  {
   "cell_type": "markdown",
   "id": "c212bf99",
   "metadata": {},
   "source": [
    "Some explanations about the pattern:\n",
    "\n",
    "- `.*` means: look for every possible characters\n",
    "- `(A|Z)` means: look for either an 'A' or a 'Z'\n",
    "- `7` means: look for a '7'\n",
    "\n",
    "Note that order matters: the '7' must come after the 'A' or 'Z'"
   ]
  }
 ],
 "metadata": {
  "kernelspec": {
   "display_name": "Python 3 (ipykernel)",
   "language": "python",
   "name": "python3"
  },
  "language_info": {
   "codemirror_mode": {
    "name": "ipython",
    "version": 3
   },
   "file_extension": ".py",
   "mimetype": "text/x-python",
   "name": "python",
   "nbconvert_exporter": "python",
   "pygments_lexer": "ipython3",
   "version": "3.10.12"
  }
 },
 "nbformat": 4,
 "nbformat_minor": 5
}
