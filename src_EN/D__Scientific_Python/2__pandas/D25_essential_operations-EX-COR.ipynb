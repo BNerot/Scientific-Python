{
 "cells": [
  {
   "cell_type": "markdown",
   "id": "72c714b9",
   "metadata": {
    "editable": true,
    "slideshow": {
     "slide_type": "slide"
    },
    "tags": []
   },
   "source": [
    "1. Load the `iris.csv` data file in a DataFrame\n",
    "2. Compute the mean sepal width per value of sepal length.\n",
    "\n",
    "   Compute the number of different sepal width values per value of sepal length\n",
    "3. Apply a centered rolling max function to the petal width, with a size 5 window\n",
    "\n",
    "\n",
    "__Advanced__: \n",
    "\n",
    "1. Transform the data into a Series with a multi index of 2 dimensions with the first dimension being the 'species' column and the second dimension being the features. The content of this object are the numerical values. \n",
    "2. Access the petal length of all specimen 'setosa'"
   ]
  },
  {
   "cell_type": "code",
   "execution_count": 2,
   "id": "6fd83d56",
   "metadata": {
    "editable": true,
    "slideshow": {
     "slide_type": "slide"
    },
    "tags": []
   },
   "outputs": [],
   "source": [
    "import pandas as pd\n",
    "\n",
    "df = pd.read_csv('iris.csv')"
   ]
  },
  {
   "cell_type": "code",
   "execution_count": 3,
   "id": "0f485626",
   "metadata": {
    "editable": true,
    "slideshow": {
     "slide_type": ""
    },
    "tags": []
   },
   "outputs": [
    {
     "data": {
      "text/html": [
       "<div>\n",
       "<style scoped>\n",
       "    .dataframe tbody tr th:only-of-type {\n",
       "        vertical-align: middle;\n",
       "    }\n",
       "\n",
       "    .dataframe tbody tr th {\n",
       "        vertical-align: top;\n",
       "    }\n",
       "\n",
       "    .dataframe thead th {\n",
       "        text-align: right;\n",
       "    }\n",
       "</style>\n",
       "<table border=\"1\" class=\"dataframe\">\n",
       "  <thead>\n",
       "    <tr style=\"text-align: right;\">\n",
       "      <th></th>\n",
       "      <th>sepal_length</th>\n",
       "      <th>sepal_width</th>\n",
       "      <th>petal_length</th>\n",
       "      <th>petal_width</th>\n",
       "      <th>species</th>\n",
       "    </tr>\n",
       "  </thead>\n",
       "  <tbody>\n",
       "    <tr>\n",
       "      <th>0</th>\n",
       "      <td>5.1</td>\n",
       "      <td>3.5</td>\n",
       "      <td>1.4</td>\n",
       "      <td>0.2</td>\n",
       "      <td>setosa</td>\n",
       "    </tr>\n",
       "    <tr>\n",
       "      <th>1</th>\n",
       "      <td>4.9</td>\n",
       "      <td>3.0</td>\n",
       "      <td>1.4</td>\n",
       "      <td>0.2</td>\n",
       "      <td>setosa</td>\n",
       "    </tr>\n",
       "    <tr>\n",
       "      <th>2</th>\n",
       "      <td>4.7</td>\n",
       "      <td>3.2</td>\n",
       "      <td>1.3</td>\n",
       "      <td>0.2</td>\n",
       "      <td>setosa</td>\n",
       "    </tr>\n",
       "    <tr>\n",
       "      <th>3</th>\n",
       "      <td>4.6</td>\n",
       "      <td>3.1</td>\n",
       "      <td>1.5</td>\n",
       "      <td>0.2</td>\n",
       "      <td>setosa</td>\n",
       "    </tr>\n",
       "    <tr>\n",
       "      <th>4</th>\n",
       "      <td>5.0</td>\n",
       "      <td>3.6</td>\n",
       "      <td>1.4</td>\n",
       "      <td>0.2</td>\n",
       "      <td>setosa</td>\n",
       "    </tr>\n",
       "    <tr>\n",
       "      <th>...</th>\n",
       "      <td>...</td>\n",
       "      <td>...</td>\n",
       "      <td>...</td>\n",
       "      <td>...</td>\n",
       "      <td>...</td>\n",
       "    </tr>\n",
       "    <tr>\n",
       "      <th>145</th>\n",
       "      <td>6.7</td>\n",
       "      <td>3.0</td>\n",
       "      <td>5.2</td>\n",
       "      <td>2.3</td>\n",
       "      <td>virginica</td>\n",
       "    </tr>\n",
       "    <tr>\n",
       "      <th>146</th>\n",
       "      <td>6.3</td>\n",
       "      <td>2.5</td>\n",
       "      <td>5.0</td>\n",
       "      <td>1.9</td>\n",
       "      <td>virginica</td>\n",
       "    </tr>\n",
       "    <tr>\n",
       "      <th>147</th>\n",
       "      <td>6.5</td>\n",
       "      <td>3.0</td>\n",
       "      <td>5.2</td>\n",
       "      <td>2.0</td>\n",
       "      <td>virginica</td>\n",
       "    </tr>\n",
       "    <tr>\n",
       "      <th>148</th>\n",
       "      <td>6.2</td>\n",
       "      <td>3.4</td>\n",
       "      <td>5.4</td>\n",
       "      <td>2.3</td>\n",
       "      <td>virginica</td>\n",
       "    </tr>\n",
       "    <tr>\n",
       "      <th>149</th>\n",
       "      <td>5.9</td>\n",
       "      <td>3.0</td>\n",
       "      <td>5.1</td>\n",
       "      <td>1.8</td>\n",
       "      <td>virginica</td>\n",
       "    </tr>\n",
       "  </tbody>\n",
       "</table>\n",
       "<p>150 rows × 5 columns</p>\n",
       "</div>"
      ],
      "text/plain": [
       "     sepal_length  sepal_width  petal_length  petal_width    species\n",
       "0             5.1          3.5           1.4          0.2     setosa\n",
       "1             4.9          3.0           1.4          0.2     setosa\n",
       "2             4.7          3.2           1.3          0.2     setosa\n",
       "3             4.6          3.1           1.5          0.2     setosa\n",
       "4             5.0          3.6           1.4          0.2     setosa\n",
       "..            ...          ...           ...          ...        ...\n",
       "145           6.7          3.0           5.2          2.3  virginica\n",
       "146           6.3          2.5           5.0          1.9  virginica\n",
       "147           6.5          3.0           5.2          2.0  virginica\n",
       "148           6.2          3.4           5.4          2.3  virginica\n",
       "149           5.9          3.0           5.1          1.8  virginica\n",
       "\n",
       "[150 rows x 5 columns]"
      ]
     },
     "execution_count": 3,
     "metadata": {},
     "output_type": "execute_result"
    }
   ],
   "source": [
    "df"
   ]
  },
  {
   "cell_type": "code",
   "execution_count": 4,
   "id": "790832dc",
   "metadata": {
    "editable": true,
    "slideshow": {
     "slide_type": "slide"
    },
    "tags": []
   },
   "outputs": [
    {
     "data": {
      "text/plain": [
       "sepal_length\n",
       "4.3    3.000000\n",
       "4.4    3.033333\n",
       "4.5    2.300000\n",
       "4.6    3.325000\n",
       "4.7    3.200000\n",
       "Name: sepal_width, dtype: float64"
      ]
     },
     "execution_count": 4,
     "metadata": {},
     "output_type": "execute_result"
    }
   ],
   "source": [
    "df.groupby('sepal_length')['sepal_width'].mean().head()"
   ]
  },
  {
   "cell_type": "code",
   "execution_count": 5,
   "id": "5c3518a1",
   "metadata": {
    "editable": true,
    "slideshow": {
     "slide_type": "slide"
    },
    "tags": []
   },
   "outputs": [
    {
     "data": {
      "text/plain": [
       "sepal_length\n",
       "4.3    1\n",
       "4.4    3\n",
       "4.5    1\n",
       "4.6    4\n",
       "4.7    2\n",
       "Name: sepal_width, dtype: int64"
      ]
     },
     "execution_count": 5,
     "metadata": {},
     "output_type": "execute_result"
    }
   ],
   "source": [
    "df.groupby('sepal_length')['sepal_width'].count().head()"
   ]
  },
  {
   "cell_type": "code",
   "execution_count": 6,
   "id": "9a4faf68",
   "metadata": {
    "editable": true,
    "slideshow": {
     "slide_type": "slide"
    },
    "tags": []
   },
   "outputs": [
    {
     "data": {
      "text/plain": [
       "0      NaN\n",
       "1      NaN\n",
       "2      0.2\n",
       "3      0.4\n",
       "4      0.4\n",
       "      ... \n",
       "145    2.5\n",
       "146    2.5\n",
       "147    2.3\n",
       "148    NaN\n",
       "149    NaN\n",
       "Name: petal_width, Length: 150, dtype: float64"
      ]
     },
     "execution_count": 6,
     "metadata": {},
     "output_type": "execute_result"
    }
   ],
   "source": [
    "df.rolling(5, center=True)['petal_width'].max()"
   ]
  },
  {
   "cell_type": "markdown",
   "id": "671813e3",
   "metadata": {
    "editable": true,
    "slideshow": {
     "slide_type": ""
    },
    "tags": []
   },
   "source": [
    "__Advanced__"
   ]
  },
  {
   "cell_type": "code",
   "execution_count": 8,
   "id": "63e6a02c",
   "metadata": {
    "editable": true,
    "slideshow": {
     "slide_type": ""
    },
    "tags": []
   },
   "outputs": [
    {
     "data": {
      "text/plain": [
       "species                \n",
       "setosa     sepal_length    5.1\n",
       "           sepal_width     3.5\n",
       "           petal_length    1.4\n",
       "           petal_width     0.2\n",
       "           sepal_length    4.9\n",
       "                          ... \n",
       "virginica  petal_width     2.3\n",
       "           sepal_length    5.9\n",
       "           sepal_width     3.0\n",
       "           petal_length    5.1\n",
       "           petal_width     1.8\n",
       "Length: 600, dtype: float64"
      ]
     },
     "execution_count": 8,
     "metadata": {},
     "output_type": "execute_result"
    }
   ],
   "source": [
    "sr = df.set_index('species').stack()\n",
    "sr"
   ]
  },
  {
   "cell_type": "code",
   "execution_count": 9,
   "id": "805cfec1-9bea-45da-b91b-33299f4a29f9",
   "metadata": {
    "editable": true,
    "slideshow": {
     "slide_type": ""
    },
    "tags": []
   },
   "outputs": [
    {
     "name": "stderr",
     "output_type": "stream",
     "text": [
      "/tmp/ipykernel_22178/1471764986.py:1: PerformanceWarning: indexing past lexsort depth may impact performance.\n",
      "  sr.loc[('setosa', 'petal_length')]\n"
     ]
    },
    {
     "data": {
      "text/plain": [
       "species              \n",
       "setosa   petal_length    1.4\n",
       "         petal_length    1.4\n",
       "         petal_length    1.3\n",
       "         petal_length    1.5\n",
       "         petal_length    1.4\n",
       "         petal_length    1.7\n",
       "         petal_length    1.4\n",
       "         petal_length    1.5\n",
       "         petal_length    1.4\n",
       "         petal_length    1.5\n",
       "         petal_length    1.5\n",
       "         petal_length    1.6\n",
       "         petal_length    1.4\n",
       "         petal_length    1.1\n",
       "         petal_length    1.2\n",
       "         petal_length    1.5\n",
       "         petal_length    1.3\n",
       "         petal_length    1.4\n",
       "         petal_length    1.7\n",
       "         petal_length    1.5\n",
       "         petal_length    1.7\n",
       "         petal_length    1.5\n",
       "         petal_length    1.0\n",
       "         petal_length    1.7\n",
       "         petal_length    1.9\n",
       "         petal_length    1.6\n",
       "         petal_length    1.6\n",
       "         petal_length    1.5\n",
       "         petal_length    1.4\n",
       "         petal_length    1.6\n",
       "         petal_length    1.6\n",
       "         petal_length    1.5\n",
       "         petal_length    1.5\n",
       "         petal_length    1.4\n",
       "         petal_length    1.5\n",
       "         petal_length    1.2\n",
       "         petal_length    1.3\n",
       "         petal_length    1.4\n",
       "         petal_length    1.3\n",
       "         petal_length    1.5\n",
       "         petal_length    1.3\n",
       "         petal_length    1.3\n",
       "         petal_length    1.3\n",
       "         petal_length    1.6\n",
       "         petal_length    1.9\n",
       "         petal_length    1.4\n",
       "         petal_length    1.6\n",
       "         petal_length    1.4\n",
       "         petal_length    1.5\n",
       "         petal_length    1.4\n",
       "dtype: float64"
      ]
     },
     "execution_count": 9,
     "metadata": {},
     "output_type": "execute_result"
    }
   ],
   "source": [
    "sr.loc[('setosa', 'petal_length')]\n"
   ]
  },
  {
   "cell_type": "code",
   "execution_count": null,
   "id": "1ed64509-9c0e-4852-8c40-2453c37c291e",
   "metadata": {
    "editable": true,
    "slideshow": {
     "slide_type": ""
    },
    "tags": []
   },
   "outputs": [],
   "source": []
  }
 ],
 "metadata": {
  "kernelspec": {
   "display_name": "Python 3 (ipykernel)",
   "language": "python",
   "name": "python3"
  },
  "language_info": {
   "codemirror_mode": {
    "name": "ipython",
    "version": 3
   },
   "file_extension": ".py",
   "mimetype": "text/x-python",
   "name": "python",
   "nbconvert_exporter": "python",
   "pygments_lexer": "ipython3",
   "version": "3.12.3"
  }
 },
 "nbformat": 4,
 "nbformat_minor": 5
}
