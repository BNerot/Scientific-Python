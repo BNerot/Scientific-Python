{
 "cells": [
  {
   "cell_type": "markdown",
   "id": "dfdba353",
   "metadata": {},
   "source": [
    "1. Load the `iris.csv` data file in a DataFrame\n",
    "2. Compute the mean sepal width per value of sepal length.\n",
    "\n",
    "   Compute the number of different sepal width values per value of sepal length.\n",
    "3. Apply a centered rolling max function to the petal width, with a size 5 window\n",
    "\n",
    "\n",
    "__Advanced__: \n",
    "\n",
    "1. transform the data to obtain a multi index of 2 dimensions with the first dimension being the 'species' column. \n",
    "2. access the petal length of all specimen 'setosa'"
   ]
  }
 ],
 "metadata": {
  "kernelspec": {
   "display_name": "Python 3 (ipykernel)",
   "language": "python",
   "name": "python3"
  },
  "language_info": {
   "codemirror_mode": {
    "name": "ipython",
    "version": 3
   },
   "file_extension": ".py",
   "mimetype": "text/x-python",
   "name": "python",
   "nbconvert_exporter": "python",
   "pygments_lexer": "ipython3",
   "version": "3.10.12"
  }
 },
 "nbformat": 4,
 "nbformat_minor": 5
}
