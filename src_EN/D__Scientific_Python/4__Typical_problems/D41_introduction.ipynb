{
 "cells": [
  {
   "cell_type": "markdown",
   "id": "5c99f739",
   "metadata": {},
   "source": [
    "## Many kinds of scientific problems\n",
    "\n",
    "The scientific questions that arise in biology, mecanics, etc... are all different from each other. Moreover, some work are more experimental-based and others have a strong numerical dimension:\n",
    "\n",
    "- equations solving\n",
    "- search for functions optimum\n",
    "- statistical analysis\n",
    "- real time data acquisition\n",
    "- etc...\n",
    "\n",
    "\n",
    "## Some dedicated libraries\n",
    "\n",
    "Python is suitable for scientific computing:\n",
    "\n",
    "1. Everything you interact with in Python an object with methods and attributes\n",
    "2. To solve a problem:\n",
    "\n",
    "    1. one define some objects that represent some mathematical or physical properties.\n",
    "    2. these objects interacts with each other using a well documented API \n",
    "\n",
    "The definition of suitable objects can be difficult (step 2.A). Thus, hundreds of open source dedicated packages did it for you. `numpy`, `pandas` and `matplotlib` are particular examples of these since many libraries are built on top of them. \n",
    "\n",
    "For instance, a `numpy` array is of type __`np.ndarray`__: it can store some temperature values which average can be calculated using `.mean()`.\n",
    "\n",
    "\n",
    "## Some very common problems\n",
    "\n",
    "Some packages are very famous in scientific computing. Let's focus on:\n",
    "\n",
    "- `scipy`: typically used in optimization problems\n",
    "\n",
    "- `scikit-learn`: typically used in machine learning problems\n",
    "\n",
    "- `sympy`: designed for natural mathematical processing"
   ]
  }
 ],
 "metadata": {
  "kernelspec": {
   "display_name": "Python 3 (ipykernel)",
   "language": "python",
   "name": "python3"
  },
  "language_info": {
   "codemirror_mode": {
    "name": "ipython",
    "version": 3
   },
   "file_extension": ".py",
   "mimetype": "text/x-python",
   "name": "python",
   "nbconvert_exporter": "python",
   "pygments_lexer": "ipython3",
   "version": "3.10.12"
  }
 },
 "nbformat": 4,
 "nbformat_minor": 5
}
