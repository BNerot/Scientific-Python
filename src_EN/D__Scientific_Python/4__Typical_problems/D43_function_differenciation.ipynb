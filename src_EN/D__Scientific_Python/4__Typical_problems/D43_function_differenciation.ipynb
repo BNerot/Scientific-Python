{
 "cells": [
  {
   "cell_type": "markdown",
   "id": "ea29a6b4",
   "metadata": {
    "editable": true,
    "slideshow": {
     "slide_type": "slide"
    },
    "tags": []
   },
   "source": [
    "## Case study definition\n",
    "\n",
    "Let's define a function with a complicated expression:\n",
    "\n",
    "\n",
    "$ f: (x, y) \\rightarrow  \\cos{\\left[(xy + (x-4)^2 + \\arctan{((y+3)^2)})x\\right]} $\n",
    "\n",
    "With $x > 0$ and $y > 0$.\n",
    "\n",
    "`sympy` wil be used to compute partial derivatives of this function.\n",
    "\n"
   ]
  },
  {
   "cell_type": "markdown",
   "id": "9fe0ab65",
   "metadata": {
    "editable": true,
    "slideshow": {
     "slide_type": "slide"
    },
    "tags": []
   },
   "source": [
    "## Key idea of `sympy`\n",
    "\n",
    "`sympy` can handle mathematical objects in a formal way, i.e. __without using numerical discretization but relying on the properties of the defined objects__.\n"
   ]
  },
  {
   "cell_type": "markdown",
   "id": "ecc1b17d-323b-4456-9b89-b4759da38e42",
   "metadata": {
    "editable": true,
    "slideshow": {
     "slide_type": "slide"
    },
    "tags": []
   },
   "source": [
    "\n",
    "With `sympy`, objects are defined with a mathematical meaning that goes beyond the software meaning of traditional Python code. Then some operations are performed on these objects: \n",
    "\n",
    "- differenciation\n",
    "- integration\n",
    "- limits\n",
    "- etc...\n"
   ]
  },
  {
   "cell_type": "markdown",
   "id": "c3cbb59e",
   "metadata": {
    "editable": true,
    "slideshow": {
     "slide_type": "slide"
    },
    "tags": []
   },
   "source": [
    "## Code"
   ]
  },
  {
   "cell_type": "markdown",
   "id": "e73f1c5d",
   "metadata": {
    "editable": true,
    "slideshow": {
     "slide_type": "slide"
    },
    "tags": []
   },
   "source": [
    "### Mathematical objects declaration\n",
    "\n",
    "Let's define two mathematical variables `x` and `y`. `sympy` is told these variables must take positive real values, using `positive=True`."
   ]
  },
  {
   "cell_type": "code",
   "execution_count": 1,
   "id": "d9e70efd",
   "metadata": {},
   "outputs": [],
   "source": [
    "import sympy as sym\n",
    "\n",
    "x = sym.Symbol('x', positive=True)\n",
    "y = sym.Symbol('y', positive=True)"
   ]
  },
  {
   "cell_type": "markdown",
   "id": "b2bbf4d4",
   "metadata": {},
   "source": [
    "Then the function is defined:"
   ]
  },
  {
   "cell_type": "code",
   "execution_count": 2,
   "id": "cefd016f",
   "metadata": {
    "scrolled": true
   },
   "outputs": [
    {
     "data": {
      "text/latex": [
       "$\\displaystyle \\left( \\left( x, \\  y\\right) \\mapsto \\cos{\\left(x \\left(x y + \\left(x - 4\\right)^{2} + \\operatorname{atan}{\\left(\\left(y + 3\\right)^{2} \\right)}\\right) \\right)} \\right)$"
      ],
      "text/plain": [
       "Lambda((x, y), cos(x*(x*y + (x - 4)**2 + atan((y + 3)**2))))"
      ]
     },
     "execution_count": 2,
     "metadata": {},
     "output_type": "execute_result"
    }
   ],
   "source": [
    "f = sym.Lambda((x, y), \n",
    "               sym.cos((x*y + (x-4)**2 + sym.atan((y+3)**2))*x))\n",
    "f"
   ]
  },
  {
   "cell_type": "markdown",
   "id": "66e5e153-02b0-4519-b988-f931ffaaa8a7",
   "metadata": {
    "editable": true,
    "slideshow": {
     "slide_type": ""
    },
    "tags": []
   },
   "source": [
    "__Be careful!__ Functions cos, atan and log are the one of `sympy`!\n"
   ]
  },
  {
   "cell_type": "markdown",
   "id": "e4bb30da",
   "metadata": {
    "editable": true,
    "slideshow": {
     "slide_type": "slide"
    },
    "tags": []
   },
   "source": [
    "\n",
    "The function can be evaluated at a specific point:\n"
   ]
  },
  {
   "cell_type": "code",
   "execution_count": 3,
   "id": "44fe0767",
   "metadata": {
    "editable": true,
    "slideshow": {
     "slide_type": ""
    },
    "tags": []
   },
   "outputs": [],
   "source": [
    "function_call = f(2, 4)"
   ]
  },
  {
   "cell_type": "markdown",
   "id": "4dada954",
   "metadata": {
    "editable": true,
    "slideshow": {
     "slide_type": ""
    },
    "tags": []
   },
   "source": [
    "Yet, `evalf` must be used to get a numerical approximation. `evalf` returns a `sympy`-related type, it can be converted using `float`:"
   ]
  },
  {
   "cell_type": "code",
   "execution_count": 4,
   "id": "b72fa78f",
   "metadata": {
    "editable": true,
    "scrolled": true,
    "slideshow": {
     "slide_type": ""
    },
    "tags": []
   },
   "outputs": [
    {
     "name": "stdout",
     "output_type": "stream",
     "text": [
      "<class 'sympy.core.numbers.Float'>\n",
      "-0.3868788252007259\n"
     ]
    }
   ],
   "source": [
    "print(type(function_call.evalf()))\n",
    "print(float(function_call.evalf()))"
   ]
  },
  {
   "cell_type": "markdown",
   "id": "f63e5c17",
   "metadata": {
    "editable": true,
    "slideshow": {
     "slide_type": "slide"
    },
    "tags": []
   },
   "source": [
    "### Operations on defined objects\n",
    "\n",
    "Let's compute the partial derivative of `f` with respect to $x$, using `diff`:"
   ]
  },
  {
   "cell_type": "code",
   "execution_count": 5,
   "id": "6cc0155b",
   "metadata": {},
   "outputs": [
    {
     "data": {
      "text/latex": [
       "$\\displaystyle - \\left(x y + x \\left(2 x + y - 8\\right) + \\left(x - 4\\right)^{2} + \\operatorname{atan}{\\left(\\left(y + 3\\right)^{2} \\right)}\\right) \\sin{\\left(x \\left(x y + \\left(x - 4\\right)^{2} + \\operatorname{atan}{\\left(\\left(y + 3\\right)^{2} \\right)}\\right) \\right)}$"
      ],
      "text/plain": [
       "-(x*y + x*(2*x + y - 8) + (x - 4)**2 + atan((y + 3)**2))*sin(x*(x*y + (x - 4)**2 + atan((y + 3)**2)))"
      ]
     },
     "execution_count": 5,
     "metadata": {},
     "output_type": "execute_result"
    }
   ],
   "source": [
    "f(x, y).diff(x)"
   ]
  },
  {
   "cell_type": "markdown",
   "id": "b04549dc",
   "metadata": {
    "editable": true,
    "slideshow": {
     "slide_type": "slide"
    },
    "tags": []
   },
   "source": [
    "Or compute the second derivative with respect to $x$ and then the first derivative with respect to $y$:"
   ]
  },
  {
   "cell_type": "code",
   "execution_count": 6,
   "id": "3878b865",
   "metadata": {
    "editable": true,
    "scrolled": true,
    "slideshow": {
     "slide_type": ""
    },
    "tags": []
   },
   "outputs": [
    {
     "data": {
      "text/latex": [
       "$\\displaystyle - 2 x \\left(x + \\frac{2 \\left(y + 3\\right)}{\\left(y + 3\\right)^{4} + 1}\\right) \\left(3 x + y - 8\\right) \\cos{\\left(x \\left(x y + \\left(x - 4\\right)^{2} + \\operatorname{atan}{\\left(\\left(y + 3\\right)^{2} \\right)}\\right) \\right)} + x \\left(x + \\frac{2 \\left(y + 3\\right)}{\\left(y + 3\\right)^{4} + 1}\\right) \\left(x y + x \\left(2 x + y - 8\\right) + \\left(x - 4\\right)^{2} + \\operatorname{atan}{\\left(\\left(y + 3\\right)^{2} \\right)}\\right)^{2} \\sin{\\left(x \\left(x y + \\left(x - 4\\right)^{2} + \\operatorname{atan}{\\left(\\left(y + 3\\right)^{2} \\right)}\\right) \\right)} - 4 \\left(x + \\frac{y + 3}{\\left(y + 3\\right)^{4} + 1}\\right) \\left(x y + x \\left(2 x + y - 8\\right) + \\left(x - 4\\right)^{2} + \\operatorname{atan}{\\left(\\left(y + 3\\right)^{2} \\right)}\\right) \\cos{\\left(x \\left(x y + \\left(x - 4\\right)^{2} + \\operatorname{atan}{\\left(\\left(y + 3\\right)^{2} \\right)}\\right) \\right)} - 2 \\sin{\\left(x \\left(x y + \\left(x - 4\\right)^{2} + \\operatorname{atan}{\\left(\\left(y + 3\\right)^{2} \\right)}\\right) \\right)}$"
      ],
      "text/plain": [
       "-2*x*(x + 2*(y + 3)/((y + 3)**4 + 1))*(3*x + y - 8)*cos(x*(x*y + (x - 4)**2 + atan((y + 3)**2))) + x*(x + 2*(y + 3)/((y + 3)**4 + 1))*(x*y + x*(2*x + y - 8) + (x - 4)**2 + atan((y + 3)**2))**2*sin(x*(x*y + (x - 4)**2 + atan((y + 3)**2))) - 4*(x + (y + 3)/((y + 3)**4 + 1))*(x*y + x*(2*x + y - 8) + (x - 4)**2 + atan((y + 3)**2))*cos(x*(x*y + (x - 4)**2 + atan((y + 3)**2))) - 2*sin(x*(x*y + (x - 4)**2 + atan((y + 3)**2)))"
      ]
     },
     "execution_count": 6,
     "metadata": {},
     "output_type": "execute_result"
    }
   ],
   "source": [
    "der = f(x, y).diff(x, 2, y)\n",
    "der"
   ]
  },
  {
   "cell_type": "markdown",
   "id": "2ce7f843",
   "metadata": {
    "editable": true,
    "slideshow": {
     "slide_type": "slide"
    },
    "tags": []
   },
   "source": [
    "In this expression, $x$ and $y$ are still unknown. Let's replace $x$ using `subs`:"
   ]
  },
  {
   "cell_type": "code",
   "execution_count": 8,
   "id": "3e90f661",
   "metadata": {
    "editable": true,
    "scrolled": true,
    "slideshow": {
     "slide_type": ""
    },
    "tags": []
   },
   "outputs": [
    {
     "data": {
      "text/latex": [
       "$\\displaystyle \\frac{- 10 \\left(y + 7\\right) \\left(2 y + 5 \\left(y + 3\\right)^{4} + 11\\right) \\cos{\\left(25 y + 5 \\operatorname{atan}{\\left(\\left(y + 3\\right)^{2} \\right)} + 5 \\right)} - 2 \\left(\\left(y + 3\\right)^{4} + 1\\right) \\sin{\\left(25 y + 5 \\operatorname{atan}{\\left(\\left(y + 3\\right)^{2} \\right)} + 5 \\right)} - 4 \\left(y + 5 \\left(y + 3\\right)^{4} + 8\\right) \\left(10 y + \\operatorname{atan}{\\left(\\left(y + 3\\right)^{2} \\right)} + 11\\right) \\cos{\\left(25 y + 5 \\operatorname{atan}{\\left(\\left(y + 3\\right)^{2} \\right)} + 5 \\right)} + 5 \\left(2 y + 5 \\left(y + 3\\right)^{4} + 11\\right) \\left(10 y + \\operatorname{atan}{\\left(\\left(y + 3\\right)^{2} \\right)} + 11\\right)^{2} \\sin{\\left(25 y + 5 \\operatorname{atan}{\\left(\\left(y + 3\\right)^{2} \\right)} + 5 \\right)}}{\\left(y + 3\\right)^{4} + 1}$"
      ],
      "text/plain": [
       "(-10*(y + 7)*(2*y + 5*(y + 3)**4 + 11)*cos(25*y + 5*atan((y + 3)**2) + 5) - 2*((y + 3)**4 + 1)*sin(25*y + 5*atan((y + 3)**2) + 5) - 4*(y + 5*(y + 3)**4 + 8)*(10*y + atan((y + 3)**2) + 11)*cos(25*y + 5*atan((y + 3)**2) + 5) + 5*(2*y + 5*(y + 3)**4 + 11)*(10*y + atan((y + 3)**2) + 11)**2*sin(25*y + 5*atan((y + 3)**2) + 5))/((y + 3)**4 + 1)"
      ]
     },
     "execution_count": 8,
     "metadata": {},
     "output_type": "execute_result"
    }
   ],
   "source": [
    "der = der.subs({x: 5})\n",
    "der"
   ]
  },
  {
   "cell_type": "markdown",
   "id": "2fdd9eca",
   "metadata": {
    "editable": true,
    "slideshow": {
     "slide_type": "slide"
    },
    "tags": []
   },
   "source": [
    "### `numpy` conversion\n",
    "\n",
    "The evaluation of `der` is not fast. Thus it can be converted to a `numpy` function using `lambdify`. Then evaluation on arrays is possible:"
   ]
  },
  {
   "cell_type": "code",
   "execution_count": 9,
   "id": "d25157b1",
   "metadata": {
    "scrolled": true
   },
   "outputs": [
    {
     "data": {
      "text/plain": [
       "array([  -1618.36732557,   -8543.34409677,  -44619.86174987,\n",
       "       -132966.53918376, -279318.28704865])"
      ]
     },
     "execution_count": 9,
     "metadata": {},
     "output_type": "execute_result"
    }
   ],
   "source": [
    "import numpy as np\n",
    "numpy_func = sym.lambdify(y, der)\n",
    "Y = np.linspace(0, 10, 5)\n",
    "numpy_func(Y)"
   ]
  },
  {
   "cell_type": "markdown",
   "id": "5602a602",
   "metadata": {
    "editable": true,
    "slideshow": {
     "slide_type": "slide"
    },
    "tags": []
   },
   "source": [
    "## When to use `sympy`"
   ]
  },
  {
   "cell_type": "markdown",
   "id": "a74ec9ba",
   "metadata": {},
   "source": [
    "`sympy` can provide exact mathematical solutions __for simple problems only__.  Thus, it can be used to check the results of some very specific calculation steps performed in a more numerical way."
   ]
  }
 ],
 "metadata": {
  "kernelspec": {
   "display_name": "Python 3 (ipykernel)",
   "language": "python",
   "name": "python3"
  },
  "language_info": {
   "codemirror_mode": {
    "name": "ipython",
    "version": 3
   },
   "file_extension": ".py",
   "mimetype": "text/x-python",
   "name": "python",
   "nbconvert_exporter": "python",
   "pygments_lexer": "ipython3",
   "version": "3.12.3"
  }
 },
 "nbformat": 4,
 "nbformat_minor": 5
}
