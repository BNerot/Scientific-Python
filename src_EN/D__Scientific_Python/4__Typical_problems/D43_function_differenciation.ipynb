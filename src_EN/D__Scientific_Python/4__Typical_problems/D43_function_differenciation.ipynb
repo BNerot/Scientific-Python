{
 "cells": [
  {
   "cell_type": "markdown",
   "id": "ea29a6b4",
   "metadata": {},
   "source": [
    "## Case study definition\n",
    "\n",
    "Let's define a function with a complicated expression:\n",
    "\n",
    "\n",
    "$ f: (x, y) \\rightarrow  \\cos{\\left[(xy + (x-4)^2 + \\arctan{((y+3)^2)})x\\right]} $\n",
    "\n",
    "With $x > 0$ and $y > 0$.\n",
    "\n",
    "`sympy` wil be used to compute partial derivatives of this function.\n",
    "\n"
   ]
  },
  {
   "cell_type": "markdown",
   "id": "9fe0ab65",
   "metadata": {},
   "source": [
    "## Key idea of `sympy`\n",
    "\n",
    "`sympy` can handle mathematical objects in a formal way, i.e. __without using numerical discretization but relying on the properties of the defined objects__.\n",
    "\n",
    "With `sympy`, objects are defined with a mathematical meaning that goes beyond the software meaning of traditional Python code. Then some operations are performed on these objects: \n",
    "\n",
    "- differenciation\n",
    "- integration\n",
    "- limits\n",
    "- etc...\n"
   ]
  },
  {
   "cell_type": "markdown",
   "id": "c3cbb59e",
   "metadata": {},
   "source": [
    "## Code"
   ]
  },
  {
   "cell_type": "markdown",
   "id": "e73f1c5d",
   "metadata": {},
   "source": [
    "### Mathematical objects declaration\n",
    "\n",
    "Let's define two mathematical variables `x` and `y`. `sympy` is told these variables must take positive real values, using `positive=True`."
   ]
  },
  {
   "cell_type": "code",
   "execution_count": 2,
   "id": "d9e70efd",
   "metadata": {},
   "outputs": [],
   "source": [
    "import sympy as sym\n",
    "\n",
    "x = sym.Symbol('x', positive=True)\n",
    "y = sym.Symbol('y', positive=True)"
   ]
  },
  {
   "cell_type": "markdown",
   "id": "b2bbf4d4",
   "metadata": {},
   "source": [
    "Then the function is defined:"
   ]
  },
  {
   "cell_type": "code",
   "execution_count": 3,
   "id": "cefd016f",
   "metadata": {
    "scrolled": true
   },
   "outputs": [
    {
     "data": {
      "text/latex": [
       "$\\displaystyle \\left( \\left( x, \\  y\\right) \\mapsto \\cos{\\left(x \\left(x y + \\left(x - 4\\right)^{2} + \\operatorname{atan}{\\left(\\left(y + 3\\right)^{2} \\right)}\\right) \\right)} \\right)$"
      ],
      "text/plain": [
       "Lambda((x, y), cos(x*(x*y + (x - 4)**2 + atan((y + 3)**2))))"
      ]
     },
     "execution_count": 3,
     "metadata": {},
     "output_type": "execute_result"
    }
   ],
   "source": [
    "f = sym.Lambda((x, y), \n",
    "               sym.cos((x*y + (x-4)**2 + sym.atan((y+3)**2))*x))\n",
    "f"
   ]
  },
  {
   "cell_type": "markdown",
   "id": "e4bb30da",
   "metadata": {},
   "source": [
    "__Be careful!__ Functions cos, atan and log are the one of `sympy`!\n",
    "\n",
    "Then the function can be evaluated at a specific point:\n"
   ]
  },
  {
   "cell_type": "code",
   "execution_count": 4,
   "id": "44fe0767",
   "metadata": {},
   "outputs": [
    {
     "data": {
      "text/latex": [
       "$\\displaystyle \\cos{\\left(2 \\operatorname{atan}{\\left(49 \\right)} + 24 \\right)}$"
      ],
      "text/plain": [
       "cos(2*atan(49) + 24)"
      ]
     },
     "execution_count": 4,
     "metadata": {},
     "output_type": "execute_result"
    }
   ],
   "source": [
    "f(2, 4)"
   ]
  },
  {
   "cell_type": "markdown",
   "id": "4dada954",
   "metadata": {},
   "source": [
    "Yet, `evalf` must be used to get a numerical approximation. `evalf` returns a `sympy`-related type, it can be converted using `float`:"
   ]
  },
  {
   "cell_type": "code",
   "execution_count": 5,
   "id": "b72fa78f",
   "metadata": {
    "scrolled": true
   },
   "outputs": [
    {
     "name": "stdout",
     "output_type": "stream",
     "text": [
      "<class 'sympy.core.numbers.Float'>\n"
     ]
    },
    {
     "data": {
      "text/plain": [
       "-0.3868788252007259"
      ]
     },
     "execution_count": 5,
     "metadata": {},
     "output_type": "execute_result"
    }
   ],
   "source": [
    "print(type(f(2, 4).evalf()))\n",
    "float(f(2, 4).evalf())"
   ]
  },
  {
   "cell_type": "markdown",
   "id": "f63e5c17",
   "metadata": {},
   "source": [
    "### Operations on defined objects\n",
    "\n",
    "Let's compute the partial derivative of `f` with respect to $x$, using `diff`:"
   ]
  },
  {
   "cell_type": "code",
   "execution_count": 6,
   "id": "6cc0155b",
   "metadata": {},
   "outputs": [
    {
     "data": {
      "text/latex": [
       "$\\displaystyle - \\left(x y + x \\left(2 x + y - 8\\right) + \\left(x - 4\\right)^{2} + \\operatorname{atan}{\\left(\\left(y + 3\\right)^{2} \\right)}\\right) \\sin{\\left(x \\left(x y + \\left(x - 4\\right)^{2} + \\operatorname{atan}{\\left(\\left(y + 3\\right)^{2} \\right)}\\right) \\right)}$"
      ],
      "text/plain": [
       "-(x*y + x*(2*x + y - 8) + (x - 4)**2 + atan((y + 3)**2))*sin(x*(x*y + (x - 4)**2 + atan((y + 3)**2)))"
      ]
     },
     "execution_count": 6,
     "metadata": {},
     "output_type": "execute_result"
    }
   ],
   "source": [
    "f(x, y).diff(x)"
   ]
  },
  {
   "cell_type": "markdown",
   "id": "b04549dc",
   "metadata": {},
   "source": [
    "Or compute the second derivative with respect to $x$ and then the first derivative with respect to $y$:"
   ]
  },
  {
   "cell_type": "code",
   "execution_count": 7,
   "id": "3878b865",
   "metadata": {
    "scrolled": true
   },
   "outputs": [
    {
     "data": {
      "text/latex": [
       "$\\displaystyle - 2 x \\left(x + \\frac{2 \\left(y + 3\\right)}{\\left(y + 3\\right)^{4} + 1}\\right) \\left(3 x + y - 8\\right) \\cos{\\left(x \\left(x y + \\left(x - 4\\right)^{2} + \\operatorname{atan}{\\left(\\left(y + 3\\right)^{2} \\right)}\\right) \\right)} + x \\left(x + \\frac{2 \\left(y + 3\\right)}{\\left(y + 3\\right)^{4} + 1}\\right) \\left(x y + x \\left(2 x + y - 8\\right) + \\left(x - 4\\right)^{2} + \\operatorname{atan}{\\left(\\left(y + 3\\right)^{2} \\right)}\\right)^{2} \\sin{\\left(x \\left(x y + \\left(x - 4\\right)^{2} + \\operatorname{atan}{\\left(\\left(y + 3\\right)^{2} \\right)}\\right) \\right)} - 4 \\left(x + \\frac{y + 3}{\\left(y + 3\\right)^{4} + 1}\\right) \\left(x y + x \\left(2 x + y - 8\\right) + \\left(x - 4\\right)^{2} + \\operatorname{atan}{\\left(\\left(y + 3\\right)^{2} \\right)}\\right) \\cos{\\left(x \\left(x y + \\left(x - 4\\right)^{2} + \\operatorname{atan}{\\left(\\left(y + 3\\right)^{2} \\right)}\\right) \\right)} - 2 \\sin{\\left(x \\left(x y + \\left(x - 4\\right)^{2} + \\operatorname{atan}{\\left(\\left(y + 3\\right)^{2} \\right)}\\right) \\right)}$"
      ],
      "text/plain": [
       "-2*x*(x + 2*(y + 3)/((y + 3)**4 + 1))*(3*x + y - 8)*cos(x*(x*y + (x - 4)**2 + atan((y + 3)**2))) + x*(x + 2*(y + 3)/((y + 3)**4 + 1))*(x*y + x*(2*x + y - 8) + (x - 4)**2 + atan((y + 3)**2))**2*sin(x*(x*y + (x - 4)**2 + atan((y + 3)**2))) - 4*(x + (y + 3)/((y + 3)**4 + 1))*(x*y + x*(2*x + y - 8) + (x - 4)**2 + atan((y + 3)**2))*cos(x*(x*y + (x - 4)**2 + atan((y + 3)**2))) - 2*sin(x*(x*y + (x - 4)**2 + atan((y + 3)**2)))"
      ]
     },
     "execution_count": 7,
     "metadata": {},
     "output_type": "execute_result"
    }
   ],
   "source": [
    "der = f(x, y).diff(x, 2, y)\n",
    "der"
   ]
  },
  {
   "cell_type": "markdown",
   "id": "2ce7f843",
   "metadata": {},
   "source": [
    "In this expression, $x$ and $y$ are still unknown. Let's replace $x$ using `subs`:"
   ]
  },
  {
   "cell_type": "code",
   "execution_count": 8,
   "id": "3e90f661",
   "metadata": {
    "scrolled": true
   },
   "outputs": [
    {
     "data": {
      "text/latex": [
       "$\\displaystyle - 10 \\left(y + 7\\right) \\left(\\frac{2 \\left(y + 3\\right)}{\\left(y + 3\\right)^{4} + 1} + 5\\right) \\cos{\\left(25 y + 5 \\operatorname{atan}{\\left(\\left(y + 3\\right)^{2} \\right)} + 5 \\right)} - 4 \\left(\\frac{y + 3}{\\left(y + 3\\right)^{4} + 1} + 5\\right) \\left(10 y + \\operatorname{atan}{\\left(\\left(y + 3\\right)^{2} \\right)} + 11\\right) \\cos{\\left(25 y + 5 \\operatorname{atan}{\\left(\\left(y + 3\\right)^{2} \\right)} + 5 \\right)} + 5 \\cdot \\left(\\frac{2 \\left(y + 3\\right)}{\\left(y + 3\\right)^{4} + 1} + 5\\right) \\left(10 y + \\operatorname{atan}{\\left(\\left(y + 3\\right)^{2} \\right)} + 11\\right)^{2} \\sin{\\left(25 y + 5 \\operatorname{atan}{\\left(\\left(y + 3\\right)^{2} \\right)} + 5 \\right)} - 2 \\sin{\\left(25 y + 5 \\operatorname{atan}{\\left(\\left(y + 3\\right)^{2} \\right)} + 5 \\right)}$"
      ],
      "text/plain": [
       "-10*(y + 7)*(2*(y + 3)/((y + 3)**4 + 1) + 5)*cos(25*y + 5*atan((y + 3)**2) + 5) - 4*((y + 3)/((y + 3)**4 + 1) + 5)*(10*y + atan((y + 3)**2) + 11)*cos(25*y + 5*atan((y + 3)**2) + 5) + 5*(2*(y + 3)/((y + 3)**4 + 1) + 5)*(10*y + atan((y + 3)**2) + 11)**2*sin(25*y + 5*atan((y + 3)**2) + 5) - 2*sin(25*y + 5*atan((y + 3)**2) + 5)"
      ]
     },
     "execution_count": 8,
     "metadata": {},
     "output_type": "execute_result"
    }
   ],
   "source": [
    "der = der.subs({x: 5})\n",
    "der"
   ]
  },
  {
   "cell_type": "markdown",
   "id": "2fdd9eca",
   "metadata": {},
   "source": [
    "### `numpy` conversion\n",
    "\n",
    "The evaluation of `der` is not fast. Thus it can be converted to a `numpy` function using `lambdify`. Then evaluation on arrays is possible:"
   ]
  },
  {
   "cell_type": "code",
   "execution_count": 9,
   "id": "d25157b1",
   "metadata": {
    "scrolled": true
   },
   "outputs": [
    {
     "data": {
      "text/plain": [
       "array([  -1618.36732557,   -8543.34409677,  -44619.86174987,\n",
       "       -132966.53918376, -279318.28704865])"
      ]
     },
     "execution_count": 9,
     "metadata": {},
     "output_type": "execute_result"
    }
   ],
   "source": [
    "import numpy as np\n",
    "numpy_func = sym.lambdify(y, der)\n",
    "Y = np.linspace(0, 10, 5)\n",
    "numpy_func(Y)"
   ]
  },
  {
   "cell_type": "markdown",
   "id": "5602a602",
   "metadata": {},
   "source": [
    "## When to use `sympy`"
   ]
  },
  {
   "cell_type": "markdown",
   "id": "a74ec9ba",
   "metadata": {},
   "source": [
    "`sympy` can provide exact mathematical solutions __for simple problems only__.  Thus, it can be used to check the results of some very specific calculation steps performed in a more numerical way."
   ]
  }
 ],
 "metadata": {
  "kernelspec": {
   "display_name": "Python 3 (ipykernel)",
   "language": "python",
   "name": "python3"
  },
  "language_info": {
   "codemirror_mode": {
    "name": "ipython",
    "version": 3
   },
   "file_extension": ".py",
   "mimetype": "text/x-python",
   "name": "python",
   "nbconvert_exporter": "python",
   "pygments_lexer": "ipython3",
   "version": "3.10.12"
  }
 },
 "nbformat": 4,
 "nbformat_minor": 5
}
