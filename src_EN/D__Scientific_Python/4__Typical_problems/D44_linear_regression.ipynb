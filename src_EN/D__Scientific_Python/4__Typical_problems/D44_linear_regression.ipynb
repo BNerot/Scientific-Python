{
 "cells": [
  {
   "cell_type": "markdown",
   "id": "ea29a6b4",
   "metadata": {
    "editable": true,
    "slideshow": {
     "slide_type": "slide"
    },
    "tags": []
   },
   "source": [
    "## Case study definition\n",
    "\n",
    "Here is our pengouins database:"
   ]
  },
  {
   "cell_type": "code",
   "execution_count": 1,
   "id": "abb67d04",
   "metadata": {
    "scrolled": true
   },
   "outputs": [
    {
     "data": {
      "text/html": [
       "<div>\n",
       "<style scoped>\n",
       "    .dataframe tbody tr th:only-of-type {\n",
       "        vertical-align: middle;\n",
       "    }\n",
       "\n",
       "    .dataframe tbody tr th {\n",
       "        vertical-align: top;\n",
       "    }\n",
       "\n",
       "    .dataframe thead th {\n",
       "        text-align: right;\n",
       "    }\n",
       "</style>\n",
       "<table border=\"1\" class=\"dataframe\">\n",
       "  <thead>\n",
       "    <tr style=\"text-align: right;\">\n",
       "      <th></th>\n",
       "      <th>species</th>\n",
       "      <th>island</th>\n",
       "      <th>bill_length_mm</th>\n",
       "      <th>bill_depth_mm</th>\n",
       "      <th>flipper_length_mm</th>\n",
       "      <th>body_mass_g</th>\n",
       "      <th>sex</th>\n",
       "    </tr>\n",
       "  </thead>\n",
       "  <tbody>\n",
       "    <tr>\n",
       "      <th>0</th>\n",
       "      <td>Adelie</td>\n",
       "      <td>Torgersen</td>\n",
       "      <td>39.1</td>\n",
       "      <td>18.7</td>\n",
       "      <td>181.0</td>\n",
       "      <td>3750.0</td>\n",
       "      <td>Male</td>\n",
       "    </tr>\n",
       "    <tr>\n",
       "      <th>1</th>\n",
       "      <td>Adelie</td>\n",
       "      <td>Torgersen</td>\n",
       "      <td>39.5</td>\n",
       "      <td>17.4</td>\n",
       "      <td>186.0</td>\n",
       "      <td>3800.0</td>\n",
       "      <td>Female</td>\n",
       "    </tr>\n",
       "    <tr>\n",
       "      <th>2</th>\n",
       "      <td>Adelie</td>\n",
       "      <td>Torgersen</td>\n",
       "      <td>40.3</td>\n",
       "      <td>18.0</td>\n",
       "      <td>195.0</td>\n",
       "      <td>3250.0</td>\n",
       "      <td>Female</td>\n",
       "    </tr>\n",
       "    <tr>\n",
       "      <th>3</th>\n",
       "      <td>Adelie</td>\n",
       "      <td>Torgersen</td>\n",
       "      <td>NaN</td>\n",
       "      <td>NaN</td>\n",
       "      <td>NaN</td>\n",
       "      <td>NaN</td>\n",
       "      <td>NaN</td>\n",
       "    </tr>\n",
       "    <tr>\n",
       "      <th>4</th>\n",
       "      <td>Adelie</td>\n",
       "      <td>Torgersen</td>\n",
       "      <td>36.7</td>\n",
       "      <td>19.3</td>\n",
       "      <td>193.0</td>\n",
       "      <td>3450.0</td>\n",
       "      <td>Female</td>\n",
       "    </tr>\n",
       "  </tbody>\n",
       "</table>\n",
       "</div>"
      ],
      "text/plain": [
       "  species     island  bill_length_mm  bill_depth_mm  flipper_length_mm  \\\n",
       "0  Adelie  Torgersen            39.1           18.7              181.0   \n",
       "1  Adelie  Torgersen            39.5           17.4              186.0   \n",
       "2  Adelie  Torgersen            40.3           18.0              195.0   \n",
       "3  Adelie  Torgersen             NaN            NaN                NaN   \n",
       "4  Adelie  Torgersen            36.7           19.3              193.0   \n",
       "\n",
       "   body_mass_g     sex  \n",
       "0       3750.0    Male  \n",
       "1       3800.0  Female  \n",
       "2       3250.0  Female  \n",
       "3          NaN     NaN  \n",
       "4       3450.0  Female  "
      ]
     },
     "execution_count": 1,
     "metadata": {},
     "output_type": "execute_result"
    }
   ],
   "source": [
    "import pandas as pd\n",
    "df = pd.read_csv(r'../3__matplotlib/data.csv')\n",
    "df.head(5)               # show only the first five rows"
   ]
  },
  {
   "cell_type": "markdown",
   "id": "ca5ad09b",
   "metadata": {
    "editable": true,
    "slideshow": {
     "slide_type": "slide"
    },
    "tags": []
   },
   "source": [
    "Let's search for a linear dependance of the pengouin mass (`'body_mass_g'`, M) in the following variables:\n",
    "\n",
    "- `'bill_length_mm'`, L\n",
    "- `'bill_depth_mm'`, D \n",
    "- `flipper_length_mm'`, F\n",
    "\n",
    "The linear expression  is the following:\n",
    "\n",
    "$$ M = \\alpha_1 L + \\alpha_2 D + \\alpha_3 F + \\beta $$"
   ]
  },
  {
   "cell_type": "code",
   "execution_count": 2,
   "id": "2f0ff3b6",
   "metadata": {},
   "outputs": [],
   "source": [
    "M = 'body_mass_g'\n",
    "L = 'bill_length_mm'\n",
    "D = 'bill_depth_mm'\n",
    "F = 'flipper_length_mm'"
   ]
  },
  {
   "cell_type": "markdown",
   "id": "9fe0ab65",
   "metadata": {
    "editable": true,
    "slideshow": {
     "slide_type": "slide"
    },
    "tags": []
   },
   "source": [
    "\n",
    "\n",
    "## Code\n",
    "\n",
    "\n",
    "The `scikit-learn` package includes a `LinearRegression` class to solve this problem;\n",
    "\n",
    "\n"
   ]
  },
  {
   "cell_type": "markdown",
   "id": "dc7f98a4-bad0-4ce2-b847-7cadb50d5b34",
   "metadata": {
    "editable": true,
    "slideshow": {
     "slide_type": "slide"
    },
    "tags": []
   },
   "source": [
    "### Removing `nan` values"
   ]
  },
  {
   "cell_type": "code",
   "execution_count": 3,
   "id": "87a9daf4",
   "metadata": {
    "editable": true,
    "slideshow": {
     "slide_type": ""
    },
    "tags": []
   },
   "outputs": [],
   "source": [
    "cond = df[[M, L, D, F]].isna().any(axis=1)   # every row where \n",
    "                                             # at least one value is nan\n",
    "df = df[~cond]                               # keep the other rows, \n",
    "                                             # '~' does the negation of `cond`"
   ]
  },
  {
   "cell_type": "markdown",
   "id": "a4d024d8",
   "metadata": {
    "editable": true,
    "slideshow": {
     "slide_type": "slide"
    },
    "tags": []
   },
   "source": [
    "### Performing the regression\n",
    "\n",
    "A `LinearRegression` instance is first created. Then it's `fit` method is called directly using the columns of the `DataFrame:"
   ]
  },
  {
   "cell_type": "code",
   "execution_count": 11,
   "id": "3adb79b8",
   "metadata": {},
   "outputs": [],
   "source": [
    "from sklearn.linear_model import LinearRegression\n",
    "\n",
    "model = LinearRegression()\n",
    "_ = model.fit(df[[L, D, F]], df[M])"
   ]
  },
  {
   "cell_type": "markdown",
   "id": "cfffe067",
   "metadata": {
    "editable": true,
    "slideshow": {
     "slide_type": "slide"
    },
    "tags": []
   },
   "source": [
    "Results are __stored in the `model` instance__. Let's read the coefficients:"
   ]
  },
  {
   "cell_type": "code",
   "execution_count": 12,
   "id": "36c888f3",
   "metadata": {},
   "outputs": [
    {
     "name": "stdout",
     "output_type": "stream",
     "text": [
      "4.2 20.0 50.3 -6424.8\n"
     ]
    }
   ],
   "source": [
    "alpha_1, alpha_2, alpha_3 = model.coef_.round(1)\n",
    "beta = model.intercept_.round(1)\n",
    "print(alpha_1, alpha_2, alpha_3, beta)"
   ]
  },
  {
   "cell_type": "markdown",
   "id": "e0bdae78",
   "metadata": {
    "editable": true,
    "slideshow": {
     "slide_type": ""
    },
    "tags": []
   },
   "source": [
    "The regression quality (determination coefficient) is given by `score`:"
   ]
  },
  {
   "cell_type": "code",
   "execution_count": 13,
   "id": "c05e079e",
   "metadata": {},
   "outputs": [
    {
     "data": {
      "text/plain": [
       "0.7614704841272493"
      ]
     },
     "execution_count": 13,
     "metadata": {},
     "output_type": "execute_result"
    }
   ],
   "source": [
    "model.score(df[[L, D, F]], df[M])"
   ]
  },
  {
   "cell_type": "markdown",
   "id": "e0c0f8ca",
   "metadata": {
    "editable": true,
    "slideshow": {
     "slide_type": "slide"
    },
    "tags": []
   },
   "source": [
    "#### Using as a predictor\n",
    "\n",
    "Using the fit coefficient, one can now go the reverse way: define the mass $M$ from the 3 other variables ($L, D, F$). This is done using `predict`:"
   ]
  },
  {
   "cell_type": "code",
   "execution_count": 14,
   "id": "3aa6a306",
   "metadata": {
    "editable": true,
    "slideshow": {
     "slide_type": ""
    },
    "tags": []
   },
   "outputs": [
    {
     "name": "stderr",
     "output_type": "stream",
     "text": [
      "/home/nerotb/Documents/5-Donnees_techniques/Python/310_base/lib/python3.10/site-packages/sklearn/base.py:465: UserWarning: X does not have valid feature names, but LinearRegression was fitted with feature names\n",
      "  warnings.warn(\n"
     ]
    },
    {
     "data": {
      "text/plain": [
       "array([4096.29544534, 7987.54383621])"
      ]
     },
     "execution_count": 14,
     "metadata": {},
     "output_type": "execute_result"
    }
   ],
   "source": [
    "import numpy as np\n",
    "L_predict = [40, 45]\n",
    "D_predict = [15, 20]\n",
    "F_predict = [200, 275]\n",
    "\n",
    "# `T` takes the transpose of the array, because data must be column-wise\n",
    "to_predict = np.array([L_predict, D_predict, F_predict]).T   \n",
    "model.predict(to_predict)"
   ]
  }
 ],
 "metadata": {
  "kernelspec": {
   "display_name": "Python 3 (ipykernel)",
   "language": "python",
   "name": "python3"
  },
  "language_info": {
   "codemirror_mode": {
    "name": "ipython",
    "version": 3
   },
   "file_extension": ".py",
   "mimetype": "text/x-python",
   "name": "python",
   "nbconvert_exporter": "python",
   "pygments_lexer": "ipython3",
   "version": "3.12.3"
  }
 },
 "nbformat": 4,
 "nbformat_minor": 5
}
