{
 "cells": [
  {
   "cell_type": "markdown",
   "id": "50654e47",
   "metadata": {},
   "source": [
    "## Basics of algorithmic complexity\n",
    "\n",
    "Each code instruction consists in several elementary operations that involve different components of the computer:\n",
    "\n",
    "- CPU/GPU: the fastest\n",
    "- memory: quite fast\n",
    "- disk: very slow\n",
    "\n",
    "The running time of each operation is variable. __Minimizing the algorithmic complexity__ is chosing the instructions that:\n",
    "\n",
    "- run fast\n",
    "- do what we want to do\n"
   ]
  },
  {
   "cell_type": "markdown",
   "id": "4209dc4d",
   "metadata": {},
   "source": [
    "## Overhead and variable running times"
   ]
  },
  {
   "cell_type": "markdown",
   "id": "89b14e74",
   "metadata": {},
   "source": [
    "### Key idea\n",
    "\n",
    "In a typical scientific problem, the running time increases depending on some parameters but a constant time always exists."
   ]
  },
  {
   "cell_type": "markdown",
   "id": "52f25df2",
   "metadata": {},
   "source": [
    "### Simple example\n",
    "\n",
    "In this part, a fake problem is built and it's code is analysed in order to understand how each instruction contributes to the overall algorithmic complexity.\n",
    "\n",
    "#### Case study definition\n",
    "\n",
    "Let's define a __naive__ function that sums the first `n` integers. "
   ]
  },
  {
   "cell_type": "code",
   "execution_count": 69,
   "id": "62795a36",
   "metadata": {},
   "outputs": [],
   "source": [
    "def sum_integers(n):\n",
    "    print('Summing the n first integers')\n",
    "    total = 0\n",
    "    for k in range(n):\n",
    "        total += k\n",
    "    print(f'The sum is: {total}')"
   ]
  },
  {
   "cell_type": "markdown",
   "id": "565a9c33",
   "metadata": {},
   "source": [
    "#### Time complexity decomposition\n",
    "\n",
    "##### Intuitive approach\n",
    "\n",
    "What is the time complexity of this code? There are two types of operations:\n",
    "\n",
    "- operations that depend on `n`, i.e. the __size of the problem__\n",
    "    \n",
    "    - calls to `print` at the beginning and at the end\n",
    "    - the creation of a variable `total`\n",
    "    - the creation of a `range` instance\n",
    "\n",
    "- `n` iterations in the `for` loop. Each iteration includes:\n",
    "\n",
    "    - an incrementation of `k`\n",
    "    - the update of `total`\n",
    "\n",
    "Thus one understands that running time will never be 0 even for small `n` values. Conversely, the overhead run time is negligible for large `n` values. \n",
    "\n",
    "This shows that the optimization of a code depends on the typical usage one intend to have of this code.\n",
    "\n",
    "\n",
    "##### Maths approach\n",
    "\n",
    "The `sum_integers` function performs:\n",
    "\n",
    "- $C_1$ operations\n",
    "- $C_2$ opérations for each iteration of the `for` loop\n",
    "\n",
    "Eventually time complexity can be formulated this way:\n",
    "\n",
    "$$ C = C_1 + C_2 \\times n $$\n",
    "\n",
    "What is of interest in most cases is the evolution of the complexity with `n`, thus $C$ becomes $C(n)$. We note that, asymptotically, for large values of `n`:\n",
    "\n",
    "$$ C(n) = O(n) $$\n",
    "\n"
   ]
  },
  {
   "cell_type": "markdown",
   "id": "e86a9476",
   "metadata": {},
   "source": [
    "### Advanced example\n",
    "\n",
    "Let's add to the previous example a second `for` loop inside the first one:"
   ]
  },
  {
   "cell_type": "code",
   "execution_count": 70,
   "id": "b4f4a89c",
   "metadata": {},
   "outputs": [],
   "source": [
    "def sum_integers_difficult(n):\n",
    "    total = 0\n",
    "    total2 = 0\n",
    "    for k in range(n):\n",
    "        total += k\n",
    "        for j in range(k+1):\n",
    "            total2 += j\n",
    "    return total"
   ]
  },
  {
   "cell_type": "markdown",
   "id": "39801e1b",
   "metadata": {},
   "source": [
    "The following operations are performed:\n",
    "\n",
    "- $C_1$ operations (overhead)\n",
    "- for each iteration in the first loop (`n` iterations):\n",
    "    \n",
    "    - $C_2$ operations (incrementation of `total`)\n",
    "    - for each iteration in the second loop (`k+1` iterations): $C_3$ operations (incrementation of `total2`)\n",
    "    \n",
    "Thus time complexity becomes:\n",
    "\n",
    "$$ C(n) = C_1 + \\sum_{k=0}^{n-1}{\\left[ C_2(k) + \\sum_{j=0}^{k}{C_3(k, j)}\\right]} $$\n",
    "\n",
    "But $C_2(k)$ is almost independant from $k$ ($C_2(k)\\simeq C_2$) and similarly $C_3(k, j)\\simeq C_3$. Thus:\n",
    "\n",
    "$$ C(n) = C_1 + n \\times C_2 + \\frac{n(n+1)}{2} \\times C_3 $$\n",
    "\n",
    "\n",
    "$$ C(n) = C_1 + \\left(C_2 + \\frac{C_3}{2}\\right) \\times n +  \\frac{C_3}{2} \\times n^2 $$"
   ]
  },
  {
   "cell_type": "markdown",
   "id": "e9d1a1ca",
   "metadata": {},
   "source": [
    "Thus __asymptotically__:\n",
    "\n",
    "$$C(n) = O(n^2) $$\n",
    "\n",
    "__When `n` is doubled, running time is multiplied by 4.__"
   ]
  },
  {
   "cell_type": "markdown",
   "id": "a3f31e6a",
   "metadata": {},
   "source": [
    "### Hidden operations\n",
    "\n",
    "In the previous examples all instructions were rather explicit: simple loops and incrementations, no advanced function calls.\n",
    "\n",
    "A complex code can include several calls to unknown functions. Thus the preferred way is to work at __the function level__: \n",
    "\n",
    "- __User defined functions__: think about the time complexity of your function: overhead and asymptotic behaviour. \n",
    "- __Other functions__: if the documentation says nothing about time complexity, you can make simple hypothesis to define lower and upper bounds of this complexity. For instance, the sum of a `numpy` array of `n` elements using `array.sum()` implies as many operations as there are elements in the array (`n`), thus one can expect a time complexity $O(n)$."
   ]
  }
 ],
 "metadata": {
  "kernelspec": {
   "display_name": "Python 3 (ipykernel)",
   "language": "python",
   "name": "python3"
  },
  "language_info": {
   "codemirror_mode": {
    "name": "ipython",
    "version": 3
   },
   "file_extension": ".py",
   "mimetype": "text/x-python",
   "name": "python",
   "nbconvert_exporter": "python",
   "pygments_lexer": "ipython3",
   "version": "3.10.12"
  }
 },
 "nbformat": 4,
 "nbformat_minor": 5
}
