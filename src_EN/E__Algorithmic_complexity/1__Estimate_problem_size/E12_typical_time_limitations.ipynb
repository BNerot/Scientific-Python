{
 "cells": [
  {
   "cell_type": "markdown",
   "id": "ef3dfabb",
   "metadata": {},
   "source": [
    "## Introduction\n",
    "\n",
    "Elementary operations can be grouped in 2 categories:\n",
    "\n",
    "1. those that rely on 'external' resources, which are slow:\n",
    "\n",
    "    - hard drives\n",
    "    - network\n",
    "    \n",
    "2. thos that rely on 'internal' resources, which are fast\n",
    "\n",
    "    - CPU/GPU\n",
    "    - memory\n",
    "    \n",
    "The codes that run slowly due to the first family of causes are called  __IO bound__ problems. The other one are __CPU bound__."
   ]
  },
  {
   "cell_type": "markdown",
   "id": "52e7f86e",
   "metadata": {},
   "source": [
    "## Example of a _IO bound_ problem\n",
    "\n",
    "Let `f` be defined as:"
   ]
  },
  {
   "cell_type": "code",
   "execution_count": 7,
   "id": "63fa94a1",
   "metadata": {},
   "outputs": [],
   "source": [
    "import pandas as pd\n",
    "import numpy as np\n",
    "\n",
    "\n",
    "def f_IO(n, k):\n",
    "    # CPU-like tasks\n",
    "    arr1 = np.random.rand(n)\n",
    "    arr1 = arr1**2 + arr1 * 5 + np.exp(arr1-10)\n",
    "    \n",
    "    arr2 = np.random.rand(k)\n",
    "    sr = pd.Series(arr2)\n",
    "    \n",
    "    # IO-like tasks\n",
    "    sr.to_csv('data.csv')\n",
    "    \n",
    "    "
   ]
  },
  {
   "cell_type": "markdown",
   "id": "5922012e",
   "metadata": {},
   "source": [
    "This function creates 2 arrays of size `n` and `k`, do some mathematical operations on the first array and write the second one on disk.\n",
    "\n",
    "### Theorical time complexity\n",
    "\n",
    "In theory, the function has the following time complexity:\n",
    "\n",
    "$$ C(n, k) = C_1 + C_2 \\times n + C_3 \\times k $$ \n",
    "\n",
    "With:\n",
    "\n",
    "- $C_1$ overhead run time\n",
    "- $C_2$ operations proportional to `n`: creation of `arr1`, various calculations using `arr1`\n",
    "- $C_3$ operations proportional to `k`: creation of `arr2`, creation of the `Serie` object, export to disk\n",
    "\n",
    "Asymptotically, time complexity grows the same way with respect to `k` or `n`. This is described by:\n",
    "\n",
    "$$ C(n, k) = O(n) + O(k) = O(n + k) $$\n",
    "\n",
    "### Real time complexity\n",
    "\n",
    "Yet, the $C_3$ coefficient is much bigger than $C_2$ since __it is related to disk operations.__ Thus __the asymptotical behaviour corresponds `n` values that are too large to correspond to any practical use__. Hence the real time complexity is much more something like:\n",
    "\n",
    "$$ C(n, k) = O(k)$$\n",
    "\n",
    "\n",
    "### Experimental running time\n",
    "\n",
    "Let's measure the real running times of this function for:\n",
    "\n",
    "- $n \\in [10^3, 10^6]$\n",
    "- $k \\in [10^3, 10^6]$\n",
    "\n",
    "Results, __in milliseconds__, are presented hereafter:"
   ]
  },
  {
   "cell_type": "code",
   "execution_count": 8,
   "id": "92b97b52",
   "metadata": {
    "scrolled": false
   },
   "outputs": [
    {
     "data": {
      "text/html": [
       "<div>\n",
       "<style scoped>\n",
       "    .dataframe tbody tr th:only-of-type {\n",
       "        vertical-align: middle;\n",
       "    }\n",
       "\n",
       "    .dataframe tbody tr th {\n",
       "        vertical-align: top;\n",
       "    }\n",
       "\n",
       "    .dataframe thead th {\n",
       "        text-align: right;\n",
       "    }\n",
       "</style>\n",
       "<table border=\"1\" class=\"dataframe\">\n",
       "  <thead>\n",
       "    <tr style=\"text-align: right;\">\n",
       "      <th></th>\n",
       "      <th>k=10**3</th>\n",
       "      <th>k=10**6</th>\n",
       "    </tr>\n",
       "  </thead>\n",
       "  <tbody>\n",
       "    <tr>\n",
       "      <th>n=10**3</th>\n",
       "      <td>4.32</td>\n",
       "      <td>2330</td>\n",
       "    </tr>\n",
       "    <tr>\n",
       "      <th>n=10**6</th>\n",
       "      <td>48.60</td>\n",
       "      <td>2360</td>\n",
       "    </tr>\n",
       "  </tbody>\n",
       "</table>\n",
       "</div>"
      ],
      "text/plain": [
       "         k=10**3  k=10**6\n",
       "n=10**3     4.32     2330\n",
       "n=10**6    48.60     2360"
      ]
     },
     "execution_count": 8,
     "metadata": {},
     "output_type": "execute_result"
    }
   ],
   "source": [
    "pd.DataFrame(data = {'k=10**3': [4.320, 48.6], 'k=10**6': [2330, 2360]}, index=['n=10**3', 'n=10**6'])"
   ]
  },
  {
   "cell_type": "markdown",
   "id": "66b6e8bc",
   "metadata": {},
   "source": [
    "Interpretation: the __contribution of `n` is negligible compared to the one of `k`__. A factor 1000 increase of `n` adds only a few milliseconds to the running time."
   ]
  },
  {
   "cell_type": "markdown",
   "id": "73856584",
   "metadata": {},
   "source": [
    "## Conclusion\n",
    "\n",
    "The theoretical estimation of a problem time complexity can be very difficult. \n",
    "\n",
    "1. Some simple estimators are:\n",
    "\n",
    "    - search for overhead run times\n",
    "    - search for disk/network operations, in opposition to CPU/RAM\n",
    "    \n",
    "2. Sometimes, experimental measurements are a better a choice."
   ]
  }
 ],
 "metadata": {
  "kernelspec": {
   "display_name": "Python 3 (ipykernel)",
   "language": "python",
   "name": "python3"
  },
  "language_info": {
   "codemirror_mode": {
    "name": "ipython",
    "version": 3
   },
   "file_extension": ".py",
   "mimetype": "text/x-python",
   "name": "python",
   "nbconvert_exporter": "python",
   "pygments_lexer": "ipython3",
   "version": "3.10.12"
  }
 },
 "nbformat": 4,
 "nbformat_minor": 5
}
