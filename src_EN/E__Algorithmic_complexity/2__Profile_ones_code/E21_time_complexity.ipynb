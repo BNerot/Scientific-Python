{
 "cells": [
  {
   "cell_type": "markdown",
   "id": "cf199f27",
   "metadata": {},
   "source": [
    "## Optimisation methodology\n",
    "\n",
    "\n",
    "### Theory\n",
    "\n",
    "The following methodology can be used to reduce the time complexity of any code:\n",
    "\n",
    "1. Evaluate the total running time (timing)\n",
    "2. Sort each function $f$ by running time (profiling)\n",
    "   \n",
    "   $$t(f)$$\n",
    "   \n",
    "3. Estimate for each function the possible room for improvement\n",
    "\n",
    "   $$ \\Delta t(f)$$\n",
    " \n",
    "4. Optimize the function $f$ for which  $t(f) \\times \\Delta t(f)$ is the smallest.\n",
    "5. Check that the code is still operating properly\n",
    "6. Go back to step 1 if running time is still too high\n",
    "\n",
    "\n",
    "If running time is still not satisfactory and no more room exists for improvement, __you must think of another  formulation of your scientific problem__. This is very time consuming, that's why you must wonder whether your formulation is adaptated __before__ writing any code line. \n",
    "\n",
    "### Example\n",
    "\n",
    "Let's assume we have some code that calls 3 functions:\n",
    "\n",
    "- the first function call is 90% of total running time\n",
    "- the second function call is 1%\n",
    "- the third is 9%\n",
    "\n",
    "__Achieving a 10% time reduction on the first function call (which seems possible) will have more effect than a 90% time reduction on the third call (which seems difficult)__\n",
    "\n",
    "\n",
    "## Tools\n",
    "\n",
    "### Presentation\n",
    "\n",
    "Python comes with some tools to measure the running time of some code instructions. There are 2 steps:\n",
    "\n",
    "1. Measuring the total running time: __timing__. \n",
    "\n",
    "   This can be done using the  `timeit` package.\n",
    "2. Measuring the running time of each function call: __profiling__. \n",
    "\n",
    "   This can be done using the  `cProfile` package.\n",
    "\n",
    "\n",
    "### _iPython_\n",
    "\n",
    "Instead of directly using `timeit` and `cProfile`, it is recommended to use the magick commands __`%timeit`__ and __`%prun`__. \n",
    "\n",
    "\n",
    "These commands require the Python shell to be a __*iPython*__ shell. \n",
    "\n",
    "__*iPython*__ can be used:\n",
    "\n",
    "- by installing the `ipython` package and by opening a shell using the `ipython` command\n",
    "- by installing either Jupyter notebook or Jupyter lab\n",
    "\n",
    "In addition to the magic commands, __*iPython*__ shells come with a better color code and indentation handling.\n",
    "\n",
    "## Example\n",
    "\n",
    "### Case study definition\n",
    "\n",
    "Let's define a very naive function and analyse its algorithmic complexity. __This function is designed specifically not to be efficient__, it must not be used."
   ]
  },
  {
   "cell_type": "code",
   "execution_count": 13,
   "id": "df3ef92a",
   "metadata": {},
   "outputs": [],
   "source": [
    "def build_list(k):\n",
    "    result = []\n",
    "    for j in range(1, k):\n",
    "        result.append(j)\n",
    "    return result\n",
    "\n",
    "def sum_list(var):\n",
    "    s = 0\n",
    "    for e in var:\n",
    "        s += e\n",
    "    return s\n",
    "\n",
    "def f(n):\n",
    "    assert n >= 3\n",
    "    result = []\n",
    "    for j in range(3, n):\n",
    "        var = build_list(j)\n",
    "        s = sum_list(var)\n",
    "        result.append(s)\n",
    "    prod = 1\n",
    "    for e in result:\n",
    "        prod *= e\n",
    "    \n"
   ]
  },
  {
   "cell_type": "markdown",
   "id": "530e4239",
   "metadata": {},
   "source": [
    "What does this function do? It computes the product of the sum of $q-1$ first non zero integers, for $q \\in [3, n-1]$:\n",
    "\n",
    "$$ f: n \\rightarrow \\prod_{q=3}^{n-1}{\\sum_{p=1}^{q-1}{p}} $$"
   ]
  },
  {
   "cell_type": "markdown",
   "id": "95079f04",
   "metadata": {},
   "source": [
    "### Running time: timing\n",
    "\n",
    "Let's measure the total running time using `%timeit`. The percent sign `'%'` decribes __*iPython*__ magic commands: it tells the Python interpreter that this is not a common variable.\n",
    "\n",
    "`timeit` measures the running time several times in a row in order to remove statistical noise. \n",
    "\n",
    "`f` function expects a value for variable `n`. Let's suppose `n=10000` is a typical value for the problem we want to solve."
   ]
  },
  {
   "cell_type": "code",
   "execution_count": 14,
   "id": "62bf09e3",
   "metadata": {},
   "outputs": [
    {
     "name": "stdout",
     "output_type": "stream",
     "text": [
      "5.84 s ± 404 ms per loop (mean ± std. dev. of 7 runs, 1 loop each)\n"
     ]
    }
   ],
   "source": [
    "%timeit f(10000)"
   ]
  },
  {
   "cell_type": "markdown",
   "id": "d1ecfe83",
   "metadata": {},
   "source": [
    "The command described above performs 7 runs (`-r 7`) of calling `f(10000)` 1 time (`-n 1`). Average is done and the mean and std of running time among the different runs is returned. `%timeit` decides alone what are the good values for `-r` and `-n`, but it can also be specified:"
   ]
  },
  {
   "cell_type": "code",
   "execution_count": 16,
   "id": "fa144aa0",
   "metadata": {},
   "outputs": [
    {
     "name": "stdout",
     "output_type": "stream",
     "text": [
      "5.7 s ± 195 ms per loop (mean ± std. dev. of 2 runs, 2 loops each)\n"
     ]
    }
   ],
   "source": [
    "%timeit -r 2 -n 2 f(10000)"
   ]
  },
  {
   "cell_type": "markdown",
   "id": "9a02518c",
   "metadata": {},
   "source": [
    "An object mode also exists: instead of printing the results, they are stored in a dedicated instance:"
   ]
  },
  {
   "cell_type": "code",
   "execution_count": 17,
   "id": "5c190244",
   "metadata": {},
   "outputs": [
    {
     "name": "stdout",
     "output_type": "stream",
     "text": [
      "5.75 s ± 54.6 ms per loop (mean ± std. dev. of 2 runs, 2 loops each)\n",
      "[11.390800094988663, 11.609388401004253]\n",
      "5.695400047494331\n",
      "5.8046942005021265\n"
     ]
    }
   ],
   "source": [
    "running_time = %timeit -o -r 2 -n 2 f(10000)\n",
    "print(running_time.all_runs)\n",
    "print(running_time.best)\n",
    "print(running_time.worst)"
   ]
  },
  {
   "cell_type": "markdown",
   "id": "a03a0b61",
   "metadata": {},
   "source": [
    "\n",
    "### Running time: profiling\n",
    "\n",
    "_Profiling_ is done using `%prun`. The result is saved in a file (`-T` option)."
   ]
  },
  {
   "cell_type": "code",
   "execution_count": null,
   "id": "81524cd7",
   "metadata": {
    "scrolled": false
   },
   "outputs": [],
   "source": [
    "%prun -T prun_results.txt f(10000)"
   ]
  },
  {
   "cell_type": "markdown",
   "id": "e9ce70ab",
   "metadata": {},
   "source": [
    "![prun_results](prun_results.png)"
   ]
  },
  {
   "cell_type": "markdown",
   "id": "189b8e59",
   "metadata": {},
   "source": [
    "There are several columns:\n",
    "\n",
    "- on the right, the executed function (file name:line number)\n",
    "- 1st column on the left (`ncalls`): number of times this function is called\n",
    "- 2nd column (`tottime`): the time spent in this function (excluding the time spent in subfunctions)\n",
    "- 3rd column (`percall`): the sum of `tottime` divided by `ncalls`\n"
   ]
  },
  {
   "cell_type": "markdown",
   "id": "090d7eda",
   "metadata": {},
   "source": [
    "### Optimize the relevant code section\n",
    "\n",
    "The profiling results show that the most time-consuming function is `build_list`. And this part seems easy to optimize. Thus, optimization of time complexity starts here.\n",
    "\n",
    "\n",
    "## Reminder\n",
    "\n",
    "Optimization is always done at __the very last moment__, once the code is stable and no functionnalities are to be added."
   ]
  }
 ],
 "metadata": {
  "kernelspec": {
   "display_name": "Python 3 (ipykernel)",
   "language": "python",
   "name": "python3"
  },
  "language_info": {
   "codemirror_mode": {
    "name": "ipython",
    "version": 3
   },
   "file_extension": ".py",
   "mimetype": "text/x-python",
   "name": "python",
   "nbconvert_exporter": "python",
   "pygments_lexer": "ipython3",
   "version": "3.10.12"
  }
 },
 "nbformat": 4,
 "nbformat_minor": 5
}
