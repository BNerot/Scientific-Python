{
 "cells": [
  {
   "cell_type": "markdown",
   "id": "0c71bd63",
   "metadata": {
    "editable": true,
    "slideshow": {
     "slide_type": "slide"
    },
    "tags": []
   },
   "source": [
    "## Size of `numpy` arrays\n"
   ]
  },
  {
   "cell_type": "markdown",
   "id": "36b900b5-87fb-4ef0-8d96-ef168b16cec0",
   "metadata": {
    "editable": true,
    "slideshow": {
     "slide_type": ""
    },
    "tags": []
   },
   "source": [
    "\n",
    "### Introduction\n",
    "\n",
    "Different Python instances occupy different amounts of memory. \n",
    "\n",
    "Regarding `numpy` arrays, the memory footprint mainly depends on the data type of the data (`dtype`). The knowledge of typical memory use of some dtypes can help estimate the memory use of any scientific problem.\n"
   ]
  },
  {
   "cell_type": "markdown",
   "id": "aae09f3b-fc1d-4981-adba-3355522fbd0b",
   "metadata": {
    "editable": true,
    "slideshow": {
     "slide_type": ""
    },
    "tags": []
   },
   "source": [
    "\n",
    "### `nbytes` attribute\n",
    "\n",
    "The memory footprint of the data of `np.ndarray` objects is determined using the `nbytes` attribute.\n"
   ]
  },
  {
   "cell_type": "markdown",
   "id": "97727537-32d8-4db1-b5c7-8b87741aa6cb",
   "metadata": {
    "editable": true,
    "slideshow": {
     "slide_type": "slide"
    },
    "tags": []
   },
   "source": [
    "\n",
    "### Example: array of integers\n",
    "\n",
    "Let's define an array with dtype `uint8`: \n",
    "\n",
    "- 'u': _unsigned_\n",
    "- 'int': _integers_\n",
    "- 8: stored on 8 bits (8 bits=1 byte)\n",
    "\n",
    "This data type can store integers from 0 to 255 (included) since 8 bits can store $2^8=256$ values."
   ]
  },
  {
   "cell_type": "code",
   "execution_count": 1,
   "id": "56cd5531",
   "metadata": {
    "editable": true,
    "slideshow": {
     "slide_type": ""
    },
    "tags": []
   },
   "outputs": [
    {
     "data": {
      "text/plain": [
       "1000"
      ]
     },
     "execution_count": 1,
     "metadata": {},
     "output_type": "execute_result"
    }
   ],
   "source": [
    "import numpy as np\n",
    "\n",
    "\n",
    "arr = np.arange(1000, dtype='uint8')\n",
    "arr.nbytes"
   ]
  },
  {
   "cell_type": "markdown",
   "id": "a338e525",
   "metadata": {
    "editable": true,
    "slideshow": {
     "slide_type": ""
    },
    "tags": []
   },
   "source": [
    "`arr` has 1000 values each occupying 1 byte, thus the total is 1000 bytes.\n",
    "\n"
   ]
  },
  {
   "cell_type": "markdown",
   "id": "c908cc6e-f689-40b1-b1c3-f36b1fdc8479",
   "metadata": {
    "editable": true,
    "slideshow": {
     "slide_type": "slide"
    },
    "tags": []
   },
   "source": [
    "### Example: array of floating values\n",
    "\n",
    "The default behaviour of `numpy` is storing data using a `np.float64` dtype. This data type takes 8 bytes (hence 64 bits) per value."
   ]
  },
  {
   "cell_type": "code",
   "execution_count": 52,
   "id": "4d996fa5",
   "metadata": {},
   "outputs": [
    {
     "name": "stdout",
     "output_type": "stream",
     "text": [
      "float64\n",
      "8000\n"
     ]
    }
   ],
   "source": [
    "arr = np.random.rand(1000)\n",
    "print(arr.dtype)\n",
    "print(arr.nbytes)"
   ]
  },
  {
   "cell_type": "markdown",
   "id": "6f8aa7f1",
   "metadata": {
    "editable": true,
    "slideshow": {
     "slide_type": ""
    },
    "tags": []
   },
   "source": [
    "__Using this data type for an array of 125 million values would use 1 GB of memory__. \n",
    "\n",
    "Recall that a recent computer has typically 8 GB of memory yet __you must always keep some memory left to store intermediate results during computation__.\n",
    "\n",
    "125 millions is a large number that can be obtained using multidimensionnal data: a 4 dimensions array with shape (100, 100, 100, 100) has 100 millions values."
   ]
  },
  {
   "cell_type": "markdown",
   "id": "03da838a",
   "metadata": {
    "editable": true,
    "slideshow": {
     "slide_type": "slide"
    },
    "tags": []
   },
   "source": [
    "### Specifying _dtype_ to reduce memory use?\n",
    "\n",
    "What about changing the dtype to gain some memory? In most cases, given our skills in computer sciences, this is often a bad idea!\n",
    "\n",
    "Let's inspect some reasons for this.\n",
    "\n"
   ]
  },
  {
   "cell_type": "markdown",
   "id": "73236a82-c8e9-4399-978a-5017adae6476",
   "metadata": {
    "editable": true,
    "slideshow": {
     "slide_type": "slide"
    },
    "tags": []
   },
   "source": [
    "#### Smaller range of possible values\n",
    "\n",
    "Let's see what are the numbers that can be represented using a specific dtype. For float values, this is done using  `numpy.finfo`:"
   ]
  },
  {
   "cell_type": "code",
   "execution_count": 53,
   "id": "516bea60",
   "metadata": {
    "editable": true,
    "slideshow": {
     "slide_type": ""
    },
    "tags": []
   },
   "outputs": [
    {
     "data": {
      "text/plain": [
       "finfo(resolution=1e-15, min=-1.7976931348623157e+308, max=1.7976931348623157e+308, dtype=float64)"
      ]
     },
     "execution_count": 53,
     "metadata": {},
     "output_type": "execute_result"
    }
   ],
   "source": [
    "finfo = np.finfo(np.float64)\n",
    "finfo"
   ]
  },
  {
   "cell_type": "markdown",
   "id": "714dc612",
   "metadata": {},
   "source": [
    "`float64` dtype can handle values from `min` to `max`. Let's see what happens in other cases:"
   ]
  },
  {
   "cell_type": "code",
   "execution_count": 54,
   "id": "e75c2202",
   "metadata": {},
   "outputs": [
    {
     "data": {
      "text/plain": [
       "array([1.79e+308])"
      ]
     },
     "execution_count": 54,
     "metadata": {},
     "output_type": "execute_result"
    }
   ],
   "source": [
    "np.array([1.79e308], dtype=np.float64)  # value is smaller than max possible value"
   ]
  },
  {
   "cell_type": "code",
   "execution_count": 55,
   "id": "c7920ccd",
   "metadata": {},
   "outputs": [
    {
     "data": {
      "text/plain": [
       "array([inf])"
      ]
     },
     "execution_count": 55,
     "metadata": {},
     "output_type": "execute_result"
    }
   ],
   "source": [
    "np.array([1.80e308], dtype=np.float64)  # value is larger than max possible value \n",
    "                                          # seen as infinite"
   ]
  },
  {
   "cell_type": "markdown",
   "id": "08e1be31",
   "metadata": {
    "editable": true,
    "slideshow": {
     "slide_type": "slide"
    },
    "tags": []
   },
   "source": [
    "__Advanced__: Python floats are float64, and passing values in a float format have them evaluated by Python before `numpy`. Thus, a way to build arrays with more complete dtypes than float64 is to pass the values as strings:"
   ]
  },
  {
   "cell_type": "code",
   "execution_count": 56,
   "id": "847a6938",
   "metadata": {},
   "outputs": [
    {
     "data": {
      "text/plain": [
       "array([1.8e+308], dtype=float128)"
      ]
     },
     "execution_count": 56,
     "metadata": {},
     "output_type": "execute_result"
    }
   ],
   "source": [
    "np.array(['1.80e308'], dtype=np.float128)  # a float128 can handle this value..."
   ]
  },
  {
   "cell_type": "code",
   "execution_count": 57,
   "id": "1a941299",
   "metadata": {},
   "outputs": [
    {
     "data": {
      "text/plain": [
       "array([inf], dtype=float128)"
      ]
     },
     "execution_count": 57,
     "metadata": {},
     "output_type": "execute_result"
    }
   ],
   "source": [
    "np.array([1.80e308], dtype=np.float128)  # but beware of prior evaluation to inf by Python"
   ]
  },
  {
   "cell_type": "markdown",
   "id": "502bdb66",
   "metadata": {
    "editable": true,
    "slideshow": {
     "slide_type": "slide"
    },
    "tags": []
   },
   "source": [
    "#### Lower numerical resolution\n",
    "\n",
    "Storing a float value in a low memory footprint dtype comes with __a resolution loss__. Thus, going from `np.float64` (default) to `np.float32` divides the memory footprint by 2 but strongly deteriorates the resolution."
   ]
  },
  {
   "cell_type": "code",
   "execution_count": 58,
   "id": "52470602",
   "metadata": {},
   "outputs": [
    {
     "name": "stdout",
     "output_type": "stream",
     "text": [
      "1e-15\n",
      "1e-06\n"
     ]
    }
   ],
   "source": [
    "print(np.finfo(np.float64).resolution)\n",
    "print(np.finfo(np.float32).resolution)"
   ]
  },
  {
   "cell_type": "code",
   "execution_count": 59,
   "id": "2796bce4",
   "metadata": {
    "editable": true,
    "slideshow": {
     "slide_type": "slide"
    },
    "tags": []
   },
   "outputs": [
    {
     "data": {
      "text/plain": [
       "1.000000000000001"
      ]
     },
     "execution_count": 59,
     "metadata": {},
     "output_type": "execute_result"
    }
   ],
   "source": [
    "np.array([1, 1e-15]).sum(dtype=np.float64)   # result of the operation \n",
    "                                             # can be understood \n",
    "                                             # with the resolution of float64"
   ]
  },
  {
   "cell_type": "code",
   "execution_count": 60,
   "id": "d2867e36",
   "metadata": {},
   "outputs": [
    {
     "data": {
      "text/plain": [
       "1.0"
      ]
     },
     "execution_count": 60,
     "metadata": {},
     "output_type": "execute_result"
    }
   ],
   "source": [
    "np.array([1, 1e-15]).sum(dtype=np.float32)   # result of the operation \n",
    "                                             # comes with a loss of \n",
    "                                             # resolution if float32 is used"
   ]
  },
  {
   "cell_type": "markdown",
   "id": "ad97b38b",
   "metadata": {
    "editable": true,
    "slideshow": {
     "slide_type": "slide"
    },
    "tags": []
   },
   "source": [
    "####  Poorer CPU performances\n",
    "\n",
    "Modern CPU are not optimized to work with unconventionnal floating points resolution. Thus, computation time can increase with memory efficient dtypes.\n",
    "\n",
    "#### Unexpected casting\n",
    "\n",
    "`numpy` casting rules may be complex and may lead in unexpected results and having a fine control over all dtypes in a large problem is very time consuming during the development phase.\n"
   ]
  },
  {
   "cell_type": "markdown",
   "id": "f537884d-2851-40cd-af5a-ebe10e348ea0",
   "metadata": {
    "editable": true,
    "slideshow": {
     "slide_type": "slide"
    },
    "tags": []
   },
   "source": [
    "\n",
    "#### Conclusion\n",
    "\n",
    "For all the reasons presented above, the preferred way is __not to change the dtype__. In some cases, however, the `astype` method can be used."
   ]
  },
  {
   "cell_type": "markdown",
   "id": "3a140436",
   "metadata": {
    "editable": true,
    "slideshow": {
     "slide_type": "slide"
    },
    "tags": []
   },
   "source": [
    "## References of Python instances (advanced)\n"
   ]
  },
  {
   "cell_type": "markdown",
   "id": "c634c09b-63f0-4ab9-941b-ef2d3ca5ec79",
   "metadata": {
    "editable": true,
    "slideshow": {
     "slide_type": "slide"
    },
    "tags": []
   },
   "source": [
    "\n",
    "### Theory\n",
    "\n",
    "A variable is only a name that is associated with a content in memory.\n",
    "\n",
    "Sometimes this content is shared by several variables. All of these are references. Thus the two following operations are very different:\n",
    "\n",
    "- copying all the memory content (deep copy)\n",
    "- adding a reference to some memory content (reference)\n",
    "\n",
    "Many functions and methods rely on references up to a point. For instance, `np.ravel(my_array)` will build a new array with some attributes different from the one of `my_array`  (e.g. shape...) but keep the same memory content, i.e. a reference to the data of `my_array`. \n",
    "\n",
    "That makes it pretty difficult to assign some memory use to a specific function call.\n"
   ]
  },
  {
   "cell_type": "markdown",
   "id": "498e4507-726c-48b1-85b2-66689b82cae6",
   "metadata": {
    "editable": true,
    "slideshow": {
     "slide_type": "slide"
    },
    "tags": []
   },
   "source": [
    "\n",
    "### Howto \n",
    "\n",
    "The `getrefcount` function of package `sys` __returns the number of Python instances that share the same memory content__.\n",
    "\n",
    "Let's create an object stored in `var`. \n",
    "\n",
    "The memory content of `var` is 2: one for `var` and one created during the call of `getrefcount`."
   ]
  },
  {
   "cell_type": "code",
   "execution_count": 61,
   "id": "eb84fed6",
   "metadata": {
    "editable": true,
    "slideshow": {
     "slide_type": ""
    },
    "tags": []
   },
   "outputs": [
    {
     "data": {
      "text/plain": [
       "2"
      ]
     },
     "execution_count": 61,
     "metadata": {},
     "output_type": "execute_result"
    }
   ],
   "source": [
    "from sys import getrefcount\n",
    "var = [(5, 4)]\n",
    "getrefcount(var)"
   ]
  },
  {
   "cell_type": "markdown",
   "id": "fb15c54e",
   "metadata": {
    "editable": true,
    "slideshow": {
     "slide_type": "slide"
    },
    "tags": []
   },
   "source": [
    "Let's add a reference to `var`. Its ref count is incremented since `var2` now redirects to the memory content of `var`."
   ]
  },
  {
   "cell_type": "code",
   "execution_count": 62,
   "id": "396ddceb",
   "metadata": {},
   "outputs": [
    {
     "data": {
      "text/plain": [
       "3"
      ]
     },
     "execution_count": 62,
     "metadata": {},
     "output_type": "execute_result"
    }
   ],
   "source": [
    "var2 = var\n",
    "getrefcount(var)"
   ]
  },
  {
   "cell_type": "markdown",
   "id": "a9bfca49",
   "metadata": {
    "editable": true,
    "slideshow": {
     "slide_type": "slide"
    },
    "tags": []
   },
   "source": [
    "What if a deep copy is performed? The `var` refcount does not change."
   ]
  },
  {
   "cell_type": "code",
   "execution_count": 63,
   "id": "166310e8",
   "metadata": {},
   "outputs": [
    {
     "name": "stdout",
     "output_type": "stream",
     "text": [
      "3\n",
      "2\n"
     ]
    }
   ],
   "source": [
    "var3 = var.copy()\n",
    "print(getrefcount(var))\n",
    "print(getrefcount(var3))"
   ]
  },
  {
   "cell_type": "markdown",
   "id": "d91a0818",
   "metadata": {
    "editable": true,
    "slideshow": {
     "slide_type": "slide"
    },
    "tags": []
   },
   "source": [
    "### Note\n",
    "\n",
    "When creating `var3`, a new list is created (different memory address than the one of `var`). Yet, this list shares the content of `var` (the tuple)!"
   ]
  },
  {
   "cell_type": "code",
   "execution_count": 64,
   "id": "429642d9",
   "metadata": {},
   "outputs": [
    {
     "name": "stdout",
     "output_type": "stream",
     "text": [
      "3\n",
      "3\n"
     ]
    }
   ],
   "source": [
    "print(getrefcount(var[0]))\n",
    "print(getrefcount(var3[0]))"
   ]
  },
  {
   "cell_type": "markdown",
   "id": "c2810dde",
   "metadata": {
    "editable": true,
    "slideshow": {
     "slide_type": "slide"
    },
    "tags": []
   },
   "source": [
    "### Garbage collection\n",
    "\n",
    "Whenever no reference exists for a memory content, Python makes this space available for other use; This is called garbage collection."
   ]
  },
  {
   "cell_type": "code",
   "execution_count": 65,
   "id": "29d52d77",
   "metadata": {},
   "outputs": [
    {
     "name": "stdout",
     "output_type": "stream",
     "text": [
      "3\n",
      "2\n"
     ]
    }
   ],
   "source": [
    "print(getrefcount(var))\n",
    "del var2\n",
    "print(getrefcount(var))\n",
    "del var\n",
    "# memory content of `var` no longer exists"
   ]
  },
  {
   "cell_type": "markdown",
   "id": "49105764",
   "metadata": {
    "editable": true,
    "slideshow": {
     "slide_type": ""
    },
    "tags": []
   },
   "source": [
    "In the every day life, __scoping rules__ of Python are such that a variable defined inside a function is detached from its memory content when exiting the function, thus there are not many cases where `del` should be called."
   ]
  }
 ],
 "metadata": {
  "kernelspec": {
   "display_name": "Python 3 (ipykernel)",
   "language": "python",
   "name": "python3"
  },
  "language_info": {
   "codemirror_mode": {
    "name": "ipython",
    "version": 3
   },
   "file_extension": ".py",
   "mimetype": "text/x-python",
   "name": "python",
   "nbconvert_exporter": "python",
   "pygments_lexer": "ipython3",
   "version": "3.12.3"
  }
 },
 "nbformat": 4,
 "nbformat_minor": 5
}
