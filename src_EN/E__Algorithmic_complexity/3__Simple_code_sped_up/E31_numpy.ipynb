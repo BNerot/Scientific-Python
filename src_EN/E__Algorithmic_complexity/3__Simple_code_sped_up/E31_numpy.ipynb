{
 "cells": [
  {
   "cell_type": "markdown",
   "id": "63f6df38",
   "metadata": {
    "editable": true,
    "slideshow": {
     "slide_type": "slide"
    },
    "tags": []
   },
   "source": [
    "## Introduction\n",
    "`numpy` is much faster than native Python code relying on loops. The sped up factor can be up to 10 or 100. \n",
    "\n",
    "\n"
   ]
  },
  {
   "cell_type": "markdown",
   "id": "21c393e3-4017-4874-a724-8a9d2033db06",
   "metadata": {
    "editable": true,
    "slideshow": {
     "slide_type": "slide"
    },
    "tags": []
   },
   "source": [
    "## Example\n",
    "\n",
    "Let's compare the running speed of native Python and `numpy`. The defined function perform the following operations:\n",
    "\n",
    "- create a list (or array) fill with `1`, of length `n`\n",
    "- sum the values of this data container\n"
   ]
  },
  {
   "cell_type": "code",
   "execution_count": 1,
   "id": "62d00d7f",
   "metadata": {
    "editable": true,
    "slideshow": {
     "slide_type": ""
    },
    "tags": []
   },
   "outputs": [],
   "source": [
    "import numpy as np\n",
    "\n",
    "def sum_python(n):\n",
    "    var = [1 for _ in range(n)]\n",
    "    sum(var)    # Python `sum` is different from \n",
    "                # `np.sum`\n",
    "\n",
    "def sum_numpy(n):\n",
    "    var = np.ones(n)\n",
    "    np.sum(var)    "
   ]
  },
  {
   "cell_type": "markdown",
   "id": "e70ed62c",
   "metadata": {
    "editable": true,
    "slideshow": {
     "slide_type": "slide"
    },
    "tags": []
   },
   "source": [
    "Let's compare running times:"
   ]
  },
  {
   "cell_type": "code",
   "execution_count": 2,
   "id": "9ad24f3e",
   "metadata": {
    "editable": true,
    "slideshow": {
     "slide_type": ""
    },
    "tags": [
     "no_run"
    ]
   },
   "outputs": [
    {
     "name": "stdout",
     "output_type": "stream",
     "text": [
      "299 µs ± 8.65 µs per loop (mean ± std. dev. of 7 runs, 1,000 loops each)\n"
     ]
    }
   ],
   "source": [
    "%timeit sum_python(10000)"
   ]
  },
  {
   "cell_type": "code",
   "execution_count": 3,
   "id": "1ff72f06",
   "metadata": {
    "editable": true,
    "slideshow": {
     "slide_type": ""
    },
    "tags": [
     "no_run"
    ]
   },
   "outputs": [
    {
     "name": "stdout",
     "output_type": "stream",
     "text": [
      "9.41 µs ± 138 ns per loop (mean ± std. dev. of 7 runs, 100,000 loops each)\n"
     ]
    }
   ],
   "source": [
    "%timeit sum_numpy(10000)"
   ]
  },
  {
   "cell_type": "markdown",
   "id": "412d298e",
   "metadata": {},
   "source": [
    "The `numpy` implementation is rougly 30 times faster than the Python one for `n=10000`."
   ]
  },
  {
   "cell_type": "markdown",
   "id": "84ad0750",
   "metadata": {
    "editable": true,
    "slideshow": {
     "slide_type": "slide"
    },
    "tags": []
   },
   "source": [
    "## Caution\n",
    "\n",
    "Every code comes with a constant overhead run time. \n",
    "\n",
    "__The use of `numpy` arrays comes with a pretty large overhead that is balanced only for large number of elements__\n",
    "\n",
    "The code below makes this overhead explicit."
   ]
  },
  {
   "cell_type": "markdown",
   "id": "70ffd5a9",
   "metadata": {
    "editable": true,
    "slideshow": {
     "slide_type": "slide"
    },
    "tags": []
   },
   "source": [
    "#### Timing"
   ]
  },
  {
   "cell_type": "code",
   "execution_count": null,
   "id": "aa3c984c",
   "metadata": {
    "editable": true,
    "slideshow": {
     "slide_type": ""
    },
    "tags": [
     "no_run"
    ]
   },
   "outputs": [],
   "source": [
    "import pandas as pd\n",
    "\n",
    "N = np.logspace(1, 8, 8).astype(int)  # n=10, n=100, ..., n=100 000 000\n",
    "results = []\n",
    "for n in N:\n",
    "    timeit_python = %timeit -q -o sum_python(n)\n",
    "    timeit_numpy = %timeit -q -o sum_numpy(n)\n",
    "    results.append({'N': n, \n",
    "                    'Python': timeit_python.average, \n",
    "                    'Numpy': timeit_numpy.average})"
   ]
  },
  {
   "cell_type": "code",
   "execution_count": 8,
   "id": "098846d8",
   "metadata": {
    "editable": true,
    "slideshow": {
     "slide_type": ""
    },
    "tags": [
     "no_run"
    ]
   },
   "outputs": [
    {
     "data": {
      "text/html": [
       "<div>\n",
       "<style scoped>\n",
       "    .dataframe tbody tr th:only-of-type {\n",
       "        vertical-align: middle;\n",
       "    }\n",
       "\n",
       "    .dataframe tbody tr th {\n",
       "        vertical-align: top;\n",
       "    }\n",
       "\n",
       "    .dataframe thead th {\n",
       "        text-align: right;\n",
       "    }\n",
       "</style>\n",
       "<table border=\"1\" class=\"dataframe\">\n",
       "  <thead>\n",
       "    <tr style=\"text-align: right;\">\n",
       "      <th></th>\n",
       "      <th>Python</th>\n",
       "      <th>Numpy</th>\n",
       "    </tr>\n",
       "    <tr>\n",
       "      <th>N</th>\n",
       "      <th></th>\n",
       "      <th></th>\n",
       "    </tr>\n",
       "  </thead>\n",
       "  <tbody>\n",
       "    <tr>\n",
       "      <th>10</th>\n",
       "      <td>5.945477e-07</td>\n",
       "      <td>0.000004</td>\n",
       "    </tr>\n",
       "    <tr>\n",
       "      <th>100</th>\n",
       "      <td>3.047114e-06</td>\n",
       "      <td>0.000005</td>\n",
       "    </tr>\n",
       "    <tr>\n",
       "      <th>1000</th>\n",
       "      <td>3.083205e-05</td>\n",
       "      <td>0.000006</td>\n",
       "    </tr>\n",
       "    <tr>\n",
       "      <th>10000</th>\n",
       "      <td>3.113286e-04</td>\n",
       "      <td>0.000010</td>\n",
       "    </tr>\n",
       "    <tr>\n",
       "      <th>100000</th>\n",
       "      <td>3.114604e-03</td>\n",
       "      <td>0.000049</td>\n",
       "    </tr>\n",
       "    <tr>\n",
       "      <th>1000000</th>\n",
       "      <td>3.154092e-02</td>\n",
       "      <td>0.001097</td>\n",
       "    </tr>\n",
       "    <tr>\n",
       "      <th>10000000</th>\n",
       "      <td>3.319341e-01</td>\n",
       "      <td>0.015903</td>\n",
       "    </tr>\n",
       "    <tr>\n",
       "      <th>100000000</th>\n",
       "      <td>3.358813e+00</td>\n",
       "      <td>0.140852</td>\n",
       "    </tr>\n",
       "  </tbody>\n",
       "</table>\n",
       "</div>"
      ],
      "text/plain": [
       "                 Python     Numpy\n",
       "N                                \n",
       "10         5.945477e-07  0.000004\n",
       "100        3.047114e-06  0.000005\n",
       "1000       3.083205e-05  0.000006\n",
       "10000      3.113286e-04  0.000010\n",
       "100000     3.114604e-03  0.000049\n",
       "1000000    3.154092e-02  0.001097\n",
       "10000000   3.319341e-01  0.015903\n",
       "100000000  3.358813e+00  0.140852"
      ]
     },
     "execution_count": 8,
     "metadata": {},
     "output_type": "execute_result"
    }
   ],
   "source": [
    "df = pd.DataFrame(results).set_index('N')\n",
    "df"
   ]
  },
  {
   "cell_type": "markdown",
   "id": "df4d6a71",
   "metadata": {
    "editable": true,
    "slideshow": {
     "slide_type": "slide"
    },
    "tags": []
   },
   "source": [
    "#### Plotting"
   ]
  },
  {
   "cell_type": "code",
   "execution_count": 9,
   "id": "97c0d639",
   "metadata": {},
   "outputs": [
    {
     "data": {
      "image/png": "[encoded data removed]",
      "text/plain": [
       "<Figure size 640x480 with 1 Axes>"
      ]
     },
     "metadata": {},
     "output_type": "display_data"
    }
   ],
   "source": [
    "ax = df.plot(logx=True, logy=True, grid=True, ylabel='Running time (s)')"
   ]
  },
  {
   "cell_type": "markdown",
   "id": "3d8fc3c7",
   "metadata": {
    "editable": true,
    "slideshow": {
     "slide_type": ""
    },
    "tags": []
   },
   "source": [
    "#### Analysis\n",
    "\n",
    "Regarding the `numpy` version:\n",
    " \n",
    " - it is 10 to 100 times faster than the Python version, __starting from `n=300`__\n",
    " - for $n<300$, the `numpy` running time is constant, which denotes a large overhead of `numpy` operations"
   ]
  }
 ],
 "metadata": {
  "kernelspec": {
   "display_name": "Python 3 (ipykernel)",
   "language": "python",
   "name": "python3"
  },
  "language_info": {
   "codemirror_mode": {
    "name": "ipython",
    "version": 3
   },
   "file_extension": ".py",
   "mimetype": "text/x-python",
   "name": "python",
   "nbconvert_exporter": "python",
   "pygments_lexer": "ipython3",
   "version": "3.12.3"
  }
 },
 "nbformat": 4,
 "nbformat_minor": 5
}
