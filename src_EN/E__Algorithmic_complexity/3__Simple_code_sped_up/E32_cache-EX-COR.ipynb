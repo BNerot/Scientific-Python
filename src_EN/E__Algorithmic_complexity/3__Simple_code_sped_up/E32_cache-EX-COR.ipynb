{
 "cells": [
  {
   "cell_type": "markdown",
   "id": "034ee8e7",
   "metadata": {},
   "source": [
    "# Problem\n",
    "\n",
    "1. Write a pure Python function that computes $V(n)$:\n",
    "\n",
    "   For $n \\geq 1$:\n",
    "   \n",
    "   $$ V(n) = \\sum_{k=0}^{n-1}{U(k)} $$\n",
    "   $$ U(n) = \\left[ \\log{({\\sin{(n)} + V(n)})} \\right] ^{4} $$\n",
    "   \n",
    "   For $ n=0 $:\n",
    "   \n",
    "   $$ V(0) = 42 $$\n",
    "   \n",
    "   You can use: `from math import sin, log`\n",
    "   \n",
    "2. Time this function for $n=20$.\n",
    "3. Profile the running time.\n",
    "\n",
    "4. Use a memoization method to speed up the calculation. Is it faster?\n",
    "5. Write a `numpy` version of this function. \n",
    "   You can use:\n",
    "   ```\n",
    "   from numpy import sin as sin_, log as log_, sum as sum_\n",
    "   ```\n",
    "   \n",
    "   Is it faster?"
   ]
  },
  {
   "cell_type": "markdown",
   "id": "47d64703",
   "metadata": {},
   "source": [
    "# Solution\n",
    "\n",
    "## 1."
   ]
  },
  {
   "cell_type": "code",
   "execution_count": 2,
   "id": "6b8c6b79",
   "metadata": {},
   "outputs": [],
   "source": [
    "from math import sin, log\n",
    "\n",
    "def U(n):\n",
    "    return log(sin(n) + V(n)) ** 4\n",
    "\n",
    "def V(n):\n",
    "    if n == 0:\n",
    "        return 42\n",
    "    else:\n",
    "        return sum([U(k) for k in range(n)])"
   ]
  },
  {
   "cell_type": "markdown",
   "id": "d4931863",
   "metadata": {},
   "source": [
    "## 2."
   ]
  },
  {
   "cell_type": "code",
   "execution_count": 3,
   "id": "0513dc64",
   "metadata": {},
   "outputs": [
    {
     "name": "stdout",
     "output_type": "stream",
     "text": [
      "531 ms ± 14 ms per loop (mean ± std. dev. of 7 runs, 1 loop each)\n"
     ]
    }
   ],
   "source": [
    "%timeit V(20)"
   ]
  },
  {
   "cell_type": "markdown",
   "id": "6d21a74a",
   "metadata": {},
   "source": [
    "## 3."
   ]
  },
  {
   "cell_type": "code",
   "execution_count": 58,
   "id": "ff2984c1",
   "metadata": {},
   "outputs": [
    {
     "name": "stdout",
     "output_type": "stream",
     "text": [
      " "
     ]
    }
   ],
   "source": [
    "%prun V(20)"
   ]
  },
  {
   "cell_type": "markdown",
   "id": "f6497238",
   "metadata": {},
   "source": [
    "## 4."
   ]
  },
  {
   "cell_type": "code",
   "execution_count": 59,
   "id": "6e661c2c",
   "metadata": {},
   "outputs": [],
   "source": [
    "from functools import lru_cache\n",
    "\n",
    "@lru_cache(maxsize=None)\n",
    "def cached_U(n):\n",
    "    return log(sin(n) + V(n)) ** 4\n",
    "\n",
    "def cached_V(n):\n",
    "    if n == 0:\n",
    "        return 42\n",
    "    else:\n",
    "        return sum([cached_U(k) for k in range(n)])\n",
    "    "
   ]
  },
  {
   "cell_type": "code",
   "execution_count": 60,
   "id": "8e03b0dd",
   "metadata": {},
   "outputs": [
    {
     "name": "stdout",
     "output_type": "stream",
     "text": [
      "2.38 µs ± 942 ns per loop (mean ± std. dev. of 7 runs, 1 loop each)\n"
     ]
    }
   ],
   "source": [
    "%timeit cached_V(20)"
   ]
  },
  {
   "cell_type": "markdown",
   "id": "65e2d28e",
   "metadata": {},
   "source": [
    "## 5."
   ]
  },
  {
   "cell_type": "code",
   "execution_count": 61,
   "id": "812231bd",
   "metadata": {},
   "outputs": [],
   "source": [
    "from numpy import sin as sin_, log as log_, sum as sum_, arange\n",
    "\n",
    "def numpy_U(n):\n",
    "    return log_(sin_(n) + V(n)) ** 4\n",
    "\n",
    "def numpy_V(n):\n",
    "    if n == 0:\n",
    "        return 42\n",
    "    else:\n",
    "        return sum_([U(k) for k in arange(n)])"
   ]
  },
  {
   "cell_type": "code",
   "execution_count": 62,
   "id": "336b5c14",
   "metadata": {},
   "outputs": [
    {
     "name": "stdout",
     "output_type": "stream",
     "text": [
      "590 ms ± 31 ms per loop (mean ± std. dev. of 7 runs, 1 loop each)\n"
     ]
    }
   ],
   "source": [
    "%timeit numpy_V(20)"
   ]
  }
 ],
 "metadata": {
  "kernelspec": {
   "display_name": "Python 3 (ipykernel)",
   "language": "python",
   "name": "python3"
  },
  "language_info": {
   "codemirror_mode": {
    "name": "ipython",
    "version": 3
   },
   "file_extension": ".py",
   "mimetype": "text/x-python",
   "name": "python",
   "nbconvert_exporter": "python",
   "pygments_lexer": "ipython3",
   "version": "3.10.12"
  }
 },
 "nbformat": 4,
 "nbformat_minor": 5
}
