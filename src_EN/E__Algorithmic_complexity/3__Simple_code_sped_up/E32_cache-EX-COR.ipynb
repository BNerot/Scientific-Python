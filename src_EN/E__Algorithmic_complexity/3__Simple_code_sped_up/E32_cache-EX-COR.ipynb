{
 "cells": [
  {
   "cell_type": "markdown",
   "id": "034ee8e7",
   "metadata": {
    "editable": true,
    "slideshow": {
     "slide_type": "slide"
    },
    "tags": []
   },
   "source": [
    "# Problem\n",
    "\n",
    "1. Write a pure Python function that computes $V(n)$:\n",
    "\n",
    "   For $n \\geq 1$:\n",
    "   \n",
    "   $$ V(n) = \\sum_{k=0}^{n-1}{U(k)} $$\n",
    "   $$ U(n) = \\left[ \\log{({\\sin{(n)} + V(n)})} \\right] ^{4} $$\n",
    "   \n",
    "   For $ n=0 $:\n",
    "   \n",
    "   $$ V(0) = 42 $$\n",
    "   \n",
    "   You can use: `from math import sin, log`\n",
    "   \n",
    "2. Time this function for $n=20$.\n",
    "3. Profile the running time.\n",
    "\n",
    "4. Use a memoization method to speed up the calculation. Is it faster?\n",
    "5. Write a `numpy` version of this function. \n",
    "   You can use:\n",
    "   ```\n",
    "   from numpy import sin as sin_, log as log_, sum as sum_\n",
    "   ```\n",
    "   \n",
    "   Is it faster?"
   ]
  },
  {
   "cell_type": "markdown",
   "id": "47d64703",
   "metadata": {
    "editable": true,
    "slideshow": {
     "slide_type": "slide"
    },
    "tags": []
   },
   "source": [
    "# Solution\n",
    "\n",
    "## 1."
   ]
  },
  {
   "cell_type": "code",
   "execution_count": 1,
   "id": "6b8c6b79",
   "metadata": {
    "editable": true,
    "slideshow": {
     "slide_type": ""
    },
    "tags": []
   },
   "outputs": [],
   "source": [
    "from math import sin, log\n",
    "\n",
    "def U(n):\n",
    "    return log(sin(n) + V(n)) ** 4\n",
    "\n",
    "def V(n):\n",
    "    if n == 0:\n",
    "        return 42\n",
    "    else:\n",
    "        return sum([U(k) for k in range(n)])"
   ]
  },
  {
   "cell_type": "markdown",
   "id": "d4931863",
   "metadata": {
    "editable": true,
    "slideshow": {
     "slide_type": "slide"
    },
    "tags": []
   },
   "source": [
    "## 2."
   ]
  },
  {
   "cell_type": "code",
   "execution_count": 2,
   "id": "0513dc64",
   "metadata": {
    "editable": true,
    "slideshow": {
     "slide_type": ""
    },
    "tags": [
     "no_run"
    ]
   },
   "outputs": [
    {
     "name": "stdout",
     "output_type": "stream",
     "text": [
      "194 ms ± 1.22 ms per loop (mean ± std. dev. of 7 runs, 10 loops each)\n"
     ]
    }
   ],
   "source": [
    "%timeit V(20)"
   ]
  },
  {
   "cell_type": "markdown",
   "id": "6d21a74a",
   "metadata": {
    "editable": true,
    "slideshow": {
     "slide_type": "slide"
    },
    "tags": []
   },
   "source": [
    "## 3."
   ]
  },
  {
   "cell_type": "code",
   "execution_count": 3,
   "id": "ff2984c1",
   "metadata": {
    "editable": true,
    "slideshow": {
     "slide_type": ""
    },
    "tags": [
     "no_run"
    ]
   },
   "outputs": [
    {
     "name": "stdout",
     "output_type": "stream",
     "text": [
      " "
     ]
    },
    {
     "data": {
      "text/plain": [
       "         4719347 function calls (2622201 primitive calls) in 0.734 seconds\n",
       "\n",
       "   Ordered by: internal time\n",
       "\n",
       "   ncalls  tottime  percall  cumtime  percall filename:lineno(function)\n",
       "1048576/20    0.299    0.000    0.786    0.039 943180024.py:3(U)\n",
       "1048577/1    0.248    0.000    0.640    0.640 943180024.py:6(V)\n",
       "  1048575    0.076    0.000    0.076    0.000 {built-in method math.sin}\n",
       "  1048575    0.056    0.000    0.056    0.000 {built-in method math.log}\n",
       "   524288    0.052    0.000    0.052    0.000 {built-in method builtins.sum}\n",
       "       14    0.000    0.000    0.000    0.000 socket.py:626(send)\n",
       "        1    0.000    0.000    0.000    0.000 {method 'execute' of 'sqlite3.Connection' objects}\n",
       "      6/4    0.000    0.000    0.027    0.007 {method 'run' of '_contextvars.Context' objects}\n",
       "        1    0.000    0.000    0.000    0.000 {method 'send' of '_socket.socket' objects}\n",
       "        1    0.000    0.000    0.000    0.000 {method 'disable' of '_lsprof.Profiler' objects}\n",
       "        2    0.000    0.000    0.000    0.000 {method 'recv' of '_socket.socket' objects}\n",
       "      2/1    0.000    0.000    0.730    0.730 {built-in method builtins.exec}\n",
       "       72    0.000    0.000    0.000    0.000 enum.py:1544(_get_value)\n",
       "        4    0.000    0.000    0.034    0.008 base_events.py:1910(_run_once)\n",
       "  152/148    0.000    0.000    0.000    0.000 {built-in method builtins.isinstance}\n",
       "       16    0.000    0.000    0.000    0.000 enum.py:1551(__or__)\n",
       "        5    0.000    0.000    0.000    0.000 attrsettr.py:43(__getattr__)\n",
       "        5    0.000    0.000    0.000    0.000 attrsettr.py:66(_get_attr_opt)\n",
       "        2    0.000    0.000    0.000    0.000 {method '__exit__' of 'sqlite3.Connection' objects}\n",
       "      3/1    0.000    0.000    0.000    0.000 {method 'poll' of 'select.epoll' objects}\n",
       "        1    0.000    0.000    0.000    0.000 inspect.py:3102(_bind)\n",
       "       31    0.000    0.000    0.000    0.000 enum.py:726(__call__)\n",
       "        2    0.000    0.000    0.000    0.000 socket.py:774(recv_multipart)\n",
       "        1    0.000    0.000    0.006    0.006 kernelbase.py:302(poll_control_queue)\n",
       "        8    0.000    0.000    0.000    0.000 enum.py:1562(__and__)\n",
       "        2    0.000    0.000    0.000    0.000 iostream.py:216(_check_mp_mode)\n",
       "        1    0.000    0.000    0.000    0.000 poll.py:80(poll)\n",
       "        1    0.000    0.000    0.000    0.000 traitlets.py:1527(_notify_observers)\n",
       "        1    0.000    0.000    0.000    0.000 history.py:845(writeout_cache)\n",
       "        1    0.000    0.000    0.000    0.000 queues.py:256(get_nowait)\n",
       "      6/4    0.000    0.000    0.027    0.007 events.py:86(_run)\n",
       "        1    0.000    0.000    0.000    0.000 iostream.py:718(_rotate_buffers)\n",
       "       31    0.000    0.000    0.000    0.000 enum.py:1129(__new__)\n",
       "      3/1    0.000    0.000    0.000    0.000 selectors.py:451(select)\n",
       "        8    0.000    0.000    0.000    0.000 traitlets.py:676(__get__)\n",
       "        1    0.000    0.000    0.000    0.000 queues.py:225(get)\n",
       "        3    0.000    0.000    0.000    0.000 ioloop.py:742(_run_callback)\n",
       "        1    0.000    0.000    0.000    0.000 iostream.py:616(_flush)\n",
       "        6    0.000    0.000    0.000    0.000 typing.py:392(inner)\n",
       "        1    0.000    0.000    0.000    0.000 history.py:839(_writeout_output_cache)\n",
       "        1    0.000    0.000    0.000    0.000 kernelbase.py:324(_flush)\n",
       "        1    0.000    0.000    0.000    0.000 zmqstream.py:427(flush)\n",
       "        2    0.000    0.000    0.000    0.000 traitlets.py:3631(set)\n",
       "        2    0.000    0.000    0.000    0.000 iostream.py:278(_really_send)\n",
       "        1    0.000    0.000    0.000    0.000 selector_events.py:129(_read_from_self)\n",
       "       10    0.000    0.000    0.000    0.000 {built-in method builtins.hasattr}\n",
       "        2    0.000    0.000    0.000    0.000 traitlets.py:718(_validate)\n",
       "        1    0.000    0.000    0.000    0.000 iostream.py:710(_flush_buffers)\n",
       "       25    0.000    0.000    0.000    0.000 {built-in method builtins.len}\n",
       "        2    0.000    0.000    0.000    0.000 traitlets.py:689(set)\n",
       "        1    0.000    0.000    0.000    0.000 decorator.py:199(fix)\n",
       "        3    0.000    0.000    0.000    0.000 base_events.py:814(_call_soon)\n",
       "        8    0.000    0.000    0.000    0.000 traitlets.py:629(get)\n",
       "        3    0.000    0.000    0.000    0.000 zmqstream.py:663(_rebuild_io_state)\n",
       "        2    0.000    0.000    0.000    0.000 traitlets.py:3474(validate)\n",
       "        4    0.000    0.000    0.000    0.000 queue.py:97(empty)\n",
       "        7    0.000    0.000    0.000    0.000 base_events.py:734(time)\n",
       "        3    0.000    0.000    0.000    0.000 zmqstream.py:686(_update_handler)\n",
       "        1    0.000    0.000    0.000    0.000 queues.py:186(put)\n",
       "        7    0.000    0.000    0.000    0.000 {built-in method builtins.max}\n",
       "        5    0.000    0.000    0.000    0.000 selector_events.py:750(_process_events)\n",
       "        2    0.000    0.000    0.000    0.000 traitlets.py:727(_cross_validate)\n",
       "        2    0.000    0.000    0.000    0.000 traitlets.py:708(__set__)\n",
       "        2    0.000    0.000    0.000    0.000 traitlets.py:3624(validate_elements)\n",
       "        5    0.000    0.000    0.000    0.000 <frozen importlib._bootstrap>:1390(_handle_fromlist)\n",
       "        1    0.000    0.000    0.000    0.000 queues.py:209(put_nowait)\n",
       "        1    0.000    0.000    0.000    0.000 inspect.py:3237(bind)\n",
       "        2    0.000    0.000    0.007    0.003 iostream.py:276(<lambda>)\n",
       "        1    0.000    0.000    0.000    0.000 traitlets.py:1512(_notify_trait)\n",
       "        2    0.000    0.000    0.024    0.012 zmqstream.py:583(_handle_events)\n",
       "        3    0.000    0.000    0.000    0.000 threading.py:299(__enter__)\n",
       "        3    0.000    0.000    0.000    0.000 events.py:36(__init__)\n",
       "        2    0.000    0.000    0.000    0.000 socket.py:703(send_multipart)\n",
       "        4    0.000    0.000    0.000    0.000 typing.py:1258(__hash__)\n",
       "        1    0.000    0.000    0.000    0.000 asyncio.py:225(add_callback)\n",
       "        1    0.000    0.000    0.000    0.000 traitlets.py:1523(notify_change)\n",
       "        1    0.000    0.000    0.000    0.000 inspect.py:2918(apply_defaults)\n",
       "        1    0.000    0.000    0.000    0.000 zmqstream.py:468(update_flag)\n",
       "        1    0.000    0.000    0.000    0.000 threading.py:311(_acquire_restore)\n",
       "       10    0.000    0.000    0.000    0.000 {method 'popleft' of 'collections.deque' objects}\n",
       "        5    0.000    0.000    0.000    0.000 {built-in method builtins.getattr}\n",
       "        2    0.000    0.000    0.000    0.000 queues.py:322(_consume_expired)\n",
       "        2    0.000    0.000    0.000    0.000 traitlets.py:2304(validate)\n",
       "        2    0.000    0.000    0.012    0.006 zmqstream.py:556(_run_callback)\n",
       "        9    0.000    0.000    0.000    0.000 {method 'append' of 'collections.deque' objects}\n",
       "        7    0.000    0.000    0.000    0.000 {built-in method time.monotonic}\n",
       "        2    0.000    0.000    0.000    0.000 iostream.py:213(_is_master_process)\n",
       "        3    0.000    0.000    0.000    0.000 {method 'acquire' of '_thread.lock' objects}\n",
       "        1    0.000    0.000    0.000    0.000 threading.py:424(notify_all)\n",
       "        1    0.000    0.000    0.000    0.000 inspect.py:2865(args)\n",
       "        8    0.000    0.000    0.000    0.000 {method '__exit__' of '_thread.lock' objects}\n",
       "        2    0.000    0.000    0.000    0.000 base_events.py:1895(_add_callback)\n",
       "       28    0.000    0.000    0.000    0.000 typing.py:2154(cast)\n",
       "        2    0.000    0.000    0.000    0.000 typing.py:1465(__subclasscheck__)\n",
       "        1    0.000    0.000    0.000    0.000 concurrent.py:182(future_set_result_unless_cancelled)\n",
       "        2    0.000    0.000    0.000    0.000 base_events.py:785(call_soon)\n",
       "        3    0.000    0.000    0.000    0.000 threading.py:302(__exit__)\n",
       "        2    0.000    0.000    0.000    0.000 {method 'set_result' of '_asyncio.Future' objects}\n",
       "        2    0.000    0.000    0.000    0.000 typing.py:1194(__instancecheck__)\n",
       "        6    0.000    0.000    0.000    0.000 {built-in method builtins.next}\n",
       "      2/1    0.000    0.000    0.729    0.729 <string>:1(<module>)\n",
       "        6    0.000    0.000    0.000    0.000 {method 'append' of 'list' objects}\n",
       "        2    0.000    0.000    0.012    0.006 iostream.py:157(_handle_event)\n",
       "        1    0.000    0.000    0.000    0.000 history.py:833(_writeout_input_cache)\n",
       "        1    0.000    0.000    0.000    0.000 threading.py:394(notify)\n",
       "        1    0.000    0.000    0.000    0.000 threading.py:308(_release_save)\n",
       "        4    0.000    0.000    0.000    0.000 zmqstream.py:542(sending)\n",
       "        2    0.000    0.000    0.000    0.000 {built-in method builtins.issubclass}\n",
       "        1    0.000    0.000    0.000    0.000 threading.py:627(clear)\n",
       "        2    0.000    0.000    0.022    0.011 zmqstream.py:624(_handle_recv)\n",
       "        2    0.000    0.000    0.000    0.000 selectors.py:275(_key_from_fd)\n",
       "        1    0.000    0.000    0.000    0.000 queues.py:173(qsize)\n",
       "        1    0.000    0.000    0.000    0.000 inspect.py:2888(kwargs)\n",
       "        1    0.000    0.000    0.000    0.000 queues.py:317(__put_internal)\n",
       "        1    0.000    0.000    0.000    0.000 {built-in method posix.getppid}\n",
       "        2    0.000    0.000    0.000    0.000 traitlets.py:3486(validate_elements)\n",
       "        1    0.000    0.000    0.000    0.000 base_events.py:838(call_soon_threadsafe)\n",
       "        4    0.000    0.000    0.000    0.000 {method 'get' of 'dict' objects}\n",
       "        5    0.000    0.000    0.000    0.000 {method 'upper' of 'str' objects}\n",
       "        4    0.000    0.000    0.000    0.000 queue.py:209(_qsize)\n",
       "        2    0.000    0.000    0.000    0.000 <frozen abc>:121(__subclasscheck__)\n",
       "        1    0.000    0.000    0.000    0.000 {built-in method _heapq.heappop}\n",
       "        2    0.000    0.000    0.000    0.000 {built-in method math.ceil}\n",
       "        1    0.000    0.000    0.000    0.000 {method 'values' of 'mappingproxy' objects}\n",
       "        1    0.000    0.000    0.000    0.000 _base.py:337(_invoke_callbacks)\n",
       "        2    0.000    0.000    0.000    0.000 {built-in method posix.getpid}\n",
       "        1    0.000    0.000    0.000    0.000 selector_events.py:141(_write_to_self)\n",
       "        2    0.000    0.000    0.000    0.000 {built-in method _abc._abc_subclasscheck}\n",
       "        1    0.000    0.000    0.000    0.000 {built-in method _thread.allocate_lock}\n",
       "        2    0.000    0.000    0.000    0.000 {built-in method _contextvars.copy_context}\n",
       "       10    0.000    0.000    0.000    0.000 inspect.py:2777(kind)\n",
       "        1    0.000    0.000    0.000    0.000 history.py:55(only_when_enabled)\n",
       "        2    0.000    0.000    0.000    0.000 {method '__enter__' of '_thread.lock' objects}\n",
       "        4    0.000    0.000    0.000    0.000 {built-in method builtins.hash}\n",
       "        1    0.000    0.000    0.000    0.000 poll.py:31(register)\n",
       "        2    0.000    0.000    0.000    0.000 {built-in method builtins.min}\n",
       "        1    0.000    0.000    0.000    0.000 decorator.py:229(fun)\n",
       "        1    0.000    0.000    0.000    0.000 unix_events.py:81(_process_self_data)\n",
       "        2    0.000    0.000    0.000    0.000 {method '__exit__' of '_thread.RLock' objects}\n",
       "        5    0.000    0.000    0.000    0.000 zmqstream.py:538(receiving)\n",
       "        3    0.000    0.000    0.000    0.000 {method 'items' of 'mappingproxy' objects}\n",
       "        1    0.000    0.000    0.000    0.000 futures.py:394(_call_set_state)\n",
       "        1    0.000    0.000    0.000    0.000 _base.py:537(set_result)\n",
       "        1    0.000    0.000    0.000    0.000 {method '__enter__' of '_thread.RLock' objects}\n",
       "        1    0.000    0.000    0.000    0.000 {method 'items' of 'dict' objects}\n",
       "        5    0.000    0.000    0.000    0.000 base_events.py:2005(get_debug)\n",
       "        1    0.000    0.000    0.000    0.000 queues.py:177(empty)\n",
       "        1    0.000    0.000    0.000    0.000 queues.py:309(_get)\n",
       "        1    0.000    0.000    0.000    0.000 threading.py:314(_is_owned)\n",
       "        1    0.000    0.000    0.000    0.000 zmqstream.py:659(_check_closed)\n",
       "        2    0.000    0.000    0.000    0.000 {method 'extend' of 'list' objects}\n",
       "        2    0.000    0.000    0.000    0.000 iostream.py:255(closed)\n",
       "        3    0.000    0.000    0.000    0.000 base_events.py:539(_check_closed)\n",
       "        4    0.000    0.000    0.000    0.000 inspect.py:3058(parameters)\n",
       "        1    0.000    0.000    0.000    0.000 queues.py:312(_put)\n",
       "        2    0.000    0.000    0.000    0.000 {built-in method builtins.iter}\n",
       "        2    0.000    0.000    0.000    0.000 {method 'cancelled' of '_asyncio.Future' objects}\n",
       "        1    0.000    0.000    0.000    0.000 {built-in method _asyncio.get_running_loop}\n",
       "        1    0.000    0.000    0.000    0.000 {method 'release' of '_thread.lock' objects}\n",
       "        4    0.000    0.000    0.000    0.000 inspect.py:2765(name)\n",
       "        1    0.000    0.000    0.000    0.000 {method '_is_owned' of '_thread.RLock' objects}\n",
       "        1    0.000    0.000    0.024    0.024 asyncio.py:200(_handle_events)\n",
       "        1    0.000    0.000    0.000    0.000 {method 'done' of '_asyncio.Future' objects}\n",
       "        1    0.000    0.000    0.000    0.000 base_events.py:720(is_closed)\n",
       "        1    0.000    0.000    0.000    0.000 zmqstream.py:694(<lambda>)\n",
       "        1    0.000    0.000    0.000    0.000 inspect.py:2857(__init__)\n",
       "        1    0.000    0.000    0.000    0.000 queues.py:59(_set_timeout)\n",
       "        1    0.000    0.000    0.000    0.000 locks.py:224(clear)"
      ]
     },
     "metadata": {},
     "output_type": "display_data"
    }
   ],
   "source": [
    "%prun V(20)"
   ]
  },
  {
   "cell_type": "markdown",
   "id": "f6497238",
   "metadata": {
    "editable": true,
    "slideshow": {
     "slide_type": "slide"
    },
    "tags": []
   },
   "source": [
    "## 4."
   ]
  },
  {
   "cell_type": "code",
   "execution_count": 4,
   "id": "6e661c2c",
   "metadata": {
    "editable": true,
    "slideshow": {
     "slide_type": ""
    },
    "tags": []
   },
   "outputs": [],
   "source": [
    "from functools import lru_cache\n",
    "\n",
    "@lru_cache(maxsize=None)\n",
    "def cached_U(n):\n",
    "    return log(sin(n) + V(n)) ** 4\n",
    "\n",
    "def cached_V(n):\n",
    "    if n == 0:\n",
    "        return 42\n",
    "    else:\n",
    "        return sum([cached_U(k) for k in range(n)])\n",
    "    "
   ]
  },
  {
   "cell_type": "code",
   "execution_count": 5,
   "id": "8e03b0dd",
   "metadata": {
    "editable": true,
    "slideshow": {
     "slide_type": ""
    },
    "tags": [
     "no_run"
    ]
   },
   "outputs": [
    {
     "name": "stdout",
     "output_type": "stream",
     "text": [
      "886 ns ± 5.35 ns per loop (mean ± std. dev. of 7 runs, 1,000,000 loops each)\n"
     ]
    }
   ],
   "source": [
    "%timeit cached_V(20)"
   ]
  },
  {
   "cell_type": "markdown",
   "id": "65e2d28e",
   "metadata": {
    "editable": true,
    "slideshow": {
     "slide_type": "slide"
    },
    "tags": []
   },
   "source": [
    "## 5."
   ]
  },
  {
   "cell_type": "code",
   "execution_count": 6,
   "id": "812231bd",
   "metadata": {
    "editable": true,
    "slideshow": {
     "slide_type": ""
    },
    "tags": []
   },
   "outputs": [],
   "source": [
    "from numpy import sin as sin_, log as log_, sum as sum_, arange\n",
    "\n",
    "def numpy_U(n):\n",
    "    return log_(sin_(n) + numpy_V(n)) ** 4\n",
    "\n",
    "def numpy_V(n):\n",
    "    if n == 0:\n",
    "        return 42\n",
    "    else:\n",
    "        return sum_([numpy_U(k) for k in arange(n)])"
   ]
  },
  {
   "cell_type": "code",
   "execution_count": 7,
   "id": "336b5c14",
   "metadata": {
    "editable": true,
    "slideshow": {
     "slide_type": ""
    },
    "tags": [
     "no_run"
    ]
   },
   "outputs": [
    {
     "name": "stdout",
     "output_type": "stream",
     "text": [
      "2.7 s ± 43.7 ms per loop (mean ± std. dev. of 7 runs, 1 loop each)\n"
     ]
    }
   ],
   "source": [
    "%timeit numpy_V(20)"
   ]
  }
 ],
 "metadata": {
  "kernelspec": {
   "display_name": "Python 3 (ipykernel)",
   "language": "python",
   "name": "python3"
  },
  "language_info": {
   "codemirror_mode": {
    "name": "ipython",
    "version": 3
   },
   "file_extension": ".py",
   "mimetype": "text/x-python",
   "name": "python",
   "nbconvert_exporter": "python",
   "pygments_lexer": "ipython3",
   "version": "3.12.3"
  }
 },
 "nbformat": 4,
 "nbformat_minor": 5
}
