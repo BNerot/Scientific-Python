{
 "cells": [
  {
   "cell_type": "markdown",
   "id": "034ee8e7",
   "metadata": {
    "editable": true,
    "slideshow": {
     "slide_type": ""
    },
    "tags": []
   },
   "source": [
    "# Problem\n",
    "\n",
    "1. Write a pure Python function that computes $V(n)$:\n",
    "\n",
    "   For $n \\geq 1$:\n",
    "   \n",
    "   $$ V(n) = \\sum_{k=0}^{n-1}{U(k)} $$\n",
    "   $$ U(n) = \\left[ \\log{({\\sin{(n)} + V(n)})} \\right] ^{4} $$\n",
    "   \n",
    "   For $ n=0 $:\n",
    "   \n",
    "   $$ V(0) = 42 $$\n",
    "   \n",
    "   You can use: `from math import sin, log`\n",
    "   \n",
    "2. Time this function for $n=20$.\n",
    "3. Profile the running time.\n",
    "\n",
    "4. Use a memoization method to speed up the calculation. Is it faster?\n",
    "5. Write a `numpy` version of this function. \n",
    "   You can use:\n",
    "\n",
    "   \n",
    "   ```\n",
    "   from numpy import sin as sin_, log as log_, sum as sum_\n",
    "   ```\n",
    "   \n",
    "   \n",
    "   Is it faster?"
   ]
  }
 ],
 "metadata": {
  "kernelspec": {
   "display_name": "Python 3 (ipykernel)",
   "language": "python",
   "name": "python3"
  },
  "language_info": {
   "codemirror_mode": {
    "name": "ipython",
    "version": 3
   },
   "file_extension": ".py",
   "mimetype": "text/x-python",
   "name": "python",
   "nbconvert_exporter": "python",
   "pygments_lexer": "ipython3",
   "version": "3.12.3"
  }
 },
 "nbformat": 4,
 "nbformat_minor": 5
}
