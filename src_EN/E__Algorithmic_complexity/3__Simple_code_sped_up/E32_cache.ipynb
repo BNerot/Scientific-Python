{
 "cells": [
  {
   "cell_type": "markdown",
   "id": "37f1f3ee",
   "metadata": {
    "editable": true,
    "slideshow": {
     "slide_type": "slide"
    },
    "tags": []
   },
   "source": [
    "## Introduction\n",
    "\n",
    "__Memoization__ methods consist in storing an intermediate result and returning it whenever this is needed.\n",
    "\n",
    "These methods reduce the time complexity but deteriorates memory use."
   ]
  },
  {
   "cell_type": "markdown",
   "id": "1479334f",
   "metadata": {
    "editable": true,
    "slideshow": {
     "slide_type": "slide"
    },
    "tags": []
   },
   "source": [
    "## Implementation\n",
    "\n"
   ]
  },
  {
   "cell_type": "markdown",
   "id": "a2d25b64-d031-4099-b78c-6de5cfa88ef3",
   "metadata": {
    "editable": true,
    "slideshow": {
     "slide_type": "slide"
    },
    "tags": []
   },
   "source": [
    "### Theory\n",
    "\n",
    "In Python, the `lru_cache` decorator of the `functools` package is a way to do memoization. Recall that a decorator can be applied using `@` before the line of a function/class definition.\n",
    "\n",
    "In the background, `lru_cache` stores the results of each function call and returns them when the function is called one more time with the same arguments. \n",
    "\n",
    "`lru_cache` takes a `maxsize` argument so that only a certain number of function calls results are stored ('lru' = 'least recently used'). Whenever the function result has a low memory footprint, one can set `maxsize=None` to leverage the limit. \n",
    "\n"
   ]
  },
  {
   "cell_type": "markdown",
   "id": "8af00f79-6e59-42fa-809a-83365cf6bb10",
   "metadata": {
    "editable": true,
    "slideshow": {
     "slide_type": "slide"
    },
    "tags": []
   },
   "source": [
    "\n",
    "\n",
    "### Example\n",
    "\n",
    "#### Code\n",
    "\n",
    "Let's build a classical case study: the Fibonacci sequence. Let's define 2 versions: \n",
    "\n",
    "- without memoization\n",
    "- with memoization, using `lru_cache`"
   ]
  },
  {
   "cell_type": "code",
   "execution_count": 1,
   "id": "637101cc",
   "metadata": {
    "editable": true,
    "slideshow": {
     "slide_type": ""
    },
    "tags": []
   },
   "outputs": [],
   "source": [
    "from functools import lru_cache\n",
    "\n",
    "def fib_simple(n):\n",
    "    if n < 2:\n",
    "        return n\n",
    "    return fib_simple(n-1) + fib_simple(n-2)\n",
    "\n",
    "@lru_cache(maxsize=2**20)  # maxsize must be specified as a power of 2\n",
    "def fib_memoized(n):\n",
    "    if n < 2:\n",
    "        return n\n",
    "    return fib_memoized(n-1) + fib_memoized(n-2)"
   ]
  },
  {
   "cell_type": "markdown",
   "id": "741d83b9",
   "metadata": {
    "editable": true,
    "slideshow": {
     "slide_type": "slide"
    },
    "tags": []
   },
   "source": [
    "#### Results"
   ]
  },
  {
   "cell_type": "code",
   "execution_count": 2,
   "id": "37dd1bc4",
   "metadata": {
    "editable": true,
    "slideshow": {
     "slide_type": ""
    },
    "tags": [
     "no_run"
    ]
   },
   "outputs": [
    {
     "name": "stdout",
     "output_type": "stream",
     "text": [
      "19.5 µs ± 1.36 µs per loop (mean ± std. dev. of 7 runs, 100,000 loops each)\n"
     ]
    }
   ],
   "source": [
    "%timeit fib_simple(10)"
   ]
  },
  {
   "cell_type": "code",
   "execution_count": 3,
   "id": "c4a94727",
   "metadata": {
    "editable": true,
    "slideshow": {
     "slide_type": ""
    },
    "tags": [
     "no_run"
    ]
   },
   "outputs": [
    {
     "name": "stdout",
     "output_type": "stream",
     "text": [
      "88.1 ns ± 10.6 ns per loop (mean ± std. dev. of 7 runs, 10,000,000 loops each)\n"
     ]
    }
   ],
   "source": [
    "%timeit fib_memoized(10)"
   ]
  },
  {
   "cell_type": "markdown",
   "id": "b7f007ba",
   "metadata": {},
   "source": [
    "There is a time sped up of approximately a factor 220!"
   ]
  },
  {
   "cell_type": "markdown",
   "id": "26871f80",
   "metadata": {
    "editable": true,
    "slideshow": {
     "slide_type": "slide"
    },
    "tags": []
   },
   "source": [
    "### Details\n",
    "\n",
    "the decorated function has a `cache_info()` method that gives some information regarding function calls:"
   ]
  },
  {
   "cell_type": "code",
   "execution_count": 4,
   "id": "3e4ace0c",
   "metadata": {
    "scrolled": true
   },
   "outputs": [
    {
     "data": {
      "text/plain": [
       "CacheInfo(hits=81111118, misses=11, maxsize=1048576, currsize=11)"
      ]
     },
     "execution_count": 4,
     "metadata": {},
     "output_type": "execute_result"
    }
   ],
   "source": [
    "fib_memoized.cache_info()"
   ]
  },
  {
   "cell_type": "markdown",
   "id": "5e175e2e",
   "metadata": {},
   "source": [
    "Explanations:\n",
    "\n",
    "- `hits`: number of function calls that were handled by the cache, i.e. for which the function result was already known and stored. This number is very large since `%imeit` performs several runs.\n",
    "- `hits`: number of function calls that were not led by the cache. This typically corresponds to the first calls of the function, when the cache is empty.\n",
    "- `currsize`: number of stored call results"
   ]
  },
  {
   "cell_type": "markdown",
   "id": "2fdc6ac7",
   "metadata": {
    "editable": true,
    "slideshow": {
     "slide_type": "slide"
    },
    "tags": []
   },
   "source": [
    "## Caution\n",
    "\n",
    "`lru_cache` relies on a dictionary to store the results of a function call. Yet, keys of a dictionary must be hashable.\n",
    "\n",
    "Thus, most of __mutable objects cannot be arguments of a function decorated with `lru_cache`__. \n",
    "\n"
   ]
  },
  {
   "cell_type": "markdown",
   "id": "5ab858ad-f89d-4095-b83e-21a21864152e",
   "metadata": {
    "editable": true,
    "slideshow": {
     "slide_type": "slide"
    },
    "tags": []
   },
   "source": [
    "\n",
    "Below is a comparison of a `tuple` argument (immutable) and `list` argument (mutable, unhashable).\n"
   ]
  },
  {
   "cell_type": "code",
   "execution_count": 5,
   "id": "23063786",
   "metadata": {
    "editable": true,
    "slideshow": {
     "slide_type": ""
    },
    "tags": []
   },
   "outputs": [],
   "source": [
    "import numpy as np\n",
    "\n",
    "@lru_cache()\n",
    "def memoized_function(arg):\n",
    "    print(arg)"
   ]
  },
  {
   "cell_type": "code",
   "execution_count": 6,
   "id": "b65dc646",
   "metadata": {},
   "outputs": [
    {
     "name": "stdout",
     "output_type": "stream",
     "text": [
      "(1, 2, 3)\n"
     ]
    }
   ],
   "source": [
    "memoized_function((1, 2, 3))"
   ]
  },
  {
   "cell_type": "code",
   "execution_count": 7,
   "id": "f73b0a9f",
   "metadata": {
    "scrolled": true
   },
   "outputs": [
    {
     "data": {
      "text/plain": [
       "CacheInfo(hits=0, misses=1, maxsize=128, currsize=1)"
      ]
     },
     "execution_count": 7,
     "metadata": {},
     "output_type": "execute_result"
    }
   ],
   "source": [
    "memoized_function.cache_info()"
   ]
  },
  {
   "cell_type": "code",
   "execution_count": 8,
   "id": "00a23272",
   "metadata": {
    "scrolled": true
   },
   "outputs": [
    {
     "ename": "TypeError",
     "evalue": "unhashable type: 'list'",
     "output_type": "error",
     "traceback": [
      "\u001b[0;31m---------------------------------------------------------------------------\u001b[0m",
      "\u001b[0;31mTypeError\u001b[0m                                 Traceback (most recent call last)",
      "Cell \u001b[0;32mIn[8], line 1\u001b[0m\n\u001b[0;32m----> 1\u001b[0m \u001b[43mmemoized_function\u001b[49m\u001b[43m(\u001b[49m\u001b[43m[\u001b[49m\u001b[38;5;241;43m1\u001b[39;49m\u001b[43m,\u001b[49m\u001b[43m \u001b[49m\u001b[38;5;241;43m2\u001b[39;49m\u001b[43m,\u001b[49m\u001b[43m \u001b[49m\u001b[38;5;241;43m3\u001b[39;49m\u001b[43m]\u001b[49m\u001b[43m)\u001b[49m\n",
      "\u001b[0;31mTypeError\u001b[0m: unhashable type: 'list'"
     ]
    }
   ],
   "source": [
    "memoized_function([1, 2, 3])"
   ]
  },
  {
   "cell_type": "markdown",
   "id": "b52fa8a9",
   "metadata": {
    "editable": true,
    "slideshow": {
     "slide_type": "slide"
    },
    "tags": []
   },
   "source": [
    "## When to use memoization\n",
    "\n",
    "The `lru_cache` decorator must be used on functions that __meets the 3 following criterias__:\n",
    "\n",
    "- it takes a long time to run\n",
    "- it is frequently called with the same arguments (non mutables)\n",
    "- it returns intermediate results that have no particular scientific meaning"
   ]
  }
 ],
 "metadata": {
  "kernelspec": {
   "display_name": "Python 3 (ipykernel)",
   "language": "python",
   "name": "python3"
  },
  "language_info": {
   "codemirror_mode": {
    "name": "ipython",
    "version": 3
   },
   "file_extension": ".py",
   "mimetype": "text/x-python",
   "name": "python",
   "nbconvert_exporter": "python",
   "pygments_lexer": "ipython3",
   "version": "3.12.3"
  }
 },
 "nbformat": 4,
 "nbformat_minor": 5
}
