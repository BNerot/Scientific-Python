{
 "cells": [
  {
   "cell_type": "markdown",
   "id": "1eae71cf",
   "metadata": {},
   "source": [
    "## Sequential execution\n",
    "\n",
    "In the the general case, Python instructions are ran __one after another__. If an instruction 'A' follows a 'B' instruction, 'B' must wait for 'A' to finish in order to start. For instance:"
   ]
  },
  {
   "cell_type": "code",
   "execution_count": 1,
   "id": "987a0a84",
   "metadata": {},
   "outputs": [
    {
     "name": "stdout",
     "output_type": "stream",
     "text": [
      "[15:07:06] I am 'A', and I will sleep for 3 seconds\n",
      "[15:07:06] I am 'A', and my sleeping time was so good!\n",
      "[15:07:09] I am 'B'\n"
     ]
    }
   ],
   "source": [
    "from datetime import datetime\n",
    "from time import sleep\n",
    "\n",
    "def A():\n",
    "    current_time = datetime.now().strftime('%H:%M:%S')\n",
    "    print(f\"[{current_time}] I am 'A', and I will sleep for 3 seconds\")\n",
    "    sleep(3)\n",
    "    print(f\"[{current_time}] I am 'A', and my sleeping time was so good!\")\n",
    "    \n",
    "\n",
    "def B():\n",
    "    current_time = datetime.now().strftime('%H:%M:%S')\n",
    "    print(f\"[{current_time}] I am 'B'\")\n",
    "\n",
    "A()\n",
    "B()"
   ]
  },
  {
   "cell_type": "markdown",
   "id": "67349ea2",
   "metadata": {},
   "source": [
    "__Explanation__: 'B' must wait for the end of 'A' to start.  \n",
    "\n",
    "But 'A' is mainly useless! In fact, 'A' is doing something that __does not require the CPU__ (`sleep`). Yet, __'A' won't let 'B' use the CPU__ while it is sleeping.\n",
    "\n",
    "## Other execution modes\n",
    "\n",
    "### Threading\n",
    "\n",
    "In the example above, it would be really cool to use the CPU while 'A' does not need it, though 'A' is running.\n",
    "\n",
    "This is one side of what is called __concurrency__: several instructions are 'racing' to get some CPU computations as soon as they finished their non-CPU activity. In Python, the `threading` package can be used to write concurrent code. \n",
    "\n",
    "A `thread` is some tasks that make sense to group together. One can start several threads that will access the CPU whenever it is available without having to wait for the other thread to be terminated.\n",
    "\n",
    "This execution mode __provides speed up capabilities mainly for IO bound problems__. Indeed, while a thread is using the disk or waiting for the network, another one can use the CPU.\n",
    "\n",
    "\n",
    "### Multi-processing\n",
    "\n",
    "Sometimes one may want some instructions to be ran in a completely independant way. The idea, in the example above, is that it would not be a problem for 'A' to occupy the CPU since another part of the CPU could be used to process 'B' at the same time. This is called __parallelism__. These 'parts' are the CPU cores. In Python, this is done using the `multiprocessing` package.\n",
    "\n",
    "This execution mode can speed up several CPU intensive problems, i.e. __CPU bound__. \n",
    "\n",
    "\n",
    "### Limitations\n",
    "\n",
    "#### Memory\n",
    "\n",
    "`threading` and `multiprocessing` are interesting but may lead to memory errors:\n",
    "\n",
    "- using `threading`, 2 threads might need to access almost at the same time the same variable, which can lead to data corruption.\n",
    "- using `multiprocessing`, 2 processes might want to share some memory content, but this is not a native behaviour since a process is not allowed to access the memory content of another one.\n",
    "\n",
    "Some functions were defined to share variables at no risk. But using them can be difficult. Moreover, the risk of making a mistake is rather high and may lead to inacurrate scientific results.\n",
    "\n",
    "For this reason, __concurrency and parallelism must be the last resort methods to speed up a code__. \n",
    "\n",
    "#### Overhead\n",
    "\n",
    "Overhead running time associated with `multiprocessing` are __very large, especially for codes dealing with very large amount of data__. Consequently, multiprocessing is really useful for CPU-bound tasks that typically takes a few minutes to run. Conversely, threading comes with a lower overhead.\n",
    "\n",
    "### Advanced note\n",
    "\n",
    "Python is a particular case regarding parallelism/concurrency. Indeed, the true limitation of Python is that a single Python process cannot run different instructions simultaneously on the CPU, due to an internal limitation. This explains the limitations of `threading` and the need for `multiprocessing`. \n",
    "\n",
    "In other languages, threads can run simultaneously on different cores of the CPU. Then the difference between threads and processes is more related to memory management."
   ]
  }
 ],
 "metadata": {
  "kernelspec": {
   "display_name": "Python 3 (ipykernel)",
   "language": "python",
   "name": "python3"
  },
  "language_info": {
   "codemirror_mode": {
    "name": "ipython",
    "version": 3
   },
   "file_extension": ".py",
   "mimetype": "text/x-python",
   "name": "python",
   "nbconvert_exporter": "python",
   "pygments_lexer": "ipython3",
   "version": "3.10.12"
  }
 },
 "nbformat": 4,
 "nbformat_minor": 5
}
