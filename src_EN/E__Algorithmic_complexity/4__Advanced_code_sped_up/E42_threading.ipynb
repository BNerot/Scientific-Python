{
 "cells": [
  {
   "cell_type": "markdown",
   "id": "3a401786",
   "metadata": {},
   "source": [
    "## Simple example\n",
    "\n",
    "### Sequential version\n",
    "\n",
    "The `sleeper` function below sleeps for `n` seconds. It is described by the variable `identifier`. Recall that during sleep time, the CPU is not used.\n"
   ]
  },
  {
   "cell_type": "code",
   "execution_count": 1,
   "id": "dd7844b4",
   "metadata": {},
   "outputs": [],
   "source": [
    "from datetime import datetime\n",
    "from time import sleep\n",
    "\n",
    "def gt():                                        # get_time\n",
    "    return datetime.now().strftime('%H:%M:%S')\n",
    "\n",
    "def sleeper(n, identifier):    \n",
    "    print(f\"[{gt()}] I am '{identifier:^8}', and I will sleep for {n} seconds\")\n",
    "    sleep(n)    \n",
    "    print(f\"[{gt()}] I am '{identifier:^8}', and my sleeping time was so good!\")"
   ]
  },
  {
   "cell_type": "markdown",
   "id": "adcf31f7",
   "metadata": {},
   "source": [
    "Then the `f_sequential` calls `sleeper` using differents arguments.\n",
    "\n",
    "No surprise here, everything runs sequentially:"
   ]
  },
  {
   "cell_type": "code",
   "execution_count": 2,
   "id": "d904666e",
   "metadata": {},
   "outputs": [
    {
     "name": "stdout",
     "output_type": "stream",
     "text": [
      "[16:21:11] I am ' First  ', and I will sleep for 3 seconds\n",
      "[16:21:14] I am ' First  ', and my sleeping time was so good!\n",
      "[16:21:14] I am ' Second ', and I will sleep for 2 seconds\n",
      "[16:21:16] I am ' Second ', and my sleeping time was so good!\n",
      "[16:21:16] I am ' Third  ', and I will sleep for 4 seconds\n",
      "[16:21:20] I am ' Third  ', and my sleeping time was so good!\n"
     ]
    }
   ],
   "source": [
    "args = [(3, 'First'), (2, 'Second'), (4, 'Third')]\n",
    "\n",
    "def f_sequential():\n",
    "    for arg in args:\n",
    "        sleeper(*arg)\n",
    "\n",
    "f_sequential()"
   ]
  },
  {
   "cell_type": "markdown",
   "id": "3f13e035",
   "metadata": {},
   "source": [
    "### Threading version\n",
    "\n",
    "#### Code\n",
    "\n",
    "Let's define a function `f_threading` that separate each call to `sleeper` in a dedicated thread. \n",
    "\n",
    "The use of threads in Python is made simple by the __`ThreadPoolExecutor` class of the `concurrent` package, rather than the `threading` package.__"
   ]
  },
  {
   "cell_type": "code",
   "execution_count": 3,
   "id": "cc919abe",
   "metadata": {},
   "outputs": [],
   "source": [
    "from concurrent.futures import ThreadPoolExecutor\n",
    "\n",
    "def f_threading(max_workers=2):\n",
    "    with ThreadPoolExecutor(max_workers=max_workers) as executor:\n",
    "        for arg in args:\n",
    "            executor.submit(sleeper, *arg) # unpacking is needed here\n",
    "                                           # because `arg` is a tuple \n",
    "        "
   ]
  },
  {
   "cell_type": "markdown",
   "id": "cb3fd0b8",
   "metadata": {},
   "source": [
    "Notice `max_workers=2`. This means that at every time no more than 2 threads can be running (no matter they use the CPU or not). \n",
    "\n",
    "The executor submits the call to `sleeper` for each argument tuple.\n",
    "\n",
    "Here is the result:"
   ]
  },
  {
   "cell_type": "code",
   "execution_count": 4,
   "id": "a38fecf8",
   "metadata": {
    "scrolled": true
   },
   "outputs": [
    {
     "name": "stdout",
     "output_type": "stream",
     "text": [
      "[16:21:20] I am ' First  ', and I will sleep for 3 seconds\n",
      "[16:21:20] I am ' Second ', and I will sleep for 2 seconds\n",
      "[16:21:22] I am ' Second ', and my sleeping time was so good!\n",
      "[16:21:22] I am ' Third  ', and I will sleep for 4 seconds\n",
      "[16:21:23] I am ' First  ', and my sleeping time was so good!\n",
      "[16:21:26] I am ' Third  ', and my sleeping time was so good!\n"
     ]
    }
   ],
   "source": [
    "f_threading()"
   ]
  },
  {
   "cell_type": "markdown",
   "id": "435811fd",
   "metadata": {},
   "source": [
    "#### Explanation\n",
    "\n",
    " \n",
    " - The first call to `sleeper` is with `(3, 'First')`. `sleeper` performs the first `print` and then go to sleep for 3 seconds.\n",
    " - While the first call is sleeping, it does not need the CPU. Thus the second call (with `(2, 'Second')`) starts: first `print` statement and then go to sleep too.\n",
    " - Neither the `sleep` of the first call nor the one of the second call came to an end. Yet, executor is not allowed to start a 3rd thread due to `max_worker=2`. Thus, the executor wait for the second call to end (the shortest one) t perform the third call.\n",
    " - The first call terminates.\n",
    " - The third call terminates too.\n",
    " \n",
    " Eventually the execution of `f_threading` took only 6 seconds, which is lower than the 9 seconds of the sequential version.\n",
    " \n",
    "What if `max_workers` is set to 3?"
   ]
  },
  {
   "cell_type": "code",
   "execution_count": 5,
   "id": "bb44d95c",
   "metadata": {},
   "outputs": [
    {
     "name": "stdout",
     "output_type": "stream",
     "text": [
      "[16:21:26] I am ' First  ', and I will sleep for 3 seconds\n",
      "[16:21:26] I am ' Second ', and I will sleep for 2 seconds\n",
      "[16:21:26] I am ' Third  ', and I will sleep for 4 seconds\n",
      "[16:21:28] I am ' Second ', and my sleeping time was so good!\n",
      "[16:21:29] I am ' First  ', and my sleeping time was so good!\n",
      "[16:21:30] I am ' Third  ', and my sleeping time was so good!\n"
     ]
    }
   ],
   "source": [
    "f_threading(max_workers=3)"
   ]
  },
  {
   "cell_type": "markdown",
   "id": "0d8c685a",
   "metadata": {},
   "source": [
    "\n",
    "### Notes\n",
    "\n",
    "In a real code, this is not a call to the `sleep` function that monopolize the CPU. It may be:\n",
    "\n",
    "- the writing of a big file on disk\n",
    "- the time waiting for some internet server response\n",
    "\n",
    "\n",
    "\n",
    "## Sharing some variables\n",
    "\n",
    "### Sequential version\n",
    "\n",
    "#### Code\n",
    "\n",
    "Let's define a function, similar to `sleeper`, that modifies a __mutable__ variable passed as an argument. This variable is a one-integer list, and the modification consists in incrementing this integer."
   ]
  },
  {
   "cell_type": "code",
   "execution_count": 6,
   "id": "0aa4984d",
   "metadata": {},
   "outputs": [],
   "source": [
    "def sleeper(n, identifier, var):    \n",
    "    actual_value = var[0]\n",
    "    print(f\"[{gt()}] I am '{identifier:^8}', and I will sleep for {n} seconds\")\n",
    "    sleep(n)    \n",
    "    var[0] = actual_value + 1\n",
    "    print(f\"[{gt()}] I am '{identifier:^8}', and my sleeping time was so good!\")\n",
    "    print(f\"[{gt()}] I am '{identifier:^8}', and I modified var[0]: it was {actual_value}, it is now {var[0]}!\")"
   ]
  },
  {
   "cell_type": "markdown",
   "id": "6725ce68",
   "metadata": {},
   "source": [
    "Let's assume that `var` is shared among all calls. Thus it is defined once before `args` and a reference is passed to `args` (this is not a copy)."
   ]
  },
  {
   "cell_type": "code",
   "execution_count": 7,
   "id": "6d7862ca",
   "metadata": {},
   "outputs": [
    {
     "name": "stdout",
     "output_type": "stream",
     "text": [
      "[16:21:30] I am ' First  ', and I will sleep for 3 seconds\n",
      "[16:21:33] I am ' First  ', and my sleeping time was so good!\n",
      "[16:21:33] I am ' First  ', and I modified var[0]: it was 10, it is now 11!\n",
      "[16:21:33] I am ' Second ', and I will sleep for 2 seconds\n",
      "[16:21:35] I am ' Second ', and my sleeping time was so good!\n",
      "[16:21:35] I am ' Second ', and I modified var[0]: it was 11, it is now 12!\n",
      "[16:21:35] I am ' Third  ', and I will sleep for 4 seconds\n",
      "[16:21:39] I am ' Third  ', and my sleeping time was so good!\n",
      "[16:21:39] I am ' Third  ', and I modified var[0]: it was 12, it is now 13!\n"
     ]
    }
   ],
   "source": [
    "var = [10]\n",
    "args = [(3, 'First', var), (2, 'Second', var), (4, 'Third', var)]\n",
    "f_sequential()"
   ]
  },
  {
   "cell_type": "markdown",
   "id": "33199441",
   "metadata": {},
   "source": [
    "#### Explanation\n",
    "\n",
    "The sequential version is ok. There are 3 function calls, each call adds 1 to var[0] which is initialized with 10, thus we end up with $13=10+3$."
   ]
  },
  {
   "cell_type": "markdown",
   "id": "7d64d63c",
   "metadata": {},
   "source": [
    "\n",
    "### Naïve threading\n",
    "\n",
    "#### Code\n",
    "\n",
    "Let's call `f_threading` using these new arguments."
   ]
  },
  {
   "cell_type": "code",
   "execution_count": 8,
   "id": "07d511d5",
   "metadata": {},
   "outputs": [
    {
     "name": "stdout",
     "output_type": "stream",
     "text": [
      "[16:21:39] I am ' First  ', and I will sleep for 3 seconds\n",
      "[16:21:39] I am ' Second ', and I will sleep for 2 seconds\n",
      "[16:21:41] I am ' Second ', and my sleeping time was so good!\n",
      "[16:21:41] I am ' Second ', and I modified var[0]: it was 10, it is now 11!\n",
      "[16:21:41] I am ' Third  ', and I will sleep for 4 seconds\n",
      "[16:21:42] I am ' First  ', and my sleeping time was so good!\n",
      "[16:21:42] I am ' First  ', and I modified var[0]: it was 10, it is now 11!\n",
      "[16:21:45] I am ' Third  ', and my sleeping time was so good!\n",
      "[16:21:45] I am ' Third  ', and I modified var[0]: it was 11, it is now 12!\n"
     ]
    }
   ],
   "source": [
    "var[0] = 10\n",
    "f_threading()"
   ]
  },
  {
   "cell_type": "markdown",
   "id": "73e26840",
   "metadata": {},
   "source": [
    "#### Explanation\n",
    "\n",
    "What is going on? \n",
    "\n",
    "- `'First'` stores the value `var[0]` in `actual_value`. \n",
    "- While `'First'` is sleeping, `'Second'` modifies `var[0]`. `var[0]` now redirects to another integer, which is different from what `'First'` stored in `actual_value`.\n",
    "- `First` wakes up and modifies `var[0]` according to the obsolete `actual_value`. Thus the incrementation process is broken.\n",
    "- etc ...\n"
   ]
  },
  {
   "cell_type": "markdown",
   "id": "9bab059f",
   "metadata": {},
   "source": [
    "### Protected threading\n",
    "\n",
    "The `var` variable can be protected using a `Lock` object (or similarly, a `Semaphore`). \n",
    "\n",
    "A `Lock` object can be used only by one thread at a time. A thread must 'acquire' the permission and 'release' it.\n",
    "\n",
    "Let's redefine `sleeper`."
   ]
  },
  {
   "cell_type": "code",
   "execution_count": 9,
   "id": "46c06cef",
   "metadata": {},
   "outputs": [
    {
     "name": "stdout",
     "output_type": "stream",
     "text": [
      "[16:21:45] I am ' First  '  and I will sleep for 3 seconds\n",
      "[16:21:48] I am ' First    and my sleeping time was so good!\n",
      "[16:21:48] I am ' First  ', and I modified var[0]:  it was 10, it is now 11!\n",
      "[16:21:48] I am ' Second '  and I will sleep for 2 seconds\n",
      "[16:21:50] I am ' Second   and my sleeping time was so good!\n",
      "[16:21:50] I am ' Second ', and I modified var[0]:  it was 11, it is now 12!\n",
      "[16:21:50] I am ' Third  '  and I will sleep for 4 seconds\n",
      "[16:21:54] I am ' Third    and my sleeping time was so good!\n",
      "[16:21:54] I am ' Third  ', and I modified var[0]:  it was 12, it is now 13!\n"
     ]
    }
   ],
   "source": [
    "from threading import Lock\n",
    "\n",
    "var[0] = 10\n",
    "\n",
    "def sleeper(lock, n, identifier, var):   \n",
    "    with lock:\n",
    "        actual_value = var[0]\n",
    "        print(f\"[{gt()}] I am '{identifier:^8}'\",\n",
    "              f\" and I will sleep for {n} seconds\")\n",
    "        sleep(n)    \n",
    "        var[0] = actual_value + 1\n",
    "        print(f\"[{gt()}] I am '{identifier:^8}\",\n",
    "              \" and my sleeping time was so good!\")\n",
    "        print(f\"[{gt()}] I am '{identifier:^8}', and I modified var[0]:\",\n",
    "              f\" it was {actual_value}, it is now {var[0]}!\")\n",
    "\n",
    "def f_threading_lock(max_workers=2):\n",
    "    lock = Lock()\n",
    "    with ThreadPoolExecutor(max_workers=max_workers) as executor:\n",
    "        for arg in args:\n",
    "            executor.submit(sleeper, lock, *arg)\n",
    "            \n",
    "f_threading_lock()"
   ]
  },
  {
   "cell_type": "markdown",
   "id": "451f2176",
   "metadata": {},
   "source": [
    "This is working! By asking the acquisition of `lock`, everything that is inside the `with` bloc of `sleeper` __must be ran in one go__. "
   ]
  },
  {
   "cell_type": "markdown",
   "id": "1702dddc",
   "metadata": {},
   "source": [
    "###  Notes\n",
    "\n",
    "- In this example, the protection using `Lock` is a particular extreme case because all the instructions of `sleeper` are protected.  Thus execution is sequential.\n",
    "- Only mutable variables must be protected. \n",
    "\n",
    "  Similarly, whenever some data is written to the disk, the writing process must be protected too in order to prevent data corruption."
   ]
  }
 ],
 "metadata": {
  "kernelspec": {
   "display_name": "Python 3 (ipykernel)",
   "language": "python",
   "name": "python3"
  },
  "language_info": {
   "codemirror_mode": {
    "name": "ipython",
    "version": 3
   },
   "file_extension": ".py",
   "mimetype": "text/x-python",
   "name": "python",
   "nbconvert_exporter": "python",
   "pygments_lexer": "ipython3",
   "version": "3.10.12"
  }
 },
 "nbformat": 4,
 "nbformat_minor": 5
}
