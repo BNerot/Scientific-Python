{
 "cells": [
  {
   "cell_type": "markdown",
   "id": "3a401786",
   "metadata": {
    "editable": true,
    "slideshow": {
     "slide_type": "slide"
    },
    "tags": []
   },
   "source": [
    "\n",
    "\n",
    "## Case study definition\n",
    "\n",
    "\n",
    "Let's focus on the following function, defined for any complex number $z$:\n",
    "\n",
    "$$ f_c: z \\rightarrow \\sqrt{z^2 + c} $$\n",
    "\n",
    "With $c$ a complex number."
   ]
  },
  {
   "cell_type": "code",
   "execution_count": 1,
   "id": "9f501596",
   "metadata": {
    "editable": true,
    "slideshow": {
     "slide_type": ""
    },
    "tags": []
   },
   "outputs": [],
   "source": [
    "import numpy as np\n",
    "\n",
    "def f(z, c):\n",
    "    return np.sqrt(z**2 + c)\n",
    "        "
   ]
  },
  {
   "cell_type": "markdown",
   "id": "35e1a6fb",
   "metadata": {
    "editable": true,
    "slideshow": {
     "slide_type": "slide"
    },
    "tags": []
   },
   "source": [
    "This function can be called recursively $n$ times:\n",
    "\n",
    "$$ g_{c,n}: z \\rightarrow f_c^n(z)=f_c(f_c(f_c(\\ldots))) $$"
   ]
  },
  {
   "cell_type": "code",
   "execution_count": 2,
   "id": "31ba5ac8",
   "metadata": {},
   "outputs": [],
   "source": [
    "def g(z, c, n):\n",
    "    for _ in range(n):\n",
    "        z = f(z, c)\n",
    "    return z"
   ]
  },
  {
   "cell_type": "markdown",
   "id": "187a66ae",
   "metadata": {
    "editable": true,
    "slideshow": {
     "slide_type": "slide"
    },
    "tags": []
   },
   "source": [
    "$z$ is a complex number: a limited section of the complex plan is needed for evaluation of $g_{c,n}$."
   ]
  },
  {
   "cell_type": "code",
   "execution_count": 3,
   "id": "98a97bb0",
   "metadata": {},
   "outputs": [],
   "source": [
    "x, y = np.meshgrid(np.linspace(-1, 1, 2000), np.linspace(-1, 1, 2000))\n",
    "mesh = x + 1j * y   # imaginary part is defined using `j`"
   ]
  },
  {
   "cell_type": "markdown",
   "id": "a3f70066",
   "metadata": {
    "editable": true,
    "slideshow": {
     "slide_type": "slide"
    },
    "tags": []
   },
   "source": [
    "And here is a function that defines some values for `c`:"
   ]
  },
  {
   "cell_type": "code",
   "execution_count": 7,
   "id": "a97f4fac",
   "metadata": {},
   "outputs": [],
   "source": [
    "\n",
    "from numpy.random import uniform\n",
    "def create_c_values(k):\n",
    "    c_values = uniform(-1, 1, k) + 1j * uniform(-1, 1, k)\n",
    "    return c_values"
   ]
  },
  {
   "cell_type": "markdown",
   "id": "e9708cfa",
   "metadata": {
    "editable": true,
    "slideshow": {
     "slide_type": "slide"
    },
    "tags": []
   },
   "source": [
    "## Sequential version"
   ]
  },
  {
   "cell_type": "markdown",
   "id": "4ef08b44",
   "metadata": {
    "editable": true,
    "slideshow": {
     "slide_type": "slide"
    },
    "tags": []
   },
   "source": [
    "The sequential version of a function that would evaluate `g` given some `c` values is presented here after:"
   ]
  },
  {
   "cell_type": "code",
   "execution_count": 5,
   "id": "e239af0e",
   "metadata": {},
   "outputs": [],
   "source": [
    "def evaluate_sequential(mesh, c_values, n=50):\n",
    "    for c in c_values:\n",
    "        g(mesh, c, n)"
   ]
  },
  {
   "cell_type": "markdown",
   "id": "d77a4fc8",
   "metadata": {
    "editable": true,
    "slideshow": {
     "slide_type": "slide"
    },
    "tags": []
   },
   "source": [
    "### Some benchmarks\n",
    "\n",
    "#### With respect to `n`\n",
    "\n",
    "Let's observe the dependance of the total running time in `n` (number of evaluations of `f`):"
   ]
  },
  {
   "cell_type": "code",
   "execution_count": 6,
   "id": "18e82da9",
   "metadata": {
    "editable": true,
    "scrolled": true,
    "slideshow": {
     "slide_type": ""
    },
    "tags": [
     "no_run"
    ]
   },
   "outputs": [
    {
     "data": {
      "image/png": "[encoded data removed]",
      "text/plain": [
       "<Figure size 600x300 with 1 Axes>"
      ]
     },
     "metadata": {},
     "output_type": "display_data"
    }
   ],
   "source": [
    "import matplotlib.pyplot as plt\n",
    "\n",
    "n = range(10, 30, 2)\n",
    "running_times = []\n",
    "c = 1 + 1j\n",
    "for k in n:\n",
    "    timeit = %timeit -q -o g(mesh, c, k)\n",
    "    running_times.append(timeit.average)\n",
    "    \n",
    "fig, ax = plt.subplots(figsize=(6, 3))\n",
    "ax.plot(n, running_times, 'r-.', label=f'Evaluation time (for c={c})')\n",
    "_ = ax.set_xlabel('n'), ax.set_ylabel('Time (s)'), ax.legend(), ax.grid()"
   ]
  },
  {
   "cell_type": "markdown",
   "id": "bffee500-d72e-4668-93c0-88eff79094b3",
   "metadata": {
    "editable": true,
    "slideshow": {
     "slide_type": ""
    },
    "tags": []
   },
   "source": [
    "The running time grows __linearly__ with `n`.\n"
   ]
  },
  {
   "cell_type": "markdown",
   "id": "8ef9cffd",
   "metadata": {
    "editable": true,
    "slideshow": {
     "slide_type": "slide"
    },
    "tags": []
   },
   "source": [
    "\n",
    "#### With respect to the number of `c` values\n"
   ]
  },
  {
   "cell_type": "code",
   "execution_count": 7,
   "id": "8d9a8eef",
   "metadata": {
    "editable": true,
    "scrolled": true,
    "slideshow": {
     "slide_type": ""
    },
    "tags": [
     "no_run"
    ]
   },
   "outputs": [
    {
     "data": {
      "image/png": "[encoded data removed]",
      "text/plain": [
       "<Figure size 600x300 with 1 Axes>"
      ]
     },
     "metadata": {},
     "output_type": "display_data"
    }
   ],
   "source": [
    "import matplotlib.pyplot as plt\n",
    "\n",
    "running_times = []\n",
    "n = 10\n",
    "nbr_c_values = range(1, 10)\n",
    "for k in nbr_c_values:\n",
    "    c_values = create_c_values(k)\n",
    "    timeit = %timeit -q -o evaluate_sequential(mesh, c_values, n=n)\n",
    "    running_times.append(timeit.average)\n",
    "\n",
    "    \n",
    "fig, ax = plt.subplots(figsize=(6, 3))\n",
    "ax.plot(nbr_c_values, running_times, 'r-.', label=f'Evaluation time for {n} evaluations of `f`')\n",
    "_ = ax.set_xlabel('Number of $c$ values'), ax.set_ylabel('Time (s)'), ax.legend(), ax.grid()"
   ]
  },
  {
   "cell_type": "markdown",
   "id": "b4bd475c-25d8-4681-996b-05904bdb8d01",
   "metadata": {
    "editable": true,
    "slideshow": {
     "slide_type": ""
    },
    "tags": []
   },
   "source": [
    "same: solving twice more problems requires twice more time.\n"
   ]
  },
  {
   "cell_type": "markdown",
   "id": "f3b8b17f",
   "metadata": {
    "editable": true,
    "slideshow": {
     "slide_type": "slide"
    },
    "tags": []
   },
   "source": [
    "\n",
    "### Typical problem\n",
    "\n",
    "Let's assume we need to run $g_{c,n}$ for 16 different $c$ values and $n=30$. "
   ]
  },
  {
   "cell_type": "code",
   "execution_count": 8,
   "id": "b770e879",
   "metadata": {},
   "outputs": [],
   "source": [
    "c_values = create_c_values(16)\n",
    "n = 30"
   ]
  },
  {
   "cell_type": "markdown",
   "id": "95fef676",
   "metadata": {
    "editable": true,
    "slideshow": {
     "slide_type": ""
    },
    "tags": []
   },
   "source": [
    "How long does it take in a sequential mode?"
   ]
  },
  {
   "cell_type": "code",
   "execution_count": 9,
   "id": "ce63f9c3",
   "metadata": {
    "editable": true,
    "slideshow": {
     "slide_type": ""
    },
    "tags": [
     "no_run"
    ]
   },
   "outputs": [
    {
     "name": "stdout",
     "output_type": "stream",
     "text": [
      "1min 22s ± 4.92 s per loop (mean ± std. dev. of 7 runs, 1 loop each)\n"
     ]
    }
   ],
   "source": [
    "%timeit evaluate_sequential(mesh, c_values, n=n)"
   ]
  },
  {
   "cell_type": "markdown",
   "id": "cbcd7944",
   "metadata": {
    "editable": true,
    "slideshow": {
     "slide_type": "slide"
    },
    "tags": []
   },
   "source": [
    "## Multiprocessing version\n",
    "\n"
   ]
  },
  {
   "cell_type": "markdown",
   "id": "1d59c1b1-7be5-4ee3-92bc-8deca897c6b1",
   "metadata": {
    "editable": true,
    "slideshow": {
     "slide_type": "slide"
    },
    "tags": []
   },
   "source": [
    "### Code\n",
    "\n",
    "Similarly to the threading case, `ProcessPoolExecutor` cab be used to manage multiprocessing easily.\n",
    "\n",
    "The problem is split with respect to $c$ values: elements from the `c_values` variable are dealt with in parallel, with at most `max_workers` simultaneous running processes. This is possible since __no $c$ value is shared between 2 calls of `g`__."
   ]
  },
  {
   "cell_type": "code",
   "execution_count": 9,
   "id": "b9ed11dc",
   "metadata": {
    "editable": true,
    "slideshow": {
     "slide_type": ""
    },
    "tags": []
   },
   "outputs": [],
   "source": [
    "from concurrent.futures import ProcessPoolExecutor\n",
    "\n",
    "def evaluate_multiprocessing(c_values, n, max_workers=2):\n",
    "    with ProcessPoolExecutor(max_workers=max_workers) as executor:        \n",
    "        for c in c_values:\n",
    "            executor.submit(g, mesh, c, n)        "
   ]
  },
  {
   "cell_type": "markdown",
   "id": "89795786",
   "metadata": {},
   "source": [
    "Let's time the execution:"
   ]
  },
  {
   "cell_type": "code",
   "execution_count": 10,
   "id": "0b9fac98",
   "metadata": {
    "editable": true,
    "slideshow": {
     "slide_type": ""
    },
    "tags": [
     "no_run"
    ]
   },
   "outputs": [
    {
     "name": "stdout",
     "output_type": "stream",
     "text": [
      "51.1 s ± 2.45 s per loop (mean ± std. dev. of 7 runs, 1 loop each)\n"
     ]
    }
   ],
   "source": [
    "%timeit evaluate_multiprocessing(c_values, n)"
   ]
  },
  {
   "cell_type": "markdown",
   "id": "ab0fa709",
   "metadata": {
    "editable": true,
    "slideshow": {
     "slide_type": "slide"
    },
    "tags": []
   },
   "source": [
    "### Notes\n",
    "\n",
    "- Using __two simultaneous processes makes the resolution faster__ than in the sequential mode\n",
    "- __Running time is not divided by 2__ because constant overhead times associated with the use of `ProcessPoolExecutor` are very large"
   ]
  }
 ],
 "metadata": {
  "kernelspec": {
   "display_name": "Python 3 (ipykernel)",
   "language": "python",
   "name": "python3"
  },
  "language_info": {
   "codemirror_mode": {
    "name": "ipython",
    "version": 3
   },
   "file_extension": ".py",
   "mimetype": "text/x-python",
   "name": "python",
   "nbconvert_exporter": "python",
   "pygments_lexer": "ipython3",
   "version": "3.12.3"
  }
 },
 "nbformat": 4,
 "nbformat_minor": 5
}
